{
 "cells": [
  {
   "cell_type": "markdown",
   "metadata": {},
   "source": [
    "## Analyzing the Board Game _Risk_\n",
    "\n",
    "This notebook shows you how to use the probability tools from this site to analyze the odds in [_Risk_](https://en.wikipedia.org/wiki/Risk_(game%29), so you can make better decisions and hopefully improve your chances of winning.\n",
    "\n",
    "If you're not familiar with _Risk_, you can [find an overview of how to play the game here](http://www.ultraboardgames.com/risk/game-rules.php)."
   ]
  },
  {
   "cell_type": "code",
   "execution_count": 1,
   "metadata": {},
   "outputs": [],
   "source": [
    "from collections import deque, defaultdict\n",
    "import itertools as it"
   ]
  },
  {
   "cell_type": "code",
   "execution_count": 2,
   "metadata": {},
   "outputs": [],
   "source": [
    "import numpy as np\n",
    "import pandas as pd\n",
    "pd.options.display.float_format = '{:.3f}'.format"
   ]
  },
  {
   "cell_type": "code",
   "execution_count": 3,
   "metadata": {},
   "outputs": [],
   "source": [
    "%matplotlib inline\n",
    "import matplotlib as mpl\n",
    "import matplotlib.pyplot as plt\n",
    "import seaborn as sns\n",
    "sns.set()\n",
    "sns.set_context('notebook')\n",
    "plt.style.use('ggplot')"
   ]
  },
  {
   "cell_type": "markdown",
   "metadata": {},
   "source": [
    "This notebook uses the probability modules from the `pracpred` package developed on this site. You can [find more information about the package here](https://github.com/practicallypredictable/pracpred) and [here](https://pypi.python.org/pypi/pracpred/0.1.2)."
   ]
  },
  {
   "cell_type": "code",
   "execution_count": 4,
   "metadata": {},
   "outputs": [],
   "source": [
    "from pracpred.prob import Prob, ProbDist"
   ]
  },
  {
   "cell_type": "markdown",
   "metadata": {},
   "source": [
    "_Risk_ uses up to 5 six-sided dice to determine the outcome of attacks."
   ]
  },
  {
   "cell_type": "code",
   "execution_count": 5,
   "metadata": {},
   "outputs": [],
   "source": [
    "d6 = ProbDist(range(1,7))"
   ]
  },
  {
   "cell_type": "markdown",
   "metadata": {},
   "source": [
    "### Attacks in _Risk_\n",
    "\n",
    "We are going to use the term _attack_ to mean a clash between armies settled by a dice roll. In _Risk_, any particular attack can have up to 3 attacking armies and up to 2 defending armies. There are only 6 valid attacks."
   ]
  },
  {
   "cell_type": "code",
   "execution_count": 6,
   "metadata": {},
   "outputs": [],
   "source": [
    "# Attacks are represented as a tuple of (attacker armies, defender armies)\n",
    "# Attacks do not include the attacker army required to remain in the territory from which the attack is launched\n",
    "VALID_ATTACKS = [\n",
    "    (1, 1),\n",
    "    (1, 2),\n",
    "    (2, 1),\n",
    "    (2, 2),\n",
    "    (3, 1),\n",
    "    (3, 2),\n",
    "]"
   ]
  },
  {
   "cell_type": "markdown",
   "metadata": {},
   "source": [
    "We are going to use the term _battle_ to mean the larger conflict between two players over a particular territory. For example, if the attacker has 20 armies in China and wishes to attack the defender's 15 armies in Siberia, we call that a 19-on-15 battle. (In _Risk_, the attacker is required to keep one army in the territory from which he or she is attacking.)\n",
    "\n",
    "Within this larger battle, each roll of the dice is an attack, which is at most 3-on-2. It's important to be clear about the difference between battles and attacks, since the attacker can halt the battle at any point, and potentially do something completely different.\n",
    "\n",
    "We will begin defining some Python functions to help us represent the board game."
   ]
  },
  {
   "cell_type": "code",
   "execution_count": 7,
   "metadata": {},
   "outputs": [],
   "source": [
    "def attackers(attack):\n",
    "    \"\"\"Number of attackers in an attack.\"\"\"\n",
    "    return attack[0]\n",
    "\n",
    "def defenders(attack):\n",
    "    \"\"\"Number of defenders in an attack.\"\"\"\n",
    "    return attack[1]\n",
    "\n",
    "def total_armies(attack):\n",
    "    \"\"\"Total number of armies on both sides involved in an attck.\"\"\"\n",
    "    return attackers(attack)+defenders(attack)"
   ]
  },
  {
   "cell_type": "markdown",
   "metadata": {},
   "source": [
    "### Dice Probabilities\n",
    "\n",
    "We can compute all the possible dice rolls in advance, since there are only at most 5 dice rolled."
   ]
  },
  {
   "cell_type": "code",
   "execution_count": 8,
   "metadata": {},
   "outputs": [],
   "source": [
    "def get_roll_probs(attacks):\n",
    "    \"\"\"Probability distribution of rolls in attacks, by total number of dice rolled.\"\"\"\n",
    "    return {total_armies(attack): d6.repeated(total_armies(attack), product=True) for attack in attacks}"
   ]
  },
  {
   "cell_type": "code",
   "execution_count": 9,
   "metadata": {},
   "outputs": [
    {
     "data": {
      "text/plain": [
       "4"
      ]
     },
     "execution_count": 9,
     "metadata": {},
     "output_type": "execute_result"
    }
   ],
   "source": [
    "roll_probs = get_roll_probs(VALID_ATTACKS)\n",
    "len(roll_probs)"
   ]
  },
  {
   "cell_type": "code",
   "execution_count": 10,
   "metadata": {},
   "outputs": [
    {
     "data": {
      "text/plain": [
       "dict_keys([2, 3, 4, 5])"
      ]
     },
     "execution_count": 10,
     "metadata": {},
     "output_type": "execute_result"
    }
   ],
   "source": [
    "roll_probs.keys()"
   ]
  },
  {
   "cell_type": "markdown",
   "metadata": {},
   "source": [
    "Every attack has at least 2 dice (one for the attacker and one for the defender). Notice also that we are not distinguishing between attacker and defender dice yet. This means that the 2-on-2 attack and the 3-on-1 attack will both use the roll probabilities for 4 dice, for example.\n",
    "\n",
    "Let's look at the number of outcomes in the distribution for each set of dice."
   ]
  },
  {
   "cell_type": "code",
   "execution_count": 11,
   "metadata": {},
   "outputs": [
    {
     "name": "stdout",
     "output_type": "stream",
     "text": [
      "2 36\n",
      "3 216\n",
      "4 1296\n",
      "5 7776\n"
     ]
    }
   ],
   "source": [
    "for armies in roll_probs:\n",
    "    print(armies, len(roll_probs[armies]))"
   ]
  },
  {
   "cell_type": "markdown",
   "metadata": {},
   "source": [
    "In our [previous post on dice rolls](http://practicallypredictable.com/2017/12/04/probability-distributions-dice-rolls/), we looked at the distribution of the sum of six-sided dice. For _Risk_, we need to generate the full [Cartesian product](https://en.wikipedia.org/wiki/Cartesian_product) of possible dice outcomes, because we are comparing the attacker and defender dice individually. That's why the number of outcomes for each set of dice is $6^n$, where $n$ is the number of dice rolled.\n",
    "\n",
    "### Attacker versus Defender Rolls\n",
    "\n",
    "Now we need to separately keep track of the attacker dice and the defender dice. We also need to sort each set of dice so we can determine the outcome of an attack."
   ]
  },
  {
   "cell_type": "code",
   "execution_count": 12,
   "metadata": {},
   "outputs": [],
   "source": [
    "def attacker_roll(attack, roll):\n",
    "    \"\"\"Dice rolled by attacker, sorted highest to lowest.\"\"\"\n",
    "    return sorted(roll[:attackers(attack)], reverse=True)\n",
    "\n",
    "def defender_roll(attack, roll):\n",
    "    \"\"\"Dice rolled by defender, sorted highest to lowest.\"\"\"\n",
    "    return sorted(roll[-defenders(attack):], reverse=True)"
   ]
  },
  {
   "cell_type": "markdown",
   "metadata": {},
   "source": [
    "We'll discuss in a little bit how to figure out how many dice to roll for a given attack.\n",
    "\n",
    "Let's simulate a 3-on-2 attack to see how these functions work."
   ]
  },
  {
   "cell_type": "code",
   "execution_count": 13,
   "metadata": {},
   "outputs": [],
   "source": [
    "# Example 3-on-2 attack\n",
    "attack = (3, 2)"
   ]
  },
  {
   "cell_type": "code",
   "execution_count": 14,
   "metadata": {},
   "outputs": [
    {
     "data": {
      "text/plain": [
       "(2, 6, 4, 2, 5)"
      ]
     },
     "execution_count": 14,
     "metadata": {},
     "output_type": "execute_result"
    }
   ],
   "source": [
    "roll = roll_probs[total_armies(attack)].choice()\n",
    "roll"
   ]
  },
  {
   "cell_type": "code",
   "execution_count": 15,
   "metadata": {},
   "outputs": [
    {
     "data": {
      "text/plain": [
       "[6, 4, 2]"
      ]
     },
     "execution_count": 15,
     "metadata": {},
     "output_type": "execute_result"
    }
   ],
   "source": [
    "attacker_roll(attack, roll)"
   ]
  },
  {
   "cell_type": "code",
   "execution_count": 16,
   "metadata": {},
   "outputs": [
    {
     "data": {
      "text/plain": [
       "[5, 2]"
      ]
     },
     "execution_count": 16,
     "metadata": {},
     "output_type": "execute_result"
    }
   ],
   "source": [
    "defender_roll(attack, roll)"
   ]
  },
  {
   "cell_type": "markdown",
   "metadata": {},
   "source": [
    "### Armies Lost\n",
    "\n",
    "Now we can figure out how many armies each side loses in the attack. We compare the highest die roll by the attacker to the highest die roll by the defender. The attacker loses an army if his or her roll is less than or equal to the defender's roll. Otherwise, the defender loses an army.\n",
    "\n",
    "If the attacker is rolling more than one die, and the defender is rolling two dice, we compare the attacker's second-highest die roll with the defender's lower die roll. The attacker loses an army if his or her second die roll is less than or equal to the defender's lower die roll. Otherwise, the defender loses an army.\n",
    "\n",
    "In one attack, the most armies either side can lose is equal to the number of dice the defender rolls.\n",
    "\n",
    "This function will determine how many armies each side loses in a particular attack given the dice rolls."
   ]
  },
  {
   "cell_type": "code",
   "execution_count": 17,
   "metadata": {},
   "outputs": [],
   "source": [
    "def losses_from_roll(att_roll, def_roll):\n",
    "    \"\"\"Armies lost by (attacker, defender) based on dice roll.\"\"\"\n",
    "    if att_roll[0] > def_roll[0]:\n",
    "        att_loses = 0\n",
    "        def_loses = 1\n",
    "    else:\n",
    "        att_loses = 1\n",
    "        def_loses = 0\n",
    "    if len(def_roll) > 1 and len(att_roll) > 1:\n",
    "        if att_roll[1] > def_roll[1]:\n",
    "            def_loses += 1\n",
    "        else:\n",
    "            att_loses += 1\n",
    "    return (att_loses, def_loses)"
   ]
  },
  {
   "cell_type": "code",
   "execution_count": 18,
   "metadata": {},
   "outputs": [
    {
     "data": {
      "text/plain": [
       "(0, 2)"
      ]
     },
     "execution_count": 18,
     "metadata": {},
     "output_type": "execute_result"
    }
   ],
   "source": [
    "losses_from_roll(attacker_roll(attack, roll), defender_roll(attack, roll))"
   ]
  },
  {
   "cell_type": "markdown",
   "metadata": {},
   "source": [
    "The above function can tell us how many armies each side loses for a given attacker roll and defender roll. To use the function, though, we first need to separate out the attacker dice from the defender dice.\n",
    "\n",
    "### Armies Lost for Every Possible Attack\n",
    "\n",
    "What we really want is for each possible type of attack to have it's own function, which will compute the armies lost for any particular dice roll. Here's a neat trick using [nested functions in Python](https://realpython.com/blog/python/inner-functions-what-are-they-good-for/) to do that."
   ]
  },
  {
   "cell_type": "code",
   "execution_count": 19,
   "metadata": {},
   "outputs": [],
   "source": [
    "def armies_lost(attack):\n",
    "    \"\"\"Create a function to calculate armies lost by (attacker, defender) for a given attack.\"\"\"\n",
    "    def inner_func(roll):\n",
    "        att_roll = attacker_roll(attack, roll)\n",
    "        def_roll = defender_roll(attack, roll)\n",
    "        return losses_from_roll(att_roll, def_roll)\n",
    "    return inner_func"
   ]
  },
  {
   "cell_type": "code",
   "execution_count": 20,
   "metadata": {},
   "outputs": [
    {
     "data": {
      "text/plain": [
       "function"
      ]
     },
     "execution_count": 20,
     "metadata": {},
     "output_type": "execute_result"
    }
   ],
   "source": [
    "type(armies_lost(attack))"
   ]
  },
  {
   "cell_type": "markdown",
   "metadata": {},
   "source": [
    "So this function returned a function? Yes, in Python you can do that. The expression `armies_lost(attack)` looks like it should return a value of some sort, but in this case it returns a function.\n",
    "\n",
    "Remember that the example attack we were playing with above is 3-on-2. The point of the nested function is that the `attack` parameter is known to the `inner_func` function, and gets hidden inside it. The inner function will always \"remember\" that it was initially called with the 3-on-2 attack parameter. We can call the returned function now with a particular dice roll, and the function will assume a 3-on-2 attack."
   ]
  },
  {
   "cell_type": "code",
   "execution_count": 21,
   "metadata": {},
   "outputs": [
    {
     "data": {
      "text/plain": [
       "(0, 2)"
      ]
     },
     "execution_count": 21,
     "metadata": {},
     "output_type": "execute_result"
    }
   ],
   "source": [
    "armies_lost(attack)(roll)"
   ]
  },
  {
   "cell_type": "markdown",
   "metadata": {},
   "source": [
    "Now we can build a function like this for every possible attack. Think of the `armies_lost()` function as a \"factory\" that builds and returns other functions, based on what type of attack we tell it to build."
   ]
  },
  {
   "cell_type": "code",
   "execution_count": 22,
   "metadata": {},
   "outputs": [],
   "source": [
    "def get_attack_losses(attacks):\n",
    "    \"\"\"Functions to calculate armies lost by attacker and defender for each type of attack.\"\"\"\n",
    "    return {attack: armies_lost(attack) for attack in attacks}"
   ]
  },
  {
   "cell_type": "code",
   "execution_count": 23,
   "metadata": {},
   "outputs": [
    {
     "data": {
      "text/plain": [
       "{(1, 1): <function __main__.armies_lost.<locals>.inner_func>,\n",
       " (1, 2): <function __main__.armies_lost.<locals>.inner_func>,\n",
       " (2, 1): <function __main__.armies_lost.<locals>.inner_func>,\n",
       " (2, 2): <function __main__.armies_lost.<locals>.inner_func>,\n",
       " (3, 1): <function __main__.armies_lost.<locals>.inner_func>,\n",
       " (3, 2): <function __main__.armies_lost.<locals>.inner_func>}"
      ]
     },
     "execution_count": 23,
     "metadata": {},
     "output_type": "execute_result"
    }
   ],
   "source": [
    "attack_losses = get_attack_losses(VALID_ATTACKS)\n",
    "attack_losses"
   ]
  },
  {
   "cell_type": "markdown",
   "metadata": {},
   "source": [
    "Let's take a moment to review what's going on here. We now have 6 functions, one for each possible attack type. Given the type of attack, we can look up the right function to use and call it on a particular dice roll."
   ]
  },
  {
   "cell_type": "code",
   "execution_count": 24,
   "metadata": {},
   "outputs": [
    {
     "data": {
      "text/plain": [
       "(0, 2)"
      ]
     },
     "execution_count": 24,
     "metadata": {},
     "output_type": "execute_result"
    }
   ],
   "source": [
    "attack_losses[attack](roll)"
   ]
  },
  {
   "cell_type": "markdown",
   "metadata": {},
   "source": [
    "Let's test our function on 10 random 3-on-2 attacks to get a feel for how it works."
   ]
  },
  {
   "cell_type": "code",
   "execution_count": 25,
   "metadata": {},
   "outputs": [
    {
     "name": "stdout",
     "output_type": "stream",
     "text": [
      "Att = [5, 4, 1], Def = [5, 2], losses = (1, 1)\n",
      "Att = [6, 5, 2], Def = [5, 3], losses = (0, 2)\n",
      "Att = [6, 4, 1], Def = [6, 2], losses = (1, 1)\n",
      "Att = [5, 2, 1], Def = [6, 1], losses = (1, 1)\n",
      "Att = [5, 4, 3], Def = [4, 3], losses = (0, 2)\n",
      "Att = [6, 1, 1], Def = [4, 2], losses = (1, 1)\n",
      "Att = [5, 4, 2], Def = [6, 1], losses = (1, 1)\n",
      "Att = [5, 3, 2], Def = [6, 5], losses = (2, 0)\n",
      "Att = [6, 3, 2], Def = [3, 2], losses = (0, 2)\n",
      "Att = [5, 4, 1], Def = [6, 4], losses = (2, 0)\n"
     ]
    }
   ],
   "source": [
    "for roll in roll_probs[total_armies(attack)].sample(10):\n",
    "    print('Att = {att_roll}, Def = {def_roll}, losses = {losses}'.format(\n",
    "        att_roll=attacker_roll(attack, roll),\n",
    "        def_roll=defender_roll(attack, roll),\n",
    "        losses=attack_losses[attack](roll))\n",
    "    )"
   ]
  },
  {
   "cell_type": "markdown",
   "metadata": {},
   "source": [
    "### Probability of Attack Outcomes\n",
    "\n",
    "Now we can start analyzing probabilities of attack outcomes. For each type of possible attack, we need to get all the possible dice rolls for that type, and then group the outcomes by how many armies are lost by each side.\n",
    "\n",
    "This is reason I created a different army loss function for each type of attack. It makes it easy to do all the grouping in our probability framework."
   ]
  },
  {
   "cell_type": "code",
   "execution_count": 26,
   "metadata": {},
   "outputs": [
    {
     "data": {
      "text/plain": [
       "ProbDist({(0, 2): Prob(1445, 3888), (1, 1): Prob(2611, 7776), (2, 0): Prob(2275, 7776)})"
      ]
     },
     "execution_count": 26,
     "metadata": {},
     "output_type": "execute_result"
    }
   ],
   "source": [
    "roll_probs[total_armies(attack)].groupby(attack_losses[attack])"
   ]
  },
  {
   "cell_type": "markdown",
   "metadata": {},
   "source": [
    "Take a moment to unpack the above line. For the given attack type (in this example, 3-on-2), get the number of dice to roll (in this case, 5), and get all of the 7776 possible rolls for 5 dice. Then group those rolls by how many armies are lost in each roll outcome.\n",
    "\n",
    "That's a lot going on in one line of Python. But it shows the power and generality of the probabilty modeling framework.\n",
    "\n",
    "Now we can generate the distribution of armies lost for every possible attack, not just 3-on-2."
   ]
  },
  {
   "cell_type": "code",
   "execution_count": 27,
   "metadata": {},
   "outputs": [],
   "source": [
    "def get_loss_probs(attacks, roll_probs=None, attack_losses=None):\n",
    "    \"\"\"Distribution of armies lost by (attacker, defender) in an attack, by attack.\"\"\"\n",
    "    if not roll_probs:\n",
    "        roll_probs = get_roll_probs(attacks)\n",
    "    if not attack_losses:\n",
    "        attack_losses = get_attack_losses(attacks)\n",
    "    return {attack: roll_probs[total_armies(attack)].groupby(attack_losses[attack]) for attack in attacks}"
   ]
  },
  {
   "cell_type": "code",
   "execution_count": 28,
   "metadata": {},
   "outputs": [
    {
     "data": {
      "text/plain": [
       "6"
      ]
     },
     "execution_count": 28,
     "metadata": {},
     "output_type": "execute_result"
    }
   ],
   "source": [
    "loss_probs = get_loss_probs(VALID_ATTACKS, roll_probs, attack_losses)\n",
    "len(loss_probs)"
   ]
  },
  {
   "cell_type": "code",
   "execution_count": 29,
   "metadata": {},
   "outputs": [
    {
     "name": "stdout",
     "output_type": "stream",
     "text": [
      "(1, 1) {(0, 1): 5/12, (1, 0): 7/12}\n",
      "(1, 2) {(0, 1): 55/216, (1, 0): 161/216}\n",
      "(2, 1) {(0, 1): 125/216, (1, 0): 91/216}\n",
      "(2, 2) {(0, 2): 295/1296, (1, 1): 35/108, (2, 0): 581/1296}\n",
      "(3, 1) {(0, 1): 95/144, (1, 0): 49/144}\n",
      "(3, 2) {(0, 2): 1445/3888, (1, 1): 2611/7776, (2, 0): 2275/7776}\n"
     ]
    }
   ],
   "source": [
    "for attack in loss_probs:\n",
    "    print(attack, loss_probs[attack])"
   ]
  },
  {
   "cell_type": "markdown",
   "metadata": {},
   "source": [
    "That's it. Those are the possible outcomes in terms of armies lost in any given _Risk_ attack, along with the probability of that outcome happening.\n",
    "\n",
    "### Battle Outcomes\n",
    "\n",
    "It's great to analyze the armies lost in a given attack. But, what we ultimately are about is probability of winning a battle. Let's look at how to do that now.\n",
    "\n",
    "For the attacker to win a battle, the defender's armies must be reduced to zero in the attacked territory. For the defender to win the battle, either the attacker's armies are reduced to zero (not including the one army that's required to remain behind), or the attacker calls of the attack.\n",
    "\n",
    "#### A Simplified Example\n",
    "\n",
    "Let's compute \"by hand\" the probability that the attacker wins a 2-on-1 battle. Later we'll figure out how to automate this for any possible battle.\n",
    "\n",
    "In a 2-on-1 battle, the first attack is also 2-on-1. The possible outcomes are: the attacker loses an army, or the defender loses an army. If the defender loses an army, the battle is over.\n",
    "\n",
    "The probability this happens is:"
   ]
  },
  {
   "cell_type": "code",
   "execution_count": 30,
   "metadata": {},
   "outputs": [
    {
     "data": {
      "text/plain": [
       "Prob(125, 216)"
      ]
     },
     "execution_count": 30,
     "metadata": {},
     "output_type": "execute_result"
    }
   ],
   "source": [
    "pA_W1 = loss_probs[(2, 1)][(0, 1)]\n",
    "pA_W1"
   ]
  },
  {
   "cell_type": "markdown",
   "metadata": {},
   "source": [
    "On the other hand, the attacker loses an army with probability:"
   ]
  },
  {
   "cell_type": "code",
   "execution_count": 31,
   "metadata": {},
   "outputs": [
    {
     "data": {
      "text/plain": [
       "Prob(91, 216)"
      ]
     },
     "execution_count": 31,
     "metadata": {},
     "output_type": "execute_result"
    }
   ],
   "source": [
    "pA_L1 = 1-pA_W1\n",
    "pA_L1"
   ]
  },
  {
   "cell_type": "markdown",
   "metadata": {},
   "source": [
    "Let's suppose the attacker is really aggressive and decides to continue the battle. This next attack would then be 1-on-1. The attacker wins this round with probability:"
   ]
  },
  {
   "cell_type": "code",
   "execution_count": 32,
   "metadata": {},
   "outputs": [
    {
     "data": {
      "text/plain": [
       "Prob(5, 12)"
      ]
     },
     "execution_count": 32,
     "metadata": {},
     "output_type": "execute_result"
    }
   ],
   "source": [
    "pA_W2 = loss_probs[(1, 1)][(0, 1)]\n",
    "pA_W2"
   ]
  },
  {
   "cell_type": "markdown",
   "metadata": {},
   "source": [
    "On the other hand, the defender prevails with probability:"
   ]
  },
  {
   "cell_type": "code",
   "execution_count": 33,
   "metadata": {},
   "outputs": [
    {
     "data": {
      "text/plain": [
       "Prob(7, 12)"
      ]
     },
     "execution_count": 33,
     "metadata": {},
     "output_type": "execute_result"
    }
   ],
   "source": [
    "pA_L2 = 1-pA_W2\n",
    "pA_L2"
   ]
  },
  {
   "cell_type": "markdown",
   "metadata": {},
   "source": [
    "The defender has the advantage in the 1-on-1 attack because the defender wins ties.\n",
    "\n",
    "We assume that each dice roll is independent as usual. That means that we can use the [>>>multiplication rule for probabilities]() to combine events. In this case, the combined event we care about is that the attacker loses the first attack but wins the second attack. This probability is:"
   ]
  },
  {
   "cell_type": "code",
   "execution_count": 34,
   "metadata": {},
   "outputs": [
    {
     "data": {
      "text/plain": [
       "Prob(455, 2592)"
      ]
     },
     "execution_count": 34,
     "metadata": {},
     "output_type": "execute_result"
    }
   ],
   "source": [
    "pA_L1W2 = pA_L1*pA_W2\n",
    "pA_L1W2"
   ]
  },
  {
   "cell_type": "markdown",
   "metadata": {},
   "source": [
    "The overall probability the attacker wins the battle is the probability of winning in the first round, plus the probability of winning in the second round. The overall probability the attacker wins the 2-on-1 battle is:"
   ]
  },
  {
   "cell_type": "code",
   "execution_count": 35,
   "metadata": {},
   "outputs": [
    {
     "data": {
      "text/plain": [
       "Prob(1955, 2592)"
      ]
     },
     "execution_count": 35,
     "metadata": {},
     "output_type": "execute_result"
    }
   ],
   "source": [
    "pA_W = pA_W1 + pA_L1W2\n",
    "pA_W"
   ]
  },
  {
   "cell_type": "markdown",
   "metadata": {},
   "source": [
    "Similarly, the probability the attacker loses is the probability of losing in the first round times the probability of losing in the second round. This probability is:"
   ]
  },
  {
   "cell_type": "code",
   "execution_count": 36,
   "metadata": {},
   "outputs": [
    {
     "data": {
      "text/plain": [
       "Prob(637, 2592)"
      ]
     },
     "execution_count": 36,
     "metadata": {},
     "output_type": "execute_result"
    }
   ],
   "source": [
    "pA_L = pA_L1*pA_L2\n",
    "pA_L"
   ]
  },
  {
   "cell_type": "markdown",
   "metadata": {},
   "source": [
    "You may wonder, why do we **add** the probabilities for winning, but **multiply** the probabilities for losing?\n",
    "\n",
    "Great question. It's because the attacker **either** wins in the first round, **or** she wins in the second round. They both cannot be true. In probability theory, these are called [mutually exclusive events](https://en.wikipedia.org/wiki/Mutual_exclusivity). You can add probabilities for mutually exclusive events because they don't overlap, if you want to know the probability that either one or the other event happens.\n",
    "\n",
    "On the other hand, for the attacker to lose under our assumptions, she must lose the first round **and** the second round. Since these are independent events, we multiply probabilities to determine the probability that they both happen.\n",
    "\n",
    "Of course, the probability that the attacker either wins or loses is one:"
   ]
  },
  {
   "cell_type": "code",
   "execution_count": 37,
   "metadata": {},
   "outputs": [
    {
     "data": {
      "text/plain": [
       "Prob(1, 1)"
      ]
     },
     "execution_count": 37,
     "metadata": {},
     "output_type": "execute_result"
    }
   ],
   "source": [
    "pA_W + pA_L"
   ]
  },
  {
   "cell_type": "markdown",
   "metadata": {},
   "source": [
    "#### Some Assumptions\n",
    "\n",
    "We made a few assumptions in the 2-on-1 battle example. First, we assumed that the first attack was 2-on-1. It might seem obvious that the attacker should use all her armies, but _Risk_ gives the players some choices on how many dice to roll in each attack.\n",
    "\n",
    "It's an interesting question whether the attacker and defender should always roll the maximum number of dice allowed. We will look at that question in a future post. For now, let's make the common choice of always rolling the maximum number of dice.\n",
    "\n",
    "We also assumed that the attacker continues to attack until losing the last possible army. We'll examine in a future post whether this is the best choice to make.\n",
    "\n",
    "### Modeling Battles in Python\n",
    "\n",
    "Let's define some more Python functions to help us represent any possible _Risk_ battle."
   ]
  },
  {
   "cell_type": "code",
   "execution_count": 38,
   "metadata": {},
   "outputs": [],
   "source": [
    "def attack_with(armies):\n",
    "    \"\"\"Attack with maximum number of armies allowed.\"\"\"\n",
    "    return min(3, attackers(armies))\n",
    "\n",
    "def defend_with(armies):\n",
    "    \"\"\"Defend with maximum number of armies allowed.\"\"\"\n",
    "    return min(2, defenders(armies))"
   ]
  },
  {
   "cell_type": "code",
   "execution_count": 39,
   "metadata": {},
   "outputs": [],
   "source": [
    "# Example battle starting armies\n",
    "start = (2, 1)"
   ]
  },
  {
   "cell_type": "code",
   "execution_count": 40,
   "metadata": {},
   "outputs": [
    {
     "data": {
      "text/plain": [
       "2"
      ]
     },
     "execution_count": 40,
     "metadata": {},
     "output_type": "execute_result"
    }
   ],
   "source": [
    "attack_with(start)"
   ]
  },
  {
   "cell_type": "code",
   "execution_count": 41,
   "metadata": {},
   "outputs": [
    {
     "data": {
      "text/plain": [
       "1"
      ]
     },
     "execution_count": 41,
     "metadata": {},
     "output_type": "execute_result"
    }
   ],
   "source": [
    "defend_with(start)"
   ]
  },
  {
   "cell_type": "code",
   "execution_count": 42,
   "metadata": {},
   "outputs": [],
   "source": [
    "def armies_left(armies, losses):\n",
    "    \"\"\"Armies remaining after losses.\"\"\"\n",
    "    return (attackers(armies)-attackers(losses), defenders(armies)-defenders(losses))"
   ]
  },
  {
   "cell_type": "code",
   "execution_count": 43,
   "metadata": {},
   "outputs": [
    {
     "data": {
      "text/plain": [
       "(1, 1)"
      ]
     },
     "execution_count": 43,
     "metadata": {},
     "output_type": "execute_result"
    }
   ],
   "source": [
    "armies_left(start, (1, 0))"
   ]
  },
  {
   "cell_type": "markdown",
   "metadata": {},
   "source": [
    "#### More on Attack Outcomes\n",
    "\n",
    "Now we want to focus on generating all the attack outcomes and their probabilities. We will also put each attack together into the larger context of the battle.\n",
    "\n",
    "Recall that we already have all the probabilities for how many armies each side can lose for a given attack."
   ]
  },
  {
   "cell_type": "code",
   "execution_count": 44,
   "metadata": {},
   "outputs": [
    {
     "data": {
      "text/plain": [
       "ProbDist({(0, 1): Prob(125, 216), (1, 0): Prob(91, 216)})"
      ]
     },
     "execution_count": 44,
     "metadata": {},
     "output_type": "execute_result"
    }
   ],
   "source": [
    "loss_probs[start]"
   ]
  },
  {
   "cell_type": "markdown",
   "metadata": {},
   "source": [
    "Now, we want to compute the probabilities for how many armies each side has left after a given attack."
   ]
  },
  {
   "cell_type": "code",
   "execution_count": 45,
   "metadata": {},
   "outputs": [],
   "source": [
    "def attack_outcomes(armies):\n",
    "    \"\"\"Distribution of remaining (attacker, defender) armies after an attack.\"\"\"\n",
    "    attack = (attack_with(armies), defend_with(armies))\n",
    "    return {armies_left(armies, losses): loss_probs[attack][losses] for losses in loss_probs[attack]}"
   ]
  },
  {
   "cell_type": "code",
   "execution_count": 46,
   "metadata": {},
   "outputs": [
    {
     "data": {
      "text/plain": [
       "{(1, 1): Prob(91, 216), (2, 0): Prob(125, 216)}"
      ]
     },
     "execution_count": 46,
     "metadata": {},
     "output_type": "execute_result"
    }
   ],
   "source": [
    "attack_outcomes(start)"
   ]
  },
  {
   "cell_type": "markdown",
   "metadata": {},
   "source": [
    "#### Deciding When a Battle is Finished\n",
    "\n",
    "Under our assumptions, a battle is over when either the attacker or defender has zero armies left."
   ]
  },
  {
   "cell_type": "code",
   "execution_count": 47,
   "metadata": {},
   "outputs": [],
   "source": [
    "def finished(attack):\n",
    "    \"\"\"True if either attacker or defender has lost battle.\"\"\"\n",
    "    return attackers(attack) == 0 or defenders(attack) == 0"
   ]
  },
  {
   "cell_type": "code",
   "execution_count": 48,
   "metadata": {},
   "outputs": [],
   "source": [
    "def attacker_wins(outcome):\n",
    "    \"\"\"True if attacker won battle.\"\"\"\n",
    "    return attackers(outcome) > 0 and defenders(outcome) == 0\n",
    "\n",
    "def defender_wins(outcome):\n",
    "    \"\"\"True if defender won battle.\"\"\"\n",
    "    return attackers(outcome) == 0 and defenders(outcome) > 0"
   ]
  },
  {
   "cell_type": "markdown",
   "metadata": {},
   "source": [
    "#### Markov Chains\n",
    "\n",
    "The hard part about modeling battles in _Risk_ is keeping track of all the possible ways a battle could go. Things were relatively simple for the 2-on-1 example, but for a 10-on-6 attack there are many more possibilities. We will look at exactly how many possibilities there are for various _Risk_ battles in a future post.\n",
    "\n",
    "For now, I want to show you one way to solve this counting problem in Python, so you can see some useful results. This code may be a little hard to understand, but it's not that  different from how you would solve this  problem by hand if you had to. The framework used to model a general battle is called a [_Markov chain_](https://en.wikipedia.org/wiki/Markov_chain). Markov chains are named after the important Russian mathematician [Andrey Markov](https://en.wikipedia.org/wiki/Andrey_Markov). We will use Markov chains a lot on this site to analyze sports. This example using _Risk_ is meant as a simple introduction.\n",
    "\n",
    "The basic idea is to start at the beginning of the battle. Since we know how many armies each side has, we know how many dice will be rolled in the first attack. We also can figure out the possible outcomes of that attack, and the distribution of possible armies each side will have left after the first attack.\n",
    "\n",
    "#### State Space\n",
    "\n",
    "Consider the _Risk_ battle as a random process. We can think of the number of armies each side has as the _state_ of the battle at any point in time. A [_state space_](https://en.wikipedia.org/wiki/State_space) is a set of values which a process can be in at any particular time. The state space has to tell us everything we would need to compute the probabilities for the next possible value of the process. The number of armies satisfies this requirement in _Risk_. If we know the number of armies, we know the number of dice to roll at each step, so we can figure out all the probabilities at each step.\n",
    "\n",
    "#### Markov Property\n",
    "\n",
    "Here's the important insight about _Risk_. The only thing that matters is the current state (i.e., how many armies each side has for the next attack). If the next attack is 3-on-2, it doesn't matter if the battle started 10-on-6 or 50-on-39. We may feel worse as the attacker if we started 50-on-39, but the probabilities of the 3-on-2 attack outcomes are the same either way.\n",
    "\n",
    "This means that a _Risk_ battle satisfies the [_Markov property_](https://en.wikipedia.org/wiki/Markov_property). A random process has the Markov property if the future outcomes of the process only depend on the _current state_ of the process. Another way of saying this is that a process has the Markov property if it doesn't remember how it got to the current state. This is true of _Risk_.\n",
    "\n",
    "#### Counting Battle States\n",
    "\n",
    "You may wonder why this matters. It matters because we don't need to keep track of all the possible paths in a battle if the battle is a Markov process. We only need to keep track of the probability of being in each state. We can essentially forget all the prior information about how we got into a particular state.\n",
    "\n",
    "This significantly lowers the difficulty in counting, as you'll see. There are much fewer states than the number of possible paths through a battle.\n",
    "\n",
    "The initial state of the battle is just the number of armies each side has to start. Since the number of armies can never go up, we only have to represent the states that have armies less than or equal to the initial number, down to at worst zero armies for one side or the other. There are a finite number of possible states for any _Risk_ battle.\n",
    "\n",
    "If we ever get to a state where one side has zero armies, the battle is over and the side with some armies remaining is the winner.\n",
    "\n",
    "#### Accumulating the Attack Probabilities\n",
    "\n",
    "In _Risk_, each attack is independent of the prior attacks in a battle. This is true because the dice rolls are independent.\n",
    "\n",
    "As we saw in the [prior notebook on joint probabilities of independent events](https://github.com/practicallypredictable/posts/blob/master/notebooks/probability-part3-coin_flips-mult_probabilities.ipynb), you multiply the probabilities of two independent events to get the probability of the joint event that both occur.\n",
    "\n",
    "In general, let's define the probability $P(S_{a,d})$ that the battle is ever in state $S_{a,d}$, where _a_ is the number of attacker armies and _d_ is the number of defender armies. Suppose we start the battle with 10 attacker and 6 defender armies. This state is $S_{10,6}$. We know there are three possible attack outcomes: the attacker loses 2 armies, the defender loses 2 armies, and each loses an army. Therefore, from the state $S_{10,6}$, the next possible states are $S_{8,6}$, $S_{9,5}$ and $S_{10,4}$. \n",
    "\n",
    "How does $P(S_{8,6})$ depend on $P(S_{10,6})$?\n",
    "\n",
    "Think of $S_{8,6}$ being a joint probability based on two outcomes. The first outcome is that we were in $S_{10,6}$ on the prior step. The second outcome is that the attacker lost 2 armies in the 3-on-2 dice roll. Let's call this probability $P(A_{-2,3v2})$. These outcomes are independent, so we multiply the probabilities.\n",
    "\n",
    "So is the following equation true?\n",
    "$$P(S_{8,6}) = P(S_{10,6}) \\times P(A_{-2,3v2})$$\n",
    "\n",
    "In this case, yes, because there is only way one for the battle to get into the state $S_{8,6}$. If we were looking at the state $S_{7,5}$, we would have to be more careful. There are two ways we could get to $S_{7,5}$. The first is from $S_{8,6}$, after which the attacker and defender each lose an army. The other is from $S_{9,5}$, after which the attacker loses 2 armies.\n",
    "\n",
    "Remember earlier in this post, we talked about mutually exclusive events. You can add probabilities of mutually exclusive events because the events don't overlap. In this example _Risk_ battle, $S_{8,6}$ and $S_{9,5}$ are mutually exclusive events. There is no way the battle can ever have been in one state if it was ever in the other state. Once you know the outcome of the first attack, you must be in one, and only one, of $S_{8,6}$, $S_{9,5}$ or $S_{10,4}$.\n",
    "\n",
    "Now we have enough information to calculate $P(S_{7,5})$.\n",
    "$$P(S_{7,5}) = P(S_{8,6}) \\times P(A_{-1,3v2}) + P(S_{9,5}) \\times P(A_{-2,3v2})$$\n",
    "\n",
    "All this equation is saying is that the probability of being in any state equals the probability of being in a possible prior state, times the probability of going from that prior state to the current state, summed over all possible prior states.\n",
    "\n",
    "This is true for any state. The probability of going from one state to the other is just the various attack outcome probabilities, based upon the number of dice rolled after the prior state. Remember that you can figure out how many dice to roll in each attack, based upon the number of armies each side has in the prior state.\n",
    "\n",
    "The results we care about are the probabilities of ending up in a state where one side has zero armies and the other side has a positive number of armies. Once we know the probabilities in each of these ending states (called _terminal states_), we can figure out the probabilities that each side won or lost the battle.\n",
    "\n",
    "#### The Algorithm\n",
    "\n",
    "The only tricky part of all this is keeping track of the possible states and the probabilities of being in each.\n",
    "\n",
    "Here's a relatively simple approach to solve this problem. First, we set the probability of the initial state to 1. The probabilities of all other possible states start at zero.\n",
    "\n",
    "Next, we look at all possible outcomes from the starting attack. We save these outcomes in a data structure which computer scientists call a [queue](https://en.wikipedia.org/wiki/Queue_(abstract_data_type)). In Python, we can represent a queue with the `deque` class from the Python standard library.\n",
    "\n",
    "We multiply the initial probability (which is 1) times each attack outcome probability, and store the results of each multiplication. To store the probabilities, we use a Python `defaultdict` structure with the state as the key. We use `defaultdict` so that the probability defaults to zero for any state we haven't looked at already.\n",
    "\n",
    "Once we've examined the possible outcomes from the initial state, we've \"used up\" the probability (initially 1) for that state. We can't end the battle at the starting point. So we erase the starting point from the outcomes, and look at whatever attack is next in the queue. This new attack will have its own possible outcomes, which are also saved in the queue if they aren't already there.\n",
    "\n",
    "If an outcome has already been seen, it's probability will be non-zero. In this case, we need to increase the probability already stored there. We always increase the probability for a state by the probability of being in the prior state, times the probability of the attack outcome that caused the prior state to change to the current state. After each step, we remove the prior state from the list of outcomes.\n",
    "\n",
    "In this way, the original probabilty of being in the starting point (with value 1) is distributed over all possible outcomes. When the queue is empty, we've examined all possible outcomes that can be rearched from the starting point. \n",
    "At the end of this process, the only states that will be left with non-zero probabilities are the terminal states.\n",
    "\n",
    "Since we only ever multiplied the probabilities of independent events or added the probabilities of mutually exclusive events, the sum of the probabilities of the terminal states had better be 1 also. The code below checks that this is true. Otherwise, there would be a bug in the code."
   ]
  },
  {
   "cell_type": "code",
   "execution_count": 49,
   "metadata": {},
   "outputs": [],
   "source": [
    "def battle_outcomes(start):\n",
    "    \"\"\"Distribution of remaining (attacker, defender) armies after a battle.\"\"\"\n",
    "    queue = deque()\n",
    "    outcomes = defaultdict(Prob)\n",
    "    queue.append(start) # starting point in the battle is only item in the queue at first\n",
    "    outcomes[start] = Prob(1) # starting point in the battle has probability 1 at first\n",
    "    while queue:\n",
    "        curr_attack = queue.popleft() # take next attack to examine out of the queue\n",
    "        prob = outcomes[curr_attack] # save probabilty of getting to this point in the battle\n",
    "        del outcomes[curr_attack] # we only want final outcomes, so remove current attack from outcomes\n",
    "        next_attack_probs = attack_outcomes(curr_attack) # look at possible outcomes for this attack\n",
    "        for next_attack in next_attack_probs:\n",
    "            new_prob = prob*next_attack_probs[next_attack] # distribute starting probabilty to outcomes\n",
    "            outcomes[next_attack] += new_prob\n",
    "            if next_attack not in queue and not finished(next_attack):\n",
    "                queue.append(next_attack) # store next attack in the queue if it might lead to other attacks\n",
    "    assert sum(outcomes.values()) == Prob(1) # this had better be true or our code is wrong\n",
    "    return ProbDist(outcomes)"
   ]
  },
  {
   "cell_type": "markdown",
   "metadata": {},
   "source": [
    "As I mentioned, we'll look at a lot of other exmaples of Markov chains on this site. They are frequently used in modeling sports outcomes. Hopefully this simplified example using _Risk_ will help you understand Markov chains better and motivate you to learn more about them.\n",
    "\n",
    "Now we can actually get some interesting results for _Risk_ battles.\n",
    "\n",
    "#### Checking the Results\n",
    "\n",
    "Let's first check the 2-on-1 example we did by hand before."
   ]
  },
  {
   "cell_type": "code",
   "execution_count": 50,
   "metadata": {},
   "outputs": [
    {
     "data": {
      "text/plain": [
       "ProbDist({(0, 1): Prob(637, 2592), (1, 0): Prob(455, 2592), (2, 0): Prob(125, 216)})"
      ]
     },
     "execution_count": 50,
     "metadata": {},
     "output_type": "execute_result"
    }
   ],
   "source": [
    "battle_outcomes(start)"
   ]
  },
  {
   "cell_type": "code",
   "execution_count": 51,
   "metadata": {},
   "outputs": [
    {
     "data": {
      "text/plain": [
       "Prob(1955, 2592)"
      ]
     },
     "execution_count": 51,
     "metadata": {},
     "output_type": "execute_result"
    }
   ],
   "source": [
    "battle_outcomes(start).prob(attacker_wins)"
   ]
  },
  {
   "cell_type": "markdown",
   "metadata": {},
   "source": [
    "Good, that matches our earlier result. Now let's look at a 3-on-1 battle."
   ]
  },
  {
   "cell_type": "code",
   "execution_count": 52,
   "metadata": {},
   "outputs": [
    {
     "name": "stdout",
     "output_type": "stream",
     "text": [
      "{(0, 1): 31213/373248, (1, 0): 22295/373248, (2, 0): 6125/31104, (3, 0): 95/144}\n"
     ]
    }
   ],
   "source": [
    "print(battle_outcomes((3, 1)))"
   ]
  },
  {
   "cell_type": "code",
   "execution_count": 53,
   "metadata": {},
   "outputs": [
    {
     "data": {
      "text/plain": [
       "Prob(342035, 373248)"
      ]
     },
     "execution_count": 53,
     "metadata": {},
     "output_type": "execute_result"
    }
   ],
   "source": [
    "battle_outcomes((3, 1)).prob(attacker_wins)"
   ]
  },
  {
   "cell_type": "markdown",
   "metadata": {},
   "source": [
    "Let's see how to check this example by hand."
   ]
  },
  {
   "cell_type": "code",
   "execution_count": 54,
   "metadata": {},
   "outputs": [
    {
     "data": {
      "text/plain": [
       "Prob(95, 144)"
      ]
     },
     "execution_count": 54,
     "metadata": {},
     "output_type": "execute_result"
    }
   ],
   "source": [
    "pA_W1 = loss_probs[(3, 1)][(0, 1)]\n",
    "pA_W1"
   ]
  },
  {
   "cell_type": "code",
   "execution_count": 55,
   "metadata": {},
   "outputs": [
    {
     "data": {
      "text/plain": [
       "Prob(125, 216)"
      ]
     },
     "execution_count": 55,
     "metadata": {},
     "output_type": "execute_result"
    }
   ],
   "source": [
    "pA_W2 = loss_probs[(2, 1)][(0, 1)]\n",
    "pA_W2"
   ]
  },
  {
   "cell_type": "code",
   "execution_count": 56,
   "metadata": {},
   "outputs": [
    {
     "data": {
      "text/plain": [
       "Prob(5, 12)"
      ]
     },
     "execution_count": 56,
     "metadata": {},
     "output_type": "execute_result"
    }
   ],
   "source": [
    "pA_W3 = loss_probs[(1, 1)][(0, 1)]\n",
    "pA_W3"
   ]
  },
  {
   "cell_type": "markdown",
   "metadata": {},
   "source": [
    "The attacker either wins on the first round, the second round or the third round. The overall probability the attacker wins a 3-on-1 battle under our assupmtions is:"
   ]
  },
  {
   "cell_type": "code",
   "execution_count": 57,
   "metadata": {},
   "outputs": [
    {
     "data": {
      "text/plain": [
       "Prob(342035, 373248)"
      ]
     },
     "execution_count": 57,
     "metadata": {},
     "output_type": "execute_result"
    }
   ],
   "source": [
    "pA_W = pA_W1 + (1-pA_W1)*pA_W2 + (1-pA_W1)*(1-pA_W2)*pA_W3\n",
    "pA_W"
   ]
  },
  {
   "cell_type": "markdown",
   "metadata": {},
   "source": [
    "The results match, so it seems like the code is working correctly."
   ]
  },
  {
   "cell_type": "markdown",
   "metadata": {},
   "source": [
    "### Probabilities of Winning a Battle\n",
    "\n",
    "Let's build a table of probabilities for all battles up to 20-on-20."
   ]
  },
  {
   "cell_type": "code",
   "execution_count": 58,
   "metadata": {},
   "outputs": [
    {
     "data": {
      "text/plain": [
       "(400, 3)"
      ]
     },
     "execution_count": 58,
     "metadata": {},
     "output_type": "execute_result"
    }
   ],
   "source": [
    "df = pd.DataFrame([{\n",
    "        'att': attackers(battle),\n",
    "        'def': defenders(battle),\n",
    "        'prob_att_wins': float(battle_outcomes(battle).prob(attacker_wins))\n",
    "    } for battle in it.product(range(1, 21), range(1, 21))]\n",
    ")\n",
    "df.shape"
   ]
  },
  {
   "cell_type": "code",
   "execution_count": 59,
   "metadata": {},
   "outputs": [
    {
     "data": {
      "text/html": [
       "<div>\n",
       "<style scoped>\n",
       "    .dataframe tbody tr th:only-of-type {\n",
       "        vertical-align: middle;\n",
       "    }\n",
       "\n",
       "    .dataframe tbody tr th {\n",
       "        vertical-align: top;\n",
       "    }\n",
       "\n",
       "    .dataframe thead th {\n",
       "        text-align: right;\n",
       "    }\n",
       "</style>\n",
       "<table border=\"1\" class=\"dataframe\">\n",
       "  <thead>\n",
       "    <tr style=\"text-align: right;\">\n",
       "      <th></th>\n",
       "      <th>att</th>\n",
       "      <th>def</th>\n",
       "      <th>prob_att_wins</th>\n",
       "    </tr>\n",
       "  </thead>\n",
       "  <tbody>\n",
       "    <tr>\n",
       "      <th>0</th>\n",
       "      <td>1</td>\n",
       "      <td>1</td>\n",
       "      <td>0.417</td>\n",
       "    </tr>\n",
       "    <tr>\n",
       "      <th>1</th>\n",
       "      <td>1</td>\n",
       "      <td>2</td>\n",
       "      <td>0.106</td>\n",
       "    </tr>\n",
       "    <tr>\n",
       "      <th>2</th>\n",
       "      <td>1</td>\n",
       "      <td>3</td>\n",
       "      <td>0.027</td>\n",
       "    </tr>\n",
       "    <tr>\n",
       "      <th>3</th>\n",
       "      <td>1</td>\n",
       "      <td>4</td>\n",
       "      <td>0.007</td>\n",
       "    </tr>\n",
       "    <tr>\n",
       "      <th>4</th>\n",
       "      <td>1</td>\n",
       "      <td>5</td>\n",
       "      <td>0.002</td>\n",
       "    </tr>\n",
       "  </tbody>\n",
       "</table>\n",
       "</div>"
      ],
      "text/plain": [
       "   att  def  prob_att_wins\n",
       "0    1    1          0.417\n",
       "1    1    2          0.106\n",
       "2    1    3          0.027\n",
       "3    1    4          0.007\n",
       "4    1    5          0.002"
      ]
     },
     "execution_count": 59,
     "metadata": {},
     "output_type": "execute_result"
    }
   ],
   "source": [
    "df.head()"
   ]
  },
  {
   "cell_type": "markdown",
   "metadata": {},
   "source": [
    "Let's pivot this table to make it more useful."
   ]
  },
  {
   "cell_type": "code",
   "execution_count": 60,
   "metadata": {},
   "outputs": [
    {
     "data": {
      "text/html": [
       "<div>\n",
       "<style scoped>\n",
       "    .dataframe tbody tr th:only-of-type {\n",
       "        vertical-align: middle;\n",
       "    }\n",
       "\n",
       "    .dataframe tbody tr th {\n",
       "        vertical-align: top;\n",
       "    }\n",
       "\n",
       "    .dataframe thead th {\n",
       "        text-align: right;\n",
       "    }\n",
       "</style>\n",
       "<table border=\"1\" class=\"dataframe\">\n",
       "  <thead>\n",
       "    <tr style=\"text-align: right;\">\n",
       "      <th>def</th>\n",
       "      <th>1</th>\n",
       "      <th>2</th>\n",
       "      <th>3</th>\n",
       "      <th>4</th>\n",
       "      <th>5</th>\n",
       "      <th>6</th>\n",
       "      <th>7</th>\n",
       "      <th>8</th>\n",
       "      <th>9</th>\n",
       "      <th>10</th>\n",
       "      <th>11</th>\n",
       "      <th>12</th>\n",
       "      <th>13</th>\n",
       "      <th>14</th>\n",
       "      <th>15</th>\n",
       "      <th>16</th>\n",
       "      <th>17</th>\n",
       "      <th>18</th>\n",
       "      <th>19</th>\n",
       "      <th>20</th>\n",
       "    </tr>\n",
       "    <tr>\n",
       "      <th>att</th>\n",
       "      <th></th>\n",
       "      <th></th>\n",
       "      <th></th>\n",
       "      <th></th>\n",
       "      <th></th>\n",
       "      <th></th>\n",
       "      <th></th>\n",
       "      <th></th>\n",
       "      <th></th>\n",
       "      <th></th>\n",
       "      <th></th>\n",
       "      <th></th>\n",
       "      <th></th>\n",
       "      <th></th>\n",
       "      <th></th>\n",
       "      <th></th>\n",
       "      <th></th>\n",
       "      <th></th>\n",
       "      <th></th>\n",
       "      <th></th>\n",
       "    </tr>\n",
       "  </thead>\n",
       "  <tbody>\n",
       "    <tr>\n",
       "      <th>1</th>\n",
       "      <td>0.417</td>\n",
       "      <td>0.106</td>\n",
       "      <td>0.027</td>\n",
       "      <td>0.007</td>\n",
       "      <td>0.002</td>\n",
       "      <td>0.000</td>\n",
       "      <td>0.000</td>\n",
       "      <td>0.000</td>\n",
       "      <td>0.000</td>\n",
       "      <td>0.000</td>\n",
       "      <td>0.000</td>\n",
       "      <td>0.000</td>\n",
       "      <td>0.000</td>\n",
       "      <td>0.000</td>\n",
       "      <td>0.000</td>\n",
       "      <td>0.000</td>\n",
       "      <td>0.000</td>\n",
       "      <td>0.000</td>\n",
       "      <td>0.000</td>\n",
       "      <td>0.000</td>\n",
       "    </tr>\n",
       "    <tr>\n",
       "      <th>2</th>\n",
       "      <td>0.754</td>\n",
       "      <td>0.363</td>\n",
       "      <td>0.206</td>\n",
       "      <td>0.091</td>\n",
       "      <td>0.049</td>\n",
       "      <td>0.021</td>\n",
       "      <td>0.011</td>\n",
       "      <td>0.005</td>\n",
       "      <td>0.003</td>\n",
       "      <td>0.001</td>\n",
       "      <td>0.001</td>\n",
       "      <td>0.000</td>\n",
       "      <td>0.000</td>\n",
       "      <td>0.000</td>\n",
       "      <td>0.000</td>\n",
       "      <td>0.000</td>\n",
       "      <td>0.000</td>\n",
       "      <td>0.000</td>\n",
       "      <td>0.000</td>\n",
       "      <td>0.000</td>\n",
       "    </tr>\n",
       "    <tr>\n",
       "      <th>3</th>\n",
       "      <td>0.916</td>\n",
       "      <td>0.656</td>\n",
       "      <td>0.470</td>\n",
       "      <td>0.315</td>\n",
       "      <td>0.206</td>\n",
       "      <td>0.134</td>\n",
       "      <td>0.084</td>\n",
       "      <td>0.054</td>\n",
       "      <td>0.033</td>\n",
       "      <td>0.021</td>\n",
       "      <td>0.013</td>\n",
       "      <td>0.008</td>\n",
       "      <td>0.005</td>\n",
       "      <td>0.003</td>\n",
       "      <td>0.002</td>\n",
       "      <td>0.001</td>\n",
       "      <td>0.001</td>\n",
       "      <td>0.000</td>\n",
       "      <td>0.000</td>\n",
       "      <td>0.000</td>\n",
       "    </tr>\n",
       "    <tr>\n",
       "      <th>4</th>\n",
       "      <td>0.972</td>\n",
       "      <td>0.785</td>\n",
       "      <td>0.642</td>\n",
       "      <td>0.477</td>\n",
       "      <td>0.359</td>\n",
       "      <td>0.253</td>\n",
       "      <td>0.181</td>\n",
       "      <td>0.123</td>\n",
       "      <td>0.086</td>\n",
       "      <td>0.057</td>\n",
       "      <td>0.039</td>\n",
       "      <td>0.026</td>\n",
       "      <td>0.017</td>\n",
       "      <td>0.011</td>\n",
       "      <td>0.007</td>\n",
       "      <td>0.005</td>\n",
       "      <td>0.003</td>\n",
       "      <td>0.002</td>\n",
       "      <td>0.001</td>\n",
       "      <td>0.001</td>\n",
       "    </tr>\n",
       "    <tr>\n",
       "      <th>5</th>\n",
       "      <td>0.990</td>\n",
       "      <td>0.890</td>\n",
       "      <td>0.769</td>\n",
       "      <td>0.638</td>\n",
       "      <td>0.506</td>\n",
       "      <td>0.397</td>\n",
       "      <td>0.297</td>\n",
       "      <td>0.224</td>\n",
       "      <td>0.162</td>\n",
       "      <td>0.118</td>\n",
       "      <td>0.083</td>\n",
       "      <td>0.059</td>\n",
       "      <td>0.041</td>\n",
       "      <td>0.029</td>\n",
       "      <td>0.019</td>\n",
       "      <td>0.014</td>\n",
       "      <td>0.009</td>\n",
       "      <td>0.006</td>\n",
       "      <td>0.004</td>\n",
       "      <td>0.003</td>\n",
       "    </tr>\n",
       "    <tr>\n",
       "      <th>6</th>\n",
       "      <td>0.997</td>\n",
       "      <td>0.934</td>\n",
       "      <td>0.857</td>\n",
       "      <td>0.745</td>\n",
       "      <td>0.638</td>\n",
       "      <td>0.521</td>\n",
       "      <td>0.423</td>\n",
       "      <td>0.329</td>\n",
       "      <td>0.258</td>\n",
       "      <td>0.193</td>\n",
       "      <td>0.147</td>\n",
       "      <td>0.107</td>\n",
       "      <td>0.080</td>\n",
       "      <td>0.057</td>\n",
       "      <td>0.041</td>\n",
       "      <td>0.029</td>\n",
       "      <td>0.021</td>\n",
       "      <td>0.014</td>\n",
       "      <td>0.010</td>\n",
       "      <td>0.007</td>\n",
       "    </tr>\n",
       "    <tr>\n",
       "      <th>7</th>\n",
       "      <td>0.999</td>\n",
       "      <td>0.967</td>\n",
       "      <td>0.910</td>\n",
       "      <td>0.834</td>\n",
       "      <td>0.736</td>\n",
       "      <td>0.640</td>\n",
       "      <td>0.536</td>\n",
       "      <td>0.446</td>\n",
       "      <td>0.357</td>\n",
       "      <td>0.287</td>\n",
       "      <td>0.222</td>\n",
       "      <td>0.173</td>\n",
       "      <td>0.130</td>\n",
       "      <td>0.100</td>\n",
       "      <td>0.073</td>\n",
       "      <td>0.055</td>\n",
       "      <td>0.040</td>\n",
       "      <td>0.029</td>\n",
       "      <td>0.021</td>\n",
       "      <td>0.015</td>\n",
       "    </tr>\n",
       "    <tr>\n",
       "      <th>8</th>\n",
       "      <td>1.000</td>\n",
       "      <td>0.980</td>\n",
       "      <td>0.947</td>\n",
       "      <td>0.888</td>\n",
       "      <td>0.818</td>\n",
       "      <td>0.730</td>\n",
       "      <td>0.643</td>\n",
       "      <td>0.547</td>\n",
       "      <td>0.464</td>\n",
       "      <td>0.380</td>\n",
       "      <td>0.312</td>\n",
       "      <td>0.247</td>\n",
       "      <td>0.197</td>\n",
       "      <td>0.152</td>\n",
       "      <td>0.119</td>\n",
       "      <td>0.090</td>\n",
       "      <td>0.069</td>\n",
       "      <td>0.051</td>\n",
       "      <td>0.038</td>\n",
       "      <td>0.028</td>\n",
       "    </tr>\n",
       "    <tr>\n",
       "      <th>9</th>\n",
       "      <td>1.000</td>\n",
       "      <td>0.990</td>\n",
       "      <td>0.967</td>\n",
       "      <td>0.930</td>\n",
       "      <td>0.873</td>\n",
       "      <td>0.808</td>\n",
       "      <td>0.726</td>\n",
       "      <td>0.646</td>\n",
       "      <td>0.558</td>\n",
       "      <td>0.480</td>\n",
       "      <td>0.400</td>\n",
       "      <td>0.334</td>\n",
       "      <td>0.270</td>\n",
       "      <td>0.219</td>\n",
       "      <td>0.173</td>\n",
       "      <td>0.138</td>\n",
       "      <td>0.106</td>\n",
       "      <td>0.083</td>\n",
       "      <td>0.062</td>\n",
       "      <td>0.048</td>\n",
       "    </tr>\n",
       "    <tr>\n",
       "      <th>10</th>\n",
       "      <td>1.000</td>\n",
       "      <td>0.994</td>\n",
       "      <td>0.981</td>\n",
       "      <td>0.954</td>\n",
       "      <td>0.916</td>\n",
       "      <td>0.861</td>\n",
       "      <td>0.800</td>\n",
       "      <td>0.724</td>\n",
       "      <td>0.650</td>\n",
       "      <td>0.568</td>\n",
       "      <td>0.494</td>\n",
       "      <td>0.417</td>\n",
       "      <td>0.353</td>\n",
       "      <td>0.290</td>\n",
       "      <td>0.240</td>\n",
       "      <td>0.192</td>\n",
       "      <td>0.155</td>\n",
       "      <td>0.122</td>\n",
       "      <td>0.097</td>\n",
       "      <td>0.074</td>\n",
       "    </tr>\n",
       "    <tr>\n",
       "      <th>11</th>\n",
       "      <td>1.000</td>\n",
       "      <td>0.997</td>\n",
       "      <td>0.988</td>\n",
       "      <td>0.972</td>\n",
       "      <td>0.943</td>\n",
       "      <td>0.905</td>\n",
       "      <td>0.852</td>\n",
       "      <td>0.794</td>\n",
       "      <td>0.723</td>\n",
       "      <td>0.654</td>\n",
       "      <td>0.576</td>\n",
       "      <td>0.507</td>\n",
       "      <td>0.433</td>\n",
       "      <td>0.371</td>\n",
       "      <td>0.309</td>\n",
       "      <td>0.259</td>\n",
       "      <td>0.210</td>\n",
       "      <td>0.173</td>\n",
       "      <td>0.137</td>\n",
       "      <td>0.111</td>\n",
       "    </tr>\n",
       "    <tr>\n",
       "      <th>12</th>\n",
       "      <td>1.000</td>\n",
       "      <td>0.998</td>\n",
       "      <td>0.993</td>\n",
       "      <td>0.982</td>\n",
       "      <td>0.964</td>\n",
       "      <td>0.934</td>\n",
       "      <td>0.896</td>\n",
       "      <td>0.845</td>\n",
       "      <td>0.790</td>\n",
       "      <td>0.723</td>\n",
       "      <td>0.658</td>\n",
       "      <td>0.584</td>\n",
       "      <td>0.518</td>\n",
       "      <td>0.448</td>\n",
       "      <td>0.387</td>\n",
       "      <td>0.326</td>\n",
       "      <td>0.276</td>\n",
       "      <td>0.228</td>\n",
       "      <td>0.189</td>\n",
       "      <td>0.152</td>\n",
       "    </tr>\n",
       "    <tr>\n",
       "      <th>13</th>\n",
       "      <td>1.000</td>\n",
       "      <td>0.999</td>\n",
       "      <td>0.996</td>\n",
       "      <td>0.989</td>\n",
       "      <td>0.976</td>\n",
       "      <td>0.956</td>\n",
       "      <td>0.925</td>\n",
       "      <td>0.889</td>\n",
       "      <td>0.839</td>\n",
       "      <td>0.787</td>\n",
       "      <td>0.723</td>\n",
       "      <td>0.661</td>\n",
       "      <td>0.592</td>\n",
       "      <td>0.528</td>\n",
       "      <td>0.461</td>\n",
       "      <td>0.402</td>\n",
       "      <td>0.342</td>\n",
       "      <td>0.293</td>\n",
       "      <td>0.244</td>\n",
       "      <td>0.205</td>\n",
       "    </tr>\n",
       "    <tr>\n",
       "      <th>14</th>\n",
       "      <td>1.000</td>\n",
       "      <td>1.000</td>\n",
       "      <td>0.998</td>\n",
       "      <td>0.993</td>\n",
       "      <td>0.985</td>\n",
       "      <td>0.970</td>\n",
       "      <td>0.949</td>\n",
       "      <td>0.918</td>\n",
       "      <td>0.882</td>\n",
       "      <td>0.835</td>\n",
       "      <td>0.784</td>\n",
       "      <td>0.724</td>\n",
       "      <td>0.665</td>\n",
       "      <td>0.599</td>\n",
       "      <td>0.538</td>\n",
       "      <td>0.473</td>\n",
       "      <td>0.416</td>\n",
       "      <td>0.357</td>\n",
       "      <td>0.308</td>\n",
       "      <td>0.259</td>\n",
       "    </tr>\n",
       "    <tr>\n",
       "      <th>15</th>\n",
       "      <td>1.000</td>\n",
       "      <td>1.000</td>\n",
       "      <td>0.999</td>\n",
       "      <td>0.996</td>\n",
       "      <td>0.990</td>\n",
       "      <td>0.981</td>\n",
       "      <td>0.964</td>\n",
       "      <td>0.943</td>\n",
       "      <td>0.912</td>\n",
       "      <td>0.877</td>\n",
       "      <td>0.831</td>\n",
       "      <td>0.783</td>\n",
       "      <td>0.725</td>\n",
       "      <td>0.669</td>\n",
       "      <td>0.605</td>\n",
       "      <td>0.547</td>\n",
       "      <td>0.484</td>\n",
       "      <td>0.428</td>\n",
       "      <td>0.371</td>\n",
       "      <td>0.323</td>\n",
       "    </tr>\n",
       "    <tr>\n",
       "      <th>16</th>\n",
       "      <td>1.000</td>\n",
       "      <td>1.000</td>\n",
       "      <td>0.999</td>\n",
       "      <td>0.998</td>\n",
       "      <td>0.994</td>\n",
       "      <td>0.987</td>\n",
       "      <td>0.976</td>\n",
       "      <td>0.959</td>\n",
       "      <td>0.938</td>\n",
       "      <td>0.907</td>\n",
       "      <td>0.872</td>\n",
       "      <td>0.828</td>\n",
       "      <td>0.782</td>\n",
       "      <td>0.726</td>\n",
       "      <td>0.672</td>\n",
       "      <td>0.611</td>\n",
       "      <td>0.555</td>\n",
       "      <td>0.494</td>\n",
       "      <td>0.440</td>\n",
       "      <td>0.384</td>\n",
       "    </tr>\n",
       "    <tr>\n",
       "      <th>17</th>\n",
       "      <td>1.000</td>\n",
       "      <td>1.000</td>\n",
       "      <td>1.000</td>\n",
       "      <td>0.999</td>\n",
       "      <td>0.996</td>\n",
       "      <td>0.992</td>\n",
       "      <td>0.984</td>\n",
       "      <td>0.972</td>\n",
       "      <td>0.955</td>\n",
       "      <td>0.933</td>\n",
       "      <td>0.902</td>\n",
       "      <td>0.869</td>\n",
       "      <td>0.826</td>\n",
       "      <td>0.781</td>\n",
       "      <td>0.728</td>\n",
       "      <td>0.676</td>\n",
       "      <td>0.617</td>\n",
       "      <td>0.563</td>\n",
       "      <td>0.504</td>\n",
       "      <td>0.451</td>\n",
       "    </tr>\n",
       "    <tr>\n",
       "      <th>18</th>\n",
       "      <td>1.000</td>\n",
       "      <td>1.000</td>\n",
       "      <td>1.000</td>\n",
       "      <td>0.999</td>\n",
       "      <td>0.998</td>\n",
       "      <td>0.995</td>\n",
       "      <td>0.989</td>\n",
       "      <td>0.981</td>\n",
       "      <td>0.969</td>\n",
       "      <td>0.950</td>\n",
       "      <td>0.928</td>\n",
       "      <td>0.898</td>\n",
       "      <td>0.865</td>\n",
       "      <td>0.824</td>\n",
       "      <td>0.781</td>\n",
       "      <td>0.729</td>\n",
       "      <td>0.680</td>\n",
       "      <td>0.623</td>\n",
       "      <td>0.570</td>\n",
       "      <td>0.513</td>\n",
       "    </tr>\n",
       "    <tr>\n",
       "      <th>19</th>\n",
       "      <td>1.000</td>\n",
       "      <td>1.000</td>\n",
       "      <td>1.000</td>\n",
       "      <td>0.999</td>\n",
       "      <td>0.999</td>\n",
       "      <td>0.997</td>\n",
       "      <td>0.993</td>\n",
       "      <td>0.987</td>\n",
       "      <td>0.978</td>\n",
       "      <td>0.965</td>\n",
       "      <td>0.946</td>\n",
       "      <td>0.925</td>\n",
       "      <td>0.895</td>\n",
       "      <td>0.863</td>\n",
       "      <td>0.822</td>\n",
       "      <td>0.781</td>\n",
       "      <td>0.731</td>\n",
       "      <td>0.683</td>\n",
       "      <td>0.628</td>\n",
       "      <td>0.577</td>\n",
       "    </tr>\n",
       "    <tr>\n",
       "      <th>20</th>\n",
       "      <td>1.000</td>\n",
       "      <td>1.000</td>\n",
       "      <td>1.000</td>\n",
       "      <td>1.000</td>\n",
       "      <td>0.999</td>\n",
       "      <td>0.998</td>\n",
       "      <td>0.995</td>\n",
       "      <td>0.991</td>\n",
       "      <td>0.985</td>\n",
       "      <td>0.975</td>\n",
       "      <td>0.962</td>\n",
       "      <td>0.943</td>\n",
       "      <td>0.921</td>\n",
       "      <td>0.892</td>\n",
       "      <td>0.860</td>\n",
       "      <td>0.821</td>\n",
       "      <td>0.781</td>\n",
       "      <td>0.733</td>\n",
       "      <td>0.686</td>\n",
       "      <td>0.633</td>\n",
       "    </tr>\n",
       "  </tbody>\n",
       "</table>\n",
       "</div>"
      ],
      "text/plain": [
       "def    1     2     3     4     5     6     7     8     9     10    11    12  \\\n",
       "att                                                                           \n",
       "1   0.417 0.106 0.027 0.007 0.002 0.000 0.000 0.000 0.000 0.000 0.000 0.000   \n",
       "2   0.754 0.363 0.206 0.091 0.049 0.021 0.011 0.005 0.003 0.001 0.001 0.000   \n",
       "3   0.916 0.656 0.470 0.315 0.206 0.134 0.084 0.054 0.033 0.021 0.013 0.008   \n",
       "4   0.972 0.785 0.642 0.477 0.359 0.253 0.181 0.123 0.086 0.057 0.039 0.026   \n",
       "5   0.990 0.890 0.769 0.638 0.506 0.397 0.297 0.224 0.162 0.118 0.083 0.059   \n",
       "6   0.997 0.934 0.857 0.745 0.638 0.521 0.423 0.329 0.258 0.193 0.147 0.107   \n",
       "7   0.999 0.967 0.910 0.834 0.736 0.640 0.536 0.446 0.357 0.287 0.222 0.173   \n",
       "8   1.000 0.980 0.947 0.888 0.818 0.730 0.643 0.547 0.464 0.380 0.312 0.247   \n",
       "9   1.000 0.990 0.967 0.930 0.873 0.808 0.726 0.646 0.558 0.480 0.400 0.334   \n",
       "10  1.000 0.994 0.981 0.954 0.916 0.861 0.800 0.724 0.650 0.568 0.494 0.417   \n",
       "11  1.000 0.997 0.988 0.972 0.943 0.905 0.852 0.794 0.723 0.654 0.576 0.507   \n",
       "12  1.000 0.998 0.993 0.982 0.964 0.934 0.896 0.845 0.790 0.723 0.658 0.584   \n",
       "13  1.000 0.999 0.996 0.989 0.976 0.956 0.925 0.889 0.839 0.787 0.723 0.661   \n",
       "14  1.000 1.000 0.998 0.993 0.985 0.970 0.949 0.918 0.882 0.835 0.784 0.724   \n",
       "15  1.000 1.000 0.999 0.996 0.990 0.981 0.964 0.943 0.912 0.877 0.831 0.783   \n",
       "16  1.000 1.000 0.999 0.998 0.994 0.987 0.976 0.959 0.938 0.907 0.872 0.828   \n",
       "17  1.000 1.000 1.000 0.999 0.996 0.992 0.984 0.972 0.955 0.933 0.902 0.869   \n",
       "18  1.000 1.000 1.000 0.999 0.998 0.995 0.989 0.981 0.969 0.950 0.928 0.898   \n",
       "19  1.000 1.000 1.000 0.999 0.999 0.997 0.993 0.987 0.978 0.965 0.946 0.925   \n",
       "20  1.000 1.000 1.000 1.000 0.999 0.998 0.995 0.991 0.985 0.975 0.962 0.943   \n",
       "\n",
       "def    13    14    15    16    17    18    19    20  \n",
       "att                                                  \n",
       "1   0.000 0.000 0.000 0.000 0.000 0.000 0.000 0.000  \n",
       "2   0.000 0.000 0.000 0.000 0.000 0.000 0.000 0.000  \n",
       "3   0.005 0.003 0.002 0.001 0.001 0.000 0.000 0.000  \n",
       "4   0.017 0.011 0.007 0.005 0.003 0.002 0.001 0.001  \n",
       "5   0.041 0.029 0.019 0.014 0.009 0.006 0.004 0.003  \n",
       "6   0.080 0.057 0.041 0.029 0.021 0.014 0.010 0.007  \n",
       "7   0.130 0.100 0.073 0.055 0.040 0.029 0.021 0.015  \n",
       "8   0.197 0.152 0.119 0.090 0.069 0.051 0.038 0.028  \n",
       "9   0.270 0.219 0.173 0.138 0.106 0.083 0.062 0.048  \n",
       "10  0.353 0.290 0.240 0.192 0.155 0.122 0.097 0.074  \n",
       "11  0.433 0.371 0.309 0.259 0.210 0.173 0.137 0.111  \n",
       "12  0.518 0.448 0.387 0.326 0.276 0.228 0.189 0.152  \n",
       "13  0.592 0.528 0.461 0.402 0.342 0.293 0.244 0.205  \n",
       "14  0.665 0.599 0.538 0.473 0.416 0.357 0.308 0.259  \n",
       "15  0.725 0.669 0.605 0.547 0.484 0.428 0.371 0.323  \n",
       "16  0.782 0.726 0.672 0.611 0.555 0.494 0.440 0.384  \n",
       "17  0.826 0.781 0.728 0.676 0.617 0.563 0.504 0.451  \n",
       "18  0.865 0.824 0.781 0.729 0.680 0.623 0.570 0.513  \n",
       "19  0.895 0.863 0.822 0.781 0.731 0.683 0.628 0.577  \n",
       "20  0.921 0.892 0.860 0.821 0.781 0.733 0.686 0.633  "
      ]
     },
     "execution_count": 60,
     "metadata": {},
     "output_type": "execute_result"
    }
   ],
   "source": [
    "prob_table = df.pivot(index='att', columns='def', values='prob_att_wins')\n",
    "prob_table"
   ]
  },
  {
   "cell_type": "markdown",
   "metadata": {},
   "source": [
    "### Some Charts\n",
    "\n",
    "Rather than use a table, let's create some visualiztions of the results to get some more intuition.\n",
    "\n",
    "#### Heatmap\n",
    "\n",
    "Here's a [heatmap](https://en.wikipedia.org/wiki/Heat_map) of the battle probabilities. Stronger red means higher probability that the attacker wins, while stronger blue means the defender has the advantage."
   ]
  },
  {
   "cell_type": "code",
   "execution_count": 61,
   "metadata": {},
   "outputs": [
    {
     "data": {
      "image/png": "[encoded data removed]",
      "text/plain": [
       "<matplotlib.figure.Figure at 0x1a0fe16f98>"
      ]
     },
     "metadata": {},
     "output_type": "display_data"
    }
   ],
   "source": [
    "fig, ax = plt.subplots(figsize=(16, 12))\n",
    "sns.heatmap(prob_table, square=True, annot=True, center=0.5, cmap='coolwarm', fmt='.2f', ax=ax)\n",
    "plt.show()"
   ]
  },
  {
   "cell_type": "markdown",
   "metadata": {},
   "source": [
    "You can see that for small battles, you need to have more attackers than defenders to have better than 50-50 odds in _Risk_. This is because the defender wins on ties.\n",
    "\n",
    "After the attacker has 5 armies, however, the attacker has better than even odds with an equal number of armies. This is because the attacker can roll 3 dice, while the defender can roll only 2.\n",
    "\n",
    "#### Battle Win Probabilities by Matchup\n",
    "\n",
    "Another way to look at the results is to plot the win probabilities of various matchups. Here's a plot."
   ]
  },
  {
   "cell_type": "code",
   "execution_count": 62,
   "metadata": {},
   "outputs": [],
   "source": [
    "prob_curves = df[df['def'].isin([1, 2, 3, 4, 5, 10, 15, 20])].pivot(\n",
    "    index='att',\n",
    "    columns='def',\n",
    "    values='prob_att_wins'\n",
    ")\n",
    "prob_curves.columns.name = 'defenders'\n",
    "prob_curves.index.name = 'attackers'"
   ]
  },
  {
   "cell_type": "code",
   "execution_count": 63,
   "metadata": {},
   "outputs": [
    {
     "data": {
      "image/png": "[encoded data removed]",
      "text/plain": [
       "<matplotlib.figure.Figure at 0x1a18390208>"
      ]
     },
     "metadata": {},
     "output_type": "display_data"
    }
   ],
   "source": [
    "fig, ax = plt.subplots(figsize=(9, 6))\n",
    "ax = prob_curves.plot.line(\n",
    "    ax=ax,\n",
    "    xticks=prob_curves.index,\n",
    ")\n",
    "ax.set_ylabel('battle win probability')\n",
    "plt.show()"
   ]
  },
  {
   "cell_type": "markdown",
   "metadata": {},
   "source": [
    "This plot is interesting. You can see how the slope of the probability curves change as the number of attackers increases. When the number of attackers equals the number of defenders, the curves look like relatively straight lines. When the number of attackers is much less than the number of defenders, the curves start off more horizontal, then start sloping up steeply. Of course, when the number of attackers is much larger than the number of defenders, the attacker is almost certain to win the battle. This means that the probability curve has to be pretty close to horizontal near the value 1.\n",
    "\n",
    "#### Battle Win Probabilities by Attacker Advantage\n",
    "\n",
    "Here's another interesting way to visualize the _Risk_ battle probabilities. Let's call how many more armies the attacker has than the defender the _attacker advantage_. We can look at how much the attacker advantage impacts the battle win probability, as we vary the number of attacker armies.\n",
    "\n",
    "First, let's define a small function to extract the win probabilities for a given attacker advantage, and return them as a column. Notice that in our original table of win probabilities, the values with constant attacker advantage are on the _diagonal_ going down and to the right. The values with attacker advantage of 1 are, for example, (2, 1), (3, 2), (4, 3) and so on."
   ]
  },
  {
   "cell_type": "code",
   "execution_count": 64,
   "metadata": {},
   "outputs": [],
   "source": [
    "def att_prob_by_advantage(df, n):\n",
    "    return (\n",
    "        df.loc[df['att'] - df['def'] == n, ['att', 'prob_att_wins']]\n",
    "        .rename(columns={'prob_att_wins': n})\n",
    "        .set_index('att')\n",
    "    )"
   ]
  },
  {
   "cell_type": "markdown",
   "metadata": {},
   "source": [
    "Now that we have this function, we can use it to create a new table lined up the way we need. Notice that this table has `nan` (meaning \"not-a-number' in `numpy` and `pandas`) for matchups that don't make sense. There's no way to have a 1-on-1 battle with an attacker advantage of 1, for example. Fortunately, `pandas` will ignore these `nan` values in making the plot."
   ]
  },
  {
   "cell_type": "code",
   "execution_count": 65,
   "metadata": {},
   "outputs": [
    {
     "data": {
      "text/html": [
       "<div>\n",
       "<style scoped>\n",
       "    .dataframe tbody tr th:only-of-type {\n",
       "        vertical-align: middle;\n",
       "    }\n",
       "\n",
       "    .dataframe tbody tr th {\n",
       "        vertical-align: top;\n",
       "    }\n",
       "\n",
       "    .dataframe thead th {\n",
       "        text-align: right;\n",
       "    }\n",
       "</style>\n",
       "<table border=\"1\" class=\"dataframe\">\n",
       "  <thead>\n",
       "    <tr style=\"text-align: right;\">\n",
       "      <th>attacker advantage</th>\n",
       "      <th>0</th>\n",
       "      <th>1</th>\n",
       "      <th>2</th>\n",
       "      <th>3</th>\n",
       "      <th>4</th>\n",
       "      <th>5</th>\n",
       "      <th>6</th>\n",
       "      <th>7</th>\n",
       "    </tr>\n",
       "    <tr>\n",
       "      <th>attackers</th>\n",
       "      <th></th>\n",
       "      <th></th>\n",
       "      <th></th>\n",
       "      <th></th>\n",
       "      <th></th>\n",
       "      <th></th>\n",
       "      <th></th>\n",
       "      <th></th>\n",
       "    </tr>\n",
       "  </thead>\n",
       "  <tbody>\n",
       "    <tr>\n",
       "      <th>1</th>\n",
       "      <td>0.417</td>\n",
       "      <td>nan</td>\n",
       "      <td>nan</td>\n",
       "      <td>nan</td>\n",
       "      <td>nan</td>\n",
       "      <td>nan</td>\n",
       "      <td>nan</td>\n",
       "      <td>nan</td>\n",
       "    </tr>\n",
       "    <tr>\n",
       "      <th>2</th>\n",
       "      <td>0.363</td>\n",
       "      <td>0.754</td>\n",
       "      <td>nan</td>\n",
       "      <td>nan</td>\n",
       "      <td>nan</td>\n",
       "      <td>nan</td>\n",
       "      <td>nan</td>\n",
       "      <td>nan</td>\n",
       "    </tr>\n",
       "    <tr>\n",
       "      <th>3</th>\n",
       "      <td>0.470</td>\n",
       "      <td>0.656</td>\n",
       "      <td>0.916</td>\n",
       "      <td>nan</td>\n",
       "      <td>nan</td>\n",
       "      <td>nan</td>\n",
       "      <td>nan</td>\n",
       "      <td>nan</td>\n",
       "    </tr>\n",
       "    <tr>\n",
       "      <th>4</th>\n",
       "      <td>0.477</td>\n",
       "      <td>0.642</td>\n",
       "      <td>0.785</td>\n",
       "      <td>0.972</td>\n",
       "      <td>nan</td>\n",
       "      <td>nan</td>\n",
       "      <td>nan</td>\n",
       "      <td>nan</td>\n",
       "    </tr>\n",
       "    <tr>\n",
       "      <th>5</th>\n",
       "      <td>0.506</td>\n",
       "      <td>0.638</td>\n",
       "      <td>0.769</td>\n",
       "      <td>0.890</td>\n",
       "      <td>0.990</td>\n",
       "      <td>nan</td>\n",
       "      <td>nan</td>\n",
       "      <td>nan</td>\n",
       "    </tr>\n",
       "    <tr>\n",
       "      <th>6</th>\n",
       "      <td>0.521</td>\n",
       "      <td>0.638</td>\n",
       "      <td>0.745</td>\n",
       "      <td>0.857</td>\n",
       "      <td>0.934</td>\n",
       "      <td>0.997</td>\n",
       "      <td>nan</td>\n",
       "      <td>nan</td>\n",
       "    </tr>\n",
       "    <tr>\n",
       "      <th>7</th>\n",
       "      <td>0.536</td>\n",
       "      <td>0.640</td>\n",
       "      <td>0.736</td>\n",
       "      <td>0.834</td>\n",
       "      <td>0.910</td>\n",
       "      <td>0.967</td>\n",
       "      <td>0.999</td>\n",
       "      <td>nan</td>\n",
       "    </tr>\n",
       "    <tr>\n",
       "      <th>8</th>\n",
       "      <td>0.547</td>\n",
       "      <td>0.643</td>\n",
       "      <td>0.730</td>\n",
       "      <td>0.818</td>\n",
       "      <td>0.888</td>\n",
       "      <td>0.947</td>\n",
       "      <td>0.980</td>\n",
       "      <td>1.000</td>\n",
       "    </tr>\n",
       "    <tr>\n",
       "      <th>9</th>\n",
       "      <td>0.558</td>\n",
       "      <td>0.646</td>\n",
       "      <td>0.726</td>\n",
       "      <td>0.808</td>\n",
       "      <td>0.873</td>\n",
       "      <td>0.930</td>\n",
       "      <td>0.967</td>\n",
       "      <td>0.990</td>\n",
       "    </tr>\n",
       "    <tr>\n",
       "      <th>10</th>\n",
       "      <td>0.568</td>\n",
       "      <td>0.650</td>\n",
       "      <td>0.724</td>\n",
       "      <td>0.800</td>\n",
       "      <td>0.861</td>\n",
       "      <td>0.916</td>\n",
       "      <td>0.954</td>\n",
       "      <td>0.981</td>\n",
       "    </tr>\n",
       "    <tr>\n",
       "      <th>11</th>\n",
       "      <td>0.576</td>\n",
       "      <td>0.654</td>\n",
       "      <td>0.723</td>\n",
       "      <td>0.794</td>\n",
       "      <td>0.852</td>\n",
       "      <td>0.905</td>\n",
       "      <td>0.943</td>\n",
       "      <td>0.972</td>\n",
       "    </tr>\n",
       "    <tr>\n",
       "      <th>12</th>\n",
       "      <td>0.584</td>\n",
       "      <td>0.658</td>\n",
       "      <td>0.723</td>\n",
       "      <td>0.790</td>\n",
       "      <td>0.845</td>\n",
       "      <td>0.896</td>\n",
       "      <td>0.934</td>\n",
       "      <td>0.964</td>\n",
       "    </tr>\n",
       "    <tr>\n",
       "      <th>13</th>\n",
       "      <td>0.592</td>\n",
       "      <td>0.661</td>\n",
       "      <td>0.723</td>\n",
       "      <td>0.787</td>\n",
       "      <td>0.839</td>\n",
       "      <td>0.889</td>\n",
       "      <td>0.925</td>\n",
       "      <td>0.956</td>\n",
       "    </tr>\n",
       "    <tr>\n",
       "      <th>14</th>\n",
       "      <td>0.599</td>\n",
       "      <td>0.665</td>\n",
       "      <td>0.724</td>\n",
       "      <td>0.784</td>\n",
       "      <td>0.835</td>\n",
       "      <td>0.882</td>\n",
       "      <td>0.918</td>\n",
       "      <td>0.949</td>\n",
       "    </tr>\n",
       "    <tr>\n",
       "      <th>15</th>\n",
       "      <td>0.605</td>\n",
       "      <td>0.669</td>\n",
       "      <td>0.725</td>\n",
       "      <td>0.783</td>\n",
       "      <td>0.831</td>\n",
       "      <td>0.877</td>\n",
       "      <td>0.912</td>\n",
       "      <td>0.943</td>\n",
       "    </tr>\n",
       "    <tr>\n",
       "      <th>16</th>\n",
       "      <td>0.611</td>\n",
       "      <td>0.672</td>\n",
       "      <td>0.726</td>\n",
       "      <td>0.782</td>\n",
       "      <td>0.828</td>\n",
       "      <td>0.872</td>\n",
       "      <td>0.907</td>\n",
       "      <td>0.938</td>\n",
       "    </tr>\n",
       "    <tr>\n",
       "      <th>17</th>\n",
       "      <td>0.617</td>\n",
       "      <td>0.676</td>\n",
       "      <td>0.728</td>\n",
       "      <td>0.781</td>\n",
       "      <td>0.826</td>\n",
       "      <td>0.869</td>\n",
       "      <td>0.902</td>\n",
       "      <td>0.933</td>\n",
       "    </tr>\n",
       "    <tr>\n",
       "      <th>18</th>\n",
       "      <td>0.623</td>\n",
       "      <td>0.680</td>\n",
       "      <td>0.729</td>\n",
       "      <td>0.781</td>\n",
       "      <td>0.824</td>\n",
       "      <td>0.865</td>\n",
       "      <td>0.898</td>\n",
       "      <td>0.928</td>\n",
       "    </tr>\n",
       "    <tr>\n",
       "      <th>19</th>\n",
       "      <td>0.628</td>\n",
       "      <td>0.683</td>\n",
       "      <td>0.731</td>\n",
       "      <td>0.781</td>\n",
       "      <td>0.822</td>\n",
       "      <td>0.863</td>\n",
       "      <td>0.895</td>\n",
       "      <td>0.925</td>\n",
       "    </tr>\n",
       "    <tr>\n",
       "      <th>20</th>\n",
       "      <td>0.633</td>\n",
       "      <td>0.686</td>\n",
       "      <td>0.733</td>\n",
       "      <td>0.781</td>\n",
       "      <td>0.821</td>\n",
       "      <td>0.860</td>\n",
       "      <td>0.892</td>\n",
       "      <td>0.921</td>\n",
       "    </tr>\n",
       "  </tbody>\n",
       "</table>\n",
       "</div>"
      ],
      "text/plain": [
       "attacker advantage     0     1     2     3     4     5     6     7\n",
       "attackers                                                         \n",
       "1                  0.417   nan   nan   nan   nan   nan   nan   nan\n",
       "2                  0.363 0.754   nan   nan   nan   nan   nan   nan\n",
       "3                  0.470 0.656 0.916   nan   nan   nan   nan   nan\n",
       "4                  0.477 0.642 0.785 0.972   nan   nan   nan   nan\n",
       "5                  0.506 0.638 0.769 0.890 0.990   nan   nan   nan\n",
       "6                  0.521 0.638 0.745 0.857 0.934 0.997   nan   nan\n",
       "7                  0.536 0.640 0.736 0.834 0.910 0.967 0.999   nan\n",
       "8                  0.547 0.643 0.730 0.818 0.888 0.947 0.980 1.000\n",
       "9                  0.558 0.646 0.726 0.808 0.873 0.930 0.967 0.990\n",
       "10                 0.568 0.650 0.724 0.800 0.861 0.916 0.954 0.981\n",
       "11                 0.576 0.654 0.723 0.794 0.852 0.905 0.943 0.972\n",
       "12                 0.584 0.658 0.723 0.790 0.845 0.896 0.934 0.964\n",
       "13                 0.592 0.661 0.723 0.787 0.839 0.889 0.925 0.956\n",
       "14                 0.599 0.665 0.724 0.784 0.835 0.882 0.918 0.949\n",
       "15                 0.605 0.669 0.725 0.783 0.831 0.877 0.912 0.943\n",
       "16                 0.611 0.672 0.726 0.782 0.828 0.872 0.907 0.938\n",
       "17                 0.617 0.676 0.728 0.781 0.826 0.869 0.902 0.933\n",
       "18                 0.623 0.680 0.729 0.781 0.824 0.865 0.898 0.928\n",
       "19                 0.628 0.683 0.731 0.781 0.822 0.863 0.895 0.925\n",
       "20                 0.633 0.686 0.733 0.781 0.821 0.860 0.892 0.921"
      ]
     },
     "execution_count": 65,
     "metadata": {},
     "output_type": "execute_result"
    }
   ],
   "source": [
    "prob_by_adv = pd.concat([att_prob_by_advantage(df, n) for n in range(0, 8)], axis='columns')\n",
    "prob_by_adv.columns.name = 'attacker advantage'\n",
    "prob_by_adv.index.name = 'attackers'\n",
    "prob_by_adv"
   ]
  },
  {
   "cell_type": "code",
   "execution_count": 66,
   "metadata": {},
   "outputs": [
    {
     "data": {
      "image/png": "[encoded data removed]",
      "text/plain": [
       "<matplotlib.figure.Figure at 0x1a189cfa58>"
      ]
     },
     "metadata": {},
     "output_type": "display_data"
    }
   ],
   "source": [
    "fig, ax = plt.subplots(figsize=(9, 6))\n",
    "ax = prob_by_adv.plot(ax=ax, xticks=prob_by_adv.index)\n",
    "ax.set_ylabel('battle win probability')\n",
    "plt.show()"
   ]
  },
  {
   "cell_type": "markdown",
   "metadata": {},
   "source": [
    "The bottommost (red) curve is for an attacker advantage of zero: the even-army matchup we already looked at. You can see how it exceeds 50% when the attacker has more than 5 armies. The line continues to rise slowly as the number of attacker armies increases.\n",
    "\n",
    "With a 1- or 2-army attacker advantage, the curves drop quickly and then become relativley flat around 65-75% win probability. For _Risk_ battles with more than 5 attacking armies and a 1- or 2-army defender advantage, you can just remember the rule of thumb that the attacker should win around 70% of the battles.\n",
    "\n",
    "It seems like the curves are gradually converging as the number of armies increase. Let's see what the values are for 100 attacking armies."
   ]
  },
  {
   "cell_type": "code",
   "execution_count": 67,
   "metadata": {},
   "outputs": [
    {
     "data": {
      "text/plain": [
       "0.8243628661249771"
      ]
     },
     "execution_count": 67,
     "metadata": {},
     "output_type": "execute_result"
    }
   ],
   "source": [
    "float(battle_outcomes((100, 100)).prob(attacker_wins))"
   ]
  },
  {
   "cell_type": "code",
   "execution_count": 68,
   "metadata": {},
   "outputs": [
    {
     "data": {
      "text/plain": [
       "0.9159633236885779"
      ]
     },
     "execution_count": 68,
     "metadata": {},
     "output_type": "execute_result"
    }
   ],
   "source": [
    "float(battle_outcomes((107, 100)).prob(attacker_wins))"
   ]
  },
  {
   "cell_type": "markdown",
   "metadata": {
    "collapsed": true
   },
   "source": [
    "So yes, the curves are closer together when the number of armies gets very large. The even-matchup curve is up over 80% win probabilty, while the curve for 7 attacker advantage is down to 91.5%, not much less than it is at 20 armies in the plot above.\n",
    "\n",
    "### Closing Thoughts\n",
    "\n",
    "For the larger attacker advantages in the plot above, the curves slope down over the entire range we examined here. This means that on a relative basis, your win probability is getting _worse_ as your throw more attackers into the battle. The analysis says you have better odds of success attacking 15-on-8 compared with 20-on-13.\n",
    "\n",
    "There's clearly more going on here than meets the eye. It turns out that win probability isn't the only way (or the best way) to analyze _Risk_, since it ignores how many armies the attacker can expect to have left over even if she wins. If you have a high probability of winning an attack, but will lose an enormous number of armies in the process, the attack might not make sense.\n",
    "\n",
    "We'll look at these issues in more detail in future posts."
   ]
  },
  {
   "cell_type": "code",
   "execution_count": null,
   "metadata": {},
   "outputs": [],
   "source": []
  }
 ],
 "metadata": {
  "kernelspec": {
   "display_name": "Python [conda env:sports_py36]",
   "language": "python",
   "name": "conda-env-sports_py36-py"
  },
  "language_info": {
   "codemirror_mode": {
    "name": "ipython",
    "version": 3
   },
   "file_extension": ".py",
   "mimetype": "text/x-python",
   "name": "python",
   "nbconvert_exporter": "python",
   "pygments_lexer": "ipython3",
   "version": "3.6.4"
  }
 },
 "nbformat": 4,
 "nbformat_minor": 2
}
