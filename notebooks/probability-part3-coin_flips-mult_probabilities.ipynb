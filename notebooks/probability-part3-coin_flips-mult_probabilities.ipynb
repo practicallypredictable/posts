{
 "cells": [
  {
   "cell_type": "markdown",
   "metadata": {},
   "source": [
    "## Probability\n",
    "\n",
    "### Coin Flips and Multiplication of Probabilities\n",
    "\n",
    "This notebook continues to explore probability distributions, this time using coin flips as examples. This notebook uses the `pracpred` package introduced in [the previous notebook on probability distributions](https://github.com/practicallypredictable/posts/blob/master/notebooks/probability-part2-distribution-dice.ipynb). If you haven't already installed this package in your sports analytics environment, the following Jupyter Notebook command will install it for you."
   ]
  },
  {
   "cell_type": "code",
   "execution_count": 1,
   "metadata": {},
   "outputs": [],
   "source": [
    "%%capture\n",
    "import sys\n",
    "!{sys.executable} -m pip install pracpred"
   ]
  },
  {
   "cell_type": "code",
   "execution_count": 2,
   "metadata": {},
   "outputs": [],
   "source": [
    "import pracpred.prob as ppp"
   ]
  },
  {
   "cell_type": "code",
   "execution_count": 3,
   "metadata": {},
   "outputs": [],
   "source": [
    "from collections import Counter, OrderedDict\n",
    "import numpy as np\n",
    "import pandas as pd\n",
    "pd.options.display.float_format = '{:.5e}'.format"
   ]
  },
  {
   "cell_type": "code",
   "execution_count": 4,
   "metadata": {},
   "outputs": [],
   "source": [
    "import matplotlib.pyplot as plt\n",
    "%matplotlib inline\n",
    "import seaborn as sns\n",
    "sns.set()\n",
    "sns.set_context('notebook')\n",
    "plt.style.use('ggplot')"
   ]
  },
  {
   "cell_type": "markdown",
   "metadata": {},
   "source": [
    "### Fair Coins\n",
    "\n",
    "A coin can land heads or tails, signified by H and T respectively. Here's a model of a fair coin."
   ]
  },
  {
   "cell_type": "code",
   "execution_count": 5,
   "metadata": {},
   "outputs": [
    {
     "name": "stdout",
     "output_type": "stream",
     "text": [
      "fair coin = {H: 1/2, T: 1/2}\n"
     ]
    }
   ],
   "source": [
    "fair_coin = ppp.ProbDist({'H', 'T'})\n",
    "fair_coin.name = 'fair coin'\n",
    "print(fair_coin)"
   ]
  },
  {
   "cell_type": "markdown",
   "metadata": {},
   "source": [
    "The probabilities of each outcome are automatically set to $\\frac 1 2$ since there are two outcomes. Each outcome is assumed to be equally probable if there is no other information.\n",
    "\n",
    "### Biased Coins\n",
    "\n",
    "However, if you want to represent a coin biased to land heads more often than tails, you can do that very easily. For example, here is a model of a coin with a $\\frac 5 9$ probability of landing heads."
   ]
  },
  {
   "cell_type": "code",
   "execution_count": 6,
   "metadata": {},
   "outputs": [
    {
     "name": "stdout",
     "output_type": "stream",
     "text": [
      "biased coin = {H: 5/9, T: 4/9}\n"
     ]
    }
   ],
   "source": [
    "biased_coin = ppp.ProbDist(H=5, T=4)\n",
    "biased_coin.name = 'biased coin'\n",
    "print(biased_coin)"
   ]
  },
  {
   "cell_type": "markdown",
   "metadata": {},
   "source": [
    "### Two Coin Flips\n",
    "\n",
    "If you flip the fair coin twice, there are four possible outcomes.  The four outcomes are HH, HT, TH and TT. Notice that HT is a different outcome from TH. In this framework, the order of the flips matters.\n",
    "\n",
    "\n",
    "We will assume as usual that the coin flips are [independent](https://en.wikipedia.org/wiki/Independence_(probability_theory), since there is no reason to believe that the first flip should physically affect the other. All the outcomes are still equally likely, so they should each have probability $\\frac 1 4$."
   ]
  },
  {
   "cell_type": "code",
   "execution_count": 7,
   "metadata": {},
   "outputs": [
    {
     "data": {
      "text/plain": [
       "ProbDist({'HH': Prob(1, 4), 'HT': Prob(1, 4), 'TH': Prob(1, 4), 'TT': Prob(1, 4)})"
      ]
     },
     "execution_count": 7,
     "metadata": {},
     "output_type": "execute_result"
    }
   ],
   "source": [
    "fair_coin + fair_coin"
   ]
  },
  {
   "cell_type": "markdown",
   "metadata": {},
   "source": [
    "Another way of thinking about this experiment is that we have two fair coins that we are going to flip at the same time, but we can tell them apart. Maybe the coins are of two different types, but they are both fair. Under this interpretation, HT is still different from TH. However, rather than ordering the flips, the first character represents coin 1 and the second character represents coin 2.\n",
    "\n",
    "Now suppose that coin 1 is fair, and coin 2 is biased. What is the distribution of the outcomes?\n",
    "\n",
    "The two coin flips are still assumed to be independent. There's no physical reason to think that the bias of coin 2 impacts the result of flipping coin 1. There are still four possible outcomes, but they aren't equally likely any more."
   ]
  },
  {
   "cell_type": "markdown",
   "metadata": {},
   "source": [
    "We can figure out the answer by using a simple [thought experiment](https://en.wikipedia.org/wiki/Thought_experiment).\n",
    "\n",
    "### Ping Pong Balls in a Box\n",
    "\n",
    "Imagine we are going to represent our outcomes as plain white ping pong balls.\n",
    "\n",
    "We want each ball to represent a possible outcome, but reflecting the correct probability that the outcome happens. How many balls do we need to have inside the box to represent our flip of the fair and biased coin?\n",
    "\n",
    "For the biased coin, the probability of heads is $\\frac 5 9$, so if we had 9 balls in the box, 5 of them would represent heads. If we had 18 balls in the box, 10 of them would represent heads of the biased coin.\n",
    "\n",
    "For the fair coin, in theory we only need 2 balls, of which one would represent heads. We can have more than 2 balls though. Any even number would do. Half would represent heads, and the other half would represent tails. Since 18 is an even number, 18 balls works for the fair coin as well. Of these 18 balls, 9 would represent heads of the fair coin.\n",
    "\n",
    "### Thought Experiment\n",
    "\n",
    "Here comes the thought experiment. We have 18 plain white ping pong balls. Paint 10 of them blue on one-half of the ball. These represent the heads of the biased coin. It doesn't matter which 10 plain white balls we pick for this step. The other 8 balls are still plain white.\n",
    "\n",
    "After the blue paint dries, take half of the plain white balls, and paint them red on one-half of the ball. That's 4 balls now half-red, with the other half white. Now take half of the 10 balls half-painted blue, and paint the other half of those balls red. That's 5 balls half-red, half blue.\n",
    "\n",
    "There are $9 = 5 + 4$ balls which have some red paint. These 9 balls represent the heads of the fair coin. Notice that since we took half of the 8 plain white balls and half of the 10 balls half-painted blue, it must be true that overall, half of the 18 balls have some red paint on them.\n",
    "\n",
    "After the paint dries, put the balls back inside a box that we can't see through. The event that both coins land heads is just the outcome that we pick a random ping pong ball out of the box and it comes up half-blue, half-red. How many balls (out of the 18 total balls) are painted this way? We already know the answer is 5.\n",
    "\n",
    "Picking ping pong balls at random out of a box is back in the world of equally probable outcomes. We assume that the paint color doesn't impact our random choice of ball since we can't see the paint and we can't tell the difference between the balls without looking at them.\n",
    "\n",
    "Since there are 5 half-blue, half-red ping poing balls, the probability of drawing one of those balls is $\\frac 5 {18}$. But, since drawing one of these ping pong balls also represents the outcome 'HH' for our coin flip experiment, that outcome must also have probability $\\frac 5 {18}$.\n",
    "\n",
    "### Multiplication Rule for Probabilty\n",
    "\n",
    "It may have been obvious all along, but the rule for independent events is just to multiply the probabilities of each event. If we have two independent events $A$ and $B$, which have respective probabilities $P(A)$ and $P(B)$, then the probability of the joint outcome $P(A \\cap B) = P(A) \\times P(B)$. Note that the match symbol $\\cap$ can be read \"and\" or \"intersection\".\n",
    "\n",
    "Here is a simple visualization for the fair and biased coin flips. The red area represents heads on the fair coin, and the blue area represents heads on the biased coin. The overlapping purple area is where both coins are heads. The unshaded area is where both coins are tails. If you change the coin probabilities, you can run the code below and it will adjust the shaded areas automatically."
   ]
  },
  {
   "cell_type": "code",
   "execution_count": 8,
   "metadata": {},
   "outputs": [],
   "source": [
    "def plot_coins(coin1, coin2):\n",
    "    fig, ax = plt.subplots(figsize=(6,6))\n",
    "    ax.set_aspect('equal')\n",
    "    ax.set_xlim(0, 1)\n",
    "    ax.set_ylim(0, 1)\n",
    "    coin1_heads = plt.Rectangle((0, 0), float(coin1['H']), 1, color='r', alpha=0.2)\n",
    "    coin2_heads = plt.Rectangle((0, 0), 1, float(coin2['H']), color='b', alpha=0.2)\n",
    "    ax.add_artist(coin1_heads)\n",
    "    ax.add_artist(coin2_heads)\n",
    "    ax.set_xlabel(f'{coin1.name}: red = P(heads)')\n",
    "    ax.set_ylabel(f'{coin2.name}: blue = P(heads)')\n",
    "    ax.set_title(f'flip both {coin1.name} and {coin2.name}: purple = P(both heads)')\n",
    "    start, end = ax.get_xlim()\n",
    "    plt.xticks(np.arange(0, 1.001, 0.1))\n",
    "    plt.yticks(np.arange(0, 1.001, 0.1))\n",
    "    plt.show()"
   ]
  },
  {
   "cell_type": "code",
   "execution_count": 9,
   "metadata": {},
   "outputs": [
    {
     "data": {
      "image/png": "[encoded data removed]",
      "text/plain": [
       "<matplotlib.figure.Figure at 0x11264de10>"
      ]
     },
     "metadata": {},
     "output_type": "display_data"
    }
   ],
   "source": [
    "plot_coins(fair_coin, biased_coin)"
   ]
  },
  {
   "cell_type": "markdown",
   "metadata": {},
   "source": [
    "To discover the multiplication rule, we assumed that the coin flips were independent events. It turns out there is a more general result that applies for dependent events as well, but we will set that aside for the time being.\n",
    "\n",
    "The `ProbDist` class can compute the joint probability of independent events automatically for you."
   ]
  },
  {
   "cell_type": "code",
   "execution_count": 10,
   "metadata": {},
   "outputs": [
    {
     "data": {
      "text/plain": [
       "ProbDist({'HH': Prob(5, 18), 'HT': Prob(2, 9), 'TH': Prob(5, 18), 'TT': Prob(2, 9)})"
      ]
     },
     "execution_count": 10,
     "metadata": {},
     "output_type": "execute_result"
    }
   ],
   "source": [
    "fair_coin + biased_coin"
   ]
  },
  {
   "cell_type": "markdown",
   "metadata": {},
   "source": [
    "### Playing with Biased Coins\n",
    "\n",
    "Now, let's pretend that we don't know which coin is biased or by how much, but we're told that one of them is biased. We don't have enough information to compute the probabilities of each outcome anymore. Even so, we can learn something interesting by grouping the HT and TH outcomes together."
   ]
  },
  {
   "cell_type": "code",
   "execution_count": 11,
   "metadata": {},
   "outputs": [],
   "source": [
    "def ignore_order(flips):\n",
    "    return ''.join(sorted(flips))"
   ]
  },
  {
   "cell_type": "code",
   "execution_count": 12,
   "metadata": {},
   "outputs": [
    {
     "data": {
      "text/plain": [
       "ProbDist({'HH': Prob(5, 18), 'HT': Prob(1, 2), 'TT': Prob(2, 9)})"
      ]
     },
     "execution_count": 12,
     "metadata": {},
     "output_type": "execute_result"
    }
   ],
   "source": [
    "(fair_coin + biased_coin).groupby(ignore_order)"
   ]
  },
  {
   "cell_type": "markdown",
   "metadata": {},
   "source": [
    "As long as we are sure one coin is fair, the outcome where one coin is heads and the other tails always has probability $\\frac 1 2$, even if we don't know which coin is which. The great mathematician [John von Neumann](https://en.wikipedia.org/wiki/John_von_Neumann) actually took this a step further to come up with a way to always get perfectly fair coin flips, even if you only have a biased coin.\n",
    "\n",
    "The procedure is simple. Just flip a biased coin twice, and only look at outcomes where one flip lands heads, and the other flip lands tails. If you get HH or TT, ignore the results and do two more flips until you get either HT or TH."
   ]
  },
  {
   "cell_type": "code",
   "execution_count": 13,
   "metadata": {},
   "outputs": [
    {
     "data": {
      "text/plain": [
       "ProbDist({'HH': Prob(25, 81), 'HT': Prob(20, 81), 'TH': Prob(20, 81), 'TT': Prob(16, 81)})"
      ]
     },
     "execution_count": 13,
     "metadata": {},
     "output_type": "execute_result"
    }
   ],
   "source": [
    "biased_coin.repeated(2)"
   ]
  },
  {
   "cell_type": "code",
   "execution_count": 14,
   "metadata": {},
   "outputs": [],
   "source": [
    "def different_flips(flip):\n",
    "    return len(set(flip)) > 1"
   ]
  },
  {
   "cell_type": "markdown",
   "metadata": {},
   "source": [
    "Now, just call HT \"heads\" and TH \"tails."
   ]
  },
  {
   "cell_type": "code",
   "execution_count": 15,
   "metadata": {},
   "outputs": [
    {
     "data": {
      "text/plain": [
       "ProbDist({'HT': Prob(1, 2), 'TH': Prob(1, 2)})"
      ]
     },
     "execution_count": 15,
     "metadata": {},
     "output_type": "execute_result"
    }
   ],
   "source": [
    "(biased_coin + biased_coin).such_that(different_flips)"
   ]
  },
  {
   "cell_type": "markdown",
   "metadata": {},
   "source": [
    "Even if your coin is very biased, this procedure still works."
   ]
  },
  {
   "cell_type": "code",
   "execution_count": 16,
   "metadata": {},
   "outputs": [],
   "source": [
    "very_biased_coin = ppp.ProbDist(H=0.9, T=0.1)\n",
    "very_biased_coin.name = 'very biased coin'"
   ]
  },
  {
   "cell_type": "code",
   "execution_count": 17,
   "metadata": {},
   "outputs": [
    {
     "data": {
      "text/plain": [
       "ProbDist({'HH': Prob(81, 100), 'HT': Prob(9, 100), 'TH': Prob(9, 100), 'TT': Prob(1, 100)})"
      ]
     },
     "execution_count": 17,
     "metadata": {},
     "output_type": "execute_result"
    }
   ],
   "source": [
    "very_biased_coin.repeated(2)"
   ]
  },
  {
   "cell_type": "code",
   "execution_count": 18,
   "metadata": {},
   "outputs": [
    {
     "data": {
      "text/plain": [
       "ProbDist({'HT': Prob(1, 2), 'TH': Prob(1, 2)})"
      ]
     },
     "execution_count": 18,
     "metadata": {},
     "output_type": "execute_result"
    }
   ],
   "source": [
    "very_biased_coin.repeated(2).such_that(different_flips)"
   ]
  },
  {
   "cell_type": "code",
   "execution_count": 19,
   "metadata": {},
   "outputs": [
    {
     "data": {
      "image/png": "[encoded data removed]",
      "text/plain": [
       "<matplotlib.figure.Figure at 0x118170d68>"
      ]
     },
     "metadata": {},
     "output_type": "display_data"
    }
   ],
   "source": [
    "plot_coins(very_biased_coin, biased_coin)"
   ]
  },
  {
   "cell_type": "markdown",
   "metadata": {},
   "source": [
    "The only problem is you might have to wait a while to get HT or TH, if your coin is very biased. In a later post, we'll see how to figure out how many flips you should expect to wait before you get HT or TH for biased coins.\n",
    "\n",
    "### Coin Flipping Experiment\n",
    "\n",
    "Let's finish up by showing how to generate random coin tosses from our fair and biased coins. We'll start by computing the theoretical probabilities we expect to get. Then we'll simulate thousands of results from the probability model and compare to the theoretical probabilities.\n",
    "\n",
    "Let's focus on the number of heads we get if we flip a coin 12 times."
   ]
  },
  {
   "cell_type": "code",
   "execution_count": 20,
   "metadata": {},
   "outputs": [],
   "source": [
    "FLIPS = 12"
   ]
  },
  {
   "cell_type": "code",
   "execution_count": 21,
   "metadata": {},
   "outputs": [
    {
     "data": {
      "text/plain": [
       "4096"
      ]
     },
     "execution_count": 21,
     "metadata": {},
     "output_type": "execute_result"
    }
   ],
   "source": [
    "len(fair_coin.repeated(FLIPS))"
   ]
  },
  {
   "cell_type": "markdown",
   "metadata": {},
   "source": [
    "There are 4096 possible outcomes for each experiment."
   ]
  },
  {
   "cell_type": "code",
   "execution_count": 22,
   "metadata": {},
   "outputs": [
    {
     "data": {
      "text/plain": [
       "[('TTTTTTTTTTTT', Prob(1, 4096)),\n",
       " ('TTTTTTTTTTTH', Prob(1, 4096)),\n",
       " ('TTTTTTTTTTHT', Prob(1, 4096)),\n",
       " ('TTTTTTTTTTHH', Prob(1, 4096)),\n",
       " ('TTTTTTTTTHTT', Prob(1, 4096)),\n",
       " ('TTTTTTTTTHTH', Prob(1, 4096)),\n",
       " ('TTTTTTTTTHHT', Prob(1, 4096)),\n",
       " ('TTTTTTTTTHHH', Prob(1, 4096)),\n",
       " ('TTTTTTTTHTTT', Prob(1, 4096)),\n",
       " ('TTTTTTTTHTTH', Prob(1, 4096))]"
      ]
     },
     "execution_count": 22,
     "metadata": {},
     "output_type": "execute_result"
    }
   ],
   "source": [
    "list(fair_coin.repeated(FLIPS).items())[:10]"
   ]
  },
  {
   "cell_type": "markdown",
   "metadata": {},
   "source": [
    "The flips are assumed to be independent. Also, we only care about the number of heads, not the order, so we can summarize the outcomes by number of heads."
   ]
  },
  {
   "cell_type": "code",
   "execution_count": 23,
   "metadata": {},
   "outputs": [],
   "source": [
    "def number_of_heads(flips):\n",
    "    return flips.count('H')"
   ]
  },
  {
   "cell_type": "code",
   "execution_count": 24,
   "metadata": {},
   "outputs": [
    {
     "name": "stdout",
     "output_type": "stream",
     "text": [
      "fair heads pmf = {0: 1/4096, 1: 3/1024, 2: 33/2048, 3: 55/1024, 4: 495/4096, 5: 99/512, 6: 231/1024, 7: 99/512, 8: 495/4096, 9: 55/1024, 10: 33/2048, 11: 3/1024, 12: 1/4096}\n"
     ]
    }
   ],
   "source": [
    "fair_heads_dist = fair_coin.repeated(FLIPS).groupby(number_of_heads)\n",
    "fair_heads_dist.name = 'fair heads pmf'\n",
    "print(fair_heads_dist)"
   ]
  },
  {
   "cell_type": "markdown",
   "metadata": {},
   "source": [
    "Summarizing by number of heads reduces the sample space to the numbers between 0 and 12. Let's compute the same probabilities for the biased and very biased coins."
   ]
  },
  {
   "cell_type": "code",
   "execution_count": 25,
   "metadata": {},
   "outputs": [],
   "source": [
    "biased_heads_dist = biased_coin.repeated(FLIPS).groupby(number_of_heads)\n",
    "biased_heads_dist.name = 'biased heads pmf'\n",
    "very_biased_heads_dist = very_biased_coin.repeated(FLIPS).groupby(number_of_heads)\n",
    "very_biased_heads_dist.name = 'very biased heads pmf'"
   ]
  },
  {
   "cell_type": "markdown",
   "metadata": {},
   "source": [
    "Let's look at the probability mass functions for each coin assuming we run the same experiment of 12 coin flips."
   ]
  },
  {
   "cell_type": "code",
   "execution_count": 26,
   "metadata": {},
   "outputs": [
    {
     "data": {
      "text/html": [
       "<div>\n",
       "<style scoped>\n",
       "    .dataframe tbody tr th:only-of-type {\n",
       "        vertical-align: middle;\n",
       "    }\n",
       "\n",
       "    .dataframe tbody tr th {\n",
       "        vertical-align: top;\n",
       "    }\n",
       "\n",
       "    .dataframe thead th {\n",
       "        text-align: right;\n",
       "    }\n",
       "</style>\n",
       "<table border=\"1\" class=\"dataframe\">\n",
       "  <thead>\n",
       "    <tr style=\"text-align: right;\">\n",
       "      <th></th>\n",
       "      <th>fair heads pmf</th>\n",
       "      <th>biased heads pmf</th>\n",
       "      <th>very biased heads pmf</th>\n",
       "    </tr>\n",
       "  </thead>\n",
       "  <tbody>\n",
       "    <tr>\n",
       "      <th>0</th>\n",
       "      <td>2.44141e-04</td>\n",
       "      <td>5.94032e-05</td>\n",
       "      <td>1.00000e-12</td>\n",
       "    </tr>\n",
       "    <tr>\n",
       "      <th>1</th>\n",
       "      <td>2.92969e-03</td>\n",
       "      <td>8.91048e-04</td>\n",
       "      <td>1.08000e-10</td>\n",
       "    </tr>\n",
       "    <tr>\n",
       "      <th>2</th>\n",
       "      <td>1.61133e-02</td>\n",
       "      <td>6.12595e-03</td>\n",
       "      <td>5.34600e-09</td>\n",
       "    </tr>\n",
       "    <tr>\n",
       "      <th>3</th>\n",
       "      <td>5.37109e-02</td>\n",
       "      <td>2.55248e-02</td>\n",
       "      <td>1.60380e-07</td>\n",
       "    </tr>\n",
       "    <tr>\n",
       "      <th>4</th>\n",
       "      <td>1.20850e-01</td>\n",
       "      <td>7.17885e-02</td>\n",
       "      <td>3.24769e-06</td>\n",
       "    </tr>\n",
       "    <tr>\n",
       "      <th>5</th>\n",
       "      <td>1.93359e-01</td>\n",
       "      <td>1.43577e-01</td>\n",
       "      <td>4.67668e-05</td>\n",
       "    </tr>\n",
       "    <tr>\n",
       "      <th>6</th>\n",
       "      <td>2.25586e-01</td>\n",
       "      <td>2.09383e-01</td>\n",
       "      <td>4.91051e-04</td>\n",
       "    </tr>\n",
       "    <tr>\n",
       "      <th>7</th>\n",
       "      <td>1.93359e-01</td>\n",
       "      <td>2.24339e-01</td>\n",
       "      <td>3.78811e-03</td>\n",
       "    </tr>\n",
       "    <tr>\n",
       "      <th>8</th>\n",
       "      <td>1.20850e-01</td>\n",
       "      <td>1.75265e-01</td>\n",
       "      <td>2.13081e-02</td>\n",
       "    </tr>\n",
       "    <tr>\n",
       "      <th>9</th>\n",
       "      <td>5.37109e-02</td>\n",
       "      <td>9.73694e-02</td>\n",
       "      <td>8.52325e-02</td>\n",
       "    </tr>\n",
       "    <tr>\n",
       "      <th>10</th>\n",
       "      <td>1.61133e-02</td>\n",
       "      <td>3.65135e-02</td>\n",
       "      <td>2.30128e-01</td>\n",
       "    </tr>\n",
       "    <tr>\n",
       "      <th>11</th>\n",
       "      <td>2.92969e-03</td>\n",
       "      <td>8.29853e-03</td>\n",
       "      <td>3.76573e-01</td>\n",
       "    </tr>\n",
       "    <tr>\n",
       "      <th>12</th>\n",
       "      <td>2.44141e-04</td>\n",
       "      <td>8.64430e-04</td>\n",
       "      <td>2.82430e-01</td>\n",
       "    </tr>\n",
       "  </tbody>\n",
       "</table>\n",
       "</div>"
      ],
      "text/plain": [
       "    fair heads pmf  biased heads pmf  very biased heads pmf\n",
       "0      2.44141e-04       5.94032e-05            1.00000e-12\n",
       "1      2.92969e-03       8.91048e-04            1.08000e-10\n",
       "2      1.61133e-02       6.12595e-03            5.34600e-09\n",
       "3      5.37109e-02       2.55248e-02            1.60380e-07\n",
       "4      1.20850e-01       7.17885e-02            3.24769e-06\n",
       "5      1.93359e-01       1.43577e-01            4.67668e-05\n",
       "6      2.25586e-01       2.09383e-01            4.91051e-04\n",
       "7      1.93359e-01       2.24339e-01            3.78811e-03\n",
       "8      1.20850e-01       1.75265e-01            2.13081e-02\n",
       "9      5.37109e-02       9.73694e-02            8.52325e-02\n",
       "10     1.61133e-02       3.65135e-02            2.30128e-01\n",
       "11     2.92969e-03       8.29853e-03            3.76573e-01\n",
       "12     2.44141e-04       8.64430e-04            2.82430e-01"
      ]
     },
     "execution_count": 26,
     "metadata": {},
     "output_type": "execute_result"
    }
   ],
   "source": [
    "pmf = pd.DataFrame(OrderedDict({\n",
    "    dist.name: [float(dist[i]) for i in range(FLIPS+1)] for dist in [\n",
    "        fair_heads_dist,\n",
    "        biased_heads_dist,\n",
    "        very_biased_heads_dist,\n",
    "    ]\n",
    "}))\n",
    "pmf"
   ]
  },
  {
   "cell_type": "markdown",
   "metadata": {},
   "source": [
    "Since we have some very small numbers for these probabilities, we're using [scientific notation](https://en.wikipedia.org/wiki/Scientific_notation) in the table so you can see all the numbers to equal precision. If we didn't use scientific notation, you'd see a lot of zeroes in the table for the very biased coin.\n",
    "\n",
    "As a check, let's make sure the PMFs all sum to one for each coin."
   ]
  },
  {
   "cell_type": "code",
   "execution_count": 27,
   "metadata": {},
   "outputs": [
    {
     "data": {
      "text/plain": [
       "fair heads pmf          1.00000e+00\n",
       "biased heads pmf        1.00000e+00\n",
       "very biased heads pmf   1.00000e+00\n",
       "dtype: float64"
      ]
     },
     "execution_count": 27,
     "metadata": {},
     "output_type": "execute_result"
    }
   ],
   "source": [
    "pmf.sum()"
   ]
  },
  {
   "cell_type": "markdown",
   "metadata": {},
   "source": [
    "### Visualizing the PMFs\n",
    "\n",
    "Let's plot these PMFs so we can visualize the differences between the coin outcomes."
   ]
  },
  {
   "cell_type": "code",
   "execution_count": 28,
   "metadata": {},
   "outputs": [],
   "source": [
    "x1, y1 = fair_heads_dist.zipped\n",
    "x2, y2 = biased_heads_dist.zipped\n",
    "x3, y3 = very_biased_heads_dist.zipped"
   ]
  },
  {
   "cell_type": "code",
   "execution_count": 29,
   "metadata": {},
   "outputs": [
    {
     "data": {
      "image/png": "[encoded data removed]",
      "text/plain": [
       "<matplotlib.figure.Figure at 0x1182afa90>"
      ]
     },
     "metadata": {},
     "output_type": "display_data"
    }
   ],
   "source": [
    "fig, ax = plt.subplots(figsize=(10,5))\n",
    "width = 5/len(x1)\n",
    "ax.bar([x-width/2 for x in x1], y1, width, alpha=0.5, label=fair_heads_dist.name)\n",
    "ax.bar([x for x in x2], y2, width, alpha=0.5, label=biased_heads_dist.name)\n",
    "ax.bar([x+width/2 for x in x3], y3, width, alpha=0.5, label=very_biased_heads_dist.name)\n",
    "ax.set_xticks(x1)\n",
    "ax.set_xlabel('number of heads')\n",
    "ax.set_ylabel('P(number of heads)')\n",
    "ax.set_title(f'distribution of {FLIPS} coin flips')\n",
    "ax.legend(loc='upper left')\n",
    "plt.show()"
   ]
  },
  {
   "cell_type": "markdown",
   "metadata": {},
   "source": [
    "The fair coin distribution is _symmetric_ but the biased coins are [_skewed_](https://en.wikipedia.org/wiki/Skewness) to the right. The very biased coin distribution is extremely skewed.\n",
    "\n",
    "### Simulating Coin Flips\n",
    "\n",
    "Now we will generate a simulation of random coin flips for each of the three coins.\n",
    "\n",
    "In a future post, we'll use this type of simluation to build a simple prediction model for tennis.\n",
    "\n",
    "Here's how to generate a random set of independent coin flips."
   ]
  },
  {
   "cell_type": "code",
   "execution_count": 30,
   "metadata": {},
   "outputs": [
    {
     "data": {
      "text/plain": [
       "['T', 'T', 'H', 'H', 'T', 'T', 'H', 'T', 'H', 'H', 'T', 'H']"
      ]
     },
     "execution_count": 30,
     "metadata": {},
     "output_type": "execute_result"
    }
   ],
   "source": [
    "flips = biased_coin.choices(FLIPS)\n",
    "flips"
   ]
  },
  {
   "cell_type": "markdown",
   "metadata": {},
   "source": [
    "Now we can generate a large number of trials (in this case, 10,000) for each experiment. Again, the experiment is flipping the coin 12 times and counting up the number of heads."
   ]
  },
  {
   "cell_type": "code",
   "execution_count": 31,
   "metadata": {},
   "outputs": [],
   "source": [
    "def flip(coin, summarize, per_trial, trials):\n",
    "    return [summarize(coin.choices(per_trial)) for _ in range(trials)]"
   ]
  },
  {
   "cell_type": "code",
   "execution_count": 32,
   "metadata": {},
   "outputs": [],
   "source": [
    "TRIALS = 10_000"
   ]
  },
  {
   "cell_type": "code",
   "execution_count": 33,
   "metadata": {},
   "outputs": [
    {
     "data": {
      "text/plain": [
       "10000"
      ]
     },
     "execution_count": 33,
     "metadata": {},
     "output_type": "execute_result"
    }
   ],
   "source": [
    "fair_heads = flip(fair_coin, summarize=number_of_heads, per_trial=FLIPS, trials=TRIALS)\n",
    "len(fair_heads)"
   ]
  },
  {
   "cell_type": "markdown",
   "metadata": {},
   "source": [
    "The average number of heads per experiment is about 6, which is reasonable for a fair coin. Remember, this average is over 10,000 trials."
   ]
  },
  {
   "cell_type": "code",
   "execution_count": 34,
   "metadata": {},
   "outputs": [
    {
     "data": {
      "text/plain": [
       "6.0096"
      ]
     },
     "execution_count": 34,
     "metadata": {},
     "output_type": "execute_result"
    }
   ],
   "source": [
    "sum(fair_heads)/len(fair_heads)"
   ]
  },
  {
   "cell_type": "markdown",
   "metadata": {},
   "source": [
    "Now let's do the same thing for the biased and very biased coins."
   ]
  },
  {
   "cell_type": "code",
   "execution_count": 35,
   "metadata": {},
   "outputs": [],
   "source": [
    "biased_heads = flip(biased_coin, summarize=number_of_heads, per_trial=FLIPS, trials=TRIALS)\n",
    "very_biased_heads = flip(very_biased_coin, summarize=number_of_heads, per_trial=FLIPS, trials=TRIALS)"
   ]
  },
  {
   "cell_type": "code",
   "execution_count": 36,
   "metadata": {},
   "outputs": [
    {
     "data": {
      "text/plain": [
       "6.6556"
      ]
     },
     "execution_count": 36,
     "metadata": {},
     "output_type": "execute_result"
    }
   ],
   "source": [
    "sum(biased_heads)/len(biased_heads)"
   ]
  },
  {
   "cell_type": "code",
   "execution_count": 37,
   "metadata": {},
   "outputs": [
    {
     "data": {
      "text/plain": [
       "10.7899"
      ]
     },
     "execution_count": 37,
     "metadata": {},
     "output_type": "execute_result"
    }
   ],
   "source": [
    "sum(very_biased_heads)/len(very_biased_heads)"
   ]
  },
  {
   "cell_type": "markdown",
   "metadata": {},
   "source": [
    "The average number of heads for the biased coin is higher than 6, but still relatively close. The average for the very biased coin is almost 11.\n",
    "\n",
    "Now let's build a table of the frequency of all the outcomes for each coin experiment. The frequency is just the count of each outcome (number of heads) divided by the total number of trials."
   ]
  },
  {
   "cell_type": "code",
   "execution_count": 38,
   "metadata": {},
   "outputs": [],
   "source": [
    "def frequency(outcomes, force_len=None):\n",
    "    c = Counter(outcomes)\n",
    "    if force_len:\n",
    "        for i in range(force_len+1):\n",
    "            if i not in c:\n",
    "                c[i] = 0\n",
    "    return {n: x/sum(c.values()) for (n, x)  in c.items()}"
   ]
  },
  {
   "cell_type": "code",
   "execution_count": 39,
   "metadata": {},
   "outputs": [],
   "source": [
    "EXPERIMENT = {\n",
    "    'fair freq': fair_heads,\n",
    "    'biased freq': biased_heads,\n",
    "    'very biased freq': very_biased_heads,\n",
    "}"
   ]
  },
  {
   "cell_type": "code",
   "execution_count": 40,
   "metadata": {},
   "outputs": [
    {
     "data": {
      "text/html": [
       "<div>\n",
       "<style scoped>\n",
       "    .dataframe tbody tr th:only-of-type {\n",
       "        vertical-align: middle;\n",
       "    }\n",
       "\n",
       "    .dataframe tbody tr th {\n",
       "        vertical-align: top;\n",
       "    }\n",
       "\n",
       "    .dataframe thead th {\n",
       "        text-align: right;\n",
       "    }\n",
       "</style>\n",
       "<table border=\"1\" class=\"dataframe\">\n",
       "  <thead>\n",
       "    <tr style=\"text-align: right;\">\n",
       "      <th></th>\n",
       "      <th>fair freq</th>\n",
       "      <th>biased freq</th>\n",
       "      <th>very biased freq</th>\n",
       "    </tr>\n",
       "  </thead>\n",
       "  <tbody>\n",
       "    <tr>\n",
       "      <th>0</th>\n",
       "      <td>2.00000e-04</td>\n",
       "      <td>0.00000e+00</td>\n",
       "      <td>0.00000e+00</td>\n",
       "    </tr>\n",
       "    <tr>\n",
       "      <th>1</th>\n",
       "      <td>3.20000e-03</td>\n",
       "      <td>6.00000e-04</td>\n",
       "      <td>0.00000e+00</td>\n",
       "    </tr>\n",
       "    <tr>\n",
       "      <th>2</th>\n",
       "      <td>1.50000e-02</td>\n",
       "      <td>5.90000e-03</td>\n",
       "      <td>0.00000e+00</td>\n",
       "    </tr>\n",
       "    <tr>\n",
       "      <th>3</th>\n",
       "      <td>5.51000e-02</td>\n",
       "      <td>2.48000e-02</td>\n",
       "      <td>0.00000e+00</td>\n",
       "    </tr>\n",
       "    <tr>\n",
       "      <th>4</th>\n",
       "      <td>1.15500e-01</td>\n",
       "      <td>7.07000e-02</td>\n",
       "      <td>0.00000e+00</td>\n",
       "    </tr>\n",
       "    <tr>\n",
       "      <th>5</th>\n",
       "      <td>1.89700e-01</td>\n",
       "      <td>1.43000e-01</td>\n",
       "      <td>0.00000e+00</td>\n",
       "    </tr>\n",
       "    <tr>\n",
       "      <th>6</th>\n",
       "      <td>2.33100e-01</td>\n",
       "      <td>2.18600e-01</td>\n",
       "      <td>1.00000e-03</td>\n",
       "    </tr>\n",
       "    <tr>\n",
       "      <th>7</th>\n",
       "      <td>1.94700e-01</td>\n",
       "      <td>2.24200e-01</td>\n",
       "      <td>3.10000e-03</td>\n",
       "    </tr>\n",
       "    <tr>\n",
       "      <th>8</th>\n",
       "      <td>1.22600e-01</td>\n",
       "      <td>1.73800e-01</td>\n",
       "      <td>2.20000e-02</td>\n",
       "    </tr>\n",
       "    <tr>\n",
       "      <th>9</th>\n",
       "      <td>5.37000e-02</td>\n",
       "      <td>9.47000e-02</td>\n",
       "      <td>8.81000e-02</td>\n",
       "    </tr>\n",
       "    <tr>\n",
       "      <th>10</th>\n",
       "      <td>1.46000e-02</td>\n",
       "      <td>3.51000e-02</td>\n",
       "      <td>2.32000e-01</td>\n",
       "    </tr>\n",
       "    <tr>\n",
       "      <th>11</th>\n",
       "      <td>2.20000e-03</td>\n",
       "      <td>6.90000e-03</td>\n",
       "      <td>3.72300e-01</td>\n",
       "    </tr>\n",
       "    <tr>\n",
       "      <th>12</th>\n",
       "      <td>4.00000e-04</td>\n",
       "      <td>1.70000e-03</td>\n",
       "      <td>2.81500e-01</td>\n",
       "    </tr>\n",
       "  </tbody>\n",
       "</table>\n",
       "</div>"
      ],
      "text/plain": [
       "     fair freq  biased freq  very biased freq\n",
       "0  2.00000e-04  0.00000e+00       0.00000e+00\n",
       "1  3.20000e-03  6.00000e-04       0.00000e+00\n",
       "2  1.50000e-02  5.90000e-03       0.00000e+00\n",
       "3  5.51000e-02  2.48000e-02       0.00000e+00\n",
       "4  1.15500e-01  7.07000e-02       0.00000e+00\n",
       "5  1.89700e-01  1.43000e-01       0.00000e+00\n",
       "6  2.33100e-01  2.18600e-01       1.00000e-03\n",
       "7  1.94700e-01  2.24200e-01       3.10000e-03\n",
       "8  1.22600e-01  1.73800e-01       2.20000e-02\n",
       "9  5.37000e-02  9.47000e-02       8.81000e-02\n",
       "10 1.46000e-02  3.51000e-02       2.32000e-01\n",
       "11 2.20000e-03  6.90000e-03       3.72300e-01\n",
       "12 4.00000e-04  1.70000e-03       2.81500e-01"
      ]
     },
     "execution_count": 40,
     "metadata": {},
     "output_type": "execute_result"
    }
   ],
   "source": [
    "freq = pd.DataFrame(OrderedDict({\n",
    "    outcomes: frequency(EXPERIMENT[outcomes], force_len=FLIPS) for outcomes in EXPERIMENT\n",
    "}))\n",
    "freq"
   ]
  },
  {
   "cell_type": "markdown",
   "metadata": {},
   "source": [
    "The sum of the frequencys had also better be 1, since we divided all the counts by the number of trials."
   ]
  },
  {
   "cell_type": "code",
   "execution_count": 41,
   "metadata": {},
   "outputs": [
    {
     "data": {
      "text/plain": [
       "fair freq          1.00000e+00\n",
       "biased freq        1.00000e+00\n",
       "very biased freq   1.00000e+00\n",
       "dtype: float64"
      ]
     },
     "execution_count": 41,
     "metadata": {},
     "output_type": "execute_result"
    }
   ],
   "source": [
    "freq.sum()"
   ]
  },
  {
   "cell_type": "markdown",
   "metadata": {},
   "source": [
    "### Comparing the Frequencies and the Probabilities\n",
    "\n",
    "Lastly, we can put both the theoretical probabilities and observed frequencies for each coin flipping experiment in a table. Hopefull, the observed frequencies are reasonable compared to the theoretical probabilities."
   ]
  },
  {
   "cell_type": "code",
   "execution_count": 42,
   "metadata": {},
   "outputs": [
    {
     "data": {
      "text/html": [
       "<div>\n",
       "<style scoped>\n",
       "    .dataframe tbody tr th:only-of-type {\n",
       "        vertical-align: middle;\n",
       "    }\n",
       "\n",
       "    .dataframe tbody tr th {\n",
       "        vertical-align: top;\n",
       "    }\n",
       "\n",
       "    .dataframe thead th {\n",
       "        text-align: right;\n",
       "    }\n",
       "</style>\n",
       "<table border=\"1\" class=\"dataframe\">\n",
       "  <thead>\n",
       "    <tr style=\"text-align: right;\">\n",
       "      <th></th>\n",
       "      <th>biased freq</th>\n",
       "      <th>biased heads pmf</th>\n",
       "      <th>fair freq</th>\n",
       "      <th>fair heads pmf</th>\n",
       "      <th>very biased freq</th>\n",
       "      <th>very biased heads pmf</th>\n",
       "    </tr>\n",
       "  </thead>\n",
       "  <tbody>\n",
       "    <tr>\n",
       "      <th>0</th>\n",
       "      <td>0.00000e+00</td>\n",
       "      <td>5.94032e-05</td>\n",
       "      <td>2.00000e-04</td>\n",
       "      <td>2.44141e-04</td>\n",
       "      <td>0.00000e+00</td>\n",
       "      <td>1.00000e-12</td>\n",
       "    </tr>\n",
       "    <tr>\n",
       "      <th>1</th>\n",
       "      <td>6.00000e-04</td>\n",
       "      <td>8.91048e-04</td>\n",
       "      <td>3.20000e-03</td>\n",
       "      <td>2.92969e-03</td>\n",
       "      <td>0.00000e+00</td>\n",
       "      <td>1.08000e-10</td>\n",
       "    </tr>\n",
       "    <tr>\n",
       "      <th>2</th>\n",
       "      <td>5.90000e-03</td>\n",
       "      <td>6.12595e-03</td>\n",
       "      <td>1.50000e-02</td>\n",
       "      <td>1.61133e-02</td>\n",
       "      <td>0.00000e+00</td>\n",
       "      <td>5.34600e-09</td>\n",
       "    </tr>\n",
       "    <tr>\n",
       "      <th>3</th>\n",
       "      <td>2.48000e-02</td>\n",
       "      <td>2.55248e-02</td>\n",
       "      <td>5.51000e-02</td>\n",
       "      <td>5.37109e-02</td>\n",
       "      <td>0.00000e+00</td>\n",
       "      <td>1.60380e-07</td>\n",
       "    </tr>\n",
       "    <tr>\n",
       "      <th>4</th>\n",
       "      <td>7.07000e-02</td>\n",
       "      <td>7.17885e-02</td>\n",
       "      <td>1.15500e-01</td>\n",
       "      <td>1.20850e-01</td>\n",
       "      <td>0.00000e+00</td>\n",
       "      <td>3.24769e-06</td>\n",
       "    </tr>\n",
       "    <tr>\n",
       "      <th>5</th>\n",
       "      <td>1.43000e-01</td>\n",
       "      <td>1.43577e-01</td>\n",
       "      <td>1.89700e-01</td>\n",
       "      <td>1.93359e-01</td>\n",
       "      <td>0.00000e+00</td>\n",
       "      <td>4.67668e-05</td>\n",
       "    </tr>\n",
       "    <tr>\n",
       "      <th>6</th>\n",
       "      <td>2.18600e-01</td>\n",
       "      <td>2.09383e-01</td>\n",
       "      <td>2.33100e-01</td>\n",
       "      <td>2.25586e-01</td>\n",
       "      <td>1.00000e-03</td>\n",
       "      <td>4.91051e-04</td>\n",
       "    </tr>\n",
       "    <tr>\n",
       "      <th>7</th>\n",
       "      <td>2.24200e-01</td>\n",
       "      <td>2.24339e-01</td>\n",
       "      <td>1.94700e-01</td>\n",
       "      <td>1.93359e-01</td>\n",
       "      <td>3.10000e-03</td>\n",
       "      <td>3.78811e-03</td>\n",
       "    </tr>\n",
       "    <tr>\n",
       "      <th>8</th>\n",
       "      <td>1.73800e-01</td>\n",
       "      <td>1.75265e-01</td>\n",
       "      <td>1.22600e-01</td>\n",
       "      <td>1.20850e-01</td>\n",
       "      <td>2.20000e-02</td>\n",
       "      <td>2.13081e-02</td>\n",
       "    </tr>\n",
       "    <tr>\n",
       "      <th>9</th>\n",
       "      <td>9.47000e-02</td>\n",
       "      <td>9.73694e-02</td>\n",
       "      <td>5.37000e-02</td>\n",
       "      <td>5.37109e-02</td>\n",
       "      <td>8.81000e-02</td>\n",
       "      <td>8.52325e-02</td>\n",
       "    </tr>\n",
       "    <tr>\n",
       "      <th>10</th>\n",
       "      <td>3.51000e-02</td>\n",
       "      <td>3.65135e-02</td>\n",
       "      <td>1.46000e-02</td>\n",
       "      <td>1.61133e-02</td>\n",
       "      <td>2.32000e-01</td>\n",
       "      <td>2.30128e-01</td>\n",
       "    </tr>\n",
       "    <tr>\n",
       "      <th>11</th>\n",
       "      <td>6.90000e-03</td>\n",
       "      <td>8.29853e-03</td>\n",
       "      <td>2.20000e-03</td>\n",
       "      <td>2.92969e-03</td>\n",
       "      <td>3.72300e-01</td>\n",
       "      <td>3.76573e-01</td>\n",
       "    </tr>\n",
       "    <tr>\n",
       "      <th>12</th>\n",
       "      <td>1.70000e-03</td>\n",
       "      <td>8.64430e-04</td>\n",
       "      <td>4.00000e-04</td>\n",
       "      <td>2.44141e-04</td>\n",
       "      <td>2.81500e-01</td>\n",
       "      <td>2.82430e-01</td>\n",
       "    </tr>\n",
       "  </tbody>\n",
       "</table>\n",
       "</div>"
      ],
      "text/plain": [
       "    biased freq  biased heads pmf   fair freq  fair heads pmf  \\\n",
       "0   0.00000e+00       5.94032e-05 2.00000e-04     2.44141e-04   \n",
       "1   6.00000e-04       8.91048e-04 3.20000e-03     2.92969e-03   \n",
       "2   5.90000e-03       6.12595e-03 1.50000e-02     1.61133e-02   \n",
       "3   2.48000e-02       2.55248e-02 5.51000e-02     5.37109e-02   \n",
       "4   7.07000e-02       7.17885e-02 1.15500e-01     1.20850e-01   \n",
       "5   1.43000e-01       1.43577e-01 1.89700e-01     1.93359e-01   \n",
       "6   2.18600e-01       2.09383e-01 2.33100e-01     2.25586e-01   \n",
       "7   2.24200e-01       2.24339e-01 1.94700e-01     1.93359e-01   \n",
       "8   1.73800e-01       1.75265e-01 1.22600e-01     1.20850e-01   \n",
       "9   9.47000e-02       9.73694e-02 5.37000e-02     5.37109e-02   \n",
       "10  3.51000e-02       3.65135e-02 1.46000e-02     1.61133e-02   \n",
       "11  6.90000e-03       8.29853e-03 2.20000e-03     2.92969e-03   \n",
       "12  1.70000e-03       8.64430e-04 4.00000e-04     2.44141e-04   \n",
       "\n",
       "    very biased freq  very biased heads pmf  \n",
       "0        0.00000e+00            1.00000e-12  \n",
       "1        0.00000e+00            1.08000e-10  \n",
       "2        0.00000e+00            5.34600e-09  \n",
       "3        0.00000e+00            1.60380e-07  \n",
       "4        0.00000e+00            3.24769e-06  \n",
       "5        0.00000e+00            4.67668e-05  \n",
       "6        1.00000e-03            4.91051e-04  \n",
       "7        3.10000e-03            3.78811e-03  \n",
       "8        2.20000e-02            2.13081e-02  \n",
       "9        8.81000e-02            8.52325e-02  \n",
       "10       2.32000e-01            2.30128e-01  \n",
       "11       3.72300e-01            3.76573e-01  \n",
       "12       2.81500e-01            2.82430e-01  "
      ]
     },
     "execution_count": 42,
     "metadata": {},
     "output_type": "execute_result"
    }
   ],
   "source": [
    "df = freq.merge(pmf, left_index=True, right_index=True)\n",
    "cols = sorted(df.columns)\n",
    "df = df[cols]\n",
    "df"
   ]
  },
  {
   "cell_type": "markdown",
   "metadata": {},
   "source": [
    "The observed values look reasonable compared to the probabilities, so our code seems to be working. Of course, the observed frequencies don't exactly equal the probabilities. This is the beginning of thinking about statistics rather than probability. Statistics is about working with noisy, real-world observations and trying to make statements about probability. There's a lot more we can say about how much we expect our observed random coin flip frequencies can vary from the probabilities. But that will have to wait for a later post."
   ]
  },
  {
   "cell_type": "code",
   "execution_count": null,
   "metadata": {},
   "outputs": [],
   "source": []
  }
 ],
 "metadata": {
  "kernelspec": {
   "display_name": "Python [conda env:sports_py36]",
   "language": "python",
   "name": "conda-env-sports_py36-py"
  },
  "language_info": {
   "codemirror_mode": {
    "name": "ipython",
    "version": 3
   },
   "file_extension": ".py",
   "mimetype": "text/x-python",
   "name": "python",
   "nbconvert_exporter": "python",
   "pygments_lexer": "ipython3",
   "version": "3.6.4"
  }
 },
 "nbformat": 4,
 "nbformat_minor": 2
}
