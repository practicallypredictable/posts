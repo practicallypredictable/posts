{
 "cells": [
  {
   "cell_type": "markdown",
   "metadata": {},
   "source": [
    "## Tennis Game Markov Chain\n",
    "\n",
    "### Part 1: Basic Setup\n",
    "\n",
    "This short notebook is part of a series demonstrating how to model a tennis game using Python. For now, we are only going to represent the possible scores and points in one tennis, to count up the possible outcomes.\n",
    "\n",
    "Future notebooks will show how to incorporate propbability modeling directly in Python. We will also see how to model tiebreakers and sets. With those additions, we can model the possible outcomes of an entire tennis match.\n",
    "\n",
    "We will use the `networkx` package to represent the tennis game as a [graph](https://en.wikipedia.org/wiki/Graph_(discrete_mathematics). A graph is a very intuitive framework for visualizing and analyzing [Markov chains](https://en.wikipedia.org/wiki/Markov_chain)."
   ]
  },
  {
   "cell_type": "code",
   "execution_count": 1,
   "metadata": {},
   "outputs": [],
   "source": [
    "import networkx as nx"
   ]
  },
  {
   "cell_type": "code",
   "execution_count": 2,
   "metadata": {},
   "outputs": [],
   "source": [
    "import matplotlib.pyplot as plt\n",
    "%matplotlib inline"
   ]
  },
  {
   "cell_type": "code",
   "execution_count": 3,
   "metadata": {},
   "outputs": [],
   "source": [
    "from enum import Enum\n",
    "from pathlib import Path\n",
    "from collections import Counter"
   ]
  },
  {
   "cell_type": "code",
   "execution_count": 4,
   "metadata": {},
   "outputs": [],
   "source": [
    "PARENT_DIR = Path.cwd().parent\n",
    "IMAGES_DIR = PARENT_DIR / 'images'\n",
    "IMAGES_DIR.mkdir(exist_ok=True, parents=True)"
   ]
  },
  {
   "cell_type": "markdown",
   "metadata": {},
   "source": [
    "### Possible Scores in a Tennis Game\n",
    "\n",
    "Here is a simple Python `class` representing the possible scores in a game of tennis.\n",
    "\n",
    "The game is over when the server either holds (wins) or is broken (loses)."
   ]
  },
  {
   "cell_type": "code",
   "execution_count": 5,
   "metadata": {},
   "outputs": [],
   "source": [
    "class GameScore(Enum):\n",
    "    \"\"\"Possible scores of a tennis game.\"\"\"\n",
    "    LOVE_LOVE = '0-0'\n",
    "    FIFTEEN_LOVE = '15-0'\n",
    "    LOVE_FIFTEEN = '0-15'\n",
    "    THIRTY_LOVE = '30-0'\n",
    "    FIFTEEN_ALL = '15-15'\n",
    "    LOVE_THIRTY = '0-30'\n",
    "    FORTY_LOVE = '40-0'\n",
    "    THIRTY_FIFTEEN = '30-15'\n",
    "    FIFTEEN_THIRTY = '15-30'\n",
    "    LOVE_FORTY = '0-40'\n",
    "    FORTY_FIFTEEN = '40-15'\n",
    "    THIRTY_ALL = '30-30'\n",
    "    FIFTEEN_FORTY = '15-40'\n",
    "    FORTY_THIRTY = '40-30'\n",
    "    THIRTY_FORTY = '30-40'\n",
    "    DEUCE = 'deuce'\n",
    "    AD_IN = 'ad in'\n",
    "    AD_OUT = 'ad out'\n",
    "    HOLD = 'hold'\n",
    "    BREAK = 'break'\n",
    "    \n",
    "    @property\n",
    "    def as_tuple(self):\n",
    "        \"\"\"Score expressed as tuple of (server, returner) points won. Hold and break assumed to go via one deuce.\"\"\"\n",
    "        if self == GameScore.DEUCE:\n",
    "            return (3, 3)\n",
    "        elif self == GameScore.AD_IN:\n",
    "            return (4, 3)\n",
    "        elif self == GameScore.AD_OUT:\n",
    "            return (3, 4)\n",
    "        elif self == GameScore.HOLD:\n",
    "            return (5, 3)\n",
    "        elif self == GameScore.BREAK:\n",
    "            return (3, 5)\n",
    "        else:\n",
    "            s, r = self.value.split('-')\n",
    "            s = ['0', '15', '30', '40'].index(s)\n",
    "            r = ['0', '15', '30', '40'].index(r)\n",
    "            return (s, r)\n",
    "\n",
    "    @property\n",
    "    def server_points(self):\n",
    "        \"\"\"Number of points won by server prior to this point. Hold and break assumed to go via one deuce.\"\"\"\n",
    "        return self.as_tuple[0]\n",
    "    \n",
    "    @property\n",
    "    def returner_points(self):\n",
    "        \"\"\"Number of points won by returner prior to this point. Hold and break assumed to go via one deuce.\"\"\"\n",
    "        return self.as_tuple[1]\n",
    "    \n",
    "    @property\n",
    "    def points_played(self):\n",
    "        \"\"\"Number of points played prior to this point. Hold and break assumed to go via one deuce.\"\"\"\n",
    "        return sum(self.as_tuple)"
   ]
  },
  {
   "cell_type": "markdown",
   "metadata": {},
   "source": [
    "### Modeling a Tennis Game\n",
    "\n",
    "For our simple model of a tennis game, we need to be clear about two basic concepts. First, the score is the current state of the game. Second, a point is the process by which the score changes. Each distinct point has a starting score, and can wind up in two possible ending scores.\n",
    "\n",
    "In the language of graph theory, this means that the scores can be represented by the [_nodes_](https://en.wikipedia.org/wiki/Vertex_(graph_theory) (also called _vertices_) of the graph. The points will be represented by the [_edges_](https://en.wikipedia.org/wiki/Glossary_of_graph_theory_terms#edge) of the graph.\n",
    "\n",
    "Toward the end of this notebook is a figure visualizing the tennis game graph which should help make all of this clearer.\n",
    "\n",
    "We will represent a tennis game in a `class` using the `networkx` to handle all the details."
   ]
  },
  {
   "cell_type": "code",
   "execution_count": 6,
   "metadata": {},
   "outputs": [],
   "source": [
    "class TennisGame:\n",
    "    \"\"\"Markov chain model of a tennis game.\"\"\"\n",
    "    def __init__(self, p=0.5):\n",
    "        self._G = nx.MultiDiGraph()\n",
    "        self._add_nodes()\n",
    "        self._add_edges(p)\n",
    "        self._node_labels = {n: d['label'] for n, d in self._G.nodes(data=True)}\n",
    "        self._edge_labels = {(n1, n2): d['label'] for n1, n2, d in self._G.edges(data=True)}\n",
    "        self._pos = nx.get_node_attributes(self._G, 'pos')\n",
    "    \n",
    "    @property\n",
    "    def graph(self):\n",
    "        return self._G\n",
    "    \n",
    "    @property\n",
    "    def scores(self):\n",
    "        return self._G.nodes\n",
    "    \n",
    "    @property\n",
    "    def points(self):\n",
    "        return self._G.edges\n",
    "    \n",
    "    def score_sequences(self, start=GameScore.LOVE_LOVE, end=None):\n",
    "        \"\"\"All simple paths between a start node and an end node.\"\"\"\n",
    "        return (path for path in nx.all_simple_paths(\n",
    "            self._G,\n",
    "            source=start,\n",
    "            target=end,\n",
    "        ))\n",
    "    \n",
    "    def point_sequences(self, start=GameScore.LOVE_LOVE, end=None):\n",
    "        \"\"\"All simple paths between a start node and an end node, represented as edges.\"\"\"\n",
    "        return (list(nx.utils.pairwise(path)) for path in self.score_sequences(start, end))\n",
    "    \n",
    "    def draw(self, ax):\n",
    "        \"\"\"Draw graph of the game Markov chain.\"\"\"\n",
    "        nx.draw_networkx(\n",
    "            self._G, pos=self._pos, ax=ax,\n",
    "            node_size=1800,\n",
    "            node_color='yellow',\n",
    "            with_labels=False,\n",
    "            edgecolors='grey'\n",
    "        )\n",
    "        nodes = nx.draw_networkx_labels(\n",
    "            self._G, pos=self._pos, ax=ax,\n",
    "            labels=self._node_labels\n",
    "        )\n",
    "        edges = nx.draw_networkx_edge_labels(\n",
    "            self._G , pos=self._pos, ax=ax,\n",
    "            label_pos=0.33,\n",
    "            font_size=9,\n",
    "            edge_labels=self._edge_labels\n",
    "        )\n",
    "        return ax\n",
    "\n",
    "    def _add_nodes(self):\n",
    "        for score in GameScore:\n",
    "            self._G.add_node(\n",
    "                score,\n",
    "                label=score.value,\n",
    "                pos=(score.returner_points-score.server_points, score.points_played)\n",
    "            )\n",
    "\n",
    "    def _add_edges(self, p):\n",
    "        won_point_label = 'p'\n",
    "        lost_point_label = '1-p'\n",
    "\n",
    "        self._G.add_edge(\n",
    "            GameScore.LOVE_LOVE,\n",
    "            GameScore.FIFTEEN_LOVE,\n",
    "            prob=p,\n",
    "            label=won_point_label,\n",
    "        )\n",
    "        self._G.add_edge(\n",
    "            GameScore.LOVE_LOVE,\n",
    "            GameScore.LOVE_FIFTEEN,\n",
    "            prob=1-p,\n",
    "            label=lost_point_label,\n",
    "        )\n",
    "        self._G.add_edge(\n",
    "            GameScore.FIFTEEN_LOVE,\n",
    "            GameScore.THIRTY_LOVE,\n",
    "            prob=p,\n",
    "            label=won_point_label,\n",
    "        )\n",
    "        self._G.add_edge(\n",
    "            GameScore.FIFTEEN_LOVE,\n",
    "            GameScore.FIFTEEN_ALL,\n",
    "            prob=1-p,\n",
    "            label=lost_point_label,\n",
    "        )\n",
    "        self._G.add_edge(\n",
    "            GameScore.LOVE_FIFTEEN,\n",
    "            GameScore.FIFTEEN_ALL,\n",
    "            prob=p,\n",
    "            label=won_point_label,\n",
    "        )\n",
    "        self._G.add_edge(\n",
    "            GameScore.LOVE_FIFTEEN,\n",
    "            GameScore.LOVE_THIRTY,\n",
    "            prob=1-p,\n",
    "            label=lost_point_label,\n",
    "        )\n",
    "        self._G.add_edge(\n",
    "            GameScore.THIRTY_LOVE,\n",
    "            GameScore.FORTY_LOVE,\n",
    "            prob=p,\n",
    "            label=won_point_label,\n",
    "        )\n",
    "        self._G.add_edge(\n",
    "            GameScore.THIRTY_LOVE,\n",
    "            GameScore.THIRTY_FIFTEEN,\n",
    "            prob=1-p,\n",
    "            label=lost_point_label,\n",
    "        )\n",
    "        self._G.add_edge(\n",
    "            GameScore.FIFTEEN_ALL,\n",
    "            GameScore.THIRTY_FIFTEEN,\n",
    "            prob=p,\n",
    "            label=won_point_label,\n",
    "        )\n",
    "        self._G.add_edge(\n",
    "            GameScore.FIFTEEN_ALL,\n",
    "            GameScore.FIFTEEN_THIRTY,\n",
    "            prob=1-p,\n",
    "            label=lost_point_label,\n",
    "        )\n",
    "        self._G.add_edge(\n",
    "            GameScore.LOVE_THIRTY,\n",
    "            GameScore.FIFTEEN_THIRTY,\n",
    "            prob=p,\n",
    "            label=won_point_label,\n",
    "        )\n",
    "        self._G.add_edge(\n",
    "            GameScore.LOVE_THIRTY,\n",
    "            GameScore.LOVE_FORTY,\n",
    "            prob=1-p,\n",
    "            label=lost_point_label,\n",
    "        )\n",
    "        self._G.add_edge(\n",
    "            GameScore.FORTY_LOVE,\n",
    "            GameScore.HOLD,\n",
    "            prob=p,\n",
    "            label=won_point_label,\n",
    "        )\n",
    "        self._G.add_edge(\n",
    "            GameScore.FORTY_LOVE,\n",
    "            GameScore.FORTY_FIFTEEN,\n",
    "            prob=1-p,\n",
    "            label=lost_point_label,\n",
    "        )\n",
    "        self._G.add_edge(\n",
    "            GameScore.THIRTY_FIFTEEN,\n",
    "            GameScore.FORTY_FIFTEEN,\n",
    "            prob=p,\n",
    "            label=won_point_label,\n",
    "        )\n",
    "        self._G.add_edge(\n",
    "            GameScore.THIRTY_FIFTEEN,\n",
    "            GameScore.THIRTY_ALL,\n",
    "            prob=1-p,\n",
    "            label=lost_point_label,\n",
    "        )\n",
    "        self._G.add_edge(\n",
    "            GameScore.FIFTEEN_THIRTY,\n",
    "            GameScore.THIRTY_ALL,\n",
    "            prob=p,\n",
    "            label=won_point_label,\n",
    "        )\n",
    "        self._G.add_edge(\n",
    "            GameScore.FIFTEEN_THIRTY,\n",
    "            GameScore.FIFTEEN_FORTY,\n",
    "            prob=1-p,\n",
    "            label=lost_point_label,\n",
    "        )\n",
    "        self._G.add_edge(\n",
    "            GameScore.LOVE_FORTY,\n",
    "            GameScore.FIFTEEN_FORTY,\n",
    "            prob=p,\n",
    "            label=won_point_label,\n",
    "        )\n",
    "        self._G.add_edge(\n",
    "            GameScore.LOVE_FORTY,\n",
    "            GameScore.BREAK,\n",
    "            prob=1-p,\n",
    "            label=lost_point_label,\n",
    "        )\n",
    "        self._G.add_edge(\n",
    "            GameScore.FORTY_FIFTEEN,\n",
    "            GameScore.HOLD,\n",
    "            prob=p,\n",
    "            label=won_point_label,\n",
    "        )\n",
    "        self._G.add_edge(\n",
    "            GameScore.FORTY_FIFTEEN,\n",
    "            GameScore.FORTY_THIRTY,\n",
    "            prob=1-p,\n",
    "            label=lost_point_label,\n",
    "        )\n",
    "        self._G.add_edge(\n",
    "            GameScore.THIRTY_ALL,\n",
    "            GameScore.FORTY_THIRTY,\n",
    "            prob=p,\n",
    "            label=won_point_label,\n",
    "        )\n",
    "        self._G.add_edge(\n",
    "            GameScore.THIRTY_ALL,\n",
    "            GameScore.THIRTY_FORTY,\n",
    "            prob=1-p,\n",
    "            label=lost_point_label,\n",
    "        )\n",
    "        self._G.add_edge(\n",
    "            GameScore.FIFTEEN_FORTY,\n",
    "            GameScore.THIRTY_FORTY,\n",
    "            prob=p,\n",
    "            label=won_point_label,\n",
    "        )\n",
    "        self._G.add_edge(\n",
    "            GameScore.FIFTEEN_FORTY,\n",
    "            GameScore.BREAK,\n",
    "            prob=1-p,\n",
    "            label=lost_point_label,\n",
    "        )\n",
    "        self._G.add_edge(\n",
    "            GameScore.FORTY_THIRTY,\n",
    "            GameScore.HOLD,\n",
    "            prob=p,\n",
    "            label=won_point_label,\n",
    "        )\n",
    "        self._G.add_edge(\n",
    "            GameScore.FORTY_THIRTY,\n",
    "            GameScore.DEUCE,\n",
    "            prob=1-p,\n",
    "            label=lost_point_label,\n",
    "        )\n",
    "        self._G.add_edge(\n",
    "            GameScore.THIRTY_FORTY,\n",
    "            GameScore.DEUCE,\n",
    "            prob=p,\n",
    "            label=won_point_label,\n",
    "        )\n",
    "        self._G.add_edge(\n",
    "            GameScore.THIRTY_FORTY,\n",
    "            GameScore.BREAK,\n",
    "            prob=1-p,\n",
    "            label=lost_point_label,\n",
    "        )\n",
    "        self._G.add_edge(\n",
    "            GameScore.DEUCE,\n",
    "            GameScore.AD_IN,\n",
    "            prob=p,\n",
    "            label=won_point_label,\n",
    "        )\n",
    "        self._G.add_edge(\n",
    "            GameScore.DEUCE,\n",
    "            GameScore.AD_OUT,\n",
    "            prob=1-p,\n",
    "            label=lost_point_label,\n",
    "        )\n",
    "        self._G.add_edge(\n",
    "            GameScore.AD_IN,\n",
    "            GameScore.HOLD,\n",
    "            prob=p,\n",
    "            label=won_point_label,\n",
    "        )\n",
    "        self._G.add_edge(\n",
    "            GameScore.AD_IN,\n",
    "            GameScore.DEUCE,\n",
    "            prob=1-p,\n",
    "            label=lost_point_label,\n",
    "        )\n",
    "        self._G.add_edge(\n",
    "            GameScore.AD_OUT,\n",
    "            GameScore.DEUCE,\n",
    "            prob=p,\n",
    "            label=won_point_label,\n",
    "        )\n",
    "        self._G.add_edge(\n",
    "            GameScore.AD_OUT,\n",
    "            GameScore.BREAK,\n",
    "            prob=1-p,\n",
    "            label=lost_point_label,\n",
    "        )"
   ]
  },
  {
   "cell_type": "markdown",
   "metadata": {},
   "source": [
    "### The Results\n",
    "\n",
    "Although it took some work to set up the Python `class`, it will have benefits down the road. Now we can use the model to count possible outcomes and generate some nice figures.\n",
    "\n",
    "For this initial notebook, we will ignore any probability modeling."
   ]
  },
  {
   "cell_type": "code",
   "execution_count": 7,
   "metadata": {},
   "outputs": [],
   "source": [
    "game = TennisGame()"
   ]
  },
  {
   "cell_type": "markdown",
   "metadata": {},
   "source": [
    "There are 20 possible game scores."
   ]
  },
  {
   "cell_type": "code",
   "execution_count": 8,
   "metadata": {},
   "outputs": [
    {
     "data": {
      "text/plain": [
       "20"
      ]
     },
     "execution_count": 8,
     "metadata": {},
     "output_type": "execute_result"
    }
   ],
   "source": [
    "len(game.scores)"
   ]
  },
  {
   "cell_type": "markdown",
   "metadata": {},
   "source": [
    "The number of possible points exceeds the number of possible scores."
   ]
  },
  {
   "cell_type": "code",
   "execution_count": 9,
   "metadata": {},
   "outputs": [
    {
     "data": {
      "text/plain": [
       "36"
      ]
     },
     "execution_count": 9,
     "metadata": {},
     "output_type": "execute_result"
    }
   ],
   "source": [
    "len(game.points)"
   ]
  },
  {
   "cell_type": "markdown",
   "metadata": {},
   "source": [
    "Now let's visualize the graph."
   ]
  },
  {
   "cell_type": "code",
   "execution_count": 10,
   "metadata": {},
   "outputs": [
    {
     "data": {
      "image/png": "[encoded data removed]",
      "text/plain": [
       "<matplotlib.figure.Figure at 0x114846358>"
      ]
     },
     "metadata": {},
     "output_type": "display_data"
    }
   ],
   "source": [
    "fig, ax = plt.subplots(figsize=(16, 10))\n",
    "ax = game.draw(ax)\n",
    "limits = plt.axis('off')\n",
    "PNGFILE = IMAGES_DIR.joinpath('tennisgamechain.png')\n",
    "plt.savefig(str(PNGFILE))\n",
    "plt.show()"
   ]
  },
  {
   "cell_type": "markdown",
   "metadata": {},
   "source": [
    "You can see the probabilities of winning and losing the point displayed symbolically on each edge of the graph. In future notebooks, we will build up more complicated probabilities of winning and losing each point.\n",
    "\n",
    "Notice that in this graph framework, we are ignoring paths that cycle between deuce and ads. We will need to take account of that to get correct probability modeling in future notebooks. For now, we are going to focus only on _simple paths_ which don't have cycles.\n",
    "\n",
    "\n",
    "### Holds and Breaks\n",
    "\n",
    "Now, let's analyze the number of paths from the start of the game to either a hold or a break.\n",
    "\n",
    "The Python code can count that up for us very easily."
   ]
  },
  {
   "cell_type": "code",
   "execution_count": 11,
   "metadata": {},
   "outputs": [
    {
     "data": {
      "text/plain": [
       "35"
      ]
     },
     "execution_count": 11,
     "metadata": {},
     "output_type": "execute_result"
    }
   ],
   "source": [
    "holds = list(game.point_sequences(end=GameScore.HOLD))\n",
    "len(holds)"
   ]
  },
  {
   "cell_type": "code",
   "execution_count": 12,
   "metadata": {},
   "outputs": [
    {
     "data": {
      "text/plain": [
       "Counter({4: 1, 5: 4, 6: 10, 8: 20})"
      ]
     },
     "execution_count": 12,
     "metadata": {},
     "output_type": "execute_result"
    }
   ],
   "source": [
    "Counter([len(path) for path in holds])"
   ]
  },
  {
   "cell_type": "markdown",
   "metadata": {},
   "source": [
    "Of the 35 possible paths to hold, only 1 path has 4 points. That's the server holding to love."
   ]
  },
  {
   "cell_type": "code",
   "execution_count": 13,
   "metadata": {},
   "outputs": [
    {
     "data": {
      "text/plain": [
       "[[(<GameScore.LOVE_LOVE: '0-0'>, <GameScore.FIFTEEN_LOVE: '15-0'>),\n",
       "  (<GameScore.FIFTEEN_LOVE: '15-0'>, <GameScore.THIRTY_LOVE: '30-0'>),\n",
       "  (<GameScore.THIRTY_LOVE: '30-0'>, <GameScore.FORTY_LOVE: '40-0'>),\n",
       "  (<GameScore.FORTY_LOVE: '40-0'>, <GameScore.HOLD: 'hold'>)]]"
      ]
     },
     "execution_count": 13,
     "metadata": {},
     "output_type": "execute_result"
    }
   ],
   "source": [
    "[path for path in holds if len(path) == 4]"
   ]
  },
  {
   "cell_type": "markdown",
   "metadata": {},
   "source": [
    "There are 4 paths that have the server holding to 15."
   ]
  },
  {
   "cell_type": "code",
   "execution_count": 14,
   "metadata": {},
   "outputs": [
    {
     "data": {
      "text/plain": [
       "[[(<GameScore.LOVE_LOVE: '0-0'>, <GameScore.FIFTEEN_LOVE: '15-0'>),\n",
       "  (<GameScore.FIFTEEN_LOVE: '15-0'>, <GameScore.THIRTY_LOVE: '30-0'>),\n",
       "  (<GameScore.THIRTY_LOVE: '30-0'>, <GameScore.FORTY_LOVE: '40-0'>),\n",
       "  (<GameScore.FORTY_LOVE: '40-0'>, <GameScore.FORTY_FIFTEEN: '40-15'>),\n",
       "  (<GameScore.FORTY_FIFTEEN: '40-15'>, <GameScore.HOLD: 'hold'>)],\n",
       " [(<GameScore.LOVE_LOVE: '0-0'>, <GameScore.FIFTEEN_LOVE: '15-0'>),\n",
       "  (<GameScore.FIFTEEN_LOVE: '15-0'>, <GameScore.THIRTY_LOVE: '30-0'>),\n",
       "  (<GameScore.THIRTY_LOVE: '30-0'>, <GameScore.THIRTY_FIFTEEN: '30-15'>),\n",
       "  (<GameScore.THIRTY_FIFTEEN: '30-15'>, <GameScore.FORTY_FIFTEEN: '40-15'>),\n",
       "  (<GameScore.FORTY_FIFTEEN: '40-15'>, <GameScore.HOLD: 'hold'>)],\n",
       " [(<GameScore.LOVE_LOVE: '0-0'>, <GameScore.FIFTEEN_LOVE: '15-0'>),\n",
       "  (<GameScore.FIFTEEN_LOVE: '15-0'>, <GameScore.FIFTEEN_ALL: '15-15'>),\n",
       "  (<GameScore.FIFTEEN_ALL: '15-15'>, <GameScore.THIRTY_FIFTEEN: '30-15'>),\n",
       "  (<GameScore.THIRTY_FIFTEEN: '30-15'>, <GameScore.FORTY_FIFTEEN: '40-15'>),\n",
       "  (<GameScore.FORTY_FIFTEEN: '40-15'>, <GameScore.HOLD: 'hold'>)],\n",
       " [(<GameScore.LOVE_LOVE: '0-0'>, <GameScore.LOVE_FIFTEEN: '0-15'>),\n",
       "  (<GameScore.LOVE_FIFTEEN: '0-15'>, <GameScore.FIFTEEN_ALL: '15-15'>),\n",
       "  (<GameScore.FIFTEEN_ALL: '15-15'>, <GameScore.THIRTY_FIFTEEN: '30-15'>),\n",
       "  (<GameScore.THIRTY_FIFTEEN: '30-15'>, <GameScore.FORTY_FIFTEEN: '40-15'>),\n",
       "  (<GameScore.FORTY_FIFTEEN: '40-15'>, <GameScore.HOLD: 'hold'>)]]"
      ]
     },
     "execution_count": 14,
     "metadata": {},
     "output_type": "execute_result"
    }
   ],
   "source": [
    "[path for path in holds if len(path) == 5]"
   ]
  },
  {
   "cell_type": "markdown",
   "metadata": {},
   "source": [
    "We can see that the paths to a break have the same number of possible paths."
   ]
  },
  {
   "cell_type": "code",
   "execution_count": 15,
   "metadata": {},
   "outputs": [
    {
     "data": {
      "text/plain": [
       "35"
      ]
     },
     "execution_count": 15,
     "metadata": {},
     "output_type": "execute_result"
    }
   ],
   "source": [
    "breaks = list(game.point_sequences(end=GameScore.BREAK))\n",
    "len(breaks)"
   ]
  },
  {
   "cell_type": "code",
   "execution_count": 16,
   "metadata": {},
   "outputs": [
    {
     "data": {
      "text/plain": [
       "Counter({4: 1, 5: 4, 6: 10, 8: 20})"
      ]
     },
     "execution_count": 16,
     "metadata": {},
     "output_type": "execute_result"
    }
   ],
   "source": [
    "Counter([len(path) for path in breaks])"
   ]
  },
  {
   "cell_type": "code",
   "execution_count": null,
   "metadata": {},
   "outputs": [],
   "source": []
  }
 ],
 "metadata": {
  "kernelspec": {
   "display_name": "Python [conda env:sports_py36]",
   "language": "python",
   "name": "conda-env-sports_py36-py"
  },
  "language_info": {
   "codemirror_mode": {
    "name": "ipython",
    "version": 3
   },
   "file_extension": ".py",
   "mimetype": "text/x-python",
   "name": "python",
   "nbconvert_exporter": "python",
   "pygments_lexer": "ipython3",
   "version": "3.6.4"
  }
 },
 "nbformat": 4,
 "nbformat_minor": 2
}
