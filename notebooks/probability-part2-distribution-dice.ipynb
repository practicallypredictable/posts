{
 "cells": [
  {
   "cell_type": "markdown",
   "metadata": {},
   "source": [
    "## Probability\n",
    "\n",
    "### Dice Rolls and Probability Distributions\n",
    "\n",
    "This notebook builds on the [previous notebook on probability modeling in Python](https://github.com/practicallypredictable/posts/blob/master/notebooks/probability-part1-poker_hands.ipynb). In this notebook, we will discuss the concept of [_probability distribution_](https://en.wikipedia.org/wiki/Probability_distribution) and how to represent it in Python. Our previous discussion on [classical probabilty](https://en.wikipedia.org/wiki/Classical_definition_of_probability) only dealt with situations where all outcomes are equally likely. That's not a very realistic framework for analyzing sports or other real-world scenarios. In this notebook, we'll look at how even simple dice rolls result in unequal probabilities, and why we need distributions to represent the outcomes. Looking forward to future posts, we will analyze some interesting board games and start estimating win probabilities in basketball and baseball.\n",
    "\n",
    "As in the previous notebook, the Python framework developed here is inspired by and borrows from two excellent sources: [Peter Norvig's](http://norvig.com/) [Concrete Introduction to Probability (using Python)](https://github.com/norvig/pytudes/blob/master/ipynb/Probability.ipynb) and [Allen Downey's](http://www.allendowney.com/wp/) [blog post on using the Python `Counter` class to represent probability mass functions](https://allendowney.blogspot.com/2014/05/implementing-pmfs-in-python.html). I highly recommend these two sources to you, and hope that you find the approach I've taken here combines some of the best aspects of each.\n",
    "\n",
    "### Independent Dice Rolls\n",
    "\n",
    "A fair six-sided die has equally likely outcomes. Each side can land face-up with probability $\\frac 1 6$.\n",
    "\n",
    "Now assume that we have two fair six-sided dice, which are labelled so we can tell them apart. Call them $D_1$ and $D_2$. Our experiment is to roll both dice at the same time and observe which faces land up. If we assume that the outcome on $D_1$ has no impact on the outcome on $D_2$ (and vice versa), then the outcomes are [_independent_](https://en.wikipedia.org/wiki/Independence_(probability_theory)). Even though it may seem physically obvious that two fair dice should have independent outcomes, we should always remember that independence is an assumption that must be carefully thought through. Many errors in probability and statistics occur from wrongly assuming independence.\n",
    "\n",
    "Assuming independence of $D_1$ and $D_2$, there are $6^2 = 36$ possible combined outcomes from rolling both dice at the same time. We can have 1 through 6 for $D_1$, and 1 through 6 for $D_2$, and the 36 possible outcomes are the [Cartesian product](https://en.wikipedia.org/wiki/Cartesian_product) of the $D_1$ and $D_2$ outcomes. Some possible example outcomes are (1, 5), (2, 4) and (4, 2). The ordered pairs show the outcome of $D_1$ first, followed by the outcome of $D_2$. Notice that (2, 4) and (4, 2) are different outcomes.\n",
    "\n",
    "So far, this isn't very different from the poker hands analysis we did in the previous notebook. There are 36 possible outcomes, and each are equally likely with probability $\\frac 1 {36}$.\n",
    "\n",
    "### Sum of Dice Rolls\n",
    "\n",
    "In most games, however, we usually don't keep track of specific dice ($D_1$ vs. $D_2$). We look at outcomes such as the sum of the two dice, and whether we've rolled doubles (both dice showing the same number). In the board game [Monopoly](https://en.wikipedia.org/wiki/Monopoly_(game), we move our token based on the sum of the dice rolls, and if we've rolled doubles, we can roll again.\n",
    "\n",
    "Looking at the example outcomes above, it's obvious that the outcomes cannot be equally likely if we care about the sum of the dice rolls. The outcomes (1, 5), (2, 4) and (4, 2) all have sum 6. There are actually 5 outcomes that have sum 6. We need to include (5, 1) and (3, 3) as well. Notice also that there are 11 possible outcomes for the sum of two dice, ranging from 2 to 12.\n",
    "\n",
    "If we roll three dice, there are $6^3 = 216$ possible outcomes if we keep track of the specific dice, but only 16 outcomes (from 3 to 18) for the sum. Again, the sum of the rolls are not equally likely outcomes. Can you guess which outcomes are most likely for the sum of two and three dice rolls?\n",
    "\n",
    "### Probability Distributions\n",
    "\n",
    "For the sum of dice, we can still use the machinery of classical probability to a limited extent.\n",
    "\n",
    "If we want to know the probability of having the sum of two dice be 6, we can work with the 36 underlying outcomes of the form $(D_1, D_2)$ and define the event of interest $A$ to be the set of outcomes such $D_1 + D_2 = 36$. Then $P(A) = \\frac 5 {36}$ from the usual rules of classical probability.\n",
    "\n",
    "However, it's much better to just keep track of the possible outcomes and their (not necessarily equal) probabilities. This will be very useful for handing more complicated situations than dice rolls.\n",
    "\n",
    "There are several possible ways to represent a mathematical probability distribution. Here, we are going to focus on the [_probability mass function_](https://en.wikipedia.org/wiki/Probability_mass_function) (or PMF) for representing distributions on discrete finite sample spaces. A PMF is basically just a mapping between an outcome and its probability, with the additional rule that the sum of the probabilities over all possible outcomes must equal 1.\n",
    "\n",
    "### A Quick Note about Interpretations of Probability\n",
    "\n",
    "When we talk about probability distributions, we are moving away from classical probability and toward more general and abstract concepts. One advantage of classical probability is that it fits with our physical intuition about games of chance and other familiar situations. However, classical probability isn't immune to criticism. The English mathematician [John Venn](https://en.wikipedia.org/wiki/John_Venn) (the inventor of the famous [Venn diagram](https://en.wikipedia.org/wiki/Venn_diagram)) and others in the nineteenth century felt that probability theory was on shaky ground. In the 1930s, the great Russian mathematican [Andrei Kolmogorov](https://plato.stanford.edu/entries/probability-interpret/#KolProCal) put probability on firm mathematical footing.\n",
    "\n",
    "Even though the mathematics of probability is well-established, there is still significant debate even today about [what, if anything, probability means in the real world](https://en.wikipedia.org/wiki/Probability_interpretations).\n",
    "\n",
    "However, we are going to side-step debates over [Frequentist](https://en.wikipedia.org/wiki/Frequentist_probability) versus [Bayesian](https://en.wikipedia.org/wiki/Bayesian_probability) interpretations of probability, at least for the time being.\n",
    "\n",
    "### Representing Probability Distributions in Python\n",
    "\n",
    "In Python, the built-in [`Counter`](https://docs.python.org/3/library/collections.html) class is a very good way to represent the mapping of a probability distribution. We will also continue to represent the numerical value of probability using Python's built-in [`Fraction`](https://docs.python.org/3/library/fractions.html) class, since probabilities are ratios and `Fraction` can represent them exactly."
   ]
  },
  {
   "cell_type": "code",
   "execution_count": 1,
   "metadata": {},
   "outputs": [],
   "source": [
    "from fractions import Fraction\n",
    "from collections import Counter\n",
    "import itertools as it"
   ]
  },
  {
   "cell_type": "markdown",
   "metadata": {},
   "source": [
    "We will do some plotting at the end."
   ]
  },
  {
   "cell_type": "code",
   "execution_count": 2,
   "metadata": {},
   "outputs": [],
   "source": [
    "import matplotlib.pyplot as plt\n",
    "%matplotlib inline\n",
    "import seaborn as sns\n",
    "sns.set()\n",
    "sns.set_context('notebook')\n",
    "plt.style.use('ggplot')"
   ]
  },
  {
   "cell_type": "markdown",
   "metadata": {},
   "source": [
    "Let's start off with the outcomes of a fair six-sided die roll."
   ]
  },
  {
   "cell_type": "code",
   "execution_count": 3,
   "metadata": {},
   "outputs": [
    {
     "data": {
      "text/plain": [
       "Counter({1: 1, 2: 1, 3: 1, 4: 1, 5: 1, 6: 1})"
      ]
     },
     "execution_count": 3,
     "metadata": {},
     "output_type": "execute_result"
    }
   ],
   "source": [
    "d6 = Counter(range(1,7))\n",
    "d6"
   ]
  },
  {
   "cell_type": "markdown",
   "metadata": {},
   "source": [
    "Here are the functions we defined in our [previous notebook](https://github.com/practicallypredictable/posts/blob/master/notebooks/probability-part1-poker_hands.ipynb) to represent classical probability. We'll expand on these functions shortly."
   ]
  },
  {
   "cell_type": "code",
   "execution_count": 4,
   "metadata": {},
   "outputs": [],
   "source": [
    "def such_that(condition_true_for, space):\n",
    "    \"\"\"Subset of sample space for which a condition is true.\"\"\"\n",
    "    return {element for element in space if condition_true_for(element)}"
   ]
  },
  {
   "cell_type": "code",
   "execution_count": 5,
   "metadata": {},
   "outputs": [],
   "source": [
    "def prob(event, space):\n",
    "    \"\"\"Classical probability (revised version).\"\"\"\n",
    "    if callable(event):\n",
    "        event = such_that(event, space)\n",
    "    return Fraction(len(set(event) & set(space)), len(space))"
   ]
  },
  {
   "cell_type": "markdown",
   "metadata": {},
   "source": [
    "As a review, here's the probability of rolling a 2 on our (mathematical) six-sided die."
   ]
  },
  {
   "cell_type": "code",
   "execution_count": 6,
   "metadata": {},
   "outputs": [
    {
     "data": {
      "text/plain": [
       "Fraction(1, 6)"
      ]
     },
     "execution_count": 6,
     "metadata": {},
     "output_type": "execute_result"
    }
   ],
   "source": [
    "prob({2}, d6)"
   ]
  },
  {
   "cell_type": "markdown",
   "metadata": {},
   "source": [
    "And here is the probability of rolling an even number."
   ]
  },
  {
   "cell_type": "code",
   "execution_count": 7,
   "metadata": {},
   "outputs": [],
   "source": [
    "def is_even(n):\n",
    "    return n % 2 == 0"
   ]
  },
  {
   "cell_type": "code",
   "execution_count": 8,
   "metadata": {},
   "outputs": [
    {
     "data": {
      "text/plain": [
       "Fraction(1, 2)"
      ]
     },
     "execution_count": 8,
     "metadata": {},
     "output_type": "execute_result"
    }
   ],
   "source": [
    "prob(is_even, d6)"
   ]
  },
  {
   "cell_type": "markdown",
   "metadata": {},
   "source": [
    "Now let's generate the outcomes from rolling two fair, independent dice using the Cartesian product."
   ]
  },
  {
   "cell_type": "code",
   "execution_count": 9,
   "metadata": {},
   "outputs": [
    {
     "data": {
      "text/plain": [
       "36"
      ]
     },
     "execution_count": 9,
     "metadata": {},
     "output_type": "execute_result"
    }
   ],
   "source": [
    "d6x2 = list(it.product(d6, d6))\n",
    "len(d6x2)"
   ]
  },
  {
   "cell_type": "markdown",
   "metadata": {},
   "source": [
    "These outcomes keep track of the specific dice, so the outcomes are `tuples`. The outcome (1, 5) is different from (5, 1)."
   ]
  },
  {
   "cell_type": "code",
   "execution_count": 10,
   "metadata": {},
   "outputs": [
    {
     "data": {
      "text/plain": [
       "[(1, 1),\n",
       " (1, 2),\n",
       " (1, 3),\n",
       " (1, 4),\n",
       " (1, 5),\n",
       " (1, 6),\n",
       " (2, 1),\n",
       " (2, 2),\n",
       " (2, 3),\n",
       " (2, 4)]"
      ]
     },
     "execution_count": 10,
     "metadata": {},
     "output_type": "execute_result"
    }
   ],
   "source": [
    "d6x2[:10]"
   ]
  },
  {
   "cell_type": "markdown",
   "metadata": {},
   "source": [
    "If we really just want to keep track of the sum of the rolls, we need something different."
   ]
  },
  {
   "cell_type": "code",
   "execution_count": 11,
   "metadata": {},
   "outputs": [
    {
     "data": {
      "text/plain": [
       "11"
      ]
     },
     "execution_count": 11,
     "metadata": {},
     "output_type": "execute_result"
    }
   ],
   "source": [
    "sum_d6x2 = Counter(i+j for i, j in it.product(d6, d6))\n",
    "len(sum_d6x2)"
   ]
  },
  {
   "cell_type": "code",
   "execution_count": 12,
   "metadata": {},
   "outputs": [
    {
     "data": {
      "text/plain": [
       "[(7, 6),\n",
       " (6, 5),\n",
       " (8, 5),\n",
       " (5, 4),\n",
       " (9, 4),\n",
       " (4, 3),\n",
       " (10, 3),\n",
       " (3, 2),\n",
       " (11, 2),\n",
       " (2, 1),\n",
       " (12, 1)]"
      ]
     },
     "execution_count": 12,
     "metadata": {},
     "output_type": "execute_result"
    }
   ],
   "source": [
    "sum_d6x2.most_common(11)"
   ]
  },
  {
   "cell_type": "markdown",
   "metadata": {},
   "source": [
    "The most common outcome for the sum of two dice is 7, which is halfway between the minimum value of 2 and the maximum value of 12. The sum of the possible outcomes is 36."
   ]
  },
  {
   "cell_type": "code",
   "execution_count": 13,
   "metadata": {},
   "outputs": [
    {
     "data": {
      "text/plain": [
       "36"
      ]
     },
     "execution_count": 13,
     "metadata": {},
     "output_type": "execute_result"
    }
   ],
   "source": [
    "sum(sum_d6x2.values())"
   ]
  },
  {
   "cell_type": "markdown",
   "metadata": {},
   "source": [
    "Here are the same results for the sum of three fair, indpendent dice."
   ]
  },
  {
   "cell_type": "code",
   "execution_count": 14,
   "metadata": {},
   "outputs": [
    {
     "data": {
      "text/plain": [
       "16"
      ]
     },
     "execution_count": 14,
     "metadata": {},
     "output_type": "execute_result"
    }
   ],
   "source": [
    "sum_d6x3 = Counter(i+j+k for i, j, k in it.product(d6, d6, d6))\n",
    "len(sum_d6x3)"
   ]
  },
  {
   "cell_type": "code",
   "execution_count": 15,
   "metadata": {},
   "outputs": [
    {
     "data": {
      "text/plain": [
       "[(10, 27),\n",
       " (11, 27),\n",
       " (9, 25),\n",
       " (12, 25),\n",
       " (8, 21),\n",
       " (13, 21),\n",
       " (7, 15),\n",
       " (14, 15),\n",
       " (6, 10),\n",
       " (15, 10),\n",
       " (5, 6),\n",
       " (16, 6),\n",
       " (4, 3),\n",
       " (17, 3),\n",
       " (3, 1),\n",
       " (18, 1)]"
      ]
     },
     "execution_count": 15,
     "metadata": {},
     "output_type": "execute_result"
    }
   ],
   "source": [
    "sum_d6x3.most_common(16)"
   ]
  },
  {
   "cell_type": "markdown",
   "metadata": {},
   "source": [
    "The most common values for the sum of three dice is a tie between 10 and 11, which straddle the half-way point between the minimum value of 3 and the maximum value of 18."
   ]
  },
  {
   "cell_type": "code",
   "execution_count": 16,
   "metadata": {},
   "outputs": [
    {
     "data": {
      "text/plain": [
       "216"
      ]
     },
     "execution_count": 16,
     "metadata": {},
     "output_type": "execute_result"
    }
   ],
   "source": [
    "sum(sum_d6x3.values())"
   ]
  },
  {
   "cell_type": "markdown",
   "metadata": {},
   "source": [
    "Now we will see how easy it is to represent a probability distribution for sum of dice using Python's `Counter` class."
   ]
  },
  {
   "cell_type": "code",
   "execution_count": 17,
   "metadata": {},
   "outputs": [
    {
     "data": {
      "text/plain": [
       "Counter({2: Fraction(1, 36),\n",
       "         3: Fraction(1, 18),\n",
       "         4: Fraction(1, 12),\n",
       "         5: Fraction(1, 9),\n",
       "         6: Fraction(5, 36),\n",
       "         7: Fraction(1, 6),\n",
       "         8: Fraction(5, 36),\n",
       "         9: Fraction(1, 9),\n",
       "         10: Fraction(1, 12),\n",
       "         11: Fraction(1, 18),\n",
       "         12: Fraction(1, 36)})"
      ]
     },
     "execution_count": 17,
     "metadata": {},
     "output_type": "execute_result"
    }
   ],
   "source": [
    "p = Counter()\n",
    "total = sum(sum_d6x2.values())\n",
    "for roll, roll_count in sum_d6x2.items():\n",
    "    p[roll] = Fraction(roll_count, total)\n",
    "p"
   ]
  },
  {
   "cell_type": "markdown",
   "metadata": {},
   "source": [
    "Given how often we need to analyze probability, we should invest some time to do it correctly.\n",
    "\n",
    "Let's represent a probability distribution using a new Python class which inherits from `Counter`. As [professor Allen Downey points out](https://allendowney.blogspot.com/2016/06/what-is-distribution.html), [object-oriented programming](https://en.wikipedia.org/wiki/Object-oriented_programming) is a useful framework for expressing abstract mathematical ideas. We will follow his advice and create some new object types.\n",
    "\n",
    "A discrete PMF is just a mapping of outcomes and representation of the relative frequency of each outcome. Our new `ProbDist` class will [inherit](https://en.wikipedia.org/wiki/Inheritance_(object-oriented_programming) from `Counter`, so all of the underlying functionality of `Counter` are available to it. Also, any part of the Python ecosystem that can work with a `dict`-like object such as `Counter` can work with our distribution object also.\n",
    "\n",
    "Since we want our distribution object to have probabilities and not counts of the outcomes, all we need to do is divide each of the counts by the total count. This automatically makes the probabilities sum to 1. Our distribution object will store the resulting probabilities using Python's `Fraction` class."
   ]
  },
  {
   "cell_type": "code",
   "execution_count": 18,
   "metadata": {},
   "outputs": [],
   "source": [
    "class ProbDist(Counter):\n",
    "    \"\"\"Discrete finite probability distribution.\"\"\"\n",
    "    def __init__(self, mapping=(), **kwargs):\n",
    "        self.update(mapping, **kwargs)\n",
    "        total = sum(self.values())\n",
    "        for event in self:\n",
    "            if self[event] < 0:\n",
    "                raise ValueError('probability cannot be negative')\n",
    "            self[event] = Fraction(self[event], total)"
   ]
  },
  {
   "cell_type": "markdown",
   "metadata": {},
   "source": [
    "As noted above, our implementation of `ProbDist` also borrows some ideas from [Peter Norvig's notebook on probability modeling which you can find here](https://nbviewer.jupyter.org/url/norvig.com/ipython/Probability.ipynb).\n",
    "\n",
    "Now we can represent our dice rolls using this new class."
   ]
  },
  {
   "cell_type": "code",
   "execution_count": 19,
   "metadata": {},
   "outputs": [
    {
     "data": {
      "text/plain": [
       "ProbDist({1: Fraction(1, 6),\n",
       "          2: Fraction(1, 6),\n",
       "          3: Fraction(1, 6),\n",
       "          4: Fraction(1, 6),\n",
       "          5: Fraction(1, 6),\n",
       "          6: Fraction(1, 6)})"
      ]
     },
     "execution_count": 19,
     "metadata": {},
     "output_type": "execute_result"
    }
   ],
   "source": [
    "ProbDist(d6)"
   ]
  },
  {
   "cell_type": "code",
   "execution_count": 20,
   "metadata": {},
   "outputs": [
    {
     "data": {
      "text/plain": [
       "ProbDist({2: Fraction(1, 36),\n",
       "          3: Fraction(1, 18),\n",
       "          4: Fraction(1, 12),\n",
       "          5: Fraction(1, 9),\n",
       "          6: Fraction(5, 36),\n",
       "          7: Fraction(1, 6),\n",
       "          8: Fraction(5, 36),\n",
       "          9: Fraction(1, 9),\n",
       "          10: Fraction(1, 12),\n",
       "          11: Fraction(1, 18),\n",
       "          12: Fraction(1, 36)})"
      ]
     },
     "execution_count": 20,
     "metadata": {},
     "output_type": "execute_result"
    }
   ],
   "source": [
    "ProbDist(sum_d6x2)"
   ]
  },
  {
   "cell_type": "markdown",
   "metadata": {},
   "source": [
    "We need to make some small changes to our probability functions to make use of the new `ProbDist` class."
   ]
  },
  {
   "cell_type": "code",
   "execution_count": 21,
   "metadata": {},
   "outputs": [],
   "source": [
    "def such_that(condition_true_for, space):\n",
    "    \"\"\"Subset of sample space for which a condition is true (revised for finite discrete distributions).\"\"\"\n",
    "    if isinstance(space, ProbDist):\n",
    "        return ProbDist({element: space[element] for element in space if condition_true_for(element)})\n",
    "    else:\n",
    "        return {element for element in space if condition_true_for(element)}"
   ]
  },
  {
   "cell_type": "code",
   "execution_count": 22,
   "metadata": {},
   "outputs": [],
   "source": [
    "def prob(event, space):\n",
    "    \"\"\"Probability of an event (classical or defined by a finite discrete distribution).\"\"\"\n",
    "    if callable(event):\n",
    "        event = such_that(event, space)\n",
    "    if isinstance(space, ProbDist):\n",
    "        return sum(space[element] for element in space if element in event)\n",
    "    else:\n",
    "        return Fraction(len(set(event) & set(space)), len(space))"
   ]
  },
  {
   "cell_type": "markdown",
   "metadata": {},
   "source": [
    "Let's check if it correctly computes the probability that the sum of two dice exceeds 4."
   ]
  },
  {
   "cell_type": "code",
   "execution_count": 23,
   "metadata": {},
   "outputs": [
    {
     "data": {
      "text/plain": [
       "{5, 6, 7, 8, 9, 10, 11, 12}"
      ]
     },
     "execution_count": 23,
     "metadata": {},
     "output_type": "execute_result"
    }
   ],
   "source": [
    "such_that(lambda n: n > 4, sum_d6x2)"
   ]
  },
  {
   "cell_type": "code",
   "execution_count": 24,
   "metadata": {},
   "outputs": [
    {
     "data": {
      "text/plain": [
       "[4, 5, 6, 5, 4, 3, 2, 1]"
      ]
     },
     "execution_count": 24,
     "metadata": {},
     "output_type": "execute_result"
    }
   ],
   "source": [
    "[sum_d6x2[x] for x in such_that(lambda n: n > 4, sum_d6x2)]"
   ]
  },
  {
   "cell_type": "code",
   "execution_count": 25,
   "metadata": {},
   "outputs": [
    {
     "data": {
      "text/plain": [
       "30"
      ]
     },
     "execution_count": 25,
     "metadata": {},
     "output_type": "execute_result"
    }
   ],
   "source": [
    "sum([sum_d6x2[x] for x in such_that(lambda n: n > 4, sum_d6x2)])"
   ]
  },
  {
   "cell_type": "code",
   "execution_count": 26,
   "metadata": {},
   "outputs": [
    {
     "data": {
      "text/plain": [
       "Fraction(5, 6)"
      ]
     },
     "execution_count": 26,
     "metadata": {},
     "output_type": "execute_result"
    }
   ],
   "source": [
    "prob(lambda n: n > 4, ProbDist(sum_d6x2))"
   ]
  },
  {
   "cell_type": "markdown",
   "metadata": {},
   "source": [
    "This is correct. If we keep track of the underlying specific dice, there are 30 outcomes which have a sum > 4, and there are 36 total outcomes. The `ProbDist` class keeps track of all the math for us automatically."
   ]
  },
  {
   "cell_type": "markdown",
   "metadata": {},
   "source": [
    "Because we will be working with probabilities so much on this site, I decided to create a Python package called `pracpred` for representing probabilities and other tools that we will use repeatedly. [Here is the source code for the package](https://github.com/practicallypredictable/pracpred). The package actually includes some modules other than just probability modeling, but you can ignore those for now.\n",
    "\n",
    "Please note that the implementation and functionality is much more complex in the package than in the simpler code used above in this notebook. The basic approach is very similar, however. Feel free to examine the package source code, or ignore it if you'd prefer to just focus on the results.\n",
    "\n",
    "The package has been [uploaded to PyPI](https://pypi.python.org/pypi?:action=display&name=pracpred&version=0.1.0). You can download and install it in your environment using [`pip`](https://pypi.python.org/pypi/pip), the official tool for installing Python packages. This is one exception we will make to using Anaconda to install packages. Fortunately, `pip` and Anaconda work very well together, and you can install the `pracpred` package in your sports analytics environment by executing the command below in Jupyter Notebook:"
   ]
  },
  {
   "cell_type": "code",
   "execution_count": 27,
   "metadata": {},
   "outputs": [],
   "source": [
    "%%capture\n",
    "!pip install pracpred"
   ]
  },
  {
   "cell_type": "markdown",
   "metadata": {},
   "source": [
    "You can ignore the `%%capture` magic method in your notebook if you wish. I used it to avoid including command output here. In Jupyter Notebook, use the `!` before the `pip` command to tell Notebook that you are executing an operating system command. You can also run the `pip` command in Terminal or the Anaconda Prompt. If you do, ignore the `%%capture` line and don't include the initial `!`.\n",
    "\n",
    "Going forward, we'll assume that `pracpred` is installed in your sports analytics environment.\n",
    "\n",
    "Now let's import and use the probability package."
   ]
  },
  {
   "cell_type": "code",
   "execution_count": 28,
   "metadata": {},
   "outputs": [],
   "source": [
    "import pracpred.prob as ppp"
   ]
  },
  {
   "cell_type": "markdown",
   "metadata": {},
   "source": [
    "Here is the fair six-sided die again, this time as a `ProbDist`."
   ]
  },
  {
   "cell_type": "code",
   "execution_count": 29,
   "metadata": {},
   "outputs": [
    {
     "data": {
      "text/plain": [
       "ProbDist({1: Prob(1, 6), 2: Prob(1, 6), 3: Prob(1, 6), 4: Prob(1, 6), 5: Prob(1, 6), 6: Prob(1, 6)})"
      ]
     },
     "execution_count": 29,
     "metadata": {},
     "output_type": "execute_result"
    }
   ],
   "source": [
    "d6 = ppp.ProbDist(range(1,7))\n",
    "d6"
   ]
  },
  {
   "cell_type": "markdown",
   "metadata": {},
   "source": [
    "Notice that the probabilities are stored as type `Prob` rather than `Fraction`. If you look at the source code, you'll see that `Prob` inherits from `Fraction` and includes some other functionality specific to probabilities. But for most purposes, it works just like `Fraction`.\n",
    "\n",
    "We will repeat some of the above analysis of dice rolls as a quick demonstration of how to use the `ProbDist` class.\n",
    "\n",
    "If you want to get a probability from our `ProbDist`, use the `prob()` method."
   ]
  },
  {
   "cell_type": "code",
   "execution_count": 30,
   "metadata": {},
   "outputs": [
    {
     "data": {
      "text/plain": [
       "Prob(1, 6)"
      ]
     },
     "execution_count": 30,
     "metadata": {},
     "output_type": "execute_result"
    }
   ],
   "source": [
    "d6.prob({2})"
   ]
  },
  {
   "cell_type": "code",
   "execution_count": 31,
   "metadata": {},
   "outputs": [
    {
     "data": {
      "text/plain": [
       "Prob(1, 2)"
      ]
     },
     "execution_count": 31,
     "metadata": {},
     "output_type": "execute_result"
    }
   ],
   "source": [
    "d6.prob(is_even)"
   ]
  },
  {
   "cell_type": "markdown",
   "metadata": {},
   "source": [
    "The `subset_such_that()` method returns the subset of the sample space for which a condition is true."
   ]
  },
  {
   "cell_type": "code",
   "execution_count": 32,
   "metadata": {},
   "outputs": [
    {
     "data": {
      "text/plain": [
       "{2, 4, 6}"
      ]
     },
     "execution_count": 32,
     "metadata": {},
     "output_type": "execute_result"
    }
   ],
   "source": [
    "d6.subset_such_that(is_even)"
   ]
  },
  {
   "cell_type": "markdown",
   "metadata": {},
   "source": [
    "The `such_that()` method returns a new `ProbDist` where the outcomes are a subset of the sample space for which a condition is true. Notice that the probabilities have been rescaled so they add to 1 for this new `ProbDist`."
   ]
  },
  {
   "cell_type": "code",
   "execution_count": 33,
   "metadata": {},
   "outputs": [
    {
     "data": {
      "text/plain": [
       "ProbDist({2: Prob(1, 3), 4: Prob(1, 3), 6: Prob(1, 3)})"
      ]
     },
     "execution_count": 33,
     "metadata": {},
     "output_type": "execute_result"
    }
   ],
   "source": [
    "d6.such_that(is_even)"
   ]
  },
  {
   "cell_type": "markdown",
   "metadata": {},
   "source": [
    "If you want to represent a joint distribution of two independent probability distributions, use the `repeated()` method. An example would be rolling two six-sided dice."
   ]
  },
  {
   "cell_type": "code",
   "execution_count": 34,
   "metadata": {},
   "outputs": [
    {
     "data": {
      "text/plain": [
       "ProbDist({2: Prob(1, 36), 3: Prob(1, 18), 4: Prob(1, 12), 5: Prob(1, 9), 6: Prob(5, 36), 7: Prob(1, 6), 8: Prob(5, 36), 9: Prob(1, 9), 10: Prob(1, 12), 11: Prob(1, 18), 12: Prob(1, 36)})"
      ]
     },
     "execution_count": 34,
     "metadata": {},
     "output_type": "execute_result"
    }
   ],
   "source": [
    "d6.repeated(2)"
   ]
  },
  {
   "cell_type": "markdown",
   "metadata": {},
   "source": [
    "Notice that `repeated()` assumes that you want to sum (for numbers) or concatenate (for strings) to group the outcomes. If you really want to keep track of each of the specific events from the full Cartesian product, you can pass the optional parameter `product=True`."
   ]
  },
  {
   "cell_type": "code",
   "execution_count": 35,
   "metadata": {},
   "outputs": [
    {
     "data": {
      "text/plain": [
       "36"
      ]
     },
     "execution_count": 35,
     "metadata": {},
     "output_type": "execute_result"
    }
   ],
   "source": [
    "d6x2 = d6.repeated(2, product=True)\n",
    "len(d6x2)"
   ]
  },
  {
   "cell_type": "code",
   "execution_count": 36,
   "metadata": {},
   "outputs": [
    {
     "data": {
      "text/plain": [
       "ProbDist({(1, 1): Prob(1, 36), (1, 2): Prob(1, 36), (1, 3): Prob(1, 36), (1, 4): Prob(1, 36), (1, 5): Prob(1, 36), (1, 6): Prob(1, 36), (2, 1): Prob(1, 36), (2, 2): Prob(1, 36), (2, 3): Prob(1, 36), (2, 4): Prob(1, 36), (2, 5): Prob(1, 36), (2, 6): Prob(1, 36), (3, 1): Prob(1, 36), (3, 2): Prob(1, 36), (3, 3): Prob(1, 36), (3, 4): Prob(1, 36), (3, 5): Prob(1, 36), (3, 6): Prob(1, 36), (4, 1): Prob(1, 36), (4, 2): Prob(1, 36), (4, 3): Prob(1, 36), (4, 4): Prob(1, 36), (4, 5): Prob(1, 36), (4, 6): Prob(1, 36), (5, 1): Prob(1, 36), (5, 2): Prob(1, 36), (5, 3): Prob(1, 36), (5, 4): Prob(1, 36), (5, 5): Prob(1, 36), (5, 6): Prob(1, 36), (6, 1): Prob(1, 36), (6, 2): Prob(1, 36), (6, 3): Prob(1, 36), (6, 4): Prob(1, 36), (6, 5): Prob(1, 36), (6, 6): Prob(1, 36)})"
      ]
     },
     "execution_count": 36,
     "metadata": {},
     "output_type": "execute_result"
    }
   ],
   "source": [
    "d6x2"
   ]
  },
  {
   "cell_type": "markdown",
   "metadata": {},
   "source": [
    "You can chain methods together."
   ]
  },
  {
   "cell_type": "code",
   "execution_count": 37,
   "metadata": {},
   "outputs": [
    {
     "data": {
      "text/plain": [
       "[(7, Prob(1, 6)),\n",
       " (6, Prob(5, 36)),\n",
       " (8, Prob(5, 36)),\n",
       " (5, Prob(1, 9)),\n",
       " (9, Prob(1, 9)),\n",
       " (4, Prob(1, 12)),\n",
       " (10, Prob(1, 12)),\n",
       " (3, Prob(1, 18)),\n",
       " (11, Prob(1, 18)),\n",
       " (2, Prob(1, 36)),\n",
       " (12, Prob(1, 36))]"
      ]
     },
     "execution_count": 37,
     "metadata": {},
     "output_type": "execute_result"
    }
   ],
   "source": [
    "d6.repeated(2).most_common(11)"
   ]
  },
  {
   "cell_type": "code",
   "execution_count": 38,
   "metadata": {},
   "outputs": [
    {
     "data": {
      "text/plain": [
       "Prob(5, 6)"
      ]
     },
     "execution_count": 38,
     "metadata": {},
     "output_type": "execute_result"
    }
   ],
   "source": [
    "d6.repeated(2).prob(lambda n: n > 4)"
   ]
  },
  {
   "cell_type": "markdown",
   "metadata": {},
   "source": [
    "Here's the probability of rolling doubles in Monopoly."
   ]
  },
  {
   "cell_type": "code",
   "execution_count": 39,
   "metadata": {},
   "outputs": [
    {
     "data": {
      "text/plain": [
       "Prob(1, 6)"
      ]
     },
     "execution_count": 39,
     "metadata": {},
     "output_type": "execute_result"
    }
   ],
   "source": [
    "d6.repeated(2, product=True).prob(lambda dice: dice[0] == dice[1])"
   ]
  },
  {
   "cell_type": "markdown",
   "metadata": {},
   "source": [
    "Finally, let's plot the PMFs of the sum of one, two and three six-sided dice."
   ]
  },
  {
   "cell_type": "code",
   "execution_count": 40,
   "metadata": {},
   "outputs": [],
   "source": [
    "x1, y1 = d6.zipped\n",
    "x2, y2 = d6.repeated(2).zipped\n",
    "x3, y3 = d6.repeated(3).zipped"
   ]
  },
  {
   "cell_type": "code",
   "execution_count": 41,
   "metadata": {},
   "outputs": [
    {
     "data": {
      "image/png": "[encoded data removed]",
      "text/plain": [
       "<matplotlib.figure.Figure at 0x1084f7c18>"
      ]
     },
     "metadata": {},
     "output_type": "display_data"
    }
   ],
   "source": [
    "fig, ax = plt.subplots(figsize=(10,5))\n",
    "width = 0.5\n",
    "ax.bar([x-width/4 for x in x1], y1, width, alpha=0.5, label='1 D6')\n",
    "ax.bar([x for x in x2], y2, width, alpha=0.5, label='2 D6')\n",
    "ax.bar([x+width/4 for x in x3], y3, width, alpha=0.5, label='3 D6')\n",
    "ax.set_xticks(range(1, max(x3)+2))\n",
    "ax.set_xlabel('Sum')\n",
    "ax.set_ylabel('Probability')\n",
    "ax.set_title(f'Distribution of Sum of Six-Sided Dice')\n",
    "ax.legend(loc='upper right')\n",
    "plt.show()"
   ]
  }
 ],
 "metadata": {
  "kernelspec": {
   "display_name": "Python [conda env:sports_py36]",
   "language": "python",
   "name": "conda-env-sports_py36-py"
  },
  "language_info": {
   "codemirror_mode": {
    "name": "ipython",
    "version": 3
   },
   "file_extension": ".py",
   "mimetype": "text/x-python",
   "name": "python",
   "nbconvert_exporter": "python",
   "pygments_lexer": "ipython3",
   "version": "3.6.4"
  }
 },
 "nbformat": 4,
 "nbformat_minor": 2
}
