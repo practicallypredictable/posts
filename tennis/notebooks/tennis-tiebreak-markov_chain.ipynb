{
 "cells": [
  {
   "cell_type": "markdown",
   "metadata": {},
   "source": [
    "## Tennis Tie-Break Markov Chain\n",
    "\n",
    "This notebook models a tennis tie-break as a Markov chain, using the [`networkx`](https://networkx.github.io/) package to represent the tie-break as a [graph](https://en.wikipedia.org/wiki/Graph_(discrete_mathematics%29).\n",
    "\n",
    "We can use this graph representation to count up the possible outcomes to compute win probabilities for each player.\n",
    "\n",
    "In a particular tennis game, only one player is serving. In our [previous notebook on modeling a tennis game](https://nbviewer.jupyter.org/github/practicallypredictable/posts/blob/master/notebooks/tennis-game-markov_chain-part1.ipynb), we only needed one probability: the probability that the server wins a point on serve. In contrast, under [the rules of a tie-break](http://www.dummies.com/sports/tennis/how-to-play-a-tiebreaker-in-tennis/), players change serve after the first point and ever two serves thereafter. So, to model a tie-break, we need two probabilities: the probabilty that each player wins a point on their serve.\n",
    "\n",
    "Let's call the players $A$ and $B$, with respective probabilities $a$ and $b$ to win the point on their serve. Notice that this means $(1-a)$ is the probability that $B$ wins the point returning $A$'s serve, and $(1-b)$ is the probability that $A$ wins the point returning $B$'s serve.\n",
    "\n",
    "Let's assume that player $A$ serves first. This is an arbitrary assumption, since we'll see that the win probability doesn't dependon which player serves first. The serve order is then $ABBAABBAABBA...$, and so on, until one player either gets to 7 points or higher and leads the other player by at least 2 points.\n",
    "\n",
    "Let's get started modeling the tie-break in Python."
   ]
  },
  {
   "cell_type": "code",
   "execution_count": 1,
   "metadata": {},
   "outputs": [],
   "source": [
    "import networkx as nx"
   ]
  },
  {
   "cell_type": "code",
   "execution_count": 2,
   "metadata": {},
   "outputs": [],
   "source": [
    "import numpy as np"
   ]
  },
  {
   "cell_type": "code",
   "execution_count": 3,
   "metadata": {},
   "outputs": [],
   "source": [
    "import matplotlib.pyplot as plt\n",
    "%matplotlib inline\n",
    "import seaborn as sns\n",
    "sns.set()\n",
    "sns.set_context('notebook')\n",
    "plt.style.use('ggplot')"
   ]
  },
  {
   "cell_type": "code",
   "execution_count": 4,
   "metadata": {},
   "outputs": [],
   "source": [
    "from pathlib import Path\n",
    "from collections import Counter, deque\n",
    "import re"
   ]
  },
  {
   "cell_type": "code",
   "execution_count": 5,
   "metadata": {},
   "outputs": [],
   "source": [
    "PARENT_DIR = Path.cwd().parent\n",
    "IMAGES_DIR = PARENT_DIR / 'images'\n",
    "IMAGES_DIR.mkdir(exist_ok=True, parents=True)"
   ]
  },
  {
   "cell_type": "code",
   "execution_count": 6,
   "metadata": {},
   "outputs": [],
   "source": [
    "from enum import Enum\n",
    "from itertools import product"
   ]
  },
  {
   "cell_type": "code",
   "execution_count": 7,
   "metadata": {},
   "outputs": [],
   "source": [
    "from pracpred.prob import choose\n",
    "import pracpred.prob as ppp"
   ]
  },
  {
   "cell_type": "markdown",
   "metadata": {},
   "source": [
    "### Possible Scores in a Tennis Tie-Break\n",
    "\n",
    "Similar to what we did in [the notebook modeling a tennis game](https://nbviewer.jupyter.org/github/practicallypredictable/posts/blob/master/notebooks/tennis-game-markov_chain-part1.ipynb), we would like to define a Python `class` inheriting from [`Enum`](https://docs.python.org/3/library/enum.html) that specifies all the possible tie-break scores. Using a `class` inheriting from `Enum` allows us to put all the the rules and knowledge about tennis tie-break scores in one place. This is the concept of _encapsulation_ in [object-oriented programming](https://www.python-course.eu/object_oriented_programming.php). In the case of a tennis game, there are only 20 distinct possible points (if you also include the game outcomes of a service hold or break).\n",
    "\n",
    "Unfortunately, there are many more possible scores in a tennis tie-break. It would be very tedious to have to create an `Enum` specifying all the possible scores. The good news is that it's possible to use Python to create the `Enum` for you, with all the correct values already filled in! Here's how to do it.\n",
    "\n",
    "Credit to the StackOverflow answers (particularly [this one](https://stackoverflow.com/questions/43096541/a-more-pythonic-way-to-define-an-enum-with-dynamic-members)) by [Ethan Furman](https://stackoverflow.com/users/208880/ethan-furman) for the general approach used in this notebook. The code below actually uses two different Python `class` types. The first is a \"factory\" `class`, which creates the `Enum` members in its `__new__()` method. The second is the actual `class` we are going to use, which is created by the `create()` method of the factory `class`.\n",
    "\n",
    "This Python code is relatively advanced, so don't worry if it seems confusing. The upshot is that the `class` we are going to actually use, called `TieBreakScore`, is an `Enum` of the possible scores in a tennis tie-break, along with some additional methods and properties."
   ]
  },
  {
   "cell_type": "code",
   "execution_count": 8,
   "metadata": {},
   "outputs": [],
   "source": [
    "class TieBreakScoreEnum(Enum):\n",
    "    \"\"\"Factory class to create an Enum of tennis tie-break scores.\"\"\"\n",
    "    \n",
    "    def __new__(cls, score, first_server):\n",
    "        members = len(cls.__members__)\n",
    "        member = object.__new__(cls)\n",
    "        member._value_ = members + 1\n",
    "        a = score[0]\n",
    "        b = score[1]\n",
    "        member._a = a\n",
    "        member._b = b\n",
    "        member._state = cls._state(a, b)\n",
    "        member._server = cls._server(a, b, first_server)\n",
    "        member._pos = cls._pos(a, b)\n",
    "        return member\n",
    "    \n",
    "    def __str__(self):\n",
    "        return f'{self._a}-{self._b}'\n",
    "    \n",
    "    @property\n",
    "    def score(self):\n",
    "        \"\"\"Score as a string in the format 'A-B'.\"\"\"\n",
    "        return str(self)\n",
    "    \n",
    "    @property\n",
    "    def points(self):\n",
    "        \"\"\"Points played in this tie-break to reach current score.\"\"\"\n",
    "        return self.a + self.b\n",
    "    \n",
    "    @property\n",
    "    def a(self):\n",
    "        \"\"\"Player A's points.\"\"\"\n",
    "        return self._a\n",
    "    \n",
    "    @property\n",
    "    def b(self):\n",
    "        \"\"\"Player B's points.\"\"\"\n",
    "        return self._b\n",
    "    \n",
    "    @property\n",
    "    def state(self):\n",
    "        \"\"\"Tie-break state, either winner, which player has ad, no ad, or numerical score if less than 6-6.\"\"\"\n",
    "        return self._state\n",
    "    \n",
    "    @property\n",
    "    def finished(self):\n",
    "        \"\"\"Tie break is over, some player won.\"\"\"\n",
    "        return 'wins' in self.state\n",
    "    \n",
    "    @property\n",
    "    def server(self):\n",
    "        \"\"\"Which player serves on point played with this current score.\"\"\"\n",
    "        return self._server\n",
    "    \n",
    "    @property\n",
    "    def pos(self):\n",
    "        \"\"\"Position vector (x, y) to display graph node for this score.\"\"\"\n",
    "        return self._pos\n",
    "    \n",
    "    def next_score(self, winner):\n",
    "        \"\"\"Next score after this score, given point winner.\"\"\"\n",
    "        if not self.finished:\n",
    "            if winner == 'A':\n",
    "                start_winner = self.a\n",
    "                start_loser = self.b\n",
    "            elif winner == 'B':\n",
    "                start_winner = self.b\n",
    "                start_loser = self.a\n",
    "            else:\n",
    "                raise ValueError('invalid player', winner)\n",
    "            next_winner, next_loser = TieBreakScoreEnum._next_score(start_winner, start_loser)\n",
    "            next_a = next_winner if winner == 'A' else next_loser\n",
    "            next_b = next_winner if winner == 'B' else next_loser\n",
    "            return self.from_scores(next_a, next_b)\n",
    "        else:\n",
    "            return None\n",
    "    \n",
    "    @classmethod\n",
    "    def create(cls, name, first_server='A'):\n",
    "        \"\"\"Class factory.\"\"\"\n",
    "        return cls(\n",
    "            value=name,\n",
    "            names=[\n",
    "                (cls._name(score), (score, first_server)) for score in cls._generate_scores()\n",
    "            ]\n",
    "        )\n",
    "\n",
    "    @classmethod\n",
    "    def from_scores(cls, a, b):\n",
    "        \"\"\"Score member obtained from more human-readable format representing score A-B.\"\"\"\n",
    "        s = f'a{a}b{b}'\n",
    "        return cls[s]\n",
    "    \n",
    "    @classmethod\n",
    "    def start(cls):\n",
    "        \"\"\"Score member for tie-break start 0-0.\"\"\"\n",
    "        return cls.from_scores(0, 0)\n",
    "    \n",
    "    @classmethod\n",
    "    def winning_score(cls, player, simple_wins=False):\n",
    "        \"\"\"Scores for which a particular player wins tie-break.\"\"\"\n",
    "        if player == 'A':\n",
    "            if simple_wins:\n",
    "                return [member for member in cls if member.state == 'A wins' and member.a == 7]\n",
    "            else:\n",
    "                return [member for member in cls if member.state == 'A wins']\n",
    "        elif player == 'B':\n",
    "            if simple_wins:\n",
    "                return [member for member in cls if member.state == 'B wins' and member.b == 7]\n",
    "            else:\n",
    "                return [member for member in cls if member.state == 'B wins']\n",
    "        else:\n",
    "            raise ValueError('invalid player', player)\n",
    "\n",
    "    # Below are helper functions not meant to be called from outside this class.\n",
    "    \n",
    "    @staticmethod\n",
    "    def _generate_scores():\n",
    "        scores = list(product(range(8), repeat=2))\n",
    "        scores.remove((7, 7)) # same as 6-6, so remove\n",
    "        scores.append((8, 6)) # A wins after 6-6\n",
    "        scores.append((6, 8)) # B wins after 6-6\n",
    "        return scores\n",
    "    \n",
    "    @staticmethod\n",
    "    def _name(score):\n",
    "        return f'a{score[0]}b{score[1]}'\n",
    "            \n",
    "    @staticmethod\n",
    "    def _state(a, b):\n",
    "        if a == 6 and b == 6:\n",
    "            return 'no ad'\n",
    "        elif a == 7 and b == 6:\n",
    "            return 'ad A'\n",
    "        elif a == 6 and b == 7:\n",
    "            return 'ad B'\n",
    "        elif a >= 7:\n",
    "            return 'A wins'\n",
    "        elif b >= 7:\n",
    "            return 'B wins'\n",
    "        else:\n",
    "            return f'{a}-{b}'\n",
    "    \n",
    "    @staticmethod\n",
    "    def _server(a, b, first_server):\n",
    "        UNKNOWN = 'unknown'\n",
    "        if a >= 7 and b < 6:\n",
    "            return None # A has already won\n",
    "        elif b >= 7 and a < 6:\n",
    "            return None # B has already won\n",
    "        elif a >= 6 and b >= 6:\n",
    "            return UNKNOWN # A and B are 6-6 or later, serving alternates\n",
    "        else:\n",
    "            if first_server == 'A':\n",
    "                serve_order = 'ABBA'\n",
    "            elif first_server == 'B':\n",
    "                serve_order = 'BAAB'\n",
    "            else:\n",
    "                raise ValueError('invalid player', first_server)\n",
    "            return serve_order[(a+b)%4]\n",
    "\n",
    "    @staticmethod\n",
    "    def _pos(a, b):\n",
    "        if a == 8 or (a == 7 and b < 6):\n",
    "            return (-4, 15)\n",
    "        elif b == 8 or (b == 7 and a < 6):\n",
    "            return (4, 15)\n",
    "        elif a == 7 and b == 6:\n",
    "            return (-2, 14)\n",
    "        elif a == 6 and b == 7:\n",
    "            return (2, 14)\n",
    "        else:\n",
    "            return (b - a), (a + b)\n",
    "\n",
    "    @staticmethod\n",
    "    def _next_score(winner, loser):\n",
    "        if winner <=6:\n",
    "            if loser == 7:\n",
    "                return 6, 6\n",
    "            else:\n",
    "                return winner+1, loser\n",
    "        elif winner == 7 and loser == 6:\n",
    "            return 8, 6\n",
    "        else:\n",
    "            raise ValueError('invalid score', winner, loser)"
   ]
  },
  {
   "cell_type": "markdown",
   "metadata": {},
   "source": [
    "As mentioned above, this first `class` is just a factory, appropriately called `TieBreakScoreEnum`. We call the `create()` class method to actually create the object we want to use."
   ]
  },
  {
   "cell_type": "code",
   "execution_count": 9,
   "metadata": {},
   "outputs": [
    {
     "data": {
      "text/plain": [
       "enum.EnumMeta"
      ]
     },
     "execution_count": 9,
     "metadata": {},
     "output_type": "execute_result"
    }
   ],
   "source": [
    "TieBreakScore = TieBreakScoreEnum.create('TieBreakScore')\n",
    "type(TieBreakScore)"
   ]
  },
  {
   "cell_type": "markdown",
   "metadata": {},
   "source": [
    "Notice that the `type` of this object named `TieBreakScore` is actually a `class`! In Python, [everything is an object](https://jeffknupp.com/blog/2013/02/14/drastically-improve-your-python-understanding-pythons-execution-model/), including classes themselves. Let's look at what's inside this new class."
   ]
  },
  {
   "cell_type": "code",
   "execution_count": 10,
   "metadata": {},
   "outputs": [
    {
     "data": {
      "text/plain": [
       "65"
      ]
     },
     "execution_count": 10,
     "metadata": {},
     "output_type": "execute_result"
    }
   ],
   "source": [
    "len(TieBreakScore)"
   ]
  },
  {
   "cell_type": "markdown",
   "metadata": {},
   "source": [
    "This class has 65 members. Let's see what they are."
   ]
  },
  {
   "cell_type": "code",
   "execution_count": 11,
   "metadata": {},
   "outputs": [
    {
     "data": {
      "text/plain": [
       "[<TieBreakScore.a0b0: 1>,\n",
       " <TieBreakScore.a0b1: 2>,\n",
       " <TieBreakScore.a0b2: 3>,\n",
       " <TieBreakScore.a0b3: 4>,\n",
       " <TieBreakScore.a0b4: 5>,\n",
       " <TieBreakScore.a0b5: 6>,\n",
       " <TieBreakScore.a0b6: 7>,\n",
       " <TieBreakScore.a0b7: 8>,\n",
       " <TieBreakScore.a1b0: 9>,\n",
       " <TieBreakScore.a1b1: 10>,\n",
       " <TieBreakScore.a1b2: 11>,\n",
       " <TieBreakScore.a1b3: 12>,\n",
       " <TieBreakScore.a1b4: 13>,\n",
       " <TieBreakScore.a1b5: 14>,\n",
       " <TieBreakScore.a1b6: 15>,\n",
       " <TieBreakScore.a1b7: 16>,\n",
       " <TieBreakScore.a2b0: 17>,\n",
       " <TieBreakScore.a2b1: 18>,\n",
       " <TieBreakScore.a2b2: 19>,\n",
       " <TieBreakScore.a2b3: 20>,\n",
       " <TieBreakScore.a2b4: 21>,\n",
       " <TieBreakScore.a2b5: 22>,\n",
       " <TieBreakScore.a2b6: 23>,\n",
       " <TieBreakScore.a2b7: 24>,\n",
       " <TieBreakScore.a3b0: 25>,\n",
       " <TieBreakScore.a3b1: 26>,\n",
       " <TieBreakScore.a3b2: 27>,\n",
       " <TieBreakScore.a3b3: 28>,\n",
       " <TieBreakScore.a3b4: 29>,\n",
       " <TieBreakScore.a3b5: 30>,\n",
       " <TieBreakScore.a3b6: 31>,\n",
       " <TieBreakScore.a3b7: 32>,\n",
       " <TieBreakScore.a4b0: 33>,\n",
       " <TieBreakScore.a4b1: 34>,\n",
       " <TieBreakScore.a4b2: 35>,\n",
       " <TieBreakScore.a4b3: 36>,\n",
       " <TieBreakScore.a4b4: 37>,\n",
       " <TieBreakScore.a4b5: 38>,\n",
       " <TieBreakScore.a4b6: 39>,\n",
       " <TieBreakScore.a4b7: 40>,\n",
       " <TieBreakScore.a5b0: 41>,\n",
       " <TieBreakScore.a5b1: 42>,\n",
       " <TieBreakScore.a5b2: 43>,\n",
       " <TieBreakScore.a5b3: 44>,\n",
       " <TieBreakScore.a5b4: 45>,\n",
       " <TieBreakScore.a5b5: 46>,\n",
       " <TieBreakScore.a5b6: 47>,\n",
       " <TieBreakScore.a5b7: 48>,\n",
       " <TieBreakScore.a6b0: 49>,\n",
       " <TieBreakScore.a6b1: 50>,\n",
       " <TieBreakScore.a6b2: 51>,\n",
       " <TieBreakScore.a6b3: 52>,\n",
       " <TieBreakScore.a6b4: 53>,\n",
       " <TieBreakScore.a6b5: 54>,\n",
       " <TieBreakScore.a6b6: 55>,\n",
       " <TieBreakScore.a6b7: 56>,\n",
       " <TieBreakScore.a7b0: 57>,\n",
       " <TieBreakScore.a7b1: 58>,\n",
       " <TieBreakScore.a7b2: 59>,\n",
       " <TieBreakScore.a7b3: 60>,\n",
       " <TieBreakScore.a7b4: 61>,\n",
       " <TieBreakScore.a7b5: 62>,\n",
       " <TieBreakScore.a7b6: 63>,\n",
       " <TieBreakScore.a8b6: 64>,\n",
       " <TieBreakScore.a6b8: 65>]"
      ]
     },
     "execution_count": 11,
     "metadata": {},
     "output_type": "execute_result"
    }
   ],
   "source": [
    "[member for member in TieBreakScore]"
   ]
  },
  {
   "cell_type": "markdown",
   "metadata": {},
   "source": [
    "#### Scores After 6-6\n",
    "\n",
    "Notice that we only have scores up to a maximum of 8 points to either player $A$ or player $B$. A tie-break could in principle have an infinite number of points, since a player has to win by at least two points. Any tied scores after 6-6 are equivalent to 6-6, and should be treated the same as 6-6. The situation is similar with the ad scores: 8-7 is equivalent to 7-6, and 7-8 is equivalent to 6-7. So we only keep track of of the lowest possible scores after reaching 6-6.\n",
    "\n",
    "#### Methods and Properties\n",
    "\n",
    "The `TieBreakScore` object provides a number of methods and properties to make it easier to work with tie-break scores. Here are some examples."
   ]
  },
  {
   "cell_type": "code",
   "execution_count": 12,
   "metadata": {},
   "outputs": [
    {
     "data": {
      "text/plain": [
       "(7, 6)"
      ]
     },
     "execution_count": 12,
     "metadata": {},
     "output_type": "execute_result"
    }
   ],
   "source": [
    "score = TieBreakScore['a7b6']\n",
    "score.a, score.b"
   ]
  },
  {
   "cell_type": "code",
   "execution_count": 13,
   "metadata": {},
   "outputs": [
    {
     "data": {
      "text/plain": [
       "'7-6'"
      ]
     },
     "execution_count": 13,
     "metadata": {},
     "output_type": "execute_result"
    }
   ],
   "source": [
    "score.score"
   ]
  },
  {
   "cell_type": "code",
   "execution_count": 14,
   "metadata": {},
   "outputs": [
    {
     "data": {
      "text/plain": [
       "'ad A'"
      ]
     },
     "execution_count": 14,
     "metadata": {},
     "output_type": "execute_result"
    }
   ],
   "source": [
    "score.state"
   ]
  },
  {
   "cell_type": "code",
   "execution_count": 15,
   "metadata": {},
   "outputs": [
    {
     "data": {
      "text/plain": [
       "<TieBreakScore.a8b6: 64>"
      ]
     },
     "execution_count": 15,
     "metadata": {},
     "output_type": "execute_result"
    }
   ],
   "source": [
    "score.next_score(winner='A')"
   ]
  },
  {
   "cell_type": "code",
   "execution_count": 16,
   "metadata": {},
   "outputs": [
    {
     "data": {
      "text/plain": [
       "'A wins'"
      ]
     },
     "execution_count": 16,
     "metadata": {},
     "output_type": "execute_result"
    }
   ],
   "source": [
    "score.next_score(winner='A').state"
   ]
  },
  {
   "cell_type": "code",
   "execution_count": 17,
   "metadata": {},
   "outputs": [
    {
     "data": {
      "text/plain": [
       "True"
      ]
     },
     "execution_count": 17,
     "metadata": {},
     "output_type": "execute_result"
    }
   ],
   "source": [
    "score.next_score(winner='A').finished"
   ]
  },
  {
   "cell_type": "code",
   "execution_count": 18,
   "metadata": {},
   "outputs": [
    {
     "data": {
      "text/plain": [
       "<TieBreakScore.a6b6: 55>"
      ]
     },
     "execution_count": 18,
     "metadata": {},
     "output_type": "execute_result"
    }
   ],
   "source": [
    "score.next_score(winner='B')"
   ]
  },
  {
   "cell_type": "code",
   "execution_count": 19,
   "metadata": {},
   "outputs": [
    {
     "data": {
      "text/plain": [
       "'no ad'"
      ]
     },
     "execution_count": 19,
     "metadata": {},
     "output_type": "execute_result"
    }
   ],
   "source": [
    "score.next_score(winner='B').state"
   ]
  },
  {
   "cell_type": "code",
   "execution_count": 20,
   "metadata": {},
   "outputs": [
    {
     "data": {
      "text/plain": [
       "[<TieBreakScore.a0b7: 8>,\n",
       " <TieBreakScore.a1b7: 16>,\n",
       " <TieBreakScore.a2b7: 24>,\n",
       " <TieBreakScore.a3b7: 32>,\n",
       " <TieBreakScore.a4b7: 40>,\n",
       " <TieBreakScore.a5b7: 48>]"
      ]
     },
     "execution_count": 20,
     "metadata": {},
     "output_type": "execute_result"
    }
   ],
   "source": [
    "TieBreakScore.winning_score(player='B', simple_wins=True)"
   ]
  },
  {
   "cell_type": "markdown",
   "metadata": {},
   "source": [
    "Notice that the `winning_score()` method provides for the `simple_wins` parameter. If this parameter is `True`, the method only returns wins for the specified player that don't go through 6-6. This is useful, since 6-6 and later scores need to be handled carefully."
   ]
  },
  {
   "cell_type": "markdown",
   "metadata": {},
   "source": [
    "### Modeling a Tennis Tie-Break\n",
    "\n",
    "Similar to our simple model of a tennis game, there are two basic concepts to model a tie-break. The score is the current state of the tie-break, and a point is the process by which the score changes. Each distinct point has a starting score, and can wind up in two possible ending scores.\n",
    "\n",
    "In the language of graph theory, this means that the scores can be represented by the [_nodes_](https://en.wikipedia.org/wiki/Vertex_(graph_theory%29) (also called _vertices_) of the graph. The points will be represented by the [_edges_](https://en.wikipedia.org/wiki/Glossary_of_graph_theory_terms#edge) of the graph.\n",
    "\n",
    "Since we have a `class` to represent the nodes (the scores), let's define a `class` to represent the edges (the points)."
   ]
  },
  {
   "cell_type": "code",
   "execution_count": 21,
   "metadata": {},
   "outputs": [],
   "source": [
    "class TieBreakPoint:\n",
    "    \"\"\"A tennis tie-break point.\"\"\"\n",
    "    \n",
    "    def __init__(self, start_score, end_score):\n",
    "        self._start = start_score\n",
    "        self._end = end_score\n",
    "        self._server = start_score.server\n",
    "        self._winner = TieBreakPoint._point_winner(start_score, end_score)\n",
    "        self._label = TieBreakPoint._point_label(self.server, self.winner)\n",
    "        self._prob_symbol = TieBreakPoint._point_prob_symbol(self.server, self.winner)\n",
    "        \n",
    "    @property\n",
    "    def start(self):\n",
    "        \"\"\"Starting score.\"\"\"\n",
    "        return self._start\n",
    "    \n",
    "    @property\n",
    "    def end(self):\n",
    "        \"\"\"Ending score.\"\"\"\n",
    "        return self._end\n",
    "    \n",
    "    @property\n",
    "    def server(self):\n",
    "        \"\"\"Player who serves on this point.\"\"\"\n",
    "        return self._server\n",
    "    \n",
    "    @property\n",
    "    def winner(self):\n",
    "        \"\"\"Player who won this point.\"\"\"\n",
    "        return self._winner\n",
    "    \n",
    "    @property\n",
    "    def label(self):\n",
    "        \"\"\"Graph edge label for this point.\"\"\"\n",
    "        return self._label\n",
    "    \n",
    "    @property\n",
    "    def prob_symbol(self):\n",
    "        \"\"\"Symbolic probability of winning player to win this point.\"\"\"\n",
    "        return self._prob_symbol\n",
    "    \n",
    "    # Below are helper functions not meant to be called from outside this class.\n",
    "    \n",
    "    @staticmethod\n",
    "    def _point_winner(start_score, end_score):\n",
    "        \"\"\"Determine who won the point based upon the start and end score.\"\"\"\n",
    "        if end_score.state in ['A wins', 'ad A']:\n",
    "            return 'A'\n",
    "        elif end_score.state in ['B wins', 'ad B']:\n",
    "            return 'B'\n",
    "        elif end_score.state == 'no ad':\n",
    "            if start_score.state == 'ad A':\n",
    "                return 'B'\n",
    "            elif start_score.state == 'ad B':\n",
    "                return 'A'\n",
    "            else:\n",
    "                return 'A' if (end_score.a > start_score.a) else 'B'\n",
    "        else:\n",
    "            return 'A' if (end_score.a > start_score.a) else 'B'\n",
    "        \n",
    "    @staticmethod\n",
    "    def _point_label(server, winner):\n",
    "        if server in ['A', 'B']:\n",
    "            a_win_label = 'a' if server == 'A' else '1-b'\n",
    "            b_win_label = '1-a' if server == 'A' else 'b'\n",
    "        else:\n",
    "            a_win_label = 'varies'\n",
    "            b_win_label = 'varies'\n",
    "        return a_win_label if winner == 'A' else b_win_label\n",
    "    \n",
    "    @staticmethod\n",
    "    def _point_prob_symbol(server, winner):\n",
    "        if server in ['A', 'B']:\n",
    "            a_win_symbol = 'a' if server == 'A' else '1-b'\n",
    "            b_win_symbol = '1-a' if server == 'A' else 'b'\n",
    "        else:\n",
    "            a_win_symbol = None\n",
    "            b_win_symbol = None\n",
    "        return a_win_symbol if winner == 'A' else b_win_symbol"
   ]
  },
  {
   "cell_type": "markdown",
   "metadata": {},
   "source": [
    "Similar to the tennis game, we will represent a tie-break graph using the `networkx` package to handle all the details."
   ]
  },
  {
   "cell_type": "code",
   "execution_count": 22,
   "metadata": {},
   "outputs": [],
   "source": [
    "class TieBreak:\n",
    "    \"\"\"Markov chain model of a tennis tie-break.\"\"\"\n",
    "    \n",
    "    def __init__(self):\n",
    "        self._G = nx.MultiDiGraph()\n",
    "        self._add_nodes()\n",
    "        self._add_edges()\n",
    "    \n",
    "    @property\n",
    "    def graph(self):\n",
    "        \"\"\"NetworkX graph object.\"\"\"\n",
    "        return self._G\n",
    "    \n",
    "    @property\n",
    "    def scores(self):\n",
    "        \"\"\"All possible scores.\"\"\"\n",
    "        return [score for score, data in self.graph.nodes(data=True)]\n",
    "        \n",
    "    @property\n",
    "    def points(self):\n",
    "        \"\"\"All possible points.\"\"\"\n",
    "        return [data['object'] for start_score, end_score, data in self._G.edges(data=True)]\n",
    "    \n",
    "    def score_sequences(self, start=TieBreakScore.start(), end=None):\n",
    "        \"\"\"All simple paths between a start node and an end node.\"\"\"\n",
    "        return (path for path in nx.all_simple_paths(\n",
    "            self._G,\n",
    "            source=start,\n",
    "            target=end,\n",
    "        ))\n",
    "    \n",
    "    def point_sequences(self, start=TieBreakScore.start(), end=None):\n",
    "        \"\"\"All simple points paths between a start score and an end score.\"\"\"\n",
    "        paths = [list(nx.utils.pairwise(path)) for path in self.score_sequences(start, end)]\n",
    "        return [[self.graph.edges[(point[0], point[1], 0)]['object'] for point in path] for path in paths]\n",
    "    \n",
    "    def simple_win_paths(self, win_score=None, player=None):\n",
    "        if win_score:\n",
    "            return list(self.point_sequences(end=win_score))\n",
    "        else:\n",
    "            win_scores = TieBreakScore.winning_score(player, simple_wins=True)\n",
    "            return [path for score in win_scores for path in list(self.point_sequences(end=score))]\n",
    "    \n",
    "    def paths_to_no_ad(self):\n",
    "        return list(self.point_sequences(end=TieBreakScore.from_scores(6, 6)))\n",
    "    \n",
    "    def draw(self, ax):\n",
    "        \"\"\"Draw graph of the game Markov chain.\"\"\"\n",
    "        pos = nx.get_node_attributes(self.graph, 'pos')\n",
    "        node_labels = {n: d['label'] for n, d in self._G.nodes(data=True)}\n",
    "        edge_labels = {(n1, n2): d['label'] for n1, n2, d in self._G.edges(data=True)}\n",
    "        nx.draw_networkx(\n",
    "            self.graph,\n",
    "            ax=ax,\n",
    "            pos=pos,\n",
    "            node_size=1750,\n",
    "            node_color='yellow',\n",
    "            with_labels=False,\n",
    "            edgecolors='grey'\n",
    "        )\n",
    "        nodes = nx.draw_networkx_labels(\n",
    "            self.graph,\n",
    "            ax=ax,\n",
    "            pos=pos,\n",
    "            labels=node_labels,\n",
    "        )\n",
    "        edges = nx.draw_networkx_edge_labels(\n",
    "            self.graph,\n",
    "            ax=ax,\n",
    "            pos=pos,\n",
    "            label_pos=0.5,\n",
    "            font_size=8,\n",
    "            edge_labels=edge_labels,\n",
    "        )\n",
    "        return ax\n",
    "    \n",
    "    # Below are helper functions not meant to be called from outside this class.\n",
    "    \n",
    "    def _add_nodes(self):\n",
    "        for score in TieBreakScore:\n",
    "            x, y = score.pos\n",
    "            self.graph.add_node(\n",
    "                score,\n",
    "                label=score.state,\n",
    "                pos=(x, y),\n",
    "            )\n",
    "    \n",
    "    @staticmethod\n",
    "    def _get_edges():\n",
    "        node = TieBreakScore.start()\n",
    "        nodes_to_check = deque()\n",
    "        nodes_to_check.append(node)\n",
    "        nodes_visited = set()\n",
    "        edges = deque()\n",
    "        while nodes_to_check:\n",
    "            node = nodes_to_check.popleft()\n",
    "            nodes_visited.add(node)\n",
    "            # Get edge for case when A wins point\n",
    "            a_wins = node.next_score(winner='A')\n",
    "            if a_wins:\n",
    "                edges.append(TieBreakPoint(node, a_wins))\n",
    "                if a_wins not in nodes_visited and a_wins not in nodes_to_check and not a_wins.finished:\n",
    "                    nodes_to_check.append(a_wins)\n",
    "            # Get edge for case when B wins point\n",
    "            b_wins = node.next_score(winner='B')\n",
    "            if b_wins:\n",
    "                edges.append(TieBreakPoint(node, b_wins))\n",
    "                if b_wins not in nodes_visited and b_wins not in nodes_to_check and not b_wins.finished:\n",
    "                    nodes_to_check.append(b_wins)\n",
    "        return edges\n",
    "    \n",
    "    def _add_edges(self):\n",
    "        edges = TieBreak._get_edges()\n",
    "\n",
    "        for edge in edges:                        \n",
    "            self._G.add_edge(\n",
    "                edge.start,\n",
    "                edge.end,\n",
    "                label=edge.label,\n",
    "                prob_symbol=edge.prob_symbol,\n",
    "                object=edge,\n",
    "            )"
   ]
  },
  {
   "cell_type": "markdown",
   "metadata": {},
   "source": [
    "### Analyzing Tie-Breaks\n",
    "\n",
    "We can use this Python model to do a lot of useful analysis about tennis tie-breaks."
   ]
  },
  {
   "cell_type": "code",
   "execution_count": 23,
   "metadata": {},
   "outputs": [
    {
     "data": {
      "text/plain": [
       "65"
      ]
     },
     "execution_count": 23,
     "metadata": {},
     "output_type": "execute_result"
    }
   ],
   "source": [
    "tiebreak = TieBreak()\n",
    "len(tiebreak.scores)"
   ]
  },
  {
   "cell_type": "markdown",
   "metadata": {},
   "source": [
    "As we saw, this tie-break model distinguishes between 65 different potential points. As discussed above, all equivalent points greater than 6-6 are treated identically. We will have a lot more to say about the implication of this later. Now let's see how many distinct tie-break points the model represents."
   ]
  },
  {
   "cell_type": "code",
   "execution_count": 24,
   "metadata": {},
   "outputs": [
    {
     "data": {
      "text/plain": [
       "102"
      ]
     },
     "execution_count": 24,
     "metadata": {},
     "output_type": "execute_result"
    }
   ],
   "source": [
    "len(tiebreak.points)"
   ]
  },
  {
   "cell_type": "markdown",
   "metadata": {},
   "source": [
    "#### Visualizing the Markov Chain\n",
    "\n",
    "Now let's visualize the tennis tie-break Markov chain."
   ]
  },
  {
   "cell_type": "code",
   "execution_count": 25,
   "metadata": {},
   "outputs": [
    {
     "data": {
      "image/png": "[encoded data removed]",
      "text/plain": [
       "<matplotlib.figure.Figure at 0x10ce44438>"
      ]
     },
     "metadata": {},
     "output_type": "display_data"
    }
   ],
   "source": [
    "fig, ax = plt.subplots(figsize=(18, 12))\n",
    "ax = tiebreak.draw(ax)\n",
    "limits = plt.axis('off')\n",
    "PNGFILE = IMAGES_DIR.joinpath('tennistiebreakchain.png')\n",
    "plt.savefig(str(PNGFILE))\n",
    "plt.show()"
   ]
  },
  {
   "cell_type": "markdown",
   "metadata": {},
   "source": [
    "You can see the probabilities of winning and losing the point displayed symbolically on each edge of the graph.\n",
    "\n",
    "You can immediately see how this graph is much more complicated than for the normal tennis game. In addition to having many more potential points, you can see that the probability structure is much more complicated, because of the alternation in serving.\n",
    "\n",
    "#### Change in Serve\n",
    "\n",
    "Player $A$ serves for the first point, so the probabilities for the two possible following scores are $a$ (if player $A$ wins the point) and $1-a$ (if player $A$ loses the point). Whether the next score is 1-0 or 0-1, the probabilities for the next level of the graph depend only upon $b$, since player $B$ now has the serve.\n",
    "\n",
    "Because of the rules about change in serve, we are going to need to keep track of how many points are played to correctly compute the win probabilities for each player.\n",
    "\n",
    "#### Scores after 6-6\n",
    "\n",
    "Since 6-6, 7-7 and all later tied scores are equivalent, the Markov chain represents these scores as the same state (\"no ad\"). Similarly, 7-6, 8-7 and all later scores where $A$ leads by 1 point are equivalent, and are represented by the same state (\"ad $A$\"). The state \"ad $B$\" represents 6-7 and all equivalent scores. Notice that in the figure above, the arrows between \"no ad\" and \"ad $A$\" point in both directions, since the score can bounce between these two nodes forever. The same is true for the arrows connecting \"no ad\" and \"ad $B$\".\n",
    "\n",
    "Furthermore, if you look at the figure, you will see that probabilities are not well-defined for any of the points after 6-6. Because of the rules for change in serve, the server will alternate each time the tie-break reaches one of these states, even as the score increases. The first time the tie-break reaches 6-6, player $B$ will serve, but if play gets to 7-7, then player $A$ will serve, and so on. The same serve alternation is true for the ad points.\n",
    "\n",
    "Fortunately, you will see below that this doesn't prevent us from solving for the win probabilities for paths going through 6-6.\n",
    "\n",
    "#### Path Lengths to a Win\n",
    "\n",
    "To compute win probabilities, we need to count the number of paths from the start of the game to a win by either player $A$ or player $B$. We have to avoid cycles going through 6-6, which could be infinite.\n",
    "\n",
    "Let's start with the simple wins for player $A$."
   ]
  },
  {
   "cell_type": "code",
   "execution_count": 26,
   "metadata": {},
   "outputs": [
    {
     "data": {
      "text/plain": [
       "6"
      ]
     },
     "execution_count": 26,
     "metadata": {},
     "output_type": "execute_result"
    }
   ],
   "source": [
    "win_scores = TieBreakScore.winning_score(player='A', simple_wins=True)\n",
    "len(win_scores)"
   ]
  },
  {
   "cell_type": "code",
   "execution_count": 27,
   "metadata": {},
   "outputs": [
    {
     "data": {
      "text/plain": [
       "['7-0', '7-1', '7-2', '7-3', '7-4', '7-5']"
      ]
     },
     "execution_count": 27,
     "metadata": {},
     "output_type": "execute_result"
    }
   ],
   "source": [
    "[score.score for score in win_scores]"
   ]
  },
  {
   "cell_type": "code",
   "execution_count": 28,
   "metadata": {},
   "outputs": [
    {
     "data": {
      "text/plain": [
       "792"
      ]
     },
     "execution_count": 28,
     "metadata": {},
     "output_type": "execute_result"
    }
   ],
   "source": [
    "paths = tiebreak.simple_win_paths(player='A')\n",
    "len(paths)"
   ]
  },
  {
   "cell_type": "markdown",
   "metadata": {},
   "source": [
    "There are 792 distinct paths from 0-0 to player $A$ getting 7 points, without player $B$ getting 6 points. We will need to know the lengths of these paths in order to figure out who is serving on each point."
   ]
  },
  {
   "cell_type": "code",
   "execution_count": 29,
   "metadata": {},
   "outputs": [
    {
     "data": {
      "text/plain": [
       "Counter({7: 1, 8: 7, 9: 28, 10: 84, 11: 210, 12: 462})"
      ]
     },
     "execution_count": 29,
     "metadata": {},
     "output_type": "execute_result"
    }
   ],
   "source": [
    "Counter(len(path) for path in paths)"
   ]
  },
  {
   "cell_type": "markdown",
   "metadata": {},
   "source": [
    "There is only one path with a length of 7 points. That is 7-0, in which $A$ wins every point. We can examine the start score, end score, server, winner, and probability of each point on this path."
   ]
  },
  {
   "cell_type": "code",
   "execution_count": 30,
   "metadata": {},
   "outputs": [
    {
     "data": {
      "text/plain": [
       "[('0-0', '1-0', 'A', 'A', 'a'),\n",
       " ('1-0', '2-0', 'B', 'A', '1-b'),\n",
       " ('2-0', '3-0', 'B', 'A', '1-b'),\n",
       " ('3-0', '4-0', 'A', 'A', 'a'),\n",
       " ('4-0', '5-0', 'A', 'A', 'a'),\n",
       " ('5-0', '6-0', 'B', 'A', '1-b'),\n",
       " ('6-0', '7-0', 'B', 'A', '1-b')]"
      ]
     },
     "execution_count": 30,
     "metadata": {},
     "output_type": "execute_result"
    }
   ],
   "source": [
    "[(point.start.score, point.end.score, point.server, point.winner, point.prob_symbol) for point in paths[0]]"
   ]
  },
  {
   "cell_type": "markdown",
   "metadata": {},
   "source": [
    "Notice how the above code automatically keeps track of which player is serving, so the probability of each point is correct. Since the points are independent, we are going to multiply all of these probabilities along each path. Since order doesn't matter in multiplication, we just need to count how many of each probability occur along the path."
   ]
  },
  {
   "cell_type": "code",
   "execution_count": 31,
   "metadata": {},
   "outputs": [
    {
     "data": {
      "text/plain": [
       "Counter({'1-b': 4, 'a': 3})"
      ]
     },
     "execution_count": 31,
     "metadata": {},
     "output_type": "execute_result"
    }
   ],
   "source": [
    "Counter([point.prob_symbol for point in paths[0]])"
   ]
  },
  {
   "cell_type": "markdown",
   "metadata": {},
   "source": [
    "#### Symbolically Computing Path Probability\n",
    "\n",
    "Here is Python code which will compute the probability along each path, using algebra (symbols). Later, we will change focus to the actual numerical values of the probability. For now, however, we want to use Python to find the general formula for the tie-break win probabilities.\n",
    "\n",
    "In order to group terms algebraically, we will need to arrange the probabilities in consistent order so our code can count each term correctly. Any path that multiplies the same number of point probabilities is equivalent in our simple model. The order doesn't matter.\n",
    "\n",
    "We could choose any order we want, but we will arbitrarily choose to use the order $a$, $1-b$, $b$, $1-a$. This corresponds to the outcomes (1) $A$ wins on serve, (2) $A$ wins on return, (3) $B$ wins on serve and (4) $B$ wins on return."
   ]
  },
  {
   "cell_type": "code",
   "execution_count": 32,
   "metadata": {},
   "outputs": [],
   "source": [
    "SORT_ORDER = {'a': 1, '1-b': 2, 'b': 3, '1-a': 4} # points won by A first, then B"
   ]
  },
  {
   "cell_type": "markdown",
   "metadata": {},
   "source": [
    "Once we've defined the sort order, all we need to do is count the probabilty symbols along the path."
   ]
  },
  {
   "cell_type": "code",
   "execution_count": 33,
   "metadata": {},
   "outputs": [],
   "source": [
    "def path_exponents(path):\n",
    "    \"\"\"Exponents for each primitive probabilty {a, b, (1-a), (1-b)} in a path through the Markov chain.\"\"\"\n",
    "    return Counter(sorted([point.prob_symbol for point in path], key=lambda s: SORT_ORDER[s]))"
   ]
  },
  {
   "cell_type": "code",
   "execution_count": 34,
   "metadata": {},
   "outputs": [
    {
     "data": {
      "text/plain": [
       "Counter({'1-b': 4, 'a': 3})"
      ]
     },
     "execution_count": 34,
     "metadata": {},
     "output_type": "execute_result"
    }
   ],
   "source": [
    "path_exponents(paths[0])"
   ]
  },
  {
   "cell_type": "markdown",
   "metadata": {},
   "source": [
    "The above code keeps track of how many distinct point probabilities occur on each distinct path. Now, we want to create an algebraic expression for the path that represents multiplication of the point probabilities.\n",
    "\n",
    "Repeated multiplication of probabilities is equivalent to raising the probabilities to an exponent. We will create a string with the Python `pow()` operator to represent the exponentation, and we will use the Python multiplication operator `*` to represent multiplication of the different point probabilities."
   ]
  },
  {
   "cell_type": "code",
   "execution_count": 35,
   "metadata": {},
   "outputs": [],
   "source": [
    "def path_expression(path):\n",
    "    \"\"\"Expression (in valid Python) for probability of particular path through the Markov chain.\"\"\"\n",
    "    return '*'.join(f'pow({base},{exponent})' for base, exponent in path_exponents(path).items())"
   ]
  },
  {
   "cell_type": "code",
   "execution_count": 36,
   "metadata": {},
   "outputs": [
    {
     "data": {
      "text/plain": [
       "'pow(a,3)*pow(1-b,4)'"
      ]
     },
     "execution_count": 36,
     "metadata": {},
     "output_type": "execute_result"
    }
   ],
   "source": [
    "path_expression(paths[0])"
   ]
  },
  {
   "cell_type": "markdown",
   "metadata": {},
   "source": [
    "Notice that this expression is valid Python code. For example, if we supply values for $a$ and $b$, we can use Pytnon's `eval()` function to compute the expression."
   ]
  },
  {
   "cell_type": "code",
   "execution_count": 37,
   "metadata": {},
   "outputs": [
    {
     "data": {
      "text/plain": [
       "0.013499999999999998"
      ]
     },
     "execution_count": 37,
     "metadata": {},
     "output_type": "execute_result"
    }
   ],
   "source": [
    "a = 0.6\n",
    "b = 0.5\n",
    "eval('pow(a,3)*pow(1-b,4)')"
   ]
  },
  {
   "cell_type": "markdown",
   "metadata": {},
   "source": [
    "Now let's run this code on a slightly more interesting outcome: $A$ wins 7-1. The paths to this outcome have a length of 8 points, and we know from the above `Counter()` expression that there are 7 of these paths."
   ]
  },
  {
   "cell_type": "code",
   "execution_count": 38,
   "metadata": {},
   "outputs": [
    {
     "data": {
      "text/plain": [
       "['pow(a,4)*pow(1-b,3)*pow(b,1)',\n",
       " 'pow(a,4)*pow(1-b,3)*pow(b,1)',\n",
       " 'pow(a,3)*pow(1-b,4)*pow(1-a,1)',\n",
       " 'pow(a,3)*pow(1-b,4)*pow(1-a,1)',\n",
       " 'pow(a,4)*pow(1-b,3)*pow(b,1)',\n",
       " 'pow(a,4)*pow(1-b,3)*pow(b,1)',\n",
       " 'pow(a,3)*pow(1-b,4)*pow(1-a,1)']"
      ]
     },
     "execution_count": 38,
     "metadata": {},
     "output_type": "execute_result"
    }
   ],
   "source": [
    "[path_expression(path) for path in paths if len(path) == 8]"
   ]
  },
  {
   "cell_type": "markdown",
   "metadata": {},
   "source": [
    "Now we can use another `Counter()` to group these paths by probability. Since the points are assumed to be independent, if the probabilities are the same, the paths can be treated equivalently, irrespective of the order in which the points are won are lost by each player."
   ]
  },
  {
   "cell_type": "code",
   "execution_count": 39,
   "metadata": {},
   "outputs": [
    {
     "data": {
      "text/plain": [
       "Counter({'pow(a,3)*pow(1-b,4)*pow(1-a,1)': 3,\n",
       "         'pow(a,4)*pow(1-b,3)*pow(b,1)': 4})"
      ]
     },
     "execution_count": 39,
     "metadata": {},
     "output_type": "execute_result"
    }
   ],
   "source": [
    "Counter([path_expression(path) for path in paths if len(path) == 8])"
   ]
  },
  {
   "cell_type": "markdown",
   "metadata": {},
   "source": [
    "In this case, out of the 7 paths to 7-1, 3 fall into one category and 4 fall into another category. Notice that if the outcome is 7-1, player $A$ has served 3 times and player $B$ has served 4 times. The first path category is where $A$ loses 1 point on his or her serve, and wins all 4 points on player $B$'s serve. The second category is where $B$ wins 1 point out of  his or her serve, but loses the other 3 points.\n",
    "\n",
    "The counts above are the cofficients for each probability expression, since they count how many times each expression will occur in the final probability formula. Let's create a function to compute the coefficients across all the paths."
   ]
  },
  {
   "cell_type": "code",
   "execution_count": 40,
   "metadata": {},
   "outputs": [],
   "source": [
    "def coefficients(paths, points=None):\n",
    "    \"\"\"Cefficients summarizing number of distinct path expressions.\"\"\"\n",
    "    if points:\n",
    "        return Counter([path_expression(path) for path in paths if len(path) == points])\n",
    "    else:\n",
    "        return Counter([path_expression(path) for path in paths])"
   ]
  },
  {
   "cell_type": "code",
   "execution_count": 41,
   "metadata": {},
   "outputs": [
    {
     "data": {
      "text/plain": [
       "Counter({'pow(a,3)*pow(1-b,4)*pow(1-a,1)': 3,\n",
       "         'pow(a,4)*pow(1-b,3)*pow(b,1)': 4})"
      ]
     },
     "execution_count": 41,
     "metadata": {},
     "output_type": "execute_result"
    }
   ],
   "source": [
    "coefficients(paths, points=8)"
   ]
  },
  {
   "cell_type": "markdown",
   "metadata": {},
   "source": [
    "Notice that the `coefficient()` function has an optional parameter `points`. This parameter lets us restrict the paths to a specified length, so we can look at each outcome separately if we want.\n",
    "\n",
    "The coefficients are useful, but also want to keep track of the probability terms and their exponents as well. This function uses Python's [regular expression](https://docs.python.org/3/howto/regex.html) module to extract the information for us."
   ]
  },
  {
   "cell_type": "code",
   "execution_count": 42,
   "metadata": {},
   "outputs": [],
   "source": [
    "def parsed(expression):\n",
    "    \"\"\"Sub-terms and exponnents for a probability expression.\"\"\"\n",
    "    return [(base, exponent) for base, exponent in re.findall('\\((1?-?[ab])[, ]+(\\d+)\\)', expression)]"
   ]
  },
  {
   "cell_type": "code",
   "execution_count": 43,
   "metadata": {},
   "outputs": [
    {
     "data": {
      "text/plain": [
       "[[('a', '4'), ('1-b', '3'), ('b', '1')],\n",
       " [('a', '3'), ('1-b', '4'), ('1-a', '1')]]"
      ]
     },
     "execution_count": 43,
     "metadata": {},
     "output_type": "execute_result"
    }
   ],
   "source": [
    "[parsed(expression) for expression in coefficients(paths, points=8)]"
   ]
  },
  {
   "cell_type": "markdown",
   "metadata": {},
   "source": [
    "Now, we can write the code to get a proper algebraic term. We want to have a cofficient and the multiplied point probabilities with their respective exponents. This function will do that for us. We want to have a nicely-ordered algebraic formula, so we will sort terms descending by leading exponent. Given our chosen sort order, the leading exponent is the exponent of the probabilty $a$."
   ]
  },
  {
   "cell_type": "code",
   "execution_count": 44,
   "metadata": {},
   "outputs": [],
   "source": [
    "def terms(coefficient, sort_by='a'):\n",
    "    \"\"\"Terms (coefficient and expression) for each distinct path expression.\"\"\"\n",
    "    def leading_exponent(expression):\n",
    "        # Look for the sub-term (base) that we want to sort by\n",
    "        found = [item for item in parsed(expression) if item[0] == sort_by]\n",
    "        if found:\n",
    "            # Get the exponent and return it to the outer function\n",
    "            assert len(found) == 1\n",
    "            return int(found[0][1])\n",
    "        else:\n",
    "            # The sub-term (base) wasn't found so it has exponent zero\n",
    "            return 0\n",
    "    return [\n",
    "        # Sort by leading exponent (default is the exponent of 'a')\n",
    "        (coefficient[expression], expression)\n",
    "            for expression in sorted(coefficient, key=leading_exponent, reverse=True)\n",
    "    ]"
   ]
  },
  {
   "cell_type": "code",
   "execution_count": 45,
   "metadata": {},
   "outputs": [
    {
     "data": {
      "text/plain": [
       "[(4, 'pow(a,4)*pow(1-b,3)*pow(b,1)'), (3, 'pow(a,3)*pow(1-b,4)*pow(1-a,1)')]"
      ]
     },
     "execution_count": 45,
     "metadata": {},
     "output_type": "execute_result"
    }
   ],
   "source": [
    "terms(coefficients(paths, points=8))"
   ]
  },
  {
   "cell_type": "markdown",
   "metadata": {},
   "source": [
    "Now we are ready to put it all together to get the formula for all the paths. As before, we have an optional parameter so we can restrict our focus to particular outcomes."
   ]
  },
  {
   "cell_type": "code",
   "execution_count": 46,
   "metadata": {},
   "outputs": [],
   "source": [
    "def formula(paths, sort_by='a', points=None):\n",
    "    \"\"\"Formula (in valid Python) for total probability represented by paths through Markov chain.\"\"\"\n",
    "    return ' + '.join(f'{term[0]}*{term[1]}' for term in terms(coefficients(paths, points), sort_by))"
   ]
  },
  {
   "cell_type": "markdown",
   "metadata": {},
   "source": [
    "Here is the formula for the probability that player $A$ wins 7-1, in valid Python code."
   ]
  },
  {
   "cell_type": "code",
   "execution_count": 47,
   "metadata": {},
   "outputs": [
    {
     "data": {
      "text/plain": [
       "'4*pow(a,4)*pow(1-b,3)*pow(b,1) + 3*pow(a,3)*pow(1-b,4)*pow(1-a,1)'"
      ]
     },
     "execution_count": 47,
     "metadata": {},
     "output_type": "execute_result"
    }
   ],
   "source": [
    "formula(paths, points=8)"
   ]
  },
  {
   "cell_type": "markdown",
   "metadata": {},
   "source": [
    "### Win Probabilities\n",
    "\n"
   ]
  },
  {
   "cell_type": "code",
   "execution_count": 48,
   "metadata": {},
   "outputs": [],
   "source": [
    "def simple_win_prob_formulas(player='A', points=None):\n",
    "    \"\"\"Formulas (in valid Python) for player winning a tie-break without going through 6-6.\"\"\"\n",
    "    win_scores = TieBreakScore.winning_score(player=player, simple_wins=True)\n",
    "    tiebreak = TieBreak()\n",
    "    paths = {score: tiebreak.simple_win_paths(win_score=score) for score in win_scores}\n",
    "    sort_by = 'a' if player == 'A' else 'b'\n",
    "    formulas = {score: formula(paths[score], sort_by=sort_by, points=points) for score in win_scores}\n",
    "    return formulas"
   ]
  },
  {
   "cell_type": "code",
   "execution_count": 49,
   "metadata": {},
   "outputs": [],
   "source": [
    "def prettyprint(probs):\n",
    "    for prob in probs:\n",
    "        if probs[prob]:\n",
    "            s = f'Prob({prob}) =\\n{probs[prob]}\\n'\n",
    "            s = s.replace('+ ', '+\\n')\n",
    "            print(s)"
   ]
  },
  {
   "cell_type": "code",
   "execution_count": 50,
   "metadata": {},
   "outputs": [
    {
     "name": "stdout",
     "output_type": "stream",
     "text": [
      "Prob(7-0) =\n",
      "1*pow(a,3)*pow(1-b,4)\n",
      "\n",
      "Prob(7-1) =\n",
      "4*pow(a,4)*pow(1-b,3)*pow(b,1) +\n",
      "3*pow(a,3)*pow(1-b,4)*pow(1-a,1)\n",
      "\n",
      "Prob(7-2) =\n",
      "6*pow(a,5)*pow(1-b,2)*pow(b,2) +\n",
      "16*pow(a,4)*pow(1-b,3)*pow(b,1)*pow(1-a,1) +\n",
      "6*pow(a,3)*pow(1-b,4)*pow(1-a,2)\n",
      "\n",
      "Prob(7-3) =\n",
      "4*pow(a,5)*pow(1-b,2)*pow(b,3) +\n",
      "30*pow(a,4)*pow(1-b,3)*pow(b,2)*pow(1-a,1) +\n",
      "40*pow(a,3)*pow(1-b,4)*pow(b,1)*pow(1-a,2) +\n",
      "10*pow(a,2)*pow(1-b,5)*pow(1-a,3)\n",
      "\n",
      "Prob(7-4) =\n",
      "5*pow(a,5)*pow(1-b,2)*pow(b,4) +\n",
      "50*pow(a,4)*pow(1-b,3)*pow(b,3)*pow(1-a,1) +\n",
      "100*pow(a,3)*pow(1-b,4)*pow(b,2)*pow(1-a,2) +\n",
      "50*pow(a,2)*pow(1-b,5)*pow(b,1)*pow(1-a,3) +\n",
      "5*pow(a,1)*pow(1-b,6)*pow(1-a,4)\n",
      "\n",
      "Prob(7-5) =\n",
      "6*pow(a,6)*pow(1-b,1)*pow(b,5) +\n",
      "75*pow(a,5)*pow(1-b,2)*pow(b,4)*pow(1-a,1) +\n",
      "200*pow(a,4)*pow(1-b,3)*pow(b,3)*pow(1-a,2) +\n",
      "150*pow(a,3)*pow(1-b,4)*pow(b,2)*pow(1-a,3) +\n",
      "30*pow(a,2)*pow(1-b,5)*pow(b,1)*pow(1-a,4) +\n",
      "1*pow(a,1)*pow(1-b,6)*pow(1-a,5)\n",
      "\n"
     ]
    }
   ],
   "source": [
    "prettyprint(simple_win_prob_formulas(player='A'))"
   ]
  },
  {
   "cell_type": "code",
   "execution_count": 51,
   "metadata": {},
   "outputs": [],
   "source": [
    "def simple_win_combinatorics(score):\n",
    "    assert score.a + score.b <= 12\n",
    "    assert score.finished\n",
    "    winner = 'A' if score.a == 7 else 'B'\n",
    "    # Figure out how many times each player served, and who served last\n",
    "    SERVES = 'ABBAABBAABBA'\n",
    "    serve_count = Counter(SERVES[:score.points])\n",
    "    winner_serves = serve_count['A'] if winner == 'A' else serve_count['B']\n",
    "    loser_serves = serve_count['B'] if winner == 'A' else serve_count['A']\n",
    "    # The winner must also be the winner of the last point\n",
    "    last_point_won_on_serve = (SERVES[score.points-1] == winner)\n",
    "    # Exclude the last point since we know who won it\n",
    "    if last_point_won_on_serve:\n",
    "        winner_serves -= 1\n",
    "    else:\n",
    "        loser_serves -= 1\n",
    "    # Loop through all possible combinations of winner winning\n",
    "    pairs = []\n",
    "    for winner_wins_on_serve in range(winner_serves, -1, -1):\n",
    "        winner_wins_on_return = 6 - winner_wins_on_serve\n",
    "        if winner_wins_on_return <= loser_serves:\n",
    "            pairs.append((winner_serves, winner_wins_on_serve, loser_serves, winner_wins_on_return))\n",
    "    print(f'{score.score}:')\n",
    "    for pair in pairs:\n",
    "        n = choose(pair[0], pair[1]) * choose(pair[2], pair[3])\n",
    "        print(f'choose({pair[0]}, {pair[1]}) * choose({pair[2]}, {pair[3]}) = {n}')\n",
    "    print()"
   ]
  },
  {
   "cell_type": "code",
   "execution_count": 52,
   "metadata": {},
   "outputs": [
    {
     "name": "stdout",
     "output_type": "stream",
     "text": [
      "7-0:\n",
      "choose(3, 3) * choose(3, 3) = 1\n",
      "\n",
      "7-1:\n",
      "choose(3, 3) * choose(4, 3) = 4\n",
      "choose(3, 2) * choose(4, 4) = 3\n",
      "\n",
      "7-2:\n",
      "choose(4, 4) * choose(4, 2) = 6\n",
      "choose(4, 3) * choose(4, 3) = 16\n",
      "choose(4, 2) * choose(4, 4) = 6\n",
      "\n",
      "7-3:\n",
      "choose(5, 5) * choose(4, 1) = 4\n",
      "choose(5, 4) * choose(4, 2) = 30\n",
      "choose(5, 3) * choose(4, 3) = 40\n",
      "choose(5, 2) * choose(4, 4) = 10\n",
      "\n",
      "7-4:\n",
      "choose(5, 5) * choose(5, 1) = 5\n",
      "choose(5, 4) * choose(5, 2) = 50\n",
      "choose(5, 3) * choose(5, 3) = 100\n",
      "choose(5, 2) * choose(5, 4) = 50\n",
      "choose(5, 1) * choose(5, 5) = 5\n",
      "\n",
      "7-5:\n",
      "choose(5, 5) * choose(6, 1) = 6\n",
      "choose(5, 4) * choose(6, 2) = 75\n",
      "choose(5, 3) * choose(6, 3) = 200\n",
      "choose(5, 2) * choose(6, 4) = 150\n",
      "choose(5, 1) * choose(6, 5) = 30\n",
      "choose(5, 0) * choose(6, 6) = 1\n",
      "\n"
     ]
    }
   ],
   "source": [
    "for score in win_scores:\n",
    "    simple_win_combinatorics(score)"
   ]
  },
  {
   "cell_type": "code",
   "execution_count": 53,
   "metadata": {},
   "outputs": [],
   "source": [
    "def prob_70(a, b):\n",
    "    return ppp.Prob(1*pow(a,3)*pow(1-b,4))"
   ]
  },
  {
   "cell_type": "code",
   "execution_count": 54,
   "metadata": {},
   "outputs": [],
   "source": [
    "def prob_71(a, b):\n",
    "    return ppp.Prob(\n",
    "        4*pow(a,4)*pow(1-b,3)*pow(b,1) +\n",
    "        3*pow(a,3)*pow(1-b,4)*pow(1-a,1)\n",
    "    )"
   ]
  },
  {
   "cell_type": "code",
   "execution_count": 55,
   "metadata": {},
   "outputs": [],
   "source": [
    "def prob_72(a, b):\n",
    "    return ppp.Prob(\n",
    "        6*pow(a,5)*pow(1-b,2)*pow(b,2) +\n",
    "        16*pow(a,4)*pow(1-b,3)*pow(b,1)*pow(1-a,1) +\n",
    "        6*pow(a,3)*pow(1-b,4)*pow(1-a,2)\n",
    "    )"
   ]
  },
  {
   "cell_type": "code",
   "execution_count": 56,
   "metadata": {},
   "outputs": [],
   "source": [
    "def prob_73(a, b):\n",
    "    return ppp.Prob(\n",
    "        4*pow(a,5)*pow(1-b,2)*pow(b,3) +\n",
    "        30*pow(a,4)*pow(1-b,3)*pow(b,2)*pow(1-a,1) +\n",
    "        40*pow(a,3)*pow(1-b,4)*pow(b,1)*pow(1-a,2) +\n",
    "        10*pow(a,2)*pow(1-b,5)*pow(1-a,3)\n",
    "    )"
   ]
  },
  {
   "cell_type": "code",
   "execution_count": 57,
   "metadata": {},
   "outputs": [],
   "source": [
    "def prob_74(a, b):\n",
    "    return ppp.Prob(\n",
    "        5*pow(a,5)*pow(1-b,2)*pow(b,4) +\n",
    "        50*pow(a,4)*pow(1-b,3)*pow(b,3)*pow(1-a,1) +\n",
    "        100*pow(a,3)*pow(1-b,4)*pow(b,2)*pow(1-a,2) +\n",
    "        50*pow(a,2)*pow(1-b,5)*pow(b,1)*pow(1-a,3) +\n",
    "        5*pow(a,1)*pow(1-b,6)*pow(1-a,4)\n",
    "    )"
   ]
  },
  {
   "cell_type": "code",
   "execution_count": 58,
   "metadata": {},
   "outputs": [],
   "source": [
    "def prob_75(a, b):\n",
    "    return ppp.Prob(\n",
    "        6*pow(a,6)*pow(1-b,1)*pow(b,5) +\n",
    "        75*pow(a,5)*pow(1-b,2)*pow(b,4)*pow(1-a,1) +\n",
    "        200*pow(a,4)*pow(1-b,3)*pow(b,3)*pow(1-a,2) +\n",
    "        150*pow(a,3)*pow(1-b,4)*pow(b,2)*pow(1-a,3) +\n",
    "        30*pow(a,2)*pow(1-b,5)*pow(b,1)*pow(1-a,4) +\n",
    "        1*pow(a,1)*pow(1-b,6)*pow(1-a,5)\n",
    "    )"
   ]
  },
  {
   "cell_type": "code",
   "execution_count": 59,
   "metadata": {},
   "outputs": [
    {
     "name": "stdout",
     "output_type": "stream",
     "text": [
      "Prob(0-7) =\n",
      "1*pow(b,4)*pow(1-a,3)\n",
      "\n",
      "Prob(1-7) =\n",
      "3*pow(a,1)*pow(b,4)*pow(1-a,3) +\n",
      "4*pow(1-b,1)*pow(b,3)*pow(1-a,4)\n",
      "\n",
      "Prob(2-7) =\n",
      "6*pow(a,2)*pow(b,4)*pow(1-a,3) +\n",
      "16*pow(a,1)*pow(1-b,1)*pow(b,3)*pow(1-a,4) +\n",
      "6*pow(1-b,2)*pow(b,2)*pow(1-a,5)\n",
      "\n",
      "Prob(3-7) =\n",
      "10*pow(a,3)*pow(b,5)*pow(1-a,2) +\n",
      "40*pow(a,2)*pow(1-b,1)*pow(b,4)*pow(1-a,3) +\n",
      "30*pow(a,1)*pow(1-b,2)*pow(b,3)*pow(1-a,4) +\n",
      "4*pow(1-b,3)*pow(b,2)*pow(1-a,5)\n",
      "\n",
      "Prob(4-7) =\n",
      "5*pow(a,4)*pow(b,6)*pow(1-a,1) +\n",
      "50*pow(a,3)*pow(1-b,1)*pow(b,5)*pow(1-a,2) +\n",
      "100*pow(a,2)*pow(1-b,2)*pow(b,4)*pow(1-a,3) +\n",
      "50*pow(a,1)*pow(1-b,3)*pow(b,3)*pow(1-a,4) +\n",
      "5*pow(1-b,4)*pow(b,2)*pow(1-a,5)\n",
      "\n",
      "Prob(5-7) =\n",
      "1*pow(a,5)*pow(b,6)*pow(1-a,1) +\n",
      "30*pow(a,4)*pow(1-b,1)*pow(b,5)*pow(1-a,2) +\n",
      "150*pow(a,3)*pow(1-b,2)*pow(b,4)*pow(1-a,3) +\n",
      "200*pow(a,2)*pow(1-b,3)*pow(b,3)*pow(1-a,4) +\n",
      "75*pow(a,1)*pow(1-b,4)*pow(b,2)*pow(1-a,5) +\n",
      "6*pow(1-b,5)*pow(b,1)*pow(1-a,6)\n",
      "\n"
     ]
    }
   ],
   "source": [
    "prettyprint(simple_win_prob_formulas(player='B'))"
   ]
  },
  {
   "cell_type": "code",
   "execution_count": 60,
   "metadata": {},
   "outputs": [
    {
     "name": "stdout",
     "output_type": "stream",
     "text": [
      "0-7:\n",
      "choose(3, 3) * choose(3, 3) = 1\n",
      "\n",
      "1-7:\n",
      "choose(4, 4) * choose(3, 2) = 3\n",
      "choose(4, 3) * choose(3, 3) = 4\n",
      "\n",
      "2-7:\n",
      "choose(4, 4) * choose(4, 2) = 6\n",
      "choose(4, 3) * choose(4, 3) = 16\n",
      "choose(4, 2) * choose(4, 4) = 6\n",
      "\n",
      "3-7:\n",
      "choose(4, 4) * choose(5, 2) = 10\n",
      "choose(4, 3) * choose(5, 3) = 40\n",
      "choose(4, 2) * choose(5, 4) = 30\n",
      "choose(4, 1) * choose(5, 5) = 4\n",
      "\n",
      "4-7:\n",
      "choose(5, 5) * choose(5, 1) = 5\n",
      "choose(5, 4) * choose(5, 2) = 50\n",
      "choose(5, 3) * choose(5, 3) = 100\n",
      "choose(5, 2) * choose(5, 4) = 50\n",
      "choose(5, 1) * choose(5, 5) = 5\n",
      "\n",
      "5-7:\n",
      "choose(6, 6) * choose(5, 0) = 1\n",
      "choose(6, 5) * choose(5, 1) = 30\n",
      "choose(6, 4) * choose(5, 2) = 150\n",
      "choose(6, 3) * choose(5, 3) = 200\n",
      "choose(6, 2) * choose(5, 4) = 75\n",
      "choose(6, 1) * choose(5, 5) = 6\n",
      "\n"
     ]
    }
   ],
   "source": [
    "for score in TieBreakScore.winning_score(player='B', simple_wins=True):\n",
    "    simple_win_combinatorics(score)"
   ]
  },
  {
   "cell_type": "code",
   "execution_count": 61,
   "metadata": {},
   "outputs": [
    {
     "data": {
      "text/plain": [
       "Counter({12: 924})"
      ]
     },
     "execution_count": 61,
     "metadata": {},
     "output_type": "execute_result"
    }
   ],
   "source": [
    "Counter(len(path) for path in tiebreak.paths_to_no_ad())"
   ]
  },
  {
   "cell_type": "code",
   "execution_count": 62,
   "metadata": {},
   "outputs": [],
   "source": [
    "def prob_formula_no_ad():\n",
    "    score = TieBreakScore.from_scores(6, 6)\n",
    "    tiebreak = TieBreak()\n",
    "    paths = tiebreak.paths_to_no_ad()\n",
    "    return {score: formula(paths)}"
   ]
  },
  {
   "cell_type": "code",
   "execution_count": 63,
   "metadata": {},
   "outputs": [
    {
     "name": "stdout",
     "output_type": "stream",
     "text": [
      "Prob(6-6) =\n",
      "1*pow(a,6)*pow(b,6) +\n",
      "36*pow(a,5)*pow(1-b,1)*pow(b,5)*pow(1-a,1) +\n",
      "225*pow(a,4)*pow(1-b,2)*pow(b,4)*pow(1-a,2) +\n",
      "400*pow(a,3)*pow(1-b,3)*pow(b,3)*pow(1-a,3) +\n",
      "225*pow(a,2)*pow(1-b,4)*pow(b,2)*pow(1-a,4) +\n",
      "36*pow(a,1)*pow(1-b,5)*pow(b,1)*pow(1-a,5) +\n",
      "1*pow(1-b,6)*pow(1-a,6)\n",
      "\n"
     ]
    }
   ],
   "source": [
    "prettyprint(prob_formula_no_ad())"
   ]
  },
  {
   "cell_type": "code",
   "execution_count": 64,
   "metadata": {},
   "outputs": [],
   "source": [
    "def no_ad_combinatorics():\n",
    "    winner_serves = 6\n",
    "    loser_serves = 6\n",
    "    # Loop through all possible combinations\n",
    "    pairs = []\n",
    "    for winner_wins_on_serve in range(winner_serves, -1, -1):\n",
    "        winner_wins_on_return = 6 - winner_wins_on_serve\n",
    "        if winner_wins_on_return <= loser_serves:\n",
    "            pairs.append((winner_serves, winner_wins_on_serve, loser_serves, winner_wins_on_return))\n",
    "    # Print the coefficient\n",
    "    print(f'{TieBreakScore.from_scores(6, 6).score}:')\n",
    "    for pair in pairs:\n",
    "        n = choose(pair[0], pair[1]) * choose(pair[2], pair[3])\n",
    "        print(f'choose({pair[0]}, {pair[1]}) * choose({pair[2]}, {pair[3]}) = {n}')\n",
    "    print()"
   ]
  },
  {
   "cell_type": "code",
   "execution_count": 65,
   "metadata": {},
   "outputs": [
    {
     "name": "stdout",
     "output_type": "stream",
     "text": [
      "6-6:\n",
      "choose(6, 6) * choose(6, 0) = 1\n",
      "choose(6, 5) * choose(6, 1) = 36\n",
      "choose(6, 4) * choose(6, 2) = 225\n",
      "choose(6, 3) * choose(6, 3) = 400\n",
      "choose(6, 2) * choose(6, 4) = 225\n",
      "choose(6, 1) * choose(6, 5) = 36\n",
      "choose(6, 0) * choose(6, 6) = 1\n",
      "\n"
     ]
    }
   ],
   "source": [
    "no_ad_combinatorics()"
   ]
  },
  {
   "cell_type": "code",
   "execution_count": 66,
   "metadata": {},
   "outputs": [],
   "source": [
    "def prob_get_to_66(a, b):\n",
    "    return (\n",
    "        1*pow(a,6)*pow(b,6) +\n",
    "        36*pow(a,5)*pow(1-b,1)*pow(b,5)*pow(1-a,1) +\n",
    "        225*pow(a,4)*pow(1-b,2)*pow(b,4)*pow(1-a,2) +\n",
    "        400*pow(a,3)*pow(1-b,3)*pow(b,3)*pow(1-a,3) +\n",
    "        225*pow(a,2)*pow(1-b,4)*pow(b,2)*pow(1-a,4) +\n",
    "        36*pow(a,1)*pow(1-b,5)*pow(b,1)*pow(1-a,5) +\n",
    "        1*pow(1-b,6)*pow(1-a,6)\n",
    "    )"
   ]
  },
  {
   "cell_type": "code",
   "execution_count": 67,
   "metadata": {},
   "outputs": [],
   "source": [
    "def prob_win_from_66(a, b, player='A'):\n",
    "    score = TieBreakScore.from_scores(8, 6) if player == 'A' else TieBreakScore.from_scores(6, 8)\n",
    "    if player == 'A':\n",
    "        return ((a*(1-b)) / (1 - (a*b + (1-a)*(1-b))))\n",
    "    elif player == 'B':\n",
    "        return ((b*(1-a)) / (1 - (a*b + (1-a)*(1-b))))\n",
    "    else:\n",
    "        raise ValueError('invalid player', player)"
   ]
  },
  {
   "cell_type": "code",
   "execution_count": 68,
   "metadata": {},
   "outputs": [],
   "source": [
    "def prob_86(a, b):\n",
    "    return ppp.Prob(prob_win_from_66(a, b, player='A') * prob_get_to_66(a, b))"
   ]
  },
  {
   "cell_type": "code",
   "execution_count": 69,
   "metadata": {},
   "outputs": [],
   "source": [
    "def prob_a_wins(a, b, detailed=False):\n",
    "    details = {\n",
    "        TieBreakScore.from_scores(7, 0): prob_70(a, b),\n",
    "        TieBreakScore.from_scores(7, 1): prob_71(a, b),\n",
    "        TieBreakScore.from_scores(7, 2): prob_72(a, b),\n",
    "        TieBreakScore.from_scores(7, 3): prob_73(a, b),\n",
    "        TieBreakScore.from_scores(7, 4): prob_74(a, b),\n",
    "        TieBreakScore.from_scores(7, 5): prob_75(a, b),\n",
    "        TieBreakScore.from_scores(8, 6): prob_86(a, b),\n",
    "    }\n",
    "    if detailed:\n",
    "        return details\n",
    "    else:\n",
    "        return sum(details[score] for score in details)"
   ]
  },
  {
   "cell_type": "code",
   "execution_count": 70,
   "metadata": {},
   "outputs": [
    {
     "data": {
      "text/plain": [
       "{<TieBreakScore.a7b0: 57>: Prob(1, 128),\n",
       " <TieBreakScore.a7b1: 58>: Prob(7, 256),\n",
       " <TieBreakScore.a7b2: 59>: Prob(7, 128),\n",
       " <TieBreakScore.a7b3: 60>: Prob(21, 256),\n",
       " <TieBreakScore.a7b4: 61>: Prob(105, 1024),\n",
       " <TieBreakScore.a7b5: 62>: Prob(231, 2048),\n",
       " <TieBreakScore.a8b6: 64>: Prob(231, 2048)}"
      ]
     },
     "execution_count": 70,
     "metadata": {},
     "output_type": "execute_result"
    }
   ],
   "source": [
    "prob_a_wins(a=0.5, b=0.5, detailed=True)"
   ]
  },
  {
   "cell_type": "code",
   "execution_count": 71,
   "metadata": {},
   "outputs": [],
   "source": [
    "def prob_07(a, b):\n",
    "    return ppp.Prob(1*pow(b,4)*pow(1-a,3))"
   ]
  },
  {
   "cell_type": "code",
   "execution_count": 72,
   "metadata": {},
   "outputs": [],
   "source": [
    "def prob_17(a, b):\n",
    "    return ppp.Prob(\n",
    "        3*pow(a,1)*pow(b,4)*pow(1-a,3) +\n",
    "        4*pow(1-b,1)*pow(b,3)*pow(1-a,4)\n",
    "    )"
   ]
  },
  {
   "cell_type": "code",
   "execution_count": 73,
   "metadata": {},
   "outputs": [],
   "source": [
    "def prob_27(a, b):\n",
    "    return ppp.Prob(\n",
    "        6*pow(a,2)*pow(b,4)*pow(1-a,3) +\n",
    "        16*pow(a,1)*pow(1-b,1)*pow(b,3)*pow(1-a,4) +\n",
    "        6*pow(1-b,2)*pow(b,2)*pow(1-a,5)\n",
    "    )"
   ]
  },
  {
   "cell_type": "code",
   "execution_count": 74,
   "metadata": {},
   "outputs": [],
   "source": [
    "def prob_37(a, b):\n",
    "    return ppp.Prob(\n",
    "        10*pow(a,3)*pow(b,5)*pow(1-a,2) +\n",
    "        40*pow(a,2)*pow(1-b,1)*pow(b,4)*pow(1-a,3) +\n",
    "        30*pow(a,1)*pow(1-b,2)*pow(b,3)*pow(1-a,4) +\n",
    "        4*pow(1-b,3)*pow(b,2)*pow(1-a,5)\n",
    "    )"
   ]
  },
  {
   "cell_type": "code",
   "execution_count": 75,
   "metadata": {},
   "outputs": [],
   "source": [
    "def prob_47(a, b):\n",
    "    return ppp.Prob(\n",
    "        5*pow(a,4)*pow(b,6)*pow(1-a,1) +\n",
    "        50*pow(a,3)*pow(1-b,1)*pow(b,5)*pow(1-a,2) +\n",
    "        100*pow(a,2)*pow(1-b,2)*pow(b,4)*pow(1-a,3) +\n",
    "        50*pow(a,1)*pow(1-b,3)*pow(b,3)*pow(1-a,4) +\n",
    "        5*pow(1-b,4)*pow(b,2)*pow(1-a,5)\n",
    "    )"
   ]
  },
  {
   "cell_type": "code",
   "execution_count": 76,
   "metadata": {},
   "outputs": [],
   "source": [
    "def prob_57(a, b):\n",
    "    return ppp.Prob(\n",
    "        1*pow(a,5)*pow(b,6)*pow(1-a,1) +\n",
    "        30*pow(a,4)*pow(1-b,1)*pow(b,5)*pow(1-a,2) +\n",
    "        150*pow(a,3)*pow(1-b,2)*pow(b,4)*pow(1-a,3) +\n",
    "        200*pow(a,2)*pow(1-b,3)*pow(b,3)*pow(1-a,4) +\n",
    "        75*pow(a,1)*pow(1-b,4)*pow(b,2)*pow(1-a,5) +\n",
    "        6*pow(1-b,5)*pow(b,1)*pow(1-a,6)       \n",
    "    )"
   ]
  },
  {
   "cell_type": "code",
   "execution_count": 77,
   "metadata": {},
   "outputs": [],
   "source": [
    "def prob_68(a, b):\n",
    "    return ppp.Prob(prob_win_from_66(a, b, player='B') * prob_get_to_66(a, b))"
   ]
  },
  {
   "cell_type": "code",
   "execution_count": 78,
   "metadata": {},
   "outputs": [],
   "source": [
    "def prob_b_wins(a, b, detailed=False):\n",
    "    details = {\n",
    "        TieBreakScore.from_scores(0, 7): prob_07(a, b),\n",
    "        TieBreakScore.from_scores(1, 7): prob_17(a, b),\n",
    "        TieBreakScore.from_scores(2, 7): prob_27(a, b),\n",
    "        TieBreakScore.from_scores(3, 7): prob_37(a, b),\n",
    "        TieBreakScore.from_scores(4, 7): prob_47(a, b),\n",
    "        TieBreakScore.from_scores(5, 7): prob_57(a, b),\n",
    "        TieBreakScore.from_scores(6, 8): prob_68(a, b),\n",
    "    }\n",
    "    if detailed:\n",
    "        return details\n",
    "    else:\n",
    "        return ppp.Prob(sum(details[score] for score in details))"
   ]
  },
  {
   "cell_type": "code",
   "execution_count": 79,
   "metadata": {},
   "outputs": [],
   "source": [
    "PROBS = 25\n",
    "a_probs = [a for a in np.arange(0, 1+1/PROBS, 1/PROBS)]"
   ]
  },
  {
   "cell_type": "code",
   "execution_count": 80,
   "metadata": {},
   "outputs": [],
   "source": [
    "b_probs = [0.3, 0.4, 0.5, 0.6, 0.7]"
   ]
  },
  {
   "cell_type": "code",
   "execution_count": 81,
   "metadata": {},
   "outputs": [],
   "source": [
    "win_probs = {b: [float(prob_a_wins(a, b)) for a in a_probs] for b in b_probs}"
   ]
  },
  {
   "cell_type": "code",
   "execution_count": 82,
   "metadata": {},
   "outputs": [
    {
     "data": {
      "image/png": "[encoded data removed]",
      "text/plain": [
       "<matplotlib.figure.Figure at 0x1a16146b38>"
      ]
     },
     "metadata": {},
     "output_type": "display_data"
    }
   ],
   "source": [
    "fig, ax = plt.subplots(figsize=(10,5))\n",
    "for b in win_probs:\n",
    "    ax.plot(a_probs, win_probs[b], label=f'Player B service point win prob = {b:.1f}')\n",
    "ax.hlines(0.5, 0, 1, linestyles='dashed', linewidth=0.5, color='k')\n",
    "TICKS = 10\n",
    "ax.set_xticks(np.arange(0, 1+1/TICKS, 1/TICKS))\n",
    "ax.set_yticks(np.arange(0, 1+1/TICKS, 1/TICKS))\n",
    "ax.set_xlabel('Player A service point win prob')\n",
    "ax.set_ylabel('Probability A wins tie-break')\n",
    "ax.set_title(f'Probability of Tie-Break Win')\n",
    "ax.legend(loc='lower right')\n",
    "plt.show()"
   ]
  },
  {
   "cell_type": "code",
   "execution_count": null,
   "metadata": {},
   "outputs": [],
   "source": []
  }
 ],
 "metadata": {
  "kernelspec": {
   "display_name": "Python [conda env:sports_py36]",
   "language": "python",
   "name": "conda-env-sports_py36-py"
  },
  "language_info": {
   "codemirror_mode": {
    "name": "ipython",
    "version": 3
   },
   "file_extension": ".py",
   "mimetype": "text/x-python",
   "name": "python",
   "nbconvert_exporter": "python",
   "pygments_lexer": "ipython3",
   "version": "3.6.4"
  }
 },
 "nbformat": 4,
 "nbformat_minor": 2
}
