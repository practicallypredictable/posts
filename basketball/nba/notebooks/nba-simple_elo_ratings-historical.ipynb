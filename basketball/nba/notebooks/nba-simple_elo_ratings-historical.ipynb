{
 "cells": [
  {
   "cell_type": "markdown",
   "metadata": {},
   "source": [
    "## Historical Regular Season NBA Elo Ratings\n",
    "\n",
    "In this notebook, we will compute our simple Elo ratings for historical NBA regular seasons. For an introduction to Elo ratings in general, and a review of our simple NBA Elo ratings, please see [this previous post](http://practicallypredictable.com/2018/04/15/elo-ratings-for-nba-teams/).\n",
    "\n",
    "In this notebook, we will compute the Elo rating for each NBA team as of the end of each regular season, going back to the 1996-97 NBA season. In an upcoming post, we will evaluate how well these end-of-season ratings would have predicted playoff series success. We will use this as a starting point for developing more advanced ratings systems."
   ]
  },
  {
   "cell_type": "code",
   "execution_count": 1,
   "metadata": {},
   "outputs": [],
   "source": [
    "import numpy as np\n",
    "import pandas as pd\n",
    "pd.options.display.max_rows = 999\n",
    "pd.options.display.max_columns = 999\n",
    "pd.options.display.float_format = '{:.3f}'.format"
   ]
  },
  {
   "cell_type": "code",
   "execution_count": 2,
   "metadata": {},
   "outputs": [],
   "source": [
    "%matplotlib inline\n",
    "import matplotlib as mpl\n",
    "import matplotlib.pyplot as plt\n",
    "import seaborn as sns\n",
    "sns.set(context='notebook', palette='colorblind')"
   ]
  },
  {
   "cell_type": "code",
   "execution_count": 3,
   "metadata": {},
   "outputs": [],
   "source": [
    "import math\n",
    "import operator\n",
    "from datetime import date, datetime\n",
    "from collections import OrderedDict"
   ]
  },
  {
   "cell_type": "code",
   "execution_count": 4,
   "metadata": {},
   "outputs": [],
   "source": [
    "from tqdm import tqdm_notebook as tqdm"
   ]
  },
  {
   "cell_type": "markdown",
   "metadata": {},
   "source": [
    "At the end of this notebook, we will examine the relationship between end-of-season Elo rating and team win percentage over the season. To do that, we will use the [`linear_model`](http://scikit-learn.org/stable/modules/classes.html#module-sklearn.linear_model) module from the [`scikit-learn`](http://scikit-learn.org/stable/index.html) package. This package should already be present in your Python sports analytics environment if you've [set up Python as we've previously recommended](http://practicallypredictable.com/2017/11/16/setting-up-python/)."
   ]
  },
  {
   "cell_type": "code",
   "execution_count": 5,
   "metadata": {},
   "outputs": [],
   "source": [
    "from sklearn import linear_model"
   ]
  },
  {
   "cell_type": "markdown",
   "metadata": {},
   "source": [
    "### A Better Framework for Elo Ratings\n",
    "\n",
    "The introductory post on Elo ratings linked to [this Jupyter notebook](https://nbviewer.jupyter.org/github/practicallypredictable/posts/blob/master/basketball/nba/notebooks/nba-simple_elo_ratings.ipynb). This notebook includes Python code to actually implement the simple Elo ratings.\n",
    "\n",
    "We want to have a more general framework for implementing Elo ratings and, eventually, other rating systems. After all, we are going to be spending a lot of time with rating systems on this site. We are going to be studying simple Elo ratings to start, and examining ways to make better predictions of team performance as we build more complicated systems.\n",
    "\n",
    "We want to make the Elo ratings code easier to use as we progress. Two major goals should be:\n",
    "\n",
    "1. Our Elo ratings code easy to _reuse_ in different applications. This means we want to have as much code as possible sit in a package. The guiding principle is [**DRY**](https://en.wikipedia.org/wiki/Don%27t_repeat_yourself): Don't repeat yourself.\n",
    "2. Create a _modular_ framework, so we don't have to change a lot of code each time we test a different version of the ratings system.\n",
    "\n",
    "We will implement an [object-oriented](https://en.wikipedia.org/wiki/Object-oriented_programming) framework for sports ratings systems, starting with Elo ratings. See [this notebook](https://nbviewer.jupyter.org/github/practicallypredictable/posts/blob/master/basketball/nba/notebooks/prototyping-elo_ratings-object-oriented-framework.ipynb) for an in-depth explanation of the framework and the Python code.\n",
    "\n",
    "Within this general framework, our simple NBA Elo ratings can be implemented in just a few dozen lines of code. [Here](https://github.com/practicallypredictable/posts/blob/master/basketball/nba/notebooks/nbaelo.py) is the Python code, which we can bring into this notebook using the `%load` notebook method."
   ]
  },
  {
   "cell_type": "code",
   "execution_count": 6,
   "metadata": {
    "code_folding": []
   },
   "outputs": [],
   "source": [
    "# %load nbaelo.py\n",
    "from enum import Enum, auto\n",
    "from pracpred.ratings import elo\n",
    "\n",
    "class SimpleNBAElo(elo.Updater):\n",
    "    \"\"\"Simple Elo ratings for NBA teams\"\"\"\n",
    "    class GameType(Enum):\n",
    "        REGULAR = auto()\n",
    "        PLAYOFF = auto()\n",
    "\n",
    "    def __init__(self, *, regular_season_hca=69, playoff_hca=93):\n",
    "        super().__init__(\n",
    "            calculator=elo.LogisticCalculator(),\n",
    "            multiplier=elo.ConstantMultiplier(constant=20)\n",
    "        )\n",
    "        self._reg_hca = regular_season_hca\n",
    "        self._post_hca = playoff_hca\n",
    "    \n",
    "    @property\n",
    "    def regular_season_hca(self):\n",
    "        return self._reg_hca\n",
    "    \n",
    "    @property\n",
    "    def playoff_hca(self):\n",
    "        return self._post_hca\n",
    "\n",
    "    def update(self, *, game_type, home_team, outcome, elo1, elo2):\n",
    "        \"\"\"Update Elo ratings\"\"\"\n",
    "        if outcome == elo.MatchOutcome.DRAW:\n",
    "            raise ValueError('no draws in basketball')\n",
    "        if game_type == self.GameType.REGULAR:\n",
    "            hca = self.regular_season_hca\n",
    "        elif game_type == self.GameType.PLAYOFF:\n",
    "            hca = self.playoff_hca\n",
    "        else:\n",
    "            raise ValueError('invalid game type', game_type)\n",
    "        if home_team == 1:\n",
    "            adjustment = hca\n",
    "        elif home_team == 2:\n",
    "            adjustment = -hca\n",
    "        else:\n",
    "            raise ValueError('invalid home team', home_team)\n",
    "        return super().update(outcome=outcome, elo1=elo1, elo2=elo2, adjustment=adjustment)"
   ]
  },
  {
   "cell_type": "markdown",
   "metadata": {},
   "source": [
    "Once we've loaded the Elo ratings code, we need to create an instance of the ratings class to do the actual computations. Here's an example."
   ]
  },
  {
   "cell_type": "code",
   "execution_count": 7,
   "metadata": {},
   "outputs": [],
   "source": [
    "simple_elo = SimpleNBAElo()"
   ]
  },
  {
   "cell_type": "code",
   "execution_count": 8,
   "metadata": {},
   "outputs": [
    {
     "data": {
      "text/plain": [
       "(1508.039724684613, 1491.960275315387)"
      ]
     },
     "execution_count": 8,
     "metadata": {},
     "output_type": "execute_result"
    }
   ],
   "source": [
    "simple_elo.update(\n",
    "    game_type=SimpleNBAElo.GameType.REGULAR,\n",
    "    home_team=1,\n",
    "    outcome=elo.MatchOutcome.WIN1,\n",
    "    elo1=1500,\n",
    "    elo2=1500,\n",
    ")"
   ]
  },
  {
   "cell_type": "code",
   "execution_count": 9,
   "metadata": {},
   "outputs": [
    {
     "data": {
      "text/plain": [
       "69"
      ]
     },
     "execution_count": 9,
     "metadata": {},
     "output_type": "execute_result"
    }
   ],
   "source": [
    "simple_elo.regular_season_hca"
   ]
  },
  {
   "cell_type": "code",
   "execution_count": 10,
   "metadata": {},
   "outputs": [
    {
     "data": {
      "text/plain": [
       "(0.5980137657693436, 0.40198623423065644)"
      ]
     },
     "execution_count": 10,
     "metadata": {},
     "output_type": "execute_result"
    }
   ],
   "source": [
    "simple_elo.calculator.win_probs(elo1=1500, elo2=1500, adjustment=simple_elo.regular_season_hca)"
   ]
  },
  {
   "cell_type": "markdown",
   "metadata": {},
   "source": [
    "Notice that a positive Elo adjustment (for home court advantage, in this case) acts similar to an increase the first team's rating or a decrease in the second team's rating (and vice versa, for a negative Elo adjustment). See the [prototyping notebook](https://nbviewer.jupyter.org/github/practicallypredictable/posts/blob/master/basketball/nba/notebooks/prototyping-elo_ratings-object-oriented-framework.ipynb) for more details and examples.\n"
   ]
  },
  {
   "cell_type": "markdown",
   "metadata": {},
   "source": [
    "### Historical Regular Season NBA Games\n",
    "\n",
    "We will use the [`pracnbastats`](https://pypi.org/project/pracnbastats/) package I developed for scraping [stats.nba.com](http://stats.nba.com/). You can install this package in your sports analytics Python environment by executing `pip install pracnbastats` in Terminal (on Mac or Linux computers) or at the Anaconda Prompt in Windows."
   ]
  },
  {
   "cell_type": "code",
   "execution_count": 11,
   "metadata": {},
   "outputs": [],
   "source": [
    "import pracnbastats as nba"
   ]
  },
  {
   "cell_type": "code",
   "execution_count": 12,
   "metadata": {},
   "outputs": [],
   "source": [
    "from pathlib import Path"
   ]
  },
  {
   "cell_type": "markdown",
   "metadata": {},
   "source": [
    "This code assumes the existence of a directory to hold scraped NBA data. You can create and name this directory however you want, and adjust the code in the cell below to suit your preferences."
   ]
  },
  {
   "cell_type": "code",
   "execution_count": 13,
   "metadata": {},
   "outputs": [],
   "source": [
    "PROJECT_DIR = Path.cwd().parent\n",
    "DATA_DIR = PROJECT_DIR / 'data'\n",
    "STATS_DIR = DATA_DIR / 'stats-nba-com'\n",
    "OUTPUT_DIR = DATA_DIR / 'prepared'"
   ]
  },
  {
   "cell_type": "markdown",
   "metadata": {},
   "source": [
    "To scrape data from [stats.nba.com](http://stats.nba.com/), you need to specify a user agent. Below is the user agent I used. You can find your own user agent by searching for \"my user agent\" in Google."
   ]
  },
  {
   "cell_type": "code",
   "execution_count": 14,
   "metadata": {},
   "outputs": [],
   "source": [
    "USER_AGENT = (\n",
    "    'Mozilla/5.0 (Macintosh; Intel Mac OS X 10_13_4) '\n",
    "    'AppleWebKit/537.36 (KHTML, like Gecko) '\n",
    "    'Chrome/66.0.3359.139 Safari/537.36'\n",
    ")"
   ]
  },
  {
   "cell_type": "markdown",
   "metadata": {},
   "source": [
    "Now let's get all of the historical regular season NBA match ups since the 1996-97 season."
   ]
  },
  {
   "cell_type": "code",
   "execution_count": 15,
   "metadata": {},
   "outputs": [],
   "source": [
    "session = nba.scrape.NBASession(user_agent=USER_AGENT)"
   ]
  },
  {
   "cell_type": "code",
   "execution_count": 16,
   "metadata": {},
   "outputs": [],
   "source": [
    "store = nba.store.FlatFiles.CSV(path=STATS_DIR)"
   ]
  },
  {
   "cell_type": "code",
   "execution_count": 17,
   "metadata": {},
   "outputs": [],
   "source": [
    "scraper = nba.scrape.NBAScraper(session=session, store=store)"
   ]
  },
  {
   "cell_type": "code",
   "execution_count": 18,
   "metadata": {},
   "outputs": [
    {
     "data": {
      "application/vnd.jupyter.widget-view+json": {
       "model_id": "02ae5eac8ff94167b1813f2ca1c23e8f",
       "version_major": 2,
       "version_minor": 0
      },
      "text/plain": [
       "HBox(children=(IntProgress(value=0, max=22), HTML(value='')))"
      ]
     },
     "metadata": {},
     "output_type": "display_data"
    },
    {
     "name": "stdout",
     "output_type": "stream",
     "text": [
      "\n"
     ]
    },
    {
     "data": {
      "text/plain": [
       "22"
      ]
     },
     "execution_count": 18,
     "metadata": {},
     "output_type": "execute_result"
    }
   ],
   "source": [
    "nba_reg = {season.start_year: nba.team.BoxScores(\n",
    "    scraper=scraper,\n",
    "    season=season,\n",
    ") for season in tqdm(nba.params.Season.stats_seasons())}\n",
    "len(nba_reg)"
   ]
  },
  {
   "cell_type": "markdown",
   "metadata": {},
   "source": [
    "### Computing End-of-Season Elo Ratings\n",
    "\n",
    "Now we are ready to compute each team's Elo ratings at the end of each regular season. We will follow a similar approach as in the introductory post:\n",
    "\n",
    "1. Set each team's rating to the league-wide average of 1500 at the beginning of each regular season.\n",
    "2. Analyze each match up in chronological order. Update the Elo ratings of the winning and losing teams, applying a regular season home court advantage of 69 Elo rating points. (For a refresher about home court advantage in the Elo rating framework, please see the [introductory post](http://practicallypredictable.com/2018/04/15/elo-ratings-for-nba-teams/#computing-the-home-court-adjustment)).\n",
    "3. Once we get to the end of the regular season, save the final ratings for each teach.\n",
    "\n",
    "The code below actually computes a [time series](https://en.wikipedia.org/wiki/Time_series) of each team's rating over the course of the regular season. In this notebook we won't use the time series however. We'll only use the final Elo rating at the end of the regular season.\n",
    "\n",
    "#### Initialize the Elo Rating to 1500 at Season Start\n",
    "\n",
    "The first function gets the list of team abbreviations for a particular season, and sets the Elo ratings of each team to the league-wide average of 1500."
   ]
  },
  {
   "cell_type": "code",
   "execution_count": 19,
   "metadata": {},
   "outputs": [],
   "source": [
    "def season_start_elos(*, box_scores, season):\n",
    "    \"\"\"Start all teams at 1500 Elo rating at beginning of regular season\"\"\"\n",
    "    team_abbrs = box_scores[season].team_records['team_abbr'].unique().tolist()\n",
    "    return {abbr: 1500 for abbr in team_abbrs}"
   ]
  },
  {
   "cell_type": "markdown",
   "metadata": {},
   "source": [
    "#### Update Elo Ratings over Regular Season\n",
    "\n",
    "The next function loops through each game during the season in chronological order, updating the Elo ratings for the winning and losing teams."
   ]
  },
  {
   "cell_type": "code",
   "execution_count": 20,
   "metadata": {},
   "outputs": [],
   "source": [
    "def nba_season_elos(*, updater, box_scores, start_elos):\n",
    "    \"\"\"Elo ratings at end of, and over the course of, an NBA regular season\"\"\"\n",
    "    latest_elos = start_elos\n",
    "    elo_history = []\n",
    "    for game in box_scores.matchups.sort_values(by='date', ascending=True).itertuples():\n",
    "        home_abbr = game.team_abbr_h\n",
    "        road_abbr = game.team_abbr_r\n",
    "        # Home team is team #1, road team is team #2\n",
    "        outcome = elo.MatchOutcome.WIN1 if game.hr_winner == 'H' else elo.MatchOutcome.WIN2\n",
    "        home_elo = latest_elos[home_abbr]\n",
    "        road_elo = latest_elos[road_abbr]\n",
    "        (new_home_elo, new_road_elo) = updater.update(\n",
    "            game_type=SimpleNBAElo.GameType.REGULAR,\n",
    "            home_team=1,\n",
    "            outcome=outcome,\n",
    "            elo1=home_elo,\n",
    "            elo2=road_elo,\n",
    "        )\n",
    "        home_record = OrderedDict({\n",
    "            'date': game.date,\n",
    "            'game_id': game.game_id,\n",
    "            'team_abbr': home_abbr,\n",
    "            'elo': new_home_elo,\n",
    "        })\n",
    "        elo_history.append(home_record)\n",
    "        road_record = OrderedDict({\n",
    "            'date': game.date,\n",
    "            'game_id': game.game_id,\n",
    "            'team_abbr': road_abbr,\n",
    "            'elo': new_road_elo,\n",
    "        })\n",
    "        elo_history.append(road_record)\n",
    "        latest_elos[home_abbr] = new_home_elo\n",
    "        latest_elos[road_abbr] = new_road_elo\n",
    "    return latest_elos, elo_history"
   ]
  },
  {
   "cell_type": "markdown",
   "metadata": {},
   "source": [
    "#### Get End-of-Season Elo Ratings\n",
    "\n",
    "This function calls the above two functions for a given season. It saves the end-of-season Elo ratings for each team in a `DataFrame`."
   ]
  },
  {
   "cell_type": "code",
   "execution_count": 21,
   "metadata": {},
   "outputs": [],
   "source": [
    "def season_end_elos(*, updater, box_scores, season):\n",
    "    \"\"\"End of regular season Elo ratings for given NBA season\"\"\"\n",
    "    reg_end_elos, elo_history = nba_season_elos(\n",
    "        updater=updater,\n",
    "        box_scores=box_scores[season],\n",
    "        start_elos=season_start_elos(box_scores=box_scores, season=season),\n",
    "    )\n",
    "    df = (\n",
    "        pd.DataFrame.from_dict(reg_end_elos, orient='index')\n",
    "        .reset_index()\n",
    "        .rename(columns={\n",
    "            'index': 'team_abbr',\n",
    "            0: 'reg_end_elo',\n",
    "        })\n",
    "    )\n",
    "    df['season'] = season\n",
    "    df = df[['season', 'team_abbr', 'reg_end_elo']]\n",
    "    return df.sort_values(by=['reg_end_elo'], ascending=False).reset_index(drop=True)"
   ]
  },
  {
   "cell_type": "markdown",
   "metadata": {},
   "source": [
    "Let's test the function out on this year's regular season."
   ]
  },
  {
   "cell_type": "code",
   "execution_count": 22,
   "metadata": {},
   "outputs": [
    {
     "data": {
      "text/html": [
       "<div>\n",
       "<style scoped>\n",
       "    .dataframe tbody tr th:only-of-type {\n",
       "        vertical-align: middle;\n",
       "    }\n",
       "\n",
       "    .dataframe tbody tr th {\n",
       "        vertical-align: top;\n",
       "    }\n",
       "\n",
       "    .dataframe thead th {\n",
       "        text-align: right;\n",
       "    }\n",
       "</style>\n",
       "<table border=\"1\" class=\"dataframe\">\n",
       "  <thead>\n",
       "    <tr style=\"text-align: right;\">\n",
       "      <th></th>\n",
       "      <th>season</th>\n",
       "      <th>team_abbr</th>\n",
       "      <th>reg_end_elo</th>\n",
       "    </tr>\n",
       "  </thead>\n",
       "  <tbody>\n",
       "    <tr>\n",
       "      <th>0</th>\n",
       "      <td>2017</td>\n",
       "      <td>HOU</td>\n",
       "      <td>1718.759</td>\n",
       "    </tr>\n",
       "    <tr>\n",
       "      <th>1</th>\n",
       "      <td>2017</td>\n",
       "      <td>TOR</td>\n",
       "      <td>1642.510</td>\n",
       "    </tr>\n",
       "    <tr>\n",
       "      <th>2</th>\n",
       "      <td>2017</td>\n",
       "      <td>PHI</td>\n",
       "      <td>1637.861</td>\n",
       "    </tr>\n",
       "    <tr>\n",
       "      <th>3</th>\n",
       "      <td>2017</td>\n",
       "      <td>UTA</td>\n",
       "      <td>1616.204</td>\n",
       "    </tr>\n",
       "    <tr>\n",
       "      <th>4</th>\n",
       "      <td>2017</td>\n",
       "      <td>POR</td>\n",
       "      <td>1595.066</td>\n",
       "    </tr>\n",
       "    <tr>\n",
       "      <th>5</th>\n",
       "      <td>2017</td>\n",
       "      <td>GSW</td>\n",
       "      <td>1590.396</td>\n",
       "    </tr>\n",
       "    <tr>\n",
       "      <th>6</th>\n",
       "      <td>2017</td>\n",
       "      <td>NOP</td>\n",
       "      <td>1587.252</td>\n",
       "    </tr>\n",
       "    <tr>\n",
       "      <th>7</th>\n",
       "      <td>2017</td>\n",
       "      <td>BOS</td>\n",
       "      <td>1586.176</td>\n",
       "    </tr>\n",
       "    <tr>\n",
       "      <th>8</th>\n",
       "      <td>2017</td>\n",
       "      <td>IND</td>\n",
       "      <td>1584.657</td>\n",
       "    </tr>\n",
       "    <tr>\n",
       "      <th>9</th>\n",
       "      <td>2017</td>\n",
       "      <td>OKC</td>\n",
       "      <td>1580.235</td>\n",
       "    </tr>\n",
       "    <tr>\n",
       "      <th>10</th>\n",
       "      <td>2017</td>\n",
       "      <td>CLE</td>\n",
       "      <td>1570.557</td>\n",
       "    </tr>\n",
       "    <tr>\n",
       "      <th>11</th>\n",
       "      <td>2017</td>\n",
       "      <td>DEN</td>\n",
       "      <td>1568.712</td>\n",
       "    </tr>\n",
       "    <tr>\n",
       "      <th>12</th>\n",
       "      <td>2017</td>\n",
       "      <td>SAS</td>\n",
       "      <td>1541.982</td>\n",
       "    </tr>\n",
       "    <tr>\n",
       "      <th>13</th>\n",
       "      <td>2017</td>\n",
       "      <td>MIN</td>\n",
       "      <td>1540.461</td>\n",
       "    </tr>\n",
       "    <tr>\n",
       "      <th>14</th>\n",
       "      <td>2017</td>\n",
       "      <td>MIL</td>\n",
       "      <td>1521.474</td>\n",
       "    </tr>\n",
       "    <tr>\n",
       "      <th>15</th>\n",
       "      <td>2017</td>\n",
       "      <td>LAC</td>\n",
       "      <td>1512.978</td>\n",
       "    </tr>\n",
       "    <tr>\n",
       "      <th>16</th>\n",
       "      <td>2017</td>\n",
       "      <td>MIA</td>\n",
       "      <td>1512.154</td>\n",
       "    </tr>\n",
       "    <tr>\n",
       "      <th>17</th>\n",
       "      <td>2017</td>\n",
       "      <td>WAS</td>\n",
       "      <td>1484.999</td>\n",
       "    </tr>\n",
       "    <tr>\n",
       "      <th>18</th>\n",
       "      <td>2017</td>\n",
       "      <td>DET</td>\n",
       "      <td>1467.742</td>\n",
       "    </tr>\n",
       "    <tr>\n",
       "      <th>19</th>\n",
       "      <td>2017</td>\n",
       "      <td>LAL</td>\n",
       "      <td>1461.962</td>\n",
       "    </tr>\n",
       "    <tr>\n",
       "      <th>20</th>\n",
       "      <td>2017</td>\n",
       "      <td>CHA</td>\n",
       "      <td>1460.044</td>\n",
       "    </tr>\n",
       "    <tr>\n",
       "      <th>21</th>\n",
       "      <td>2017</td>\n",
       "      <td>BKN</td>\n",
       "      <td>1403.312</td>\n",
       "    </tr>\n",
       "    <tr>\n",
       "      <th>22</th>\n",
       "      <td>2017</td>\n",
       "      <td>SAC</td>\n",
       "      <td>1392.888</td>\n",
       "    </tr>\n",
       "    <tr>\n",
       "      <th>23</th>\n",
       "      <td>2017</td>\n",
       "      <td>ATL</td>\n",
       "      <td>1374.017</td>\n",
       "    </tr>\n",
       "    <tr>\n",
       "      <th>24</th>\n",
       "      <td>2017</td>\n",
       "      <td>NYK</td>\n",
       "      <td>1367.668</td>\n",
       "    </tr>\n",
       "    <tr>\n",
       "      <th>25</th>\n",
       "      <td>2017</td>\n",
       "      <td>CHI</td>\n",
       "      <td>1365.435</td>\n",
       "    </tr>\n",
       "    <tr>\n",
       "      <th>26</th>\n",
       "      <td>2017</td>\n",
       "      <td>DAL</td>\n",
       "      <td>1351.581</td>\n",
       "    </tr>\n",
       "    <tr>\n",
       "      <th>27</th>\n",
       "      <td>2017</td>\n",
       "      <td>ORL</td>\n",
       "      <td>1344.734</td>\n",
       "    </tr>\n",
       "    <tr>\n",
       "      <th>28</th>\n",
       "      <td>2017</td>\n",
       "      <td>MEM</td>\n",
       "      <td>1314.910</td>\n",
       "    </tr>\n",
       "    <tr>\n",
       "      <th>29</th>\n",
       "      <td>2017</td>\n",
       "      <td>PHX</td>\n",
       "      <td>1303.276</td>\n",
       "    </tr>\n",
       "  </tbody>\n",
       "</table>\n",
       "</div>"
      ],
      "text/plain": [
       "    season team_abbr  reg_end_elo\n",
       "0     2017       HOU     1718.759\n",
       "1     2017       TOR     1642.510\n",
       "2     2017       PHI     1637.861\n",
       "3     2017       UTA     1616.204\n",
       "4     2017       POR     1595.066\n",
       "5     2017       GSW     1590.396\n",
       "6     2017       NOP     1587.252\n",
       "7     2017       BOS     1586.176\n",
       "8     2017       IND     1584.657\n",
       "9     2017       OKC     1580.235\n",
       "10    2017       CLE     1570.557\n",
       "11    2017       DEN     1568.712\n",
       "12    2017       SAS     1541.982\n",
       "13    2017       MIN     1540.461\n",
       "14    2017       MIL     1521.474\n",
       "15    2017       LAC     1512.978\n",
       "16    2017       MIA     1512.154\n",
       "17    2017       WAS     1484.999\n",
       "18    2017       DET     1467.742\n",
       "19    2017       LAL     1461.962\n",
       "20    2017       CHA     1460.044\n",
       "21    2017       BKN     1403.312\n",
       "22    2017       SAC     1392.888\n",
       "23    2017       ATL     1374.017\n",
       "24    2017       NYK     1367.668\n",
       "25    2017       CHI     1365.435\n",
       "26    2017       DAL     1351.581\n",
       "27    2017       ORL     1344.734\n",
       "28    2017       MEM     1314.910\n",
       "29    2017       PHX     1303.276"
      ]
     },
     "execution_count": 22,
     "metadata": {},
     "output_type": "execute_result"
    }
   ],
   "source": [
    "season_end_elos(updater=simple_elo, box_scores=nba_reg, season=2017)"
   ]
  },
  {
   "cell_type": "markdown",
   "metadata": {},
   "source": [
    "As an aside, here is a function that saves the history of team Elo ratings over the course of the regular season. We won't use this anymore in this notebook."
   ]
  },
  {
   "cell_type": "code",
   "execution_count": 23,
   "metadata": {},
   "outputs": [],
   "source": [
    "def season_elo_history(*, updater, box_scores, season):\n",
    "    \"\"\"Elo ratings over course of a regular NBA season\"\"\"\n",
    "    reg_end_elos, elo_history = nba_season_elos(\n",
    "        updater=updater,\n",
    "        box_scores=box_scores[season],\n",
    "        start_elos=season_start_elos(box_scores=box_scores, season=season),\n",
    "    )\n",
    "    df = pd.DataFrame(elo_history)\n",
    "    df['season'] = season\n",
    "    df = df[['season', 'date', 'game_id', 'team_abbr', 'elo']]\n",
    "    return df"
   ]
  },
  {
   "cell_type": "code",
   "execution_count": 24,
   "metadata": {},
   "outputs": [
    {
     "data": {
      "text/html": [
       "<div>\n",
       "<style scoped>\n",
       "    .dataframe tbody tr th:only-of-type {\n",
       "        vertical-align: middle;\n",
       "    }\n",
       "\n",
       "    .dataframe tbody tr th {\n",
       "        vertical-align: top;\n",
       "    }\n",
       "\n",
       "    .dataframe thead th {\n",
       "        text-align: right;\n",
       "    }\n",
       "</style>\n",
       "<table border=\"1\" class=\"dataframe\">\n",
       "  <thead>\n",
       "    <tr style=\"text-align: right;\">\n",
       "      <th></th>\n",
       "      <th>season</th>\n",
       "      <th>date</th>\n",
       "      <th>game_id</th>\n",
       "      <th>team_abbr</th>\n",
       "      <th>elo</th>\n",
       "    </tr>\n",
       "  </thead>\n",
       "  <tbody>\n",
       "    <tr>\n",
       "      <th>0</th>\n",
       "      <td>1996</td>\n",
       "      <td>1996-11-01</td>\n",
       "      <td>29600002</td>\n",
       "      <td>NJN</td>\n",
       "      <td>1488.040</td>\n",
       "    </tr>\n",
       "    <tr>\n",
       "      <th>1</th>\n",
       "      <td>1996</td>\n",
       "      <td>1996-11-01</td>\n",
       "      <td>29600002</td>\n",
       "      <td>CLE</td>\n",
       "      <td>1511.960</td>\n",
       "    </tr>\n",
       "    <tr>\n",
       "      <th>2</th>\n",
       "      <td>1996</td>\n",
       "      <td>1996-11-01</td>\n",
       "      <td>29600013</td>\n",
       "      <td>GSW</td>\n",
       "      <td>1488.040</td>\n",
       "    </tr>\n",
       "    <tr>\n",
       "      <th>3</th>\n",
       "      <td>1996</td>\n",
       "      <td>1996-11-01</td>\n",
       "      <td>29600013</td>\n",
       "      <td>LAC</td>\n",
       "      <td>1511.960</td>\n",
       "    </tr>\n",
       "    <tr>\n",
       "      <th>4</th>\n",
       "      <td>1996</td>\n",
       "      <td>1996-11-01</td>\n",
       "      <td>29600001</td>\n",
       "      <td>BOS</td>\n",
       "      <td>1488.040</td>\n",
       "    </tr>\n",
       "  </tbody>\n",
       "</table>\n",
       "</div>"
      ],
      "text/plain": [
       "   season       date   game_id team_abbr      elo\n",
       "0    1996 1996-11-01  29600002       NJN 1488.040\n",
       "1    1996 1996-11-01  29600002       CLE 1511.960\n",
       "2    1996 1996-11-01  29600013       GSW 1488.040\n",
       "3    1996 1996-11-01  29600013       LAC 1511.960\n",
       "4    1996 1996-11-01  29600001       BOS 1488.040"
      ]
     },
     "execution_count": 24,
     "metadata": {},
     "output_type": "execute_result"
    }
   ],
   "source": [
    "season_elo_history(updater=simple_elo, box_scores=nba_reg, season=1996).head()"
   ]
  },
  {
   "cell_type": "markdown",
   "metadata": {},
   "source": [
    "#### Putting It All Together\n",
    "\n",
    "Now we can write a function which loops over all of the NBA regular seasons since 1996-97, and calls the above function to get each season's team ratings."
   ]
  },
  {
   "cell_type": "code",
   "execution_count": 25,
   "metadata": {},
   "outputs": [],
   "source": [
    "def nba_season_end_elos(\n",
    "        *, updater, box_scores,\n",
    "        start_year=nba.params.MIN_YEAR,\n",
    "        end_year=nba.params.Season.current_start_year()):\n",
    "    \"\"\"Historical end of regular season NBA Elo ratings\"\"\"\n",
    "    reg_elos = {\n",
    "        season: season_end_elos(\n",
    "            updater=updater,\n",
    "            box_scores=box_scores,\n",
    "            season=season,\n",
    "        ) for season in tqdm(range(start_year, end_year+1))\n",
    "    }\n",
    "    return pd.concat(reg_elos[season] for season in reg_elos).reset_index(drop=True)"
   ]
  },
  {
   "cell_type": "code",
   "execution_count": 26,
   "metadata": {},
   "outputs": [
    {
     "data": {
      "application/vnd.jupyter.widget-view+json": {
       "model_id": "f7ab4fd85a08421f976d8915f910000e",
       "version_major": 2,
       "version_minor": 0
      },
      "text/plain": [
       "HBox(children=(IntProgress(value=0, max=22), HTML(value='')))"
      ]
     },
     "metadata": {},
     "output_type": "display_data"
    },
    {
     "name": "stdout",
     "output_type": "stream",
     "text": [
      "\n"
     ]
    },
    {
     "data": {
      "text/plain": [
       "652"
      ]
     },
     "execution_count": 26,
     "metadata": {},
     "output_type": "execute_result"
    }
   ],
   "source": [
    "reg_elos = nba_season_end_elos(updater=simple_elo, box_scores=nba_reg)\n",
    "len(reg_elos)"
   ]
  },
  {
   "cell_type": "code",
   "execution_count": 27,
   "metadata": {},
   "outputs": [
    {
     "data": {
      "text/html": [
       "<div>\n",
       "<style scoped>\n",
       "    .dataframe tbody tr th:only-of-type {\n",
       "        vertical-align: middle;\n",
       "    }\n",
       "\n",
       "    .dataframe tbody tr th {\n",
       "        vertical-align: top;\n",
       "    }\n",
       "\n",
       "    .dataframe thead th {\n",
       "        text-align: right;\n",
       "    }\n",
       "</style>\n",
       "<table border=\"1\" class=\"dataframe\">\n",
       "  <thead>\n",
       "    <tr style=\"text-align: right;\">\n",
       "      <th></th>\n",
       "      <th>season</th>\n",
       "      <th>team_abbr</th>\n",
       "      <th>reg_end_elo</th>\n",
       "    </tr>\n",
       "  </thead>\n",
       "  <tbody>\n",
       "    <tr>\n",
       "      <th>0</th>\n",
       "      <td>1996</td>\n",
       "      <td>CHI</td>\n",
       "      <td>1720.096</td>\n",
       "    </tr>\n",
       "    <tr>\n",
       "      <th>1</th>\n",
       "      <td>1996</td>\n",
       "      <td>UTA</td>\n",
       "      <td>1713.001</td>\n",
       "    </tr>\n",
       "    <tr>\n",
       "      <th>2</th>\n",
       "      <td>1996</td>\n",
       "      <td>MIA</td>\n",
       "      <td>1661.044</td>\n",
       "    </tr>\n",
       "    <tr>\n",
       "      <th>3</th>\n",
       "      <td>1996</td>\n",
       "      <td>NYK</td>\n",
       "      <td>1638.366</td>\n",
       "    </tr>\n",
       "    <tr>\n",
       "      <th>4</th>\n",
       "      <td>1996</td>\n",
       "      <td>ATL</td>\n",
       "      <td>1625.877</td>\n",
       "    </tr>\n",
       "  </tbody>\n",
       "</table>\n",
       "</div>"
      ],
      "text/plain": [
       "   season team_abbr  reg_end_elo\n",
       "0    1996       CHI     1720.096\n",
       "1    1996       UTA     1713.001\n",
       "2    1996       MIA     1661.044\n",
       "3    1996       NYK     1638.366\n",
       "4    1996       ATL     1625.877"
      ]
     },
     "execution_count": 27,
     "metadata": {},
     "output_type": "execute_result"
    }
   ],
   "source": [
    "reg_elos.head()"
   ]
  },
  {
   "cell_type": "markdown",
   "metadata": {},
   "source": [
    "#### Save Data to CSV File\n",
    "\n",
    "Let's save the regular season final Elo ratings in a CSV file. We will use these ratings in a future post to try to predict playoff series outcomes."
   ]
  },
  {
   "cell_type": "code",
   "execution_count": 28,
   "metadata": {},
   "outputs": [],
   "source": [
    "csvfilename = 'nba-reg_season_final_elos-1996_2017.csv'\n",
    "csvfile = OUTPUT_DIR.joinpath(csvfilename)\n",
    "reg_elos.to_csv(csvfile, index=False)"
   ]
  },
  {
   "cell_type": "markdown",
   "metadata": {},
   "source": [
    "### Analyzing Simple NBA Elo Ratings by Season\n",
    "\n",
    "Let's look at the overall history of our regular season Elo ratings. Here is a box plot of ratings grouped by season."
   ]
  },
  {
   "cell_type": "code",
   "execution_count": 29,
   "metadata": {},
   "outputs": [
    {
     "data": {
      "image/png": "[encoded data removed]",
      "text/plain": [
       "<Figure size 720x504 with 1 Axes>"
      ]
     },
     "metadata": {},
     "output_type": "display_data"
    }
   ],
   "source": [
    "fig, ax = plt.subplots(figsize=(10, 7))\n",
    "reg_elos.boxplot(by='season', ax=ax)\n",
    "ax.set_xlabel('NBA Season')\n",
    "ax.set_ylabel('Simple NBA Elo Rating')\n",
    "ax.set_title('Box Plot of Simple NBA Elo Ratings by Season')\n",
    "plt.suptitle('')  # Get ride of pandas-generated title\n",
    "plt.show()"
   ]
  },
  {
   "cell_type": "markdown",
   "metadata": {},
   "source": [
    "In each season, the average rating is 1500 across the league. The median value (the red line in the above plot) is always relatively close to 1500, but varies from season to season.\n",
    "\n",
    "The range of ratings also varies by season. Team ratings tend to fall between 1300 and 1700, but some teams fall outside this range most seasons. Each season's [interquartile range](https://en.wikipedia.org/wiki/Interquartile_range) (the rectangles in the plot above) are typically between ratings of 1400 and 1600.\n",
    "\n",
    "You can see the raw numbers by season using the `pandas` [`groupby()`](https://pandas.pydata.org/pandas-docs/stable/generated/pandas.DataFrame.groupby.html) and [`describe()`](https://pandas.pydata.org/pandas-docs/stable/generated/pandas.DataFrame.describe.html) methods."
   ]
  },
  {
   "cell_type": "code",
   "execution_count": 30,
   "metadata": {},
   "outputs": [
    {
     "data": {
      "text/html": [
       "<div>\n",
       "<style scoped>\n",
       "    .dataframe tbody tr th:only-of-type {\n",
       "        vertical-align: middle;\n",
       "    }\n",
       "\n",
       "    .dataframe tbody tr th {\n",
       "        vertical-align: top;\n",
       "    }\n",
       "\n",
       "    .dataframe thead tr th {\n",
       "        text-align: left;\n",
       "    }\n",
       "\n",
       "    .dataframe thead tr:last-of-type th {\n",
       "        text-align: right;\n",
       "    }\n",
       "</style>\n",
       "<table border=\"1\" class=\"dataframe\">\n",
       "  <thead>\n",
       "    <tr>\n",
       "      <th></th>\n",
       "      <th colspan=\"8\" halign=\"left\">reg_end_elo</th>\n",
       "    </tr>\n",
       "    <tr>\n",
       "      <th></th>\n",
       "      <th>count</th>\n",
       "      <th>mean</th>\n",
       "      <th>std</th>\n",
       "      <th>min</th>\n",
       "      <th>25%</th>\n",
       "      <th>50%</th>\n",
       "      <th>75%</th>\n",
       "      <th>max</th>\n",
       "    </tr>\n",
       "    <tr>\n",
       "      <th>season</th>\n",
       "      <th></th>\n",
       "      <th></th>\n",
       "      <th></th>\n",
       "      <th></th>\n",
       "      <th></th>\n",
       "      <th></th>\n",
       "      <th></th>\n",
       "      <th></th>\n",
       "    </tr>\n",
       "  </thead>\n",
       "  <tbody>\n",
       "    <tr>\n",
       "      <th>1996</th>\n",
       "      <td>29.000</td>\n",
       "      <td>1500.000</td>\n",
       "      <td>133.816</td>\n",
       "      <td>1264.287</td>\n",
       "      <td>1401.154</td>\n",
       "      <td>1499.136</td>\n",
       "      <td>1619.410</td>\n",
       "      <td>1720.096</td>\n",
       "    </tr>\n",
       "    <tr>\n",
       "      <th>1997</th>\n",
       "      <td>29.000</td>\n",
       "      <td>1500.000</td>\n",
       "      <td>137.343</td>\n",
       "      <td>1254.947</td>\n",
       "      <td>1443.247</td>\n",
       "      <td>1505.427</td>\n",
       "      <td>1603.552</td>\n",
       "      <td>1710.590</td>\n",
       "    </tr>\n",
       "    <tr>\n",
       "      <th>1998</th>\n",
       "      <td>29.000</td>\n",
       "      <td>1500.000</td>\n",
       "      <td>88.744</td>\n",
       "      <td>1295.498</td>\n",
       "      <td>1450.271</td>\n",
       "      <td>1533.991</td>\n",
       "      <td>1567.225</td>\n",
       "      <td>1658.079</td>\n",
       "    </tr>\n",
       "    <tr>\n",
       "      <th>1999</th>\n",
       "      <td>29.000</td>\n",
       "      <td>1500.000</td>\n",
       "      <td>115.930</td>\n",
       "      <td>1254.661</td>\n",
       "      <td>1413.732</td>\n",
       "      <td>1508.520</td>\n",
       "      <td>1593.142</td>\n",
       "      <td>1731.521</td>\n",
       "    </tr>\n",
       "    <tr>\n",
       "      <th>2000</th>\n",
       "      <td>29.000</td>\n",
       "      <td>1500.000</td>\n",
       "      <td>115.878</td>\n",
       "      <td>1252.482</td>\n",
       "      <td>1421.870</td>\n",
       "      <td>1529.261</td>\n",
       "      <td>1583.359</td>\n",
       "      <td>1666.640</td>\n",
       "    </tr>\n",
       "    <tr>\n",
       "      <th>2001</th>\n",
       "      <td>29.000</td>\n",
       "      <td>1500.000</td>\n",
       "      <td>97.604</td>\n",
       "      <td>1314.556</td>\n",
       "      <td>1441.604</td>\n",
       "      <td>1509.143</td>\n",
       "      <td>1577.432</td>\n",
       "      <td>1673.972</td>\n",
       "    </tr>\n",
       "    <tr>\n",
       "      <th>2002</th>\n",
       "      <td>29.000</td>\n",
       "      <td>1500.000</td>\n",
       "      <td>104.596</td>\n",
       "      <td>1290.449</td>\n",
       "      <td>1438.489</td>\n",
       "      <td>1511.453</td>\n",
       "      <td>1553.473</td>\n",
       "      <td>1705.225</td>\n",
       "    </tr>\n",
       "    <tr>\n",
       "      <th>2003</th>\n",
       "      <td>29.000</td>\n",
       "      <td>1500.000</td>\n",
       "      <td>102.158</td>\n",
       "      <td>1325.869</td>\n",
       "      <td>1429.465</td>\n",
       "      <td>1497.491</td>\n",
       "      <td>1584.181</td>\n",
       "      <td>1683.075</td>\n",
       "    </tr>\n",
       "    <tr>\n",
       "      <th>2004</th>\n",
       "      <td>30.000</td>\n",
       "      <td>1500.000</td>\n",
       "      <td>115.501</td>\n",
       "      <td>1240.656</td>\n",
       "      <td>1408.011</td>\n",
       "      <td>1538.512</td>\n",
       "      <td>1572.014</td>\n",
       "      <td>1669.405</td>\n",
       "    </tr>\n",
       "    <tr>\n",
       "      <th>2005</th>\n",
       "      <td>30.000</td>\n",
       "      <td>1500.000</td>\n",
       "      <td>93.619</td>\n",
       "      <td>1299.343</td>\n",
       "      <td>1433.711</td>\n",
       "      <td>1505.208</td>\n",
       "      <td>1571.226</td>\n",
       "      <td>1680.083</td>\n",
       "    </tr>\n",
       "    <tr>\n",
       "      <th>2006</th>\n",
       "      <td>30.000</td>\n",
       "      <td>1500.000</td>\n",
       "      <td>97.130</td>\n",
       "      <td>1349.978</td>\n",
       "      <td>1417.886</td>\n",
       "      <td>1501.434</td>\n",
       "      <td>1578.454</td>\n",
       "      <td>1722.298</td>\n",
       "    </tr>\n",
       "    <tr>\n",
       "      <th>2007</th>\n",
       "      <td>30.000</td>\n",
       "      <td>1500.000</td>\n",
       "      <td>120.402</td>\n",
       "      <td>1266.096</td>\n",
       "      <td>1436.014</td>\n",
       "      <td>1505.095</td>\n",
       "      <td>1616.076</td>\n",
       "      <td>1705.223</td>\n",
       "    </tr>\n",
       "    <tr>\n",
       "      <th>2008</th>\n",
       "      <td>30.000</td>\n",
       "      <td>1500.000</td>\n",
       "      <td>116.797</td>\n",
       "      <td>1281.600</td>\n",
       "      <td>1415.617</td>\n",
       "      <td>1508.840</td>\n",
       "      <td>1600.448</td>\n",
       "      <td>1709.253</td>\n",
       "    </tr>\n",
       "    <tr>\n",
       "      <th>2009</th>\n",
       "      <td>30.000</td>\n",
       "      <td>1500.000</td>\n",
       "      <td>115.245</td>\n",
       "      <td>1268.015</td>\n",
       "      <td>1400.124</td>\n",
       "      <td>1523.729</td>\n",
       "      <td>1595.447</td>\n",
       "      <td>1672.527</td>\n",
       "    </tr>\n",
       "    <tr>\n",
       "      <th>2010</th>\n",
       "      <td>30.000</td>\n",
       "      <td>1500.000</td>\n",
       "      <td>109.932</td>\n",
       "      <td>1282.229</td>\n",
       "      <td>1438.162</td>\n",
       "      <td>1494.067</td>\n",
       "      <td>1589.749</td>\n",
       "      <td>1701.611</td>\n",
       "    </tr>\n",
       "    <tr>\n",
       "      <th>2011</th>\n",
       "      <td>30.000</td>\n",
       "      <td>1500.000</td>\n",
       "      <td>104.605</td>\n",
       "      <td>1215.423</td>\n",
       "      <td>1416.239</td>\n",
       "      <td>1516.531</td>\n",
       "      <td>1577.007</td>\n",
       "      <td>1691.552</td>\n",
       "    </tr>\n",
       "    <tr>\n",
       "      <th>2012</th>\n",
       "      <td>30.000</td>\n",
       "      <td>1500.000</td>\n",
       "      <td>111.569</td>\n",
       "      <td>1289.874</td>\n",
       "      <td>1403.542</td>\n",
       "      <td>1507.503</td>\n",
       "      <td>1578.987</td>\n",
       "      <td>1732.481</td>\n",
       "    </tr>\n",
       "    <tr>\n",
       "      <th>2013</th>\n",
       "      <td>30.000</td>\n",
       "      <td>1500.000</td>\n",
       "      <td>114.421</td>\n",
       "      <td>1266.679</td>\n",
       "      <td>1411.769</td>\n",
       "      <td>1538.540</td>\n",
       "      <td>1584.158</td>\n",
       "      <td>1682.227</td>\n",
       "    </tr>\n",
       "    <tr>\n",
       "      <th>2014</th>\n",
       "      <td>30.000</td>\n",
       "      <td>1500.000</td>\n",
       "      <td>117.754</td>\n",
       "      <td>1283.289</td>\n",
       "      <td>1419.555</td>\n",
       "      <td>1516.542</td>\n",
       "      <td>1565.731</td>\n",
       "      <td>1724.481</td>\n",
       "    </tr>\n",
       "    <tr>\n",
       "      <th>2015</th>\n",
       "      <td>30.000</td>\n",
       "      <td>1500.000</td>\n",
       "      <td>120.500</td>\n",
       "      <td>1226.965</td>\n",
       "      <td>1429.898</td>\n",
       "      <td>1511.040</td>\n",
       "      <td>1572.430</td>\n",
       "      <td>1768.693</td>\n",
       "    </tr>\n",
       "    <tr>\n",
       "      <th>2016</th>\n",
       "      <td>30.000</td>\n",
       "      <td>1500.000</td>\n",
       "      <td>92.102</td>\n",
       "      <td>1344.988</td>\n",
       "      <td>1433.282</td>\n",
       "      <td>1509.769</td>\n",
       "      <td>1570.829</td>\n",
       "      <td>1718.294</td>\n",
       "    </tr>\n",
       "    <tr>\n",
       "      <th>2017</th>\n",
       "      <td>30.000</td>\n",
       "      <td>1500.000</td>\n",
       "      <td>110.815</td>\n",
       "      <td>1303.276</td>\n",
       "      <td>1395.494</td>\n",
       "      <td>1517.226</td>\n",
       "      <td>1585.797</td>\n",
       "      <td>1718.759</td>\n",
       "    </tr>\n",
       "  </tbody>\n",
       "</table>\n",
       "</div>"
      ],
      "text/plain": [
       "       reg_end_elo                                                       \\\n",
       "             count     mean     std      min      25%      50%      75%   \n",
       "season                                                                    \n",
       "1996        29.000 1500.000 133.816 1264.287 1401.154 1499.136 1619.410   \n",
       "1997        29.000 1500.000 137.343 1254.947 1443.247 1505.427 1603.552   \n",
       "1998        29.000 1500.000  88.744 1295.498 1450.271 1533.991 1567.225   \n",
       "1999        29.000 1500.000 115.930 1254.661 1413.732 1508.520 1593.142   \n",
       "2000        29.000 1500.000 115.878 1252.482 1421.870 1529.261 1583.359   \n",
       "2001        29.000 1500.000  97.604 1314.556 1441.604 1509.143 1577.432   \n",
       "2002        29.000 1500.000 104.596 1290.449 1438.489 1511.453 1553.473   \n",
       "2003        29.000 1500.000 102.158 1325.869 1429.465 1497.491 1584.181   \n",
       "2004        30.000 1500.000 115.501 1240.656 1408.011 1538.512 1572.014   \n",
       "2005        30.000 1500.000  93.619 1299.343 1433.711 1505.208 1571.226   \n",
       "2006        30.000 1500.000  97.130 1349.978 1417.886 1501.434 1578.454   \n",
       "2007        30.000 1500.000 120.402 1266.096 1436.014 1505.095 1616.076   \n",
       "2008        30.000 1500.000 116.797 1281.600 1415.617 1508.840 1600.448   \n",
       "2009        30.000 1500.000 115.245 1268.015 1400.124 1523.729 1595.447   \n",
       "2010        30.000 1500.000 109.932 1282.229 1438.162 1494.067 1589.749   \n",
       "2011        30.000 1500.000 104.605 1215.423 1416.239 1516.531 1577.007   \n",
       "2012        30.000 1500.000 111.569 1289.874 1403.542 1507.503 1578.987   \n",
       "2013        30.000 1500.000 114.421 1266.679 1411.769 1538.540 1584.158   \n",
       "2014        30.000 1500.000 117.754 1283.289 1419.555 1516.542 1565.731   \n",
       "2015        30.000 1500.000 120.500 1226.965 1429.898 1511.040 1572.430   \n",
       "2016        30.000 1500.000  92.102 1344.988 1433.282 1509.769 1570.829   \n",
       "2017        30.000 1500.000 110.815 1303.276 1395.494 1517.226 1585.797   \n",
       "\n",
       "                 \n",
       "            max  \n",
       "season           \n",
       "1996   1720.096  \n",
       "1997   1710.590  \n",
       "1998   1658.079  \n",
       "1999   1731.521  \n",
       "2000   1666.640  \n",
       "2001   1673.972  \n",
       "2002   1705.225  \n",
       "2003   1683.075  \n",
       "2004   1669.405  \n",
       "2005   1680.083  \n",
       "2006   1722.298  \n",
       "2007   1705.223  \n",
       "2008   1709.253  \n",
       "2009   1672.527  \n",
       "2010   1701.611  \n",
       "2011   1691.552  \n",
       "2012   1732.481  \n",
       "2013   1682.227  \n",
       "2014   1724.481  \n",
       "2015   1768.693  \n",
       "2016   1718.294  \n",
       "2017   1718.759  "
      ]
     },
     "execution_count": 30,
     "metadata": {},
     "output_type": "execute_result"
    }
   ],
   "source": [
    "reg_elos.groupby(['season']).describe()"
   ]
  },
  {
   "cell_type": "markdown",
   "metadata": {},
   "source": [
    "This function creates a table showing the best and worst teams (as defined by our simple Elo ratings) for each season."
   ]
  },
  {
   "cell_type": "code",
   "execution_count": 31,
   "metadata": {},
   "outputs": [],
   "source": [
    "def best_worst_teams(elos):\n",
    "    best_teams = (\n",
    "        elos\n",
    "        .sort_values(by=['reg_end_elo'], ascending=False)\n",
    "        .drop_duplicates(['season'])\n",
    "        .sort_values(by=['season'])\n",
    "        .reset_index(drop=True)\n",
    "    )\n",
    "    worst_teams = (\n",
    "        elos\n",
    "        .sort_values(by=['reg_end_elo'], ascending=True)\n",
    "        .drop_duplicates(['season'])\n",
    "        .sort_values(by=['season'])\n",
    "        .reset_index(drop=True)\n",
    "    )\n",
    "    df = best_teams.merge(worst_teams, on=['season'], suffixes=['_best', '_worst'])\n",
    "    df['elo_range'] = df['reg_end_elo_best'] - df['reg_end_elo_worst']\n",
    "    first_cols = ['season']\n",
    "    cols = first_cols + [col for col in df.columns if col not in first_cols]\n",
    "    return df[cols]"
   ]
  },
  {
   "cell_type": "code",
   "execution_count": 32,
   "metadata": {},
   "outputs": [
    {
     "data": {
      "text/html": [
       "<div>\n",
       "<style scoped>\n",
       "    .dataframe tbody tr th:only-of-type {\n",
       "        vertical-align: middle;\n",
       "    }\n",
       "\n",
       "    .dataframe tbody tr th {\n",
       "        vertical-align: top;\n",
       "    }\n",
       "\n",
       "    .dataframe thead th {\n",
       "        text-align: right;\n",
       "    }\n",
       "</style>\n",
       "<table border=\"1\" class=\"dataframe\">\n",
       "  <thead>\n",
       "    <tr style=\"text-align: right;\">\n",
       "      <th></th>\n",
       "      <th>season</th>\n",
       "      <th>team_abbr_best</th>\n",
       "      <th>reg_end_elo_best</th>\n",
       "      <th>team_abbr_worst</th>\n",
       "      <th>reg_end_elo_worst</th>\n",
       "      <th>elo_range</th>\n",
       "    </tr>\n",
       "  </thead>\n",
       "  <tbody>\n",
       "    <tr>\n",
       "      <th>0</th>\n",
       "      <td>1996</td>\n",
       "      <td>CHI</td>\n",
       "      <td>1720.096</td>\n",
       "      <td>VAN</td>\n",
       "      <td>1264.287</td>\n",
       "      <td>455.809</td>\n",
       "    </tr>\n",
       "    <tr>\n",
       "      <th>1</th>\n",
       "      <td>1997</td>\n",
       "      <td>UTA</td>\n",
       "      <td>1710.590</td>\n",
       "      <td>DEN</td>\n",
       "      <td>1254.947</td>\n",
       "      <td>455.642</td>\n",
       "    </tr>\n",
       "    <tr>\n",
       "      <th>2</th>\n",
       "      <td>1998</td>\n",
       "      <td>SAS</td>\n",
       "      <td>1658.079</td>\n",
       "      <td>VAN</td>\n",
       "      <td>1295.498</td>\n",
       "      <td>362.581</td>\n",
       "    </tr>\n",
       "    <tr>\n",
       "      <th>3</th>\n",
       "      <td>1999</td>\n",
       "      <td>LAL</td>\n",
       "      <td>1731.521</td>\n",
       "      <td>LAC</td>\n",
       "      <td>1254.661</td>\n",
       "      <td>476.861</td>\n",
       "    </tr>\n",
       "    <tr>\n",
       "      <th>4</th>\n",
       "      <td>2000</td>\n",
       "      <td>SAS</td>\n",
       "      <td>1666.640</td>\n",
       "      <td>GSW</td>\n",
       "      <td>1252.482</td>\n",
       "      <td>414.157</td>\n",
       "    </tr>\n",
       "    <tr>\n",
       "      <th>5</th>\n",
       "      <td>2001</td>\n",
       "      <td>SAS</td>\n",
       "      <td>1673.972</td>\n",
       "      <td>GSW</td>\n",
       "      <td>1314.556</td>\n",
       "      <td>359.417</td>\n",
       "    </tr>\n",
       "    <tr>\n",
       "      <th>6</th>\n",
       "      <td>2002</td>\n",
       "      <td>SAS</td>\n",
       "      <td>1705.225</td>\n",
       "      <td>DEN</td>\n",
       "      <td>1290.449</td>\n",
       "      <td>414.776</td>\n",
       "    </tr>\n",
       "    <tr>\n",
       "      <th>7</th>\n",
       "      <td>2003</td>\n",
       "      <td>SAS</td>\n",
       "      <td>1683.075</td>\n",
       "      <td>ORL</td>\n",
       "      <td>1325.869</td>\n",
       "      <td>357.207</td>\n",
       "    </tr>\n",
       "    <tr>\n",
       "      <th>8</th>\n",
       "      <td>2004</td>\n",
       "      <td>PHX</td>\n",
       "      <td>1669.405</td>\n",
       "      <td>ATL</td>\n",
       "      <td>1240.656</td>\n",
       "      <td>428.748</td>\n",
       "    </tr>\n",
       "    <tr>\n",
       "      <th>9</th>\n",
       "      <td>2005</td>\n",
       "      <td>SAS</td>\n",
       "      <td>1680.083</td>\n",
       "      <td>POR</td>\n",
       "      <td>1299.343</td>\n",
       "      <td>380.739</td>\n",
       "    </tr>\n",
       "    <tr>\n",
       "      <th>10</th>\n",
       "      <td>2006</td>\n",
       "      <td>DAL</td>\n",
       "      <td>1722.298</td>\n",
       "      <td>MIL</td>\n",
       "      <td>1349.978</td>\n",
       "      <td>372.320</td>\n",
       "    </tr>\n",
       "    <tr>\n",
       "      <th>11</th>\n",
       "      <td>2007</td>\n",
       "      <td>BOS</td>\n",
       "      <td>1705.223</td>\n",
       "      <td>MIA</td>\n",
       "      <td>1266.096</td>\n",
       "      <td>439.128</td>\n",
       "    </tr>\n",
       "    <tr>\n",
       "      <th>12</th>\n",
       "      <td>2008</td>\n",
       "      <td>CLE</td>\n",
       "      <td>1709.253</td>\n",
       "      <td>SAC</td>\n",
       "      <td>1281.600</td>\n",
       "      <td>427.653</td>\n",
       "    </tr>\n",
       "    <tr>\n",
       "      <th>13</th>\n",
       "      <td>2009</td>\n",
       "      <td>ORL</td>\n",
       "      <td>1672.527</td>\n",
       "      <td>MIN</td>\n",
       "      <td>1268.015</td>\n",
       "      <td>404.512</td>\n",
       "    </tr>\n",
       "    <tr>\n",
       "      <th>14</th>\n",
       "      <td>2010</td>\n",
       "      <td>CHI</td>\n",
       "      <td>1701.611</td>\n",
       "      <td>MIN</td>\n",
       "      <td>1282.229</td>\n",
       "      <td>419.381</td>\n",
       "    </tr>\n",
       "    <tr>\n",
       "      <th>15</th>\n",
       "      <td>2011</td>\n",
       "      <td>SAS</td>\n",
       "      <td>1691.552</td>\n",
       "      <td>CHA</td>\n",
       "      <td>1215.423</td>\n",
       "      <td>476.129</td>\n",
       "    </tr>\n",
       "    <tr>\n",
       "      <th>16</th>\n",
       "      <td>2012</td>\n",
       "      <td>MIA</td>\n",
       "      <td>1732.481</td>\n",
       "      <td>ORL</td>\n",
       "      <td>1289.874</td>\n",
       "      <td>442.607</td>\n",
       "    </tr>\n",
       "    <tr>\n",
       "      <th>17</th>\n",
       "      <td>2013</td>\n",
       "      <td>SAS</td>\n",
       "      <td>1682.227</td>\n",
       "      <td>MIL</td>\n",
       "      <td>1266.679</td>\n",
       "      <td>415.548</td>\n",
       "    </tr>\n",
       "    <tr>\n",
       "      <th>18</th>\n",
       "      <td>2014</td>\n",
       "      <td>GSW</td>\n",
       "      <td>1724.481</td>\n",
       "      <td>MIN</td>\n",
       "      <td>1283.289</td>\n",
       "      <td>441.192</td>\n",
       "    </tr>\n",
       "    <tr>\n",
       "      <th>19</th>\n",
       "      <td>2015</td>\n",
       "      <td>GSW</td>\n",
       "      <td>1768.693</td>\n",
       "      <td>PHI</td>\n",
       "      <td>1226.965</td>\n",
       "      <td>541.728</td>\n",
       "    </tr>\n",
       "    <tr>\n",
       "      <th>20</th>\n",
       "      <td>2016</td>\n",
       "      <td>GSW</td>\n",
       "      <td>1718.294</td>\n",
       "      <td>PHX</td>\n",
       "      <td>1344.988</td>\n",
       "      <td>373.306</td>\n",
       "    </tr>\n",
       "    <tr>\n",
       "      <th>21</th>\n",
       "      <td>2017</td>\n",
       "      <td>HOU</td>\n",
       "      <td>1718.759</td>\n",
       "      <td>PHX</td>\n",
       "      <td>1303.276</td>\n",
       "      <td>415.483</td>\n",
       "    </tr>\n",
       "  </tbody>\n",
       "</table>\n",
       "</div>"
      ],
      "text/plain": [
       "    season team_abbr_best  reg_end_elo_best team_abbr_worst  \\\n",
       "0     1996            CHI          1720.096             VAN   \n",
       "1     1997            UTA          1710.590             DEN   \n",
       "2     1998            SAS          1658.079             VAN   \n",
       "3     1999            LAL          1731.521             LAC   \n",
       "4     2000            SAS          1666.640             GSW   \n",
       "5     2001            SAS          1673.972             GSW   \n",
       "6     2002            SAS          1705.225             DEN   \n",
       "7     2003            SAS          1683.075             ORL   \n",
       "8     2004            PHX          1669.405             ATL   \n",
       "9     2005            SAS          1680.083             POR   \n",
       "10    2006            DAL          1722.298             MIL   \n",
       "11    2007            BOS          1705.223             MIA   \n",
       "12    2008            CLE          1709.253             SAC   \n",
       "13    2009            ORL          1672.527             MIN   \n",
       "14    2010            CHI          1701.611             MIN   \n",
       "15    2011            SAS          1691.552             CHA   \n",
       "16    2012            MIA          1732.481             ORL   \n",
       "17    2013            SAS          1682.227             MIL   \n",
       "18    2014            GSW          1724.481             MIN   \n",
       "19    2015            GSW          1768.693             PHI   \n",
       "20    2016            GSW          1718.294             PHX   \n",
       "21    2017            HOU          1718.759             PHX   \n",
       "\n",
       "    reg_end_elo_worst  elo_range  \n",
       "0            1264.287    455.809  \n",
       "1            1254.947    455.642  \n",
       "2            1295.498    362.581  \n",
       "3            1254.661    476.861  \n",
       "4            1252.482    414.157  \n",
       "5            1314.556    359.417  \n",
       "6            1290.449    414.776  \n",
       "7            1325.869    357.207  \n",
       "8            1240.656    428.748  \n",
       "9            1299.343    380.739  \n",
       "10           1349.978    372.320  \n",
       "11           1266.096    439.128  \n",
       "12           1281.600    427.653  \n",
       "13           1268.015    404.512  \n",
       "14           1282.229    419.381  \n",
       "15           1215.423    476.129  \n",
       "16           1289.874    442.607  \n",
       "17           1266.679    415.548  \n",
       "18           1283.289    441.192  \n",
       "19           1226.965    541.728  \n",
       "20           1344.988    373.306  \n",
       "21           1303.276    415.483  "
      ]
     },
     "execution_count": 32,
     "metadata": {},
     "output_type": "execute_result"
    }
   ],
   "source": [
    "best_worst_teams(reg_elos)"
   ]
  },
  {
   "cell_type": "markdown",
   "metadata": {},
   "source": [
    "### Elo Ratings and Team Win Percentage\n",
    "\n",
    "Every time a team wins, its Elo rating increases. It may increase a lot, if the win is a major upset (based upon the relative team ratings prior to the game). Under the logic of Elo ratings, an upset either means the underdog was very lucky, or is actually better than suggested by the prior ratings. Either way, subsequent team performance will either confirm the improved Elo rating, or show that the upset was just a fluke. The hope is that Elo ratings will converge over time to an accurate assessment of the team's true strength.\n",
    "\n",
    "Since teams that win more often have higher Elo ratings, there should be a strong relationship between win percentage on the season and the season-ending Elo rating. Let's see if that is in fact the case.\n",
    "\n",
    "First, let's compute win percentages for each team for every regular NBA season in our data set. We will construct a new `DataFrame` holding the Elo rating and win percentage at the end of each regular season, for each team."
   ]
  },
  {
   "cell_type": "code",
   "execution_count": 33,
   "metadata": {},
   "outputs": [],
   "source": [
    "def team_win_pcts(box_scores):\n",
    "    return pd.concat([\n",
    "        box_scores[season].team_records[['season', 'team_abbr', 'win_pct']]\n",
    "        for season in tqdm(box_scores)\n",
    "    ])"
   ]
  },
  {
   "cell_type": "code",
   "execution_count": 34,
   "metadata": {},
   "outputs": [],
   "source": [
    "def merge_team_records(elos, box_scores):\n",
    "    df = elos.merge(\n",
    "        team_win_pcts(box_scores),\n",
    "        on=['season', 'team_abbr'],\n",
    "    )\n",
    "    return df"
   ]
  },
  {
   "cell_type": "code",
   "execution_count": 35,
   "metadata": {},
   "outputs": [
    {
     "data": {
      "application/vnd.jupyter.widget-view+json": {
       "model_id": "e4e89ac57a9140e5822e15735969d936",
       "version_major": 2,
       "version_minor": 0
      },
      "text/plain": [
       "HBox(children=(IntProgress(value=0, max=22), HTML(value='')))"
      ]
     },
     "metadata": {},
     "output_type": "display_data"
    },
    {
     "name": "stdout",
     "output_type": "stream",
     "text": [
      "\n"
     ]
    },
    {
     "data": {
      "text/plain": [
       "652"
      ]
     },
     "execution_count": 35,
     "metadata": {},
     "output_type": "execute_result"
    }
   ],
   "source": [
    "df = merge_team_records(reg_elos, nba_reg)\n",
    "len(df)"
   ]
  },
  {
   "cell_type": "code",
   "execution_count": 36,
   "metadata": {},
   "outputs": [
    {
     "data": {
      "text/html": [
       "<div>\n",
       "<style scoped>\n",
       "    .dataframe tbody tr th:only-of-type {\n",
       "        vertical-align: middle;\n",
       "    }\n",
       "\n",
       "    .dataframe tbody tr th {\n",
       "        vertical-align: top;\n",
       "    }\n",
       "\n",
       "    .dataframe thead th {\n",
       "        text-align: right;\n",
       "    }\n",
       "</style>\n",
       "<table border=\"1\" class=\"dataframe\">\n",
       "  <thead>\n",
       "    <tr style=\"text-align: right;\">\n",
       "      <th></th>\n",
       "      <th>season</th>\n",
       "      <th>team_abbr</th>\n",
       "      <th>reg_end_elo</th>\n",
       "      <th>win_pct</th>\n",
       "    </tr>\n",
       "  </thead>\n",
       "  <tbody>\n",
       "    <tr>\n",
       "      <th>0</th>\n",
       "      <td>1996</td>\n",
       "      <td>CHI</td>\n",
       "      <td>1720.096</td>\n",
       "      <td>0.841</td>\n",
       "    </tr>\n",
       "    <tr>\n",
       "      <th>1</th>\n",
       "      <td>1996</td>\n",
       "      <td>UTA</td>\n",
       "      <td>1713.001</td>\n",
       "      <td>0.780</td>\n",
       "    </tr>\n",
       "    <tr>\n",
       "      <th>2</th>\n",
       "      <td>1996</td>\n",
       "      <td>MIA</td>\n",
       "      <td>1661.044</td>\n",
       "      <td>0.744</td>\n",
       "    </tr>\n",
       "    <tr>\n",
       "      <th>3</th>\n",
       "      <td>1996</td>\n",
       "      <td>NYK</td>\n",
       "      <td>1638.366</td>\n",
       "      <td>0.695</td>\n",
       "    </tr>\n",
       "    <tr>\n",
       "      <th>4</th>\n",
       "      <td>1996</td>\n",
       "      <td>ATL</td>\n",
       "      <td>1625.877</td>\n",
       "      <td>0.683</td>\n",
       "    </tr>\n",
       "  </tbody>\n",
       "</table>\n",
       "</div>"
      ],
      "text/plain": [
       "   season team_abbr  reg_end_elo  win_pct\n",
       "0    1996       CHI     1720.096    0.841\n",
       "1    1996       UTA     1713.001    0.780\n",
       "2    1996       MIA     1661.044    0.744\n",
       "3    1996       NYK     1638.366    0.695\n",
       "4    1996       ATL     1625.877    0.683"
      ]
     },
     "execution_count": 36,
     "metadata": {},
     "output_type": "execute_result"
    }
   ],
   "source": [
    "df.head()"
   ]
  },
  {
   "cell_type": "markdown",
   "metadata": {},
   "source": [
    "Here is a scatter plot of the end-of-season Elo rating versus the win percentage."
   ]
  },
  {
   "cell_type": "code",
   "execution_count": 37,
   "metadata": {},
   "outputs": [
    {
     "data": {
      "image/png": "[encoded data removed]",
      "text/plain": [
       "<Figure size 720x504 with 1 Axes>"
      ]
     },
     "metadata": {},
     "output_type": "display_data"
    }
   ],
   "source": [
    "fig, ax = plt.subplots(figsize=(10, 7))\n",
    "df.plot(kind='scatter', x='win_pct', y='reg_end_elo', ax=ax, s=7)\n",
    "ax.set_xlabel('Regular NBA Season Win Percentage')\n",
    "ax.set_ylabel('End of Regular NBA Season Simple Elo Rating')\n",
    "ax.set_title('Simple NBA Elo Rating and Regular Season Win Percentage')\n",
    "plt.show()"
   ]
  },
  {
   "cell_type": "markdown",
   "metadata": {},
   "source": [
    "#### Fitting a Line to the Scatter Plot\n",
    "\n",
    "The 652 data points in the scatter plot above seem to have an approximately [linear](https://en.wikipedia.org/wiki/Linearity) relationship. That is, the [slope](https://en.wikipedia.org/wiki/Slope) of the relationship between win percentage and Elo rating seems to be roughly constant.\n",
    "\n",
    "We can fit a straight line to the data points using [linear regression](https://en.wikipedia.org/wiki/Linear_regression). We will attempt to explain the end-of-season Elo rating in terms of the season win percentage. This situation, where one variable (the _explanatory variable_) is used to explain another variable (the _dependent variable_) using a straight line is the simplest case of linear regression. Appropriately enough, this is called [simple linear regression](https://en.wikipedia.org/wiki/Simple_linear_regression).\n",
    "\n",
    "We can easily perform linear regression in Python using the [`LinearRegression`](http://scikit-learn.org/stable/modules/generated/sklearn.linear_model.LinearRegression.html) `class` from the [`scikit-learn`](http://scikit-learn.org/stable/index.html) package.\n",
    "\n",
    "First, let's prepare the data for the regression. Our explanatory variable will be called `X` and will be the team win percentage. Our dependent variable will be called `y` and will be the end-of-season Elo rating. Notice that we are calling the `pandas` [`values()`](https://pandas.pydata.org/pandas-docs/stable/generated/pandas.DataFrame.values.html) method to extract each of the two columns of the `DataFrame` as a [`NumPy`](http://www.numpy.org/) [`array`](https://jakevdp.github.io/PythonDataScienceHandbook/02.02-the-basics-of-numpy-arrays.html)."
   ]
  },
  {
   "cell_type": "code",
   "execution_count": 38,
   "metadata": {},
   "outputs": [],
   "source": [
    "X = df['win_pct'].values.reshape(-1, 1)\n",
    "y = df['reg_end_elo'].values"
   ]
  },
  {
   "cell_type": "markdown",
   "metadata": {},
   "source": [
    "Now let's fit the linear regression model."
   ]
  },
  {
   "cell_type": "code",
   "execution_count": 39,
   "metadata": {},
   "outputs": [],
   "source": [
    "lm = linear_model.LinearRegression()\n",
    "fit = lm.fit(X, y)"
   ]
  },
  {
   "cell_type": "markdown",
   "metadata": {},
   "source": [
    "#### Slope\n",
    "\n",
    "The `fit` object contains all the information about the straight line that best fits our data set. Let's see the slope of the line of best fit."
   ]
  },
  {
   "cell_type": "code",
   "execution_count": 40,
   "metadata": {},
   "outputs": [
    {
     "data": {
      "text/plain": [
       "array([ 690.02119094])"
      ]
     },
     "execution_count": 40,
     "metadata": {},
     "output_type": "execute_result"
    }
   ],
   "source": [
    "fit.coef_"
   ]
  },
  {
   "cell_type": "markdown",
   "metadata": {},
   "source": [
    "According to this estimated linear regression model, every 10% increase in season win percentage corresponds to an Elo rating increase of roughly 69 points.\n",
    "\n",
    "In a normal 82-game regular NBA season, each win is worth 1.22% in win percentage. Therefore, each regular season win contributes roughly 8.3 points towards the team's end-of-season Elo rating.\n",
    "\n",
    "#### Intercept\n",
    "\n",
    "Now let's look at the intercept of the estimated line of best fit."
   ]
  },
  {
   "cell_type": "code",
   "execution_count": 41,
   "metadata": {},
   "outputs": [
    {
     "data": {
      "text/plain": [
       "1154.9879705008948"
      ]
     },
     "execution_count": 41,
     "metadata": {},
     "output_type": "execute_result"
    }
   ],
   "source": [
    "fit.intercept_"
   ]
  },
  {
   "cell_type": "markdown",
   "metadata": {},
   "source": [
    "According to this estimated linear regression model, a team with no wins would correspond to an Elo rating of approximately 1155.\n",
    "\n",
    "#### Predicting Elo Rating from Win Percentage\n",
    "\n",
    "We can use the slope and intercept of the fitted line to predict the end-of-season Elo rating, given the regular season win percentage."
   ]
  },
  {
   "cell_type": "code",
   "execution_count": 42,
   "metadata": {},
   "outputs": [],
   "source": [
    "def elo_predictor(fit):\n",
    "    def wrapper(win_pct):\n",
    "        return fit.intercept_ + (win_pct * fit.coef_[0])\n",
    "    return wrapper"
   ]
  },
  {
   "cell_type": "code",
   "execution_count": 43,
   "metadata": {},
   "outputs": [],
   "source": [
    "pred_elo = elo_predictor(fit)"
   ]
  },
  {
   "cell_type": "code",
   "execution_count": 44,
   "metadata": {},
   "outputs": [
    {
     "data": {
      "text/plain": [
       "1499.9985659692277"
      ]
     },
     "execution_count": 44,
     "metadata": {},
     "output_type": "execute_result"
    }
   ],
   "source": [
    "pred_elo(0.5)"
   ]
  },
  {
   "cell_type": "markdown",
   "metadata": {},
   "source": [
    "As expected, this model predicts that a team with a .500 record will have an Elo rating equal to the league-wide average value of 1500. Let's see what Elo rating a mythical undefeated team would be awarded."
   ]
  },
  {
   "cell_type": "code",
   "execution_count": 45,
   "metadata": {},
   "outputs": [
    {
     "data": {
      "text/plain": [
       "1845.0091614375606"
      ]
     },
     "execution_count": 45,
     "metadata": {},
     "output_type": "execute_result"
    }
   ],
   "source": [
    "pred_elo(1)"
   ]
  },
  {
   "cell_type": "markdown",
   "metadata": {},
   "source": [
    "#### R-squared\n",
    "\n",
    "We can use the `score()` method to help understand how well the straight line represents the overall data set."
   ]
  },
  {
   "cell_type": "code",
   "execution_count": 46,
   "metadata": {},
   "outputs": [
    {
     "data": {
      "text/plain": [
       "0.95298626039136847"
      ]
     },
     "execution_count": 46,
     "metadata": {},
     "output_type": "execute_result"
    }
   ],
   "source": [
    "fit.score(X, y)"
   ]
  },
  {
   "cell_type": "markdown",
   "metadata": {},
   "source": [
    "The `score()` method calculates the [coefficient of determination](https://en.wikipedia.org/wiki/Coefficient_of_determination) statistic for the regression. The coefficient of determination is also commonly called the \"R-squared\" of a regression. The simplest explanation of R-squared is the percentage of variation in the data explained by the fit. If all of the data points lie exactly on the line, then the R-squared is 100%. If there isn't a strong linear relationship between the variables, the R-squared will be close to zero.\n",
    "\n",
    "In this case, the R-squared is approximately 95%, which suggests that there is a reasonably strong linear relationship between season win percentage and end-of-season Elo ratings.\n",
    "\n",
    "#### Why Is This Interesting?\n",
    "\n",
    "You may be wondering at this why we should even care to examine the relationship between win percentage and Elo ratings. After all, we compute Elo ratings from wins and losses, so they have to be related, right?\n",
    "\n",
    "It is true that there has to be some relationship between win percentage and Elo ratings, but there is no obvious reason that the relationship has to be _linear_. After all, Elo ratings depend on things other than just the number of wins and losses. For example, they depend on the ratings of the opponents. Therefore, strength of schedule matters for each team. The fact that the NBA plays a relatively balanced regular season schedule is probably related to the fact that the empirical relationship between win percentage and Elo ratings is approximately linear.\n",
    "\n",
    "#### Plotting the Fit\n",
    "\n",
    "To conclude, let's plot the line of best fit on our scatter plot.\n",
    "\n",
    "First, we need to generate the model predictions for each explanatory variable. Since our model is a simple linear regression, the predictions will all lie on the line of best fit."
   ]
  },
  {
   "cell_type": "code",
   "execution_count": 47,
   "metadata": {},
   "outputs": [],
   "source": [
    "predictions = lm.predict(X)"
   ]
  },
  {
   "cell_type": "markdown",
   "metadata": {},
   "source": [
    "Now we can just plot the data again, but add in the line of best fit."
   ]
  },
  {
   "cell_type": "code",
   "execution_count": 48,
   "metadata": {},
   "outputs": [
    {
     "data": {
      "image/png": "[encoded data removed]",
      "text/plain": [
       "<Figure size 720x504 with 1 Axes>"
      ]
     },
     "metadata": {},
     "output_type": "display_data"
    }
   ],
   "source": [
    "fig, ax = plt.subplots(figsize=(10, 7))\n",
    "df.plot(kind='scatter', x='win_pct', y='reg_end_elo', label='Data', ax=ax, s=7)\n",
    "ax.plot(X, predictions, label='Linear Fit', color='orange')  # line of best fit\n",
    "ax.set_xlabel('Regular NBA Season Win Percentage')\n",
    "ax.set_ylabel('End of Regular NBA Season Simple Elo Rating')\n",
    "ax.set_title('Simple NBA Elo Rating and Regular Season Win Percentage')\n",
    "ax.legend(loc='upper left')\n",
    "plt.show()"
   ]
  },
  {
   "cell_type": "markdown",
   "metadata": {},
   "source": [
    "#### Predicting Regular Season Records from Elo Ratings\n",
    "\n",
    "We can turn the estimated linear relationship around to predict a regular season record, given an Elo rating. We need to be a bit careful in doing this, for two reasons:\n",
    "\n",
    "1. Win percentages must be between 0 and 1. We can't plug in Elo ratings that would predict impossible win percentages.\n",
    "2. The historical data only have season win percentages between 10% and 90%. You can also see from the plot that most teams have between 20% and 80% season win percentages. It's always dangerous to make predictions that extrapolate outside the range of observed data.\n",
    "\n",
    "With these caveats in mind, here's a function that will predict the regular season record given the end-of-season Elo rating."
   ]
  },
  {
   "cell_type": "code",
   "execution_count": 49,
   "metadata": {},
   "outputs": [],
   "source": [
    "def record_predictor(fit, season_games=82):\n",
    "    def wrapper(elo):\n",
    "        if elo < fit.intercept_ or elo > fit.intercept_ + fit.coef_:\n",
    "            raise ValueError(f'invalid Elo rating {elo}')\n",
    "        win_pct = (elo - fit.intercept_) / fit.coef_[0]\n",
    "        wins = int(round(season_games*win_pct))\n",
    "        return wins, season_games - wins\n",
    "    return wrapper"
   ]
  },
  {
   "cell_type": "code",
   "execution_count": 50,
   "metadata": {},
   "outputs": [],
   "source": [
    "pred_record = record_predictor(fit)"
   ]
  },
  {
   "cell_type": "code",
   "execution_count": 51,
   "metadata": {},
   "outputs": [
    {
     "data": {
      "text/plain": [
       "(41, 41)"
      ]
     },
     "execution_count": 51,
     "metadata": {},
     "output_type": "execute_result"
    }
   ],
   "source": [
    "pred_record(1500)"
   ]
  },
  {
   "cell_type": "code",
   "execution_count": 52,
   "metadata": {},
   "outputs": [
    {
     "data": {
      "text/plain": [
       "(65, 17)"
      ]
     },
     "execution_count": 52,
     "metadata": {},
     "output_type": "execute_result"
    }
   ],
   "source": [
    "pred_record(1700)"
   ]
  },
  {
   "cell_type": "code",
   "execution_count": 53,
   "metadata": {},
   "outputs": [
    {
     "data": {
      "text/plain": [
       "(17, 65)"
      ]
     },
     "execution_count": 53,
     "metadata": {},
     "output_type": "execute_result"
    }
   ],
   "source": [
    "pred_record(1300)"
   ]
  },
  {
   "cell_type": "markdown",
   "metadata": {},
   "source": [
    "Because of the empirical linear relationship, we see that 200 Elo rating points are worth approximately 24 regular season games. This is just the same 8.3 Elo rating points per win (for a normal 82-game NBA regular season) that we discovered above."
   ]
  },
  {
   "cell_type": "code",
   "execution_count": null,
   "metadata": {},
   "outputs": [],
   "source": []
  }
 ],
 "metadata": {
  "kernelspec": {
   "display_name": "Python [conda env:sports_py36]",
   "language": "python",
   "name": "conda-env-sports_py36-py"
  },
  "language_info": {
   "codemirror_mode": {
    "name": "ipython",
    "version": 3
   },
   "file_extension": ".py",
   "mimetype": "text/x-python",
   "name": "python",
   "nbconvert_exporter": "python",
   "pygments_lexer": "ipython3",
   "version": "3.6.5"
  }
 },
 "nbformat": 4,
 "nbformat_minor": 2
}
