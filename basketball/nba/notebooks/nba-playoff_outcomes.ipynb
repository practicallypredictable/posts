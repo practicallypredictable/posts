{
 "cells": [
  {
   "cell_type": "markdown",
   "metadata": {},
   "source": [
    "## Possible Outcomes of NBA Playoff Series\n",
    "\n",
    "In this short notebook, we will develop some Python code to generate the possible outcomes of an NBA playoff series. We will use this code in other notebooks to compute playoff series win probabilities.\n",
    "\n",
    "We will use the `permutations()` function in the [`itertools`](https://docs.python.org/3/library/itertools.html#module-itertools) module from the Python standard library."
   ]
  },
  {
   "cell_type": "code",
   "execution_count": 1,
   "metadata": {},
   "outputs": [],
   "source": [
    "import itertools"
   ]
  },
  {
   "cell_type": "markdown",
   "metadata": {},
   "source": [
    "Imagine that we have a best-of-5 playoff series. (Prior to the 2002-3 NBA Season, first round playoff games were best-of-5.) Suppose we represent wins from the perspective of the team which has series home court advantage. We can represent wins and losses by that team as yes/no variables. A `'Y'` represents a win by that team, and a `'N'` represents a loss.\n",
    "\n",
    "Let's look at one possible sequence of outcomes for a 5-game series."
   ]
  },
  {
   "cell_type": "code",
   "execution_count": 2,
   "metadata": {},
   "outputs": [],
   "source": [
    "raw_outcome = ('N', 'N', 'Y', 'N', 'Y')"
   ]
  },
  {
   "cell_type": "markdown",
   "metadata": {},
   "source": [
    "### Creating Valid Playoff Series Outcomes\n",
    "\n",
    "In this case, the series should never have gotten to 5 games. The team with series home court advantage would have been eliminated after the fourth game. We want to adjust the above outcome to reflect that the series should have ended after 4 games.\n",
    "\n",
    "Here's how we can do that. First, we need a function to find the last `'Y'` or `'N'` character. We can use some Python [slicing](https://www.dotnetperls.com/slice-python) with the usual Python [`index()`](https://docs.python.org/3.6/tutorial/datastructures.html) method to find the last occurrence of the item. This method will work on a Python seqeuence implementing the `index()` method (in particular, standard `list` or `tuple` objects)."
   ]
  },
  {
   "cell_type": "code",
   "execution_count": 3,
   "metadata": {},
   "outputs": [],
   "source": [
    "def last_index(outcome, c):\n",
    "    \"\"\"Index of last occurrence of an item in a list or tuple\"\"\"\n",
    "    return len(outcome) - outcome[::-1].index(c)"
   ]
  },
  {
   "cell_type": "markdown",
   "metadata": {},
   "source": [
    "Suppose we know that the team without series home court advantage won this playff series. Here's how we use our function to find the decisive game."
   ]
  },
  {
   "cell_type": "code",
   "execution_count": 4,
   "metadata": {},
   "outputs": [
    {
     "data": {
      "text/plain": [
       "4"
      ]
     },
     "execution_count": 4,
     "metadata": {},
     "output_type": "execute_result"
    }
   ],
   "source": [
    "last_index(raw_outcome, 'N')"
   ]
  },
  {
   "cell_type": "markdown",
   "metadata": {},
   "source": [
    "From this we know that the series should had ended after 4 games. Let's use slicing again to chop off the game which would never have actually been played."
   ]
  },
  {
   "cell_type": "code",
   "execution_count": 5,
   "metadata": {},
   "outputs": [
    {
     "data": {
      "text/plain": [
       "('N', 'N', 'Y', 'N')"
      ]
     },
     "execution_count": 5,
     "metadata": {},
     "output_type": "execute_result"
    }
   ],
   "source": [
    "raw_outcome[:last_index(raw_outcome, 'N')]"
   ]
  },
  {
   "cell_type": "markdown",
   "metadata": {},
   "source": [
    "We can turn this idea into a general function. The function will accept a sequence of games (represented by `'Y'` and `'N'` characters representing wins or losses by the team with series home court advantage). It will return the truncated outcome representing the games that would have actually been played."
   ]
  },
  {
   "cell_type": "code",
   "execution_count": 6,
   "metadata": {},
   "outputs": [],
   "source": [
    "def valid_series(outcome, *, best_of, hca_wins):\n",
    "    \"\"\"Adjust raw outcome to reflect valid playoff series outcome\"\"\"\n",
    "    assert best_of in (5, 7)\n",
    "    c = 'Y' if hca_wins else 'N'  # Character for counting wins\n",
    "    wins = 4 if best_of == 7 else 3\n",
    "    assert outcome.count(c) == wins  # Sanity check the input\n",
    "    return outcome[:last_index(outcome, c)]"
   ]
  },
  {
   "cell_type": "code",
   "execution_count": 7,
   "metadata": {},
   "outputs": [
    {
     "data": {
      "text/plain": [
       "('N', 'N', 'Y', 'N')"
      ]
     },
     "execution_count": 7,
     "metadata": {},
     "output_type": "execute_result"
    }
   ],
   "source": [
    "valid_series(raw_outcome, best_of=5, hca_wins=False)"
   ]
  },
  {
   "cell_type": "markdown",
   "metadata": {},
   "source": [
    "Notice that if we happen to pass in a sequence that is already valid, we get back the same (valid) sequence."
   ]
  },
  {
   "cell_type": "code",
   "execution_count": 8,
   "metadata": {},
   "outputs": [
    {
     "data": {
      "text/plain": [
       "('N', 'N', 'Y', 'N')"
      ]
     },
     "execution_count": 8,
     "metadata": {},
     "output_type": "execute_result"
    }
   ],
   "source": [
    "valid_series(('N', 'N', 'Y', 'N'), best_of=5, hca_wins=False)"
   ]
  },
  {
   "cell_type": "markdown",
   "metadata": {},
   "source": [
    "### Generating Possible Outcomes\n",
    "\n",
    "Now it's time to generate all the possible playoff series outcomes.\n",
    "\n",
    "Continuing with our best-of-5 series as an example, let's generate all possible sequences with 3 wins and 2 losses."
   ]
  },
  {
   "cell_type": "code",
   "execution_count": 9,
   "metadata": {},
   "outputs": [
    {
     "data": {
      "text/plain": [
       "{('N', 'N', 'Y', 'Y', 'Y'),\n",
       " ('N', 'Y', 'N', 'Y', 'Y'),\n",
       " ('N', 'Y', 'Y', 'N', 'Y'),\n",
       " ('N', 'Y', 'Y', 'Y', 'N'),\n",
       " ('Y', 'N', 'N', 'Y', 'Y'),\n",
       " ('Y', 'N', 'Y', 'N', 'Y'),\n",
       " ('Y', 'N', 'Y', 'Y', 'N'),\n",
       " ('Y', 'Y', 'N', 'N', 'Y'),\n",
       " ('Y', 'Y', 'N', 'Y', 'N'),\n",
       " ('Y', 'Y', 'Y', 'N', 'N')}"
      ]
     },
     "execution_count": 9,
     "metadata": {},
     "output_type": "execute_result"
    }
   ],
   "source": [
    "wins = 'Y'*3 + 'N'*2\n",
    "set(itertools.permutations(wins))"
   ]
  },
  {
   "cell_type": "markdown",
   "metadata": {},
   "source": [
    "The `permutations()` function returns an [iterator](https://dbader.org/blog/python-iterators) of all the possible permutations of the 5-character string. Many of the items returned by this iterator would be duplicates. That is why we use `set` above to get the unique outcomes.\n",
    "\n",
    "We can use our function above to prune each possible permutation and make sure it is a valid NBA playoff outcome. Here's a general function that does what we need."
   ]
  },
  {
   "cell_type": "code",
   "execution_count": 10,
   "metadata": {},
   "outputs": [],
   "source": [
    "def playoff_outcomes(*, best_of, hca_wins):\n",
    "    \"\"\"Possible playoff series outcomes\"\"\"\n",
    "    if best_of not in (5, 7):\n",
    "        raise ValueError('playoff series must be best of 5 or 7 games')\n",
    "    if hca_wins:\n",
    "        yes = 4 if best_of == 7 else 3\n",
    "        no = best_of - yes\n",
    "    else:\n",
    "        no = 4 if best_of == 7 else 3\n",
    "        yes = best_of - no\n",
    "    wins = 'Y'*yes + 'N'*no\n",
    "    raw_outcomes = set(outcome for outcome in itertools.permutations(wins))\n",
    "    outcomes = {\n",
    "        valid_series(outcome, best_of=best_of, hca_wins=hca_wins)\n",
    "        for outcome in raw_outcomes\n",
    "    }\n",
    "    return outcomes"
   ]
  },
  {
   "cell_type": "markdown",
   "metadata": {},
   "source": [
    "Here are the possible outcomes for a best-of-5 series, where the team without series home court advantage wins."
   ]
  },
  {
   "cell_type": "code",
   "execution_count": 11,
   "metadata": {},
   "outputs": [
    {
     "data": {
      "text/plain": [
       "{('N', 'N', 'N'),\n",
       " ('N', 'N', 'Y', 'N'),\n",
       " ('N', 'N', 'Y', 'Y', 'N'),\n",
       " ('N', 'Y', 'N', 'N'),\n",
       " ('N', 'Y', 'N', 'Y', 'N'),\n",
       " ('N', 'Y', 'Y', 'N', 'N'),\n",
       " ('Y', 'N', 'N', 'N'),\n",
       " ('Y', 'N', 'N', 'Y', 'N'),\n",
       " ('Y', 'N', 'Y', 'N', 'N'),\n",
       " ('Y', 'Y', 'N', 'N', 'N')}"
      ]
     },
     "execution_count": 11,
     "metadata": {},
     "output_type": "execute_result"
    }
   ],
   "source": [
    "playoff_outcomes(best_of=5, hca_wins=False)"
   ]
  },
  {
   "cell_type": "markdown",
   "metadata": {},
   "source": [
    "Here are the possible outcomes of a best-of-7 series, where the team with series home court advantage wins."
   ]
  },
  {
   "cell_type": "code",
   "execution_count": 12,
   "metadata": {},
   "outputs": [
    {
     "data": {
      "text/plain": [
       "{('N', 'N', 'N', 'Y', 'Y', 'Y', 'Y'),\n",
       " ('N', 'N', 'Y', 'N', 'Y', 'Y', 'Y'),\n",
       " ('N', 'N', 'Y', 'Y', 'N', 'Y', 'Y'),\n",
       " ('N', 'N', 'Y', 'Y', 'Y', 'N', 'Y'),\n",
       " ('N', 'N', 'Y', 'Y', 'Y', 'Y'),\n",
       " ('N', 'Y', 'N', 'N', 'Y', 'Y', 'Y'),\n",
       " ('N', 'Y', 'N', 'Y', 'N', 'Y', 'Y'),\n",
       " ('N', 'Y', 'N', 'Y', 'Y', 'N', 'Y'),\n",
       " ('N', 'Y', 'N', 'Y', 'Y', 'Y'),\n",
       " ('N', 'Y', 'Y', 'N', 'N', 'Y', 'Y'),\n",
       " ('N', 'Y', 'Y', 'N', 'Y', 'N', 'Y'),\n",
       " ('N', 'Y', 'Y', 'N', 'Y', 'Y'),\n",
       " ('N', 'Y', 'Y', 'Y', 'N', 'N', 'Y'),\n",
       " ('N', 'Y', 'Y', 'Y', 'N', 'Y'),\n",
       " ('N', 'Y', 'Y', 'Y', 'Y'),\n",
       " ('Y', 'N', 'N', 'N', 'Y', 'Y', 'Y'),\n",
       " ('Y', 'N', 'N', 'Y', 'N', 'Y', 'Y'),\n",
       " ('Y', 'N', 'N', 'Y', 'Y', 'N', 'Y'),\n",
       " ('Y', 'N', 'N', 'Y', 'Y', 'Y'),\n",
       " ('Y', 'N', 'Y', 'N', 'N', 'Y', 'Y'),\n",
       " ('Y', 'N', 'Y', 'N', 'Y', 'N', 'Y'),\n",
       " ('Y', 'N', 'Y', 'N', 'Y', 'Y'),\n",
       " ('Y', 'N', 'Y', 'Y', 'N', 'N', 'Y'),\n",
       " ('Y', 'N', 'Y', 'Y', 'N', 'Y'),\n",
       " ('Y', 'N', 'Y', 'Y', 'Y'),\n",
       " ('Y', 'Y', 'N', 'N', 'N', 'Y', 'Y'),\n",
       " ('Y', 'Y', 'N', 'N', 'Y', 'N', 'Y'),\n",
       " ('Y', 'Y', 'N', 'N', 'Y', 'Y'),\n",
       " ('Y', 'Y', 'N', 'Y', 'N', 'N', 'Y'),\n",
       " ('Y', 'Y', 'N', 'Y', 'N', 'Y'),\n",
       " ('Y', 'Y', 'N', 'Y', 'Y'),\n",
       " ('Y', 'Y', 'Y', 'N', 'N', 'N', 'Y'),\n",
       " ('Y', 'Y', 'Y', 'N', 'N', 'Y'),\n",
       " ('Y', 'Y', 'Y', 'N', 'Y'),\n",
       " ('Y', 'Y', 'Y', 'Y')}"
      ]
     },
     "execution_count": 12,
     "metadata": {},
     "output_type": "execute_result"
    }
   ],
   "source": [
    "playoff_outcomes(best_of=7, hca_wins=True)"
   ]
  }
 ],
 "metadata": {
  "kernelspec": {
   "display_name": "Python [conda env:sports_py36]",
   "language": "python",
   "name": "conda-env-sports_py36-py"
  },
  "language_info": {
   "codemirror_mode": {
    "name": "ipython",
    "version": 3
   },
   "file_extension": ".py",
   "mimetype": "text/x-python",
   "name": "python",
   "nbconvert_exporter": "python",
   "pygments_lexer": "ipython3",
   "version": "3.6.5"
  }
 },
 "nbformat": 4,
 "nbformat_minor": 2
}
