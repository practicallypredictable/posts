{
 "cells": [
  {
   "cell_type": "markdown",
   "metadata": {},
   "source": [
    "## Historical NBA Playoff Brackets\n",
    "\n",
    "This notebook demonstrates how to build a data set of historical NBA playoff match ups. We will combine box scores from [stats.nba.com](http://stats.nba.com/) with historical playoff information from [Real GM](https://basketball.realgm.com/nba/playoffs/brackets/). I picked this site because it has HTML tables which are easy to scrape."
   ]
  },
  {
   "cell_type": "code",
   "execution_count": 1,
   "metadata": {},
   "outputs": [],
   "source": [
    "import numpy as np\n",
    "import pandas as pd\n",
    "pd.options.display.max_rows = 999\n",
    "pd.options.display.max_columns = 999\n",
    "pd.options.display.float_format = '{:.3f}'.format"
   ]
  },
  {
   "cell_type": "code",
   "execution_count": 2,
   "metadata": {},
   "outputs": [],
   "source": [
    "import collections"
   ]
  },
  {
   "cell_type": "code",
   "execution_count": 3,
   "metadata": {},
   "outputs": [],
   "source": [
    "from tqdm import tqdm_notebook as tqdm"
   ]
  },
  {
   "cell_type": "markdown",
   "metadata": {},
   "source": [
    "We will use the [`pracnbastats`](https://pypi.org/project/pracnbastats/) package to scrape [stats.nba.com](http://stats.nba.com/). You can install this package in your sports analytics Python environment by executing `pip install pracnbastats` in Terminal (on Mac or Linux computers) or at the Anaconda Prompt (on Windows computers)."
   ]
  },
  {
   "cell_type": "code",
   "execution_count": 4,
   "metadata": {},
   "outputs": [],
   "source": [
    "import pracnbastats as nba"
   ]
  },
  {
   "cell_type": "markdown",
   "metadata": {},
   "source": [
    "We will use the HTML table scraping function from the [`pracpred`](https://pypi.org/project/pracpred/) package to scrape [Real GM](https://basketball.realgm.com/nba/playoffs/brackets/). You can install this package in your sports analytics Python environment by executing `pip install pracpred` at the command line."
   ]
  },
  {
   "cell_type": "code",
   "execution_count": 5,
   "metadata": {},
   "outputs": [],
   "source": [
    "import pracpred.scrape as pps"
   ]
  },
  {
   "cell_type": "code",
   "execution_count": 6,
   "metadata": {},
   "outputs": [],
   "source": [
    "from pathlib import Path"
   ]
  },
  {
   "cell_type": "markdown",
   "metadata": {},
   "source": [
    "This code assumes the existence of a directory to hold scraped NBA data. You can create and name this directory however you want, and adjust the code in the cell below to suit your preferences. If you've previously scraped the data, the `pracnbastats` library can find it and avoid re-scraping. You just need to specify the location of the previously scraped data using the `store` object defined below."
   ]
  },
  {
   "cell_type": "code",
   "execution_count": 7,
   "metadata": {},
   "outputs": [],
   "source": [
    "PROJECT_DIR = Path.cwd().parent\n",
    "DATA_DIR = PROJECT_DIR / 'data'\n",
    "STATS_DIR = DATA_DIR / 'stats-nba-com'\n",
    "OUTPUT_DIR = DATA_DIR / 'prepared'"
   ]
  },
  {
   "cell_type": "markdown",
   "metadata": {},
   "source": [
    "To scrape data from [stats.nba.com](http://stats.nba.com/), you need to specify a user agent. Below is the user agent I used. You can find your own user agent by searching for \"my user agent\" in Google."
   ]
  },
  {
   "cell_type": "code",
   "execution_count": 8,
   "metadata": {},
   "outputs": [],
   "source": [
    "USER_AGENT = (\n",
    "    'Mozilla/5.0 (Macintosh; Intel Mac OS X 10_13_4) '\n",
    "    'AppleWebKit/537.36 (KHTML, like Gecko) '\n",
    "    'Chrome/66.0.3359.139 Safari/537.36'\n",
    ")"
   ]
  },
  {
   "cell_type": "code",
   "execution_count": 9,
   "metadata": {},
   "outputs": [],
   "source": [
    "session = nba.scrape.NBASession(user_agent=USER_AGENT)"
   ]
  },
  {
   "cell_type": "code",
   "execution_count": 10,
   "metadata": {},
   "outputs": [],
   "source": [
    "store = nba.store.FlatFiles.CSV(path=STATS_DIR)"
   ]
  },
  {
   "cell_type": "code",
   "execution_count": 11,
   "metadata": {},
   "outputs": [],
   "source": [
    "scraper = nba.scrape.NBAScraper(session=session, store=store)"
   ]
  },
  {
   "cell_type": "markdown",
   "metadata": {},
   "source": [
    "### Historical Team Information\n",
    "\n",
    "As we've [discussed in previous posts](http://practicallypredictable.com/2017/12/21/web-scraping-nba-team-matchups-box-scores/#hornets-and-pelicans), we need to keep track of franchise moves and name changes to look at team performance consistently over time. In particular, the Charlotte/New Orleans franchise history is a bit confused in the historical NBA data. The `teamhistory` module in the `pracnbastats` package contains some useful functions to consistently analyze historical team information."
   ]
  },
  {
   "cell_type": "code",
   "execution_count": 12,
   "metadata": {},
   "outputs": [],
   "source": [
    "nba.teamhistory.load(scraper=scraper, fix_hornets=True)"
   ]
  },
  {
   "cell_type": "markdown",
   "metadata": {},
   "source": [
    "We will also need to look up current team information and link it with the historical team information."
   ]
  },
  {
   "cell_type": "code",
   "execution_count": 13,
   "metadata": {},
   "outputs": [],
   "source": [
    "nba.currentteams.load(scraper=scraper)"
   ]
  },
  {
   "cell_type": "markdown",
   "metadata": {},
   "source": [
    "### Historical Playoff Match Ups\n",
    "\n",
    "We will use the concept of a match up ID to group games between two teams in a particular season. We introduced the match up ID in our [XXX earlier notebook](xxx) examining NBA playoff home court advantage."
   ]
  },
  {
   "cell_type": "code",
   "execution_count": 14,
   "metadata": {},
   "outputs": [],
   "source": [
    "def matchup_id(season_year, abbrs):\n",
    "    \"\"\"Unique identifier for a matchup between two team abbreviations in a particular season\"\"\"\n",
    "    assert len(abbrs) == 2\n",
    "    abbrs = sorted(list(abbrs))\n",
    "    abbr1 = abbrs.pop(0)\n",
    "    abbr2 = abbrs.pop(0)\n",
    "    return f'{abbr1}_{abbr2}_{season_year}'"
   ]
  },
  {
   "cell_type": "code",
   "execution_count": 15,
   "metadata": {},
   "outputs": [],
   "source": [
    "def create_matchup_ids(row):\n",
    "    \"\"\"Create matchup identifier for a DataFrame row\"\"\"\n",
    "    return matchup_id(row['season'], set([row['team_abbr_h'], row['team_abbr_r']]))"
   ]
  },
  {
   "cell_type": "markdown",
   "metadata": {},
   "source": [
    "Let's get the historical playoff box scores from the 1996-97 through 2016-17 NBA seasons, and add a column for the match up ID applicable to each game."
   ]
  },
  {
   "cell_type": "code",
   "execution_count": 16,
   "metadata": {
    "code_folding": []
   },
   "outputs": [],
   "source": [
    "def load_season_matchups(\n",
    "        *, scraper,\n",
    "        season_type=nba.params.SeasonType.Regular,\n",
    "        start_season=nba.params.MIN_YEAR,\n",
    "        end_season=nba.params.Season.current_start_year()):\n",
    "    seasons = {\n",
    "        season: nba.team.BoxScores(\n",
    "            scraper=scraper,\n",
    "            season=nba.params.Season(start_year=season),\n",
    "            season_type=season_type,\n",
    "        ) for season in tqdm(range(start_season, end_season+1))\n",
    "    }\n",
    "    df = pd.concat(seasons[season].matchups for season in seasons)\n",
    "    df['matchup_id'] = df.apply(create_matchup_ids, axis=1)\n",
    "    first_cols = ['matchup_id', ]\n",
    "    cols = first_cols + [col for col in df.columns if col not in first_cols]\n",
    "    return df[cols].sort_values(by=['date']).reset_index(drop=True)"
   ]
  },
  {
   "cell_type": "code",
   "execution_count": 17,
   "metadata": {},
   "outputs": [
    {
     "data": {
      "application/vnd.jupyter.widget-view+json": {
       "model_id": "6ff47309180e49afb460c1ae1fda6d55",
       "version_major": 2,
       "version_minor": 0
      },
      "text/plain": [
       "HBox(children=(IntProgress(value=0, max=21), HTML(value='')))"
      ]
     },
     "metadata": {},
     "output_type": "display_data"
    },
    {
     "name": "stdout",
     "output_type": "stream",
     "text": [
      "\n"
     ]
    }
   ],
   "source": [
    "nba_post = load_season_matchups(\n",
    "    scraper=scraper,\n",
    "    season_type=nba.params.SeasonType.Playoffs,\n",
    "    end_season=nba.params.Season.current_start_year()-1)"
   ]
  },
  {
   "cell_type": "code",
   "execution_count": 18,
   "metadata": {},
   "outputs": [
    {
     "data": {
      "text/plain": [
       "1686"
      ]
     },
     "execution_count": 18,
     "metadata": {},
     "output_type": "execute_result"
    }
   ],
   "source": [
    "len(nba_post)"
   ]
  },
  {
   "cell_type": "markdown",
   "metadata": {},
   "source": [
    "### Summarizing Playoff Series Outcomes\n",
    "\n",
    "Now we are going to create a table with one row for each historical playoff match up. Our goal is to use this table to analyze how well a ratings system (such as our simple Elo ratings system) would have predicted the outcome of the playoff series, given the information available at the time. Each row in this table should contain information on the teams involved in that particular match up, which team had series home court advantage, which games were played at home for which teams, and which games were won by which team.\n",
    "\n",
    "We will use the `pandas` [`groupby()`](https://pandas.pydata.org/pandas-docs/stable/generated/pandas.DataFrame.groupby.html) functionality to aggregate the game data by match up ID. The functions below referencing a group will be called within a `groupby()` aggregation for each match up ID.\n",
    "\n",
    "First, we need to get the season year for each group."
   ]
  },
  {
   "cell_type": "code",
   "execution_count": 19,
   "metadata": {},
   "outputs": [],
   "source": [
    "def season_for_group(g):\n",
    "    return g['season'].min()"
   ]
  },
  {
   "cell_type": "markdown",
   "metadata": {},
   "source": [
    "We will also keep track of the first game date for each series, so we can arrange playoff series in chronological order."
   ]
  },
  {
   "cell_type": "code",
   "execution_count": 20,
   "metadata": {},
   "outputs": [],
   "source": [
    "def first_game_date_for_group(g):\n",
    "    return g['date'].min()"
   ]
  },
  {
   "cell_type": "markdown",
   "metadata": {},
   "source": [
    "The next few functions will create a string telling us which games were home or away for the team with series home court advantage. Let's work through them one step at a time.\n",
    "\n",
    "The function below takes a string of 3-letter team abbreviations and breaks it into a list of separate abbreviations."
   ]
  },
  {
   "cell_type": "code",
   "execution_count": 21,
   "metadata": {},
   "outputs": [],
   "source": [
    "def split_abbrs(s):\n",
    "    return [s[i:i+3] for i in range(0, len(s), 3)]"
   ]
  },
  {
   "cell_type": "markdown",
   "metadata": {},
   "source": [
    "Now, the next function will actually create the list of abbreviations for which games were played at home for which team in a given playoff series."
   ]
  },
  {
   "cell_type": "code",
   "execution_count": 22,
   "metadata": {},
   "outputs": [],
   "source": [
    "def home_team_abbrs_for_group(g):\n",
    "    return split_abbrs(g['team_abbr_h'].sum())"
   ]
  },
  {
   "cell_type": "markdown",
   "metadata": {},
   "source": [
    "The last function in this set turns the list of team abbreviations in this yes (`'Y'`) and no (`'N'`) symbols, based upon which games are played at home for the team with series home court advantage."
   ]
  },
  {
   "cell_type": "code",
   "execution_count": 23,
   "metadata": {},
   "outputs": [],
   "source": [
    "def hca_team_at_home(games, hca_abbr, non_hca_abbr):\n",
    "    games = [s.replace(hca_abbr, 'Y') for s in games]\n",
    "    games = [s.replace(non_hca_abbr, 'N') for s in games]\n",
    "    return ''.join(games)"
   ]
  },
  {
   "cell_type": "markdown",
   "metadata": {},
   "source": [
    "The next two functions do something very similar, but tell us which team won which games in the playoff series. In these functions, `'Y'` means that the team with series home court advantage won the game, while `'N'` means that team lost the game."
   ]
  },
  {
   "cell_type": "code",
   "execution_count": 24,
   "metadata": {},
   "outputs": [],
   "source": [
    "def winner_abbrs_for_group(g):\n",
    "    return split_abbrs(g['winner'].sum())"
   ]
  },
  {
   "cell_type": "code",
   "execution_count": 25,
   "metadata": {},
   "outputs": [],
   "source": [
    "def hca_won(games, hca_abbr, non_hca_abbr):\n",
    "    games = [s.replace(hca_abbr, 'Y') for s in games]\n",
    "    games = [s.replace(non_hca_abbr, 'N') for s in games]\n",
    "    return ''.join(games)"
   ]
  },
  {
   "cell_type": "markdown",
   "metadata": {},
   "source": [
    "Now we can put everything together in one function that will be called for each match up ID. This is a long function, but conceptually it is very simple. All it does is call the above aggregation functions and fill in some team information looked up from the `pracnbastats` package."
   ]
  },
  {
   "cell_type": "code",
   "execution_count": 26,
   "metadata": {},
   "outputs": [],
   "source": [
    "def playoff_matchup_info(g):\n",
    "    \"\"\"Summarize playoff series result for a given match up ID\"\"\"\n",
    "    info = {}\n",
    "    info['season'] = season_for_group(g)\n",
    "    info['first_game_date'] = first_game_date_for_group(g)\n",
    "    home_team_abbrs = home_team_abbrs_for_group(g)\n",
    "    info['hca_team_abbr'] = home_team_abbrs[0]\n",
    "    info['hca_team_id'] = nba.teamhistory.id_for_abbr(info['hca_team_abbr'])\n",
    "    hca_info = nba.teamhistory.select(season=info['season'], team_id=info['hca_team_id'])\n",
    "    info['hca_team_city'] = hca_info.city\n",
    "    info['hca_team_name'] = hca_info.name\n",
    "    info['hca_team_reg_wins'] = hca_info.wins\n",
    "    info['hca_team_reg_losses'] = hca_info.losses\n",
    "    info['hca_team_conf_rank'] = hca_info.conf_rank\n",
    "    info['hca_team_div_rank'] = hca_info.div_rank\n",
    "    other_teams = set([team for team in home_team_abbrs if team != info['hca_team_abbr']])\n",
    "    assert len(other_teams) == 1\n",
    "    info['non_hca_team_abbr'] = other_teams.pop()\n",
    "    info['non_hca_team_id'] = nba.teamhistory.id_for_abbr(info['non_hca_team_abbr'])\n",
    "    non_hca_info = nba.teamhistory.select(season=info['season'], team_id=info['non_hca_team_id'])\n",
    "    info['non_hca_team_city'] = non_hca_info.city\n",
    "    info['non_hca_team_name'] = non_hca_info.name\n",
    "    info['non_hca_team_reg_wins'] = non_hca_info.wins\n",
    "    info['non_hca_team_reg_losses'] = non_hca_info.losses\n",
    "    info['non_hca_team_conf_rank'] = non_hca_info.conf_rank\n",
    "    info['non_hca_team_div_rank'] = non_hca_info.div_rank\n",
    "    winner_abbrs = winner_abbrs_for_group(g)\n",
    "    games_won = collections.Counter(winner_abbrs)\n",
    "    info['hca_series_wins'] = (\n",
    "        games_won[info['hca_team_abbr']]\n",
    "        if info['hca_team_abbr'] in games_won else 0\n",
    "    )\n",
    "    info['non_hca_series_wins'] = (\n",
    "        games_won[info['non_hca_team_abbr']]\n",
    "        if info['non_hca_team_abbr'] in games_won else 0\n",
    "    )\n",
    "    info['best_of'] = 7 if max(info['hca_series_wins'], info['non_hca_series_wins']) == 4 else 5\n",
    "    info['games'] = info['hca_series_wins'] + info['non_hca_series_wins']\n",
    "    info['series_winner'] = (\n",
    "        info['hca_team_abbr']\n",
    "        if info['hca_series_wins'] > info['non_hca_series_wins']\n",
    "        else info['non_hca_team_abbr']\n",
    "    )\n",
    "    info['hca_at_home'] = hca_team_at_home(home_team_abbrs, info['hca_team_abbr'], info['non_hca_team_abbr'])\n",
    "    info['hca_won'] = hca_won(winner_abbrs, info['hca_team_abbr'], info['non_hca_team_abbr'])\n",
    "    cols = [\n",
    "        'season',\n",
    "        'hca_team_abbr',\n",
    "        'non_hca_team_abbr',\n",
    "        'hca_at_home',\n",
    "        'hca_won',\n",
    "        'best_of',\n",
    "        'hca_series_wins',\n",
    "        'non_hca_series_wins',\n",
    "        'games',\n",
    "        'series_winner',\n",
    "        'hca_team_id',\n",
    "        'hca_team_city',\n",
    "        'hca_team_name',\n",
    "        'hca_team_reg_wins',\n",
    "        'hca_team_reg_losses',\n",
    "        'hca_team_conf_rank',\n",
    "        'hca_team_div_rank',\n",
    "        'non_hca_team_id',\n",
    "        'non_hca_team_city',\n",
    "        'non_hca_team_name',\n",
    "        'non_hca_team_reg_wins',\n",
    "        'non_hca_team_reg_losses',\n",
    "        'non_hca_team_conf_rank',\n",
    "        'non_hca_team_div_rank',\n",
    "        'first_game_date',\n",
    "    ]\n",
    "    return pd.Series(info, index=cols)"
   ]
  },
  {
   "cell_type": "markdown",
   "metadata": {},
   "source": [
    "All we need to do now is loop through all the playoff match up IDs to create our new table."
   ]
  },
  {
   "cell_type": "code",
   "execution_count": 27,
   "metadata": {},
   "outputs": [],
   "source": [
    "def playoff_matchups(matchups):\n",
    "    df = (\n",
    "        matchups.groupby(['matchup_id'])\n",
    "        .apply(playoff_matchup_info)\n",
    "        .reset_index()\n",
    "        .sort_values(by=['first_game_date'])\n",
    "        .reset_index(drop=True)\n",
    "    )\n",
    "    return df"
   ]
  },
  {
   "cell_type": "code",
   "execution_count": 28,
   "metadata": {},
   "outputs": [
    {
     "data": {
      "text/html": [
       "<div>\n",
       "<style scoped>\n",
       "    .dataframe tbody tr th:only-of-type {\n",
       "        vertical-align: middle;\n",
       "    }\n",
       "\n",
       "    .dataframe tbody tr th {\n",
       "        vertical-align: top;\n",
       "    }\n",
       "\n",
       "    .dataframe thead th {\n",
       "        text-align: right;\n",
       "    }\n",
       "</style>\n",
       "<table border=\"1\" class=\"dataframe\">\n",
       "  <thead>\n",
       "    <tr style=\"text-align: right;\">\n",
       "      <th></th>\n",
       "      <th>matchup_id</th>\n",
       "      <th>season</th>\n",
       "      <th>hca_team_abbr</th>\n",
       "      <th>non_hca_team_abbr</th>\n",
       "      <th>hca_at_home</th>\n",
       "      <th>hca_won</th>\n",
       "      <th>best_of</th>\n",
       "      <th>hca_series_wins</th>\n",
       "      <th>non_hca_series_wins</th>\n",
       "      <th>games</th>\n",
       "      <th>series_winner</th>\n",
       "      <th>hca_team_id</th>\n",
       "      <th>hca_team_city</th>\n",
       "      <th>hca_team_name</th>\n",
       "      <th>hca_team_reg_wins</th>\n",
       "      <th>hca_team_reg_losses</th>\n",
       "      <th>hca_team_conf_rank</th>\n",
       "      <th>hca_team_div_rank</th>\n",
       "      <th>non_hca_team_id</th>\n",
       "      <th>non_hca_team_city</th>\n",
       "      <th>non_hca_team_name</th>\n",
       "      <th>non_hca_team_reg_wins</th>\n",
       "      <th>non_hca_team_reg_losses</th>\n",
       "      <th>non_hca_team_conf_rank</th>\n",
       "      <th>non_hca_team_div_rank</th>\n",
       "      <th>first_game_date</th>\n",
       "    </tr>\n",
       "  </thead>\n",
       "  <tbody>\n",
       "    <tr>\n",
       "      <th>0</th>\n",
       "      <td>HOU_MIN_1996</td>\n",
       "      <td>1996</td>\n",
       "      <td>HOU</td>\n",
       "      <td>MIN</td>\n",
       "      <td>YYN</td>\n",
       "      <td>YYY</td>\n",
       "      <td>5</td>\n",
       "      <td>3</td>\n",
       "      <td>0</td>\n",
       "      <td>3</td>\n",
       "      <td>HOU</td>\n",
       "      <td>1610612745</td>\n",
       "      <td>Houston</td>\n",
       "      <td>Rockets</td>\n",
       "      <td>57</td>\n",
       "      <td>25</td>\n",
       "      <td>2</td>\n",
       "      <td>2</td>\n",
       "      <td>1610612750</td>\n",
       "      <td>Minnesota</td>\n",
       "      <td>Timberwolves</td>\n",
       "      <td>40</td>\n",
       "      <td>42</td>\n",
       "      <td>6</td>\n",
       "      <td>3</td>\n",
       "      <td>1997-04-24</td>\n",
       "    </tr>\n",
       "    <tr>\n",
       "      <th>1</th>\n",
       "      <td>MIA_ORL_1996</td>\n",
       "      <td>1996</td>\n",
       "      <td>MIA</td>\n",
       "      <td>ORL</td>\n",
       "      <td>YYNNY</td>\n",
       "      <td>YYNNY</td>\n",
       "      <td>5</td>\n",
       "      <td>3</td>\n",
       "      <td>2</td>\n",
       "      <td>5</td>\n",
       "      <td>MIA</td>\n",
       "      <td>1610612748</td>\n",
       "      <td>Miami</td>\n",
       "      <td>Heat</td>\n",
       "      <td>61</td>\n",
       "      <td>21</td>\n",
       "      <td>2</td>\n",
       "      <td>1</td>\n",
       "      <td>1610612753</td>\n",
       "      <td>Orlando</td>\n",
       "      <td>Magic</td>\n",
       "      <td>45</td>\n",
       "      <td>37</td>\n",
       "      <td>7</td>\n",
       "      <td>3</td>\n",
       "      <td>1997-04-24</td>\n",
       "    </tr>\n",
       "    <tr>\n",
       "      <th>2</th>\n",
       "      <td>CHH_NYK_1996</td>\n",
       "      <td>1996</td>\n",
       "      <td>NYK</td>\n",
       "      <td>CHH</td>\n",
       "      <td>YYN</td>\n",
       "      <td>YYY</td>\n",
       "      <td>5</td>\n",
       "      <td>3</td>\n",
       "      <td>0</td>\n",
       "      <td>3</td>\n",
       "      <td>NYK</td>\n",
       "      <td>1610612752</td>\n",
       "      <td>New York</td>\n",
       "      <td>Knicks</td>\n",
       "      <td>57</td>\n",
       "      <td>25</td>\n",
       "      <td>3</td>\n",
       "      <td>2</td>\n",
       "      <td>1610612740</td>\n",
       "      <td>Charlotte</td>\n",
       "      <td>Hornets</td>\n",
       "      <td>54</td>\n",
       "      <td>28</td>\n",
       "      <td>5</td>\n",
       "      <td>3</td>\n",
       "      <td>1997-04-24</td>\n",
       "    </tr>\n",
       "    <tr>\n",
       "      <th>3</th>\n",
       "      <td>LAC_UTA_1996</td>\n",
       "      <td>1996</td>\n",
       "      <td>UTA</td>\n",
       "      <td>LAC</td>\n",
       "      <td>YYN</td>\n",
       "      <td>YYY</td>\n",
       "      <td>5</td>\n",
       "      <td>3</td>\n",
       "      <td>0</td>\n",
       "      <td>3</td>\n",
       "      <td>UTA</td>\n",
       "      <td>1610612762</td>\n",
       "      <td>Utah</td>\n",
       "      <td>Jazz</td>\n",
       "      <td>64</td>\n",
       "      <td>18</td>\n",
       "      <td>1</td>\n",
       "      <td>1</td>\n",
       "      <td>1610612746</td>\n",
       "      <td>Los Angeles</td>\n",
       "      <td>Clippers</td>\n",
       "      <td>36</td>\n",
       "      <td>46</td>\n",
       "      <td>8</td>\n",
       "      <td>5</td>\n",
       "      <td>1997-04-24</td>\n",
       "    </tr>\n",
       "    <tr>\n",
       "      <th>4</th>\n",
       "      <td>PHX_SEA_1996</td>\n",
       "      <td>1996</td>\n",
       "      <td>SEA</td>\n",
       "      <td>PHX</td>\n",
       "      <td>YYNNY</td>\n",
       "      <td>NYNYY</td>\n",
       "      <td>5</td>\n",
       "      <td>3</td>\n",
       "      <td>2</td>\n",
       "      <td>5</td>\n",
       "      <td>SEA</td>\n",
       "      <td>1610612760</td>\n",
       "      <td>Seattle</td>\n",
       "      <td>SuperSonics</td>\n",
       "      <td>57</td>\n",
       "      <td>25</td>\n",
       "      <td>2</td>\n",
       "      <td>1</td>\n",
       "      <td>1610612756</td>\n",
       "      <td>Phoenix</td>\n",
       "      <td>Suns</td>\n",
       "      <td>40</td>\n",
       "      <td>42</td>\n",
       "      <td>6</td>\n",
       "      <td>4</td>\n",
       "      <td>1997-04-25</td>\n",
       "    </tr>\n",
       "  </tbody>\n",
       "</table>\n",
       "</div>"
      ],
      "text/plain": [
       "     matchup_id  season hca_team_abbr non_hca_team_abbr hca_at_home hca_won  \\\n",
       "0  HOU_MIN_1996    1996           HOU               MIN         YYN     YYY   \n",
       "1  MIA_ORL_1996    1996           MIA               ORL       YYNNY   YYNNY   \n",
       "2  CHH_NYK_1996    1996           NYK               CHH         YYN     YYY   \n",
       "3  LAC_UTA_1996    1996           UTA               LAC         YYN     YYY   \n",
       "4  PHX_SEA_1996    1996           SEA               PHX       YYNNY   NYNYY   \n",
       "\n",
       "   best_of  hca_series_wins  non_hca_series_wins  games series_winner  \\\n",
       "0        5                3                    0      3           HOU   \n",
       "1        5                3                    2      5           MIA   \n",
       "2        5                3                    0      3           NYK   \n",
       "3        5                3                    0      3           UTA   \n",
       "4        5                3                    2      5           SEA   \n",
       "\n",
       "   hca_team_id hca_team_city hca_team_name  hca_team_reg_wins  \\\n",
       "0   1610612745       Houston       Rockets                 57   \n",
       "1   1610612748         Miami          Heat                 61   \n",
       "2   1610612752      New York        Knicks                 57   \n",
       "3   1610612762          Utah          Jazz                 64   \n",
       "4   1610612760       Seattle   SuperSonics                 57   \n",
       "\n",
       "   hca_team_reg_losses  hca_team_conf_rank  hca_team_div_rank  \\\n",
       "0                   25                   2                  2   \n",
       "1                   21                   2                  1   \n",
       "2                   25                   3                  2   \n",
       "3                   18                   1                  1   \n",
       "4                   25                   2                  1   \n",
       "\n",
       "   non_hca_team_id non_hca_team_city non_hca_team_name  non_hca_team_reg_wins  \\\n",
       "0       1610612750         Minnesota      Timberwolves                     40   \n",
       "1       1610612753           Orlando             Magic                     45   \n",
       "2       1610612740         Charlotte           Hornets                     54   \n",
       "3       1610612746       Los Angeles          Clippers                     36   \n",
       "4       1610612756           Phoenix              Suns                     40   \n",
       "\n",
       "   non_hca_team_reg_losses  non_hca_team_conf_rank  non_hca_team_div_rank  \\\n",
       "0                       42                       6                      3   \n",
       "1                       37                       7                      3   \n",
       "2                       28                       5                      3   \n",
       "3                       46                       8                      5   \n",
       "4                       42                       6                      4   \n",
       "\n",
       "  first_game_date  \n",
       "0      1997-04-24  \n",
       "1      1997-04-24  \n",
       "2      1997-04-24  \n",
       "3      1997-04-24  \n",
       "4      1997-04-25  "
      ]
     },
     "execution_count": 28,
     "metadata": {},
     "output_type": "execute_result"
    }
   ],
   "source": [
    "df = playoff_matchups(nba_post)\n",
    "df.head()"
   ]
  },
  {
   "cell_type": "markdown",
   "metadata": {},
   "source": [
    "### Scraping Historical NBA Playoff Brackets\n",
    "\n",
    "Now we are going to switch gears and scrape the historical playoff bracket information from [Real GM](https://basketball.realgm.com/nba/playoffs/brackets/). We can use this site to classify match ups by playoff round, conference or seed.\n",
    "\n",
    "#### Team Names\n",
    "\n",
    "First, we will generate a list of the various historical team full names (city plus franchise name) from our existing data. We will see that some of the team names used on [Real GM](https://basketball.realgm.com/nba/playoffs/brackets/) differ from [stats.nba.com](http://stats.nba.com/). We will need to do a few adjustments to get the team names to line up correctly."
   ]
  },
  {
   "cell_type": "code",
   "execution_count": 29,
   "metadata": {},
   "outputs": [],
   "source": [
    "def unique_nba_teams(df):\n",
    "    return (\n",
    "        set(df['hca_team_city'].str.cat(df['hca_team_name'], sep=' ').tolist())\n",
    "        .union(set(df['non_hca_team_city'].str.cat(df['non_hca_team_name'], sep=' ').tolist()))\n",
    "    )"
   ]
  },
  {
   "cell_type": "code",
   "execution_count": 30,
   "metadata": {},
   "outputs": [
    {
     "data": {
      "text/plain": [
       "36"
      ]
     },
     "execution_count": 30,
     "metadata": {},
     "output_type": "execute_result"
    }
   ],
   "source": [
    "nba_teams = unique_nba_teams(df)\n",
    "len(nba_teams)"
   ]
  },
  {
   "cell_type": "markdown",
   "metadata": {},
   "source": [
    "Now we are ready to do some scraping. The procedure is very simple and laid out in the next few functions:\n",
    "\n",
    "1. Loop through all NBA seasons from 1996-97 through 2016-17.\n",
    "2. Each playoff series in a particular season is represented as a small HTML table of a given class.\n",
    "3. Process each of the HTML tables and create a record of each playoff series information."
   ]
  },
  {
   "cell_type": "code",
   "execution_count": 31,
   "metadata": {},
   "outputs": [],
   "source": [
    "def parse_matchup(df):\n",
    "    \"\"\"Real GM record of particular playoff series\"\"\"\n",
    "    assert len(df) == 2\n",
    "    rows = df.to_dict(orient='records')\n",
    "    upper = rows[0]\n",
    "    lower = rows[1]\n",
    "    assert upper['playoff_round'] == lower['playoff_round']\n",
    "    best_of = 7 if max(upper['games_won'], lower['games_won']) == 4 else 5\n",
    "    return collections.OrderedDict(\n",
    "        playoff_round=upper['playoff_round'],\n",
    "        best_of=best_of,\n",
    "        upper_conference=upper['conference'],\n",
    "        upper_seed=upper['seed'],\n",
    "        upper_team=upper['team'],\n",
    "        upper_won=upper['games_won'],\n",
    "        lower_conference=lower['conference'],\n",
    "        lower_seed=lower['seed'],\n",
    "        lower_team=lower['team'],\n",
    "        lower_won=lower['games_won'],\n",
    "    )"
   ]
  },
  {
   "cell_type": "code",
   "execution_count": 32,
   "metadata": {},
   "outputs": [],
   "source": [
    "def format_bracket(df, game_index):\n",
    "    \"\"\"Format raw Real GM playoff bracket data\"\"\"\n",
    "    df = df.rename(columns={\n",
    "        0: 'seed',\n",
    "        1: 'team',\n",
    "        2: 'games_won',\n",
    "    })\n",
    "    df['seed_code'] = df['seed']\n",
    "    df['conference'] = df['seed'].str[0]\n",
    "    df['seed'] = df['seed'].str[1].astype(int)\n",
    "    df['games_won'] = df['games_won'].astype(int)\n",
    "    if game_index <= 7:\n",
    "        playoff_round = 1 # conference quarter-finals\n",
    "    elif game_index <= 11:\n",
    "        playoff_round = 2 # conference semi-finals\n",
    "    elif game_index <= 13:\n",
    "        playoff_round = 3 # conference finals\n",
    "    elif game_index == 14:\n",
    "        playoff_round = 4 # finals\n",
    "    else:\n",
    "        raise RuntimeError('unknown error')\n",
    "    df['playoff_round'] = playoff_round\n",
    "    return parse_matchup(df)"
   ]
  },
  {
   "cell_type": "code",
   "execution_count": 33,
   "metadata": {},
   "outputs": [],
   "source": [
    "def tables_to_df(tables, season):\n",
    "    \"\"\"Process all Real GM playoff series for a particular season\"\"\"\n",
    "    matchups = []\n",
    "    for i, table in enumerate(tables):\n",
    "        df = table.to_df()\n",
    "        row = format_bracket(df, game_index=i)\n",
    "        row['season'] = season\n",
    "        matchups.append(row)\n",
    "    df = pd.DataFrame.from_records(matchups)\n",
    "    int_cols = [\n",
    "        'season',\n",
    "        'best_of',\n",
    "        'upper_seed',\n",
    "        'upper_won',\n",
    "        'lower_seed',\n",
    "        'lower_won',\n",
    "    ]\n",
    "    for col in int_cols:\n",
    "        df[col] = df[col].astype(int)\n",
    "    return df"
   ]
  },
  {
   "cell_type": "code",
   "execution_count": 34,
   "metadata": {},
   "outputs": [],
   "source": [
    "def scrape_brackets(\n",
    "        start_year=nba.params.MIN_YEAR,\n",
    "        end_year=nba.params.Season.current_start_year()-1):\n",
    "    \"\"\"Scrape Real GM site for historical playoff brackets\"\"\"\n",
    "    BASE_URL = 'https://basketball.realgm.com/nba/playoffs/brackets/'\n",
    "    TABLE_CLASS = 'bracket_game'\n",
    "    tables = {\n",
    "        season: pps.HTMLTables(url=f'{BASE_URL}{season+1}', table_class=TABLE_CLASS)\n",
    "        for season in tqdm(range(start_year, end_year+1))\n",
    "    }\n",
    "    return pd.concat(tables_to_df(tables[season], season) for season in tables).reset_index(drop=True)"
   ]
  },
  {
   "cell_type": "code",
   "execution_count": 35,
   "metadata": {},
   "outputs": [
    {
     "data": {
      "application/vnd.jupyter.widget-view+json": {
       "model_id": "48ce75644a1b491f84bac10a44a17cb4",
       "version_major": 2,
       "version_minor": 0
      },
      "text/plain": [
       "HBox(children=(IntProgress(value=0, max=21), HTML(value='')))"
      ]
     },
     "metadata": {},
     "output_type": "display_data"
    },
    {
     "name": "stdout",
     "output_type": "stream",
     "text": [
      "\n"
     ]
    },
    {
     "data": {
      "text/plain": [
       "315"
      ]
     },
     "execution_count": 35,
     "metadata": {},
     "output_type": "execute_result"
    }
   ],
   "source": [
    "brackets = scrape_brackets()\n",
    "len(brackets)"
   ]
  },
  {
   "cell_type": "code",
   "execution_count": 36,
   "metadata": {},
   "outputs": [
    {
     "data": {
      "text/html": [
       "<div>\n",
       "<style scoped>\n",
       "    .dataframe tbody tr th:only-of-type {\n",
       "        vertical-align: middle;\n",
       "    }\n",
       "\n",
       "    .dataframe tbody tr th {\n",
       "        vertical-align: top;\n",
       "    }\n",
       "\n",
       "    .dataframe thead th {\n",
       "        text-align: right;\n",
       "    }\n",
       "</style>\n",
       "<table border=\"1\" class=\"dataframe\">\n",
       "  <thead>\n",
       "    <tr style=\"text-align: right;\">\n",
       "      <th></th>\n",
       "      <th>playoff_round</th>\n",
       "      <th>best_of</th>\n",
       "      <th>upper_conference</th>\n",
       "      <th>upper_seed</th>\n",
       "      <th>upper_team</th>\n",
       "      <th>upper_won</th>\n",
       "      <th>lower_conference</th>\n",
       "      <th>lower_seed</th>\n",
       "      <th>lower_team</th>\n",
       "      <th>lower_won</th>\n",
       "      <th>season</th>\n",
       "    </tr>\n",
       "  </thead>\n",
       "  <tbody>\n",
       "    <tr>\n",
       "      <th>0</th>\n",
       "      <td>1</td>\n",
       "      <td>5</td>\n",
       "      <td>E</td>\n",
       "      <td>1</td>\n",
       "      <td>Chicago Bulls</td>\n",
       "      <td>3</td>\n",
       "      <td>E</td>\n",
       "      <td>8</td>\n",
       "      <td>Washington Bullets</td>\n",
       "      <td>0</td>\n",
       "      <td>1996</td>\n",
       "    </tr>\n",
       "    <tr>\n",
       "      <th>1</th>\n",
       "      <td>1</td>\n",
       "      <td>5</td>\n",
       "      <td>E</td>\n",
       "      <td>4</td>\n",
       "      <td>Atlanta Hawks</td>\n",
       "      <td>3</td>\n",
       "      <td>E</td>\n",
       "      <td>5</td>\n",
       "      <td>Detroit Pistons</td>\n",
       "      <td>2</td>\n",
       "      <td>1996</td>\n",
       "    </tr>\n",
       "    <tr>\n",
       "      <th>2</th>\n",
       "      <td>1</td>\n",
       "      <td>5</td>\n",
       "      <td>E</td>\n",
       "      <td>3</td>\n",
       "      <td>New York Knicks</td>\n",
       "      <td>3</td>\n",
       "      <td>E</td>\n",
       "      <td>6</td>\n",
       "      <td>Charlotte Hornets</td>\n",
       "      <td>0</td>\n",
       "      <td>1996</td>\n",
       "    </tr>\n",
       "    <tr>\n",
       "      <th>3</th>\n",
       "      <td>1</td>\n",
       "      <td>5</td>\n",
       "      <td>E</td>\n",
       "      <td>2</td>\n",
       "      <td>Miami Heat</td>\n",
       "      <td>3</td>\n",
       "      <td>E</td>\n",
       "      <td>7</td>\n",
       "      <td>Orlando Magic</td>\n",
       "      <td>2</td>\n",
       "      <td>1996</td>\n",
       "    </tr>\n",
       "    <tr>\n",
       "      <th>4</th>\n",
       "      <td>1</td>\n",
       "      <td>5</td>\n",
       "      <td>W</td>\n",
       "      <td>1</td>\n",
       "      <td>Utah Jazz</td>\n",
       "      <td>3</td>\n",
       "      <td>W</td>\n",
       "      <td>8</td>\n",
       "      <td>Los Angeles Clippers</td>\n",
       "      <td>0</td>\n",
       "      <td>1996</td>\n",
       "    </tr>\n",
       "  </tbody>\n",
       "</table>\n",
       "</div>"
      ],
      "text/plain": [
       "   playoff_round  best_of upper_conference  upper_seed       upper_team  \\\n",
       "0              1        5                E           1    Chicago Bulls   \n",
       "1              1        5                E           4    Atlanta Hawks   \n",
       "2              1        5                E           3  New York Knicks   \n",
       "3              1        5                E           2       Miami Heat   \n",
       "4              1        5                W           1        Utah Jazz   \n",
       "\n",
       "   upper_won lower_conference  lower_seed            lower_team  lower_won  \\\n",
       "0          3                E           8    Washington Bullets          0   \n",
       "1          3                E           5       Detroit Pistons          2   \n",
       "2          3                E           6     Charlotte Hornets          0   \n",
       "3          3                E           7         Orlando Magic          2   \n",
       "4          3                W           8  Los Angeles Clippers          0   \n",
       "\n",
       "   season  \n",
       "0    1996  \n",
       "1    1996  \n",
       "2    1996  \n",
       "3    1996  \n",
       "4    1996  "
      ]
     },
     "execution_count": 36,
     "metadata": {},
     "output_type": "execute_result"
    }
   ],
   "source": [
    "brackets.head()"
   ]
  },
  {
   "cell_type": "markdown",
   "metadata": {},
   "source": [
    "### Merging the Historical Information\n",
    "\n",
    "Now we need to figure out how to merge the two data sets. We want to merge on season and team name. In order to do that, we have to make sure that the team names match. Let's check."
   ]
  },
  {
   "cell_type": "code",
   "execution_count": 37,
   "metadata": {},
   "outputs": [],
   "source": [
    "def unique_bracket_teams(df):\n",
    "    return (\n",
    "        set(df['upper_team'].unique().tolist())\n",
    "        .union(set(df['lower_team'].unique().tolist()))\n",
    "    )"
   ]
  },
  {
   "cell_type": "code",
   "execution_count": 38,
   "metadata": {},
   "outputs": [
    {
     "data": {
      "text/plain": [
       "35"
      ]
     },
     "execution_count": 38,
     "metadata": {},
     "output_type": "execute_result"
    }
   ],
   "source": [
    "bracket_teams = unique_bracket_teams(brackets)\n",
    "len(bracket_teams)"
   ]
  },
  {
   "cell_type": "markdown",
   "metadata": {},
   "source": [
    "These are team names that appear in the [stats.nba.com](http://stats.nba.com/) data but not in the [Real GM](https://basketball.realgm.com/nba/playoffs/brackets/) data."
   ]
  },
  {
   "cell_type": "code",
   "execution_count": 39,
   "metadata": {},
   "outputs": [
    {
     "data": {
      "text/plain": [
       "{'LA Clippers', 'Philadelphia 76ers'}"
      ]
     },
     "execution_count": 39,
     "metadata": {},
     "output_type": "execute_result"
    }
   ],
   "source": [
    "nba_teams - bracket_teams"
   ]
  },
  {
   "cell_type": "markdown",
   "metadata": {},
   "source": [
    "Let's look at what's going on with the Clippers."
   ]
  },
  {
   "cell_type": "code",
   "execution_count": 40,
   "metadata": {},
   "outputs": [
    {
     "data": {
      "text/html": [
       "<div>\n",
       "<style scoped>\n",
       "    .dataframe tbody tr th:only-of-type {\n",
       "        vertical-align: middle;\n",
       "    }\n",
       "\n",
       "    .dataframe tbody tr th {\n",
       "        vertical-align: top;\n",
       "    }\n",
       "\n",
       "    .dataframe thead th {\n",
       "        text-align: right;\n",
       "    }\n",
       "</style>\n",
       "<table border=\"1\" class=\"dataframe\">\n",
       "  <thead>\n",
       "    <tr style=\"text-align: right;\">\n",
       "      <th></th>\n",
       "      <th>matchup_id</th>\n",
       "      <th>season</th>\n",
       "      <th>hca_team_abbr</th>\n",
       "      <th>non_hca_team_abbr</th>\n",
       "      <th>hca_at_home</th>\n",
       "      <th>hca_won</th>\n",
       "      <th>best_of</th>\n",
       "      <th>hca_series_wins</th>\n",
       "      <th>non_hca_series_wins</th>\n",
       "      <th>games</th>\n",
       "      <th>series_winner</th>\n",
       "      <th>hca_team_id</th>\n",
       "      <th>hca_team_city</th>\n",
       "      <th>hca_team_name</th>\n",
       "      <th>hca_team_reg_wins</th>\n",
       "      <th>hca_team_reg_losses</th>\n",
       "      <th>hca_team_conf_rank</th>\n",
       "      <th>hca_team_div_rank</th>\n",
       "      <th>non_hca_team_id</th>\n",
       "      <th>non_hca_team_city</th>\n",
       "      <th>non_hca_team_name</th>\n",
       "      <th>non_hca_team_reg_wins</th>\n",
       "      <th>non_hca_team_reg_losses</th>\n",
       "      <th>non_hca_team_conf_rank</th>\n",
       "      <th>non_hca_team_div_rank</th>\n",
       "      <th>first_game_date</th>\n",
       "    </tr>\n",
       "  </thead>\n",
       "  <tbody>\n",
       "    <tr>\n",
       "      <th>3</th>\n",
       "      <td>LAC_UTA_1996</td>\n",
       "      <td>1996</td>\n",
       "      <td>UTA</td>\n",
       "      <td>LAC</td>\n",
       "      <td>YYN</td>\n",
       "      <td>YYY</td>\n",
       "      <td>5</td>\n",
       "      <td>3</td>\n",
       "      <td>0</td>\n",
       "      <td>3</td>\n",
       "      <td>UTA</td>\n",
       "      <td>1610612762</td>\n",
       "      <td>Utah</td>\n",
       "      <td>Jazz</td>\n",
       "      <td>64</td>\n",
       "      <td>18</td>\n",
       "      <td>1</td>\n",
       "      <td>1</td>\n",
       "      <td>1610612746</td>\n",
       "      <td>Los Angeles</td>\n",
       "      <td>Clippers</td>\n",
       "      <td>36</td>\n",
       "      <td>46</td>\n",
       "      <td>8</td>\n",
       "      <td>5</td>\n",
       "      <td>1997-04-24</td>\n",
       "    </tr>\n",
       "    <tr>\n",
       "      <th>137</th>\n",
       "      <td>DEN_LAC_2005</td>\n",
       "      <td>2005</td>\n",
       "      <td>LAC</td>\n",
       "      <td>DEN</td>\n",
       "      <td>YYNNY</td>\n",
       "      <td>YYNYY</td>\n",
       "      <td>7</td>\n",
       "      <td>4</td>\n",
       "      <td>1</td>\n",
       "      <td>5</td>\n",
       "      <td>LAC</td>\n",
       "      <td>1610612746</td>\n",
       "      <td>Los Angeles</td>\n",
       "      <td>Clippers</td>\n",
       "      <td>47</td>\n",
       "      <td>35</td>\n",
       "      <td>6</td>\n",
       "      <td>2</td>\n",
       "      <td>1610612743</td>\n",
       "      <td>Denver</td>\n",
       "      <td>Nuggets</td>\n",
       "      <td>44</td>\n",
       "      <td>38</td>\n",
       "      <td>4</td>\n",
       "      <td>1</td>\n",
       "      <td>2006-04-22</td>\n",
       "    </tr>\n",
       "    <tr>\n",
       "      <th>146</th>\n",
       "      <td>LAC_PHX_2005</td>\n",
       "      <td>2005</td>\n",
       "      <td>PHX</td>\n",
       "      <td>LAC</td>\n",
       "      <td>YYNNYNY</td>\n",
       "      <td>YNYNYNY</td>\n",
       "      <td>7</td>\n",
       "      <td>4</td>\n",
       "      <td>3</td>\n",
       "      <td>7</td>\n",
       "      <td>PHX</td>\n",
       "      <td>1610612756</td>\n",
       "      <td>Phoenix</td>\n",
       "      <td>Suns</td>\n",
       "      <td>54</td>\n",
       "      <td>28</td>\n",
       "      <td>3</td>\n",
       "      <td>1</td>\n",
       "      <td>1610612746</td>\n",
       "      <td>Los Angeles</td>\n",
       "      <td>Clippers</td>\n",
       "      <td>47</td>\n",
       "      <td>35</td>\n",
       "      <td>6</td>\n",
       "      <td>2</td>\n",
       "      <td>2006-05-08</td>\n",
       "    </tr>\n",
       "    <tr>\n",
       "      <th>231</th>\n",
       "      <td>LAC_MEM_2011</td>\n",
       "      <td>2011</td>\n",
       "      <td>MEM</td>\n",
       "      <td>LAC</td>\n",
       "      <td>YYNNYNY</td>\n",
       "      <td>NYNNYYN</td>\n",
       "      <td>7</td>\n",
       "      <td>3</td>\n",
       "      <td>4</td>\n",
       "      <td>7</td>\n",
       "      <td>LAC</td>\n",
       "      <td>1610612763</td>\n",
       "      <td>Memphis</td>\n",
       "      <td>Grizzlies</td>\n",
       "      <td>41</td>\n",
       "      <td>25</td>\n",
       "      <td>4</td>\n",
       "      <td>2</td>\n",
       "      <td>1610612746</td>\n",
       "      <td>Los Angeles</td>\n",
       "      <td>Clippers</td>\n",
       "      <td>40</td>\n",
       "      <td>26</td>\n",
       "      <td>5</td>\n",
       "      <td>2</td>\n",
       "      <td>2012-04-29</td>\n",
       "    </tr>\n",
       "    <tr>\n",
       "      <th>236</th>\n",
       "      <td>LAC_SAS_2011</td>\n",
       "      <td>2011</td>\n",
       "      <td>SAS</td>\n",
       "      <td>LAC</td>\n",
       "      <td>YYNN</td>\n",
       "      <td>YYYY</td>\n",
       "      <td>7</td>\n",
       "      <td>4</td>\n",
       "      <td>0</td>\n",
       "      <td>4</td>\n",
       "      <td>SAS</td>\n",
       "      <td>1610612759</td>\n",
       "      <td>San Antonio</td>\n",
       "      <td>Spurs</td>\n",
       "      <td>50</td>\n",
       "      <td>16</td>\n",
       "      <td>1</td>\n",
       "      <td>1</td>\n",
       "      <td>1610612746</td>\n",
       "      <td>Los Angeles</td>\n",
       "      <td>Clippers</td>\n",
       "      <td>40</td>\n",
       "      <td>26</td>\n",
       "      <td>5</td>\n",
       "      <td>2</td>\n",
       "      <td>2012-05-15</td>\n",
       "    </tr>\n",
       "    <tr>\n",
       "      <th>241</th>\n",
       "      <td>LAC_MEM_2012</td>\n",
       "      <td>2012</td>\n",
       "      <td>LAC</td>\n",
       "      <td>MEM</td>\n",
       "      <td>YYNNYN</td>\n",
       "      <td>YYNNNN</td>\n",
       "      <td>7</td>\n",
       "      <td>2</td>\n",
       "      <td>4</td>\n",
       "      <td>6</td>\n",
       "      <td>MEM</td>\n",
       "      <td>1610612746</td>\n",
       "      <td>Los Angeles</td>\n",
       "      <td>Clippers</td>\n",
       "      <td>56</td>\n",
       "      <td>26</td>\n",
       "      <td>4</td>\n",
       "      <td>1</td>\n",
       "      <td>1610612763</td>\n",
       "      <td>Memphis</td>\n",
       "      <td>Grizzlies</td>\n",
       "      <td>56</td>\n",
       "      <td>26</td>\n",
       "      <td>5</td>\n",
       "      <td>2</td>\n",
       "      <td>2013-04-20</td>\n",
       "    </tr>\n",
       "    <tr>\n",
       "      <th>257</th>\n",
       "      <td>GSW_LAC_2013</td>\n",
       "      <td>2013</td>\n",
       "      <td>LAC</td>\n",
       "      <td>GSW</td>\n",
       "      <td>YYNNYNY</td>\n",
       "      <td>NYYNYNY</td>\n",
       "      <td>7</td>\n",
       "      <td>4</td>\n",
       "      <td>3</td>\n",
       "      <td>7</td>\n",
       "      <td>LAC</td>\n",
       "      <td>1610612746</td>\n",
       "      <td>Los Angeles</td>\n",
       "      <td>Clippers</td>\n",
       "      <td>57</td>\n",
       "      <td>25</td>\n",
       "      <td>3</td>\n",
       "      <td>1</td>\n",
       "      <td>1610612744</td>\n",
       "      <td>Golden State</td>\n",
       "      <td>Warriors</td>\n",
       "      <td>51</td>\n",
       "      <td>31</td>\n",
       "      <td>6</td>\n",
       "      <td>2</td>\n",
       "      <td>2014-04-19</td>\n",
       "    </tr>\n",
       "    <tr>\n",
       "      <th>264</th>\n",
       "      <td>LAC_OKC_2013</td>\n",
       "      <td>2013</td>\n",
       "      <td>OKC</td>\n",
       "      <td>LAC</td>\n",
       "      <td>YYNNYN</td>\n",
       "      <td>NYYNYY</td>\n",
       "      <td>7</td>\n",
       "      <td>4</td>\n",
       "      <td>2</td>\n",
       "      <td>6</td>\n",
       "      <td>OKC</td>\n",
       "      <td>1610612760</td>\n",
       "      <td>Oklahoma City</td>\n",
       "      <td>Thunder</td>\n",
       "      <td>59</td>\n",
       "      <td>23</td>\n",
       "      <td>2</td>\n",
       "      <td>1</td>\n",
       "      <td>1610612746</td>\n",
       "      <td>Los Angeles</td>\n",
       "      <td>Clippers</td>\n",
       "      <td>57</td>\n",
       "      <td>25</td>\n",
       "      <td>3</td>\n",
       "      <td>1</td>\n",
       "      <td>2014-05-05</td>\n",
       "    </tr>\n",
       "    <tr>\n",
       "      <th>276</th>\n",
       "      <td>LAC_SAS_2014</td>\n",
       "      <td>2014</td>\n",
       "      <td>LAC</td>\n",
       "      <td>SAS</td>\n",
       "      <td>YYNNYNY</td>\n",
       "      <td>YNNYNYY</td>\n",
       "      <td>7</td>\n",
       "      <td>4</td>\n",
       "      <td>3</td>\n",
       "      <td>7</td>\n",
       "      <td>LAC</td>\n",
       "      <td>1610612746</td>\n",
       "      <td>Los Angeles</td>\n",
       "      <td>Clippers</td>\n",
       "      <td>56</td>\n",
       "      <td>26</td>\n",
       "      <td>3</td>\n",
       "      <td>2</td>\n",
       "      <td>1610612759</td>\n",
       "      <td>San Antonio</td>\n",
       "      <td>Spurs</td>\n",
       "      <td>55</td>\n",
       "      <td>27</td>\n",
       "      <td>6</td>\n",
       "      <td>3</td>\n",
       "      <td>2015-04-19</td>\n",
       "    </tr>\n",
       "    <tr>\n",
       "      <th>281</th>\n",
       "      <td>HOU_LAC_2014</td>\n",
       "      <td>2014</td>\n",
       "      <td>HOU</td>\n",
       "      <td>LAC</td>\n",
       "      <td>YYNNYNY</td>\n",
       "      <td>NYNNYYY</td>\n",
       "      <td>7</td>\n",
       "      <td>4</td>\n",
       "      <td>3</td>\n",
       "      <td>7</td>\n",
       "      <td>HOU</td>\n",
       "      <td>1610612745</td>\n",
       "      <td>Houston</td>\n",
       "      <td>Rockets</td>\n",
       "      <td>56</td>\n",
       "      <td>26</td>\n",
       "      <td>2</td>\n",
       "      <td>1</td>\n",
       "      <td>1610612746</td>\n",
       "      <td>Los Angeles</td>\n",
       "      <td>Clippers</td>\n",
       "      <td>56</td>\n",
       "      <td>26</td>\n",
       "      <td>3</td>\n",
       "      <td>2</td>\n",
       "      <td>2015-05-04</td>\n",
       "    </tr>\n",
       "    <tr>\n",
       "      <th>291</th>\n",
       "      <td>LAC_POR_2015</td>\n",
       "      <td>2015</td>\n",
       "      <td>LAC</td>\n",
       "      <td>POR</td>\n",
       "      <td>YYNNYN</td>\n",
       "      <td>YYNNNN</td>\n",
       "      <td>7</td>\n",
       "      <td>2</td>\n",
       "      <td>4</td>\n",
       "      <td>6</td>\n",
       "      <td>POR</td>\n",
       "      <td>1610612746</td>\n",
       "      <td>LA</td>\n",
       "      <td>Clippers</td>\n",
       "      <td>53</td>\n",
       "      <td>29</td>\n",
       "      <td>4</td>\n",
       "      <td>2</td>\n",
       "      <td>1610612757</td>\n",
       "      <td>Portland</td>\n",
       "      <td>Trail Blazers</td>\n",
       "      <td>44</td>\n",
       "      <td>38</td>\n",
       "      <td>5</td>\n",
       "      <td>2</td>\n",
       "      <td>2016-04-17</td>\n",
       "    </tr>\n",
       "    <tr>\n",
       "      <th>302</th>\n",
       "      <td>LAC_UTA_2016</td>\n",
       "      <td>2016</td>\n",
       "      <td>LAC</td>\n",
       "      <td>UTA</td>\n",
       "      <td>YYNNYNY</td>\n",
       "      <td>NYYNNYN</td>\n",
       "      <td>7</td>\n",
       "      <td>3</td>\n",
       "      <td>4</td>\n",
       "      <td>7</td>\n",
       "      <td>UTA</td>\n",
       "      <td>1610612746</td>\n",
       "      <td>LA</td>\n",
       "      <td>Clippers</td>\n",
       "      <td>51</td>\n",
       "      <td>31</td>\n",
       "      <td>4</td>\n",
       "      <td>2</td>\n",
       "      <td>1610612762</td>\n",
       "      <td>Utah</td>\n",
       "      <td>Jazz</td>\n",
       "      <td>51</td>\n",
       "      <td>31</td>\n",
       "      <td>5</td>\n",
       "      <td>1</td>\n",
       "      <td>2017-04-15</td>\n",
       "    </tr>\n",
       "  </tbody>\n",
       "</table>\n",
       "</div>"
      ],
      "text/plain": [
       "       matchup_id  season hca_team_abbr non_hca_team_abbr hca_at_home  \\\n",
       "3    LAC_UTA_1996    1996           UTA               LAC         YYN   \n",
       "137  DEN_LAC_2005    2005           LAC               DEN       YYNNY   \n",
       "146  LAC_PHX_2005    2005           PHX               LAC     YYNNYNY   \n",
       "231  LAC_MEM_2011    2011           MEM               LAC     YYNNYNY   \n",
       "236  LAC_SAS_2011    2011           SAS               LAC        YYNN   \n",
       "241  LAC_MEM_2012    2012           LAC               MEM      YYNNYN   \n",
       "257  GSW_LAC_2013    2013           LAC               GSW     YYNNYNY   \n",
       "264  LAC_OKC_2013    2013           OKC               LAC      YYNNYN   \n",
       "276  LAC_SAS_2014    2014           LAC               SAS     YYNNYNY   \n",
       "281  HOU_LAC_2014    2014           HOU               LAC     YYNNYNY   \n",
       "291  LAC_POR_2015    2015           LAC               POR      YYNNYN   \n",
       "302  LAC_UTA_2016    2016           LAC               UTA     YYNNYNY   \n",
       "\n",
       "     hca_won  best_of  hca_series_wins  non_hca_series_wins  games  \\\n",
       "3        YYY        5                3                    0      3   \n",
       "137    YYNYY        7                4                    1      5   \n",
       "146  YNYNYNY        7                4                    3      7   \n",
       "231  NYNNYYN        7                3                    4      7   \n",
       "236     YYYY        7                4                    0      4   \n",
       "241   YYNNNN        7                2                    4      6   \n",
       "257  NYYNYNY        7                4                    3      7   \n",
       "264   NYYNYY        7                4                    2      6   \n",
       "276  YNNYNYY        7                4                    3      7   \n",
       "281  NYNNYYY        7                4                    3      7   \n",
       "291   YYNNNN        7                2                    4      6   \n",
       "302  NYYNNYN        7                3                    4      7   \n",
       "\n",
       "    series_winner  hca_team_id  hca_team_city hca_team_name  \\\n",
       "3             UTA   1610612762           Utah          Jazz   \n",
       "137           LAC   1610612746    Los Angeles      Clippers   \n",
       "146           PHX   1610612756        Phoenix          Suns   \n",
       "231           LAC   1610612763        Memphis     Grizzlies   \n",
       "236           SAS   1610612759    San Antonio         Spurs   \n",
       "241           MEM   1610612746    Los Angeles      Clippers   \n",
       "257           LAC   1610612746    Los Angeles      Clippers   \n",
       "264           OKC   1610612760  Oklahoma City       Thunder   \n",
       "276           LAC   1610612746    Los Angeles      Clippers   \n",
       "281           HOU   1610612745        Houston       Rockets   \n",
       "291           POR   1610612746             LA      Clippers   \n",
       "302           UTA   1610612746             LA      Clippers   \n",
       "\n",
       "     hca_team_reg_wins  hca_team_reg_losses  hca_team_conf_rank  \\\n",
       "3                   64                   18                   1   \n",
       "137                 47                   35                   6   \n",
       "146                 54                   28                   3   \n",
       "231                 41                   25                   4   \n",
       "236                 50                   16                   1   \n",
       "241                 56                   26                   4   \n",
       "257                 57                   25                   3   \n",
       "264                 59                   23                   2   \n",
       "276                 56                   26                   3   \n",
       "281                 56                   26                   2   \n",
       "291                 53                   29                   4   \n",
       "302                 51                   31                   4   \n",
       "\n",
       "     hca_team_div_rank  non_hca_team_id non_hca_team_city non_hca_team_name  \\\n",
       "3                    1       1610612746       Los Angeles          Clippers   \n",
       "137                  2       1610612743            Denver           Nuggets   \n",
       "146                  1       1610612746       Los Angeles          Clippers   \n",
       "231                  2       1610612746       Los Angeles          Clippers   \n",
       "236                  1       1610612746       Los Angeles          Clippers   \n",
       "241                  1       1610612763           Memphis         Grizzlies   \n",
       "257                  1       1610612744      Golden State          Warriors   \n",
       "264                  1       1610612746       Los Angeles          Clippers   \n",
       "276                  2       1610612759       San Antonio             Spurs   \n",
       "281                  1       1610612746       Los Angeles          Clippers   \n",
       "291                  2       1610612757          Portland     Trail Blazers   \n",
       "302                  2       1610612762              Utah              Jazz   \n",
       "\n",
       "     non_hca_team_reg_wins  non_hca_team_reg_losses  non_hca_team_conf_rank  \\\n",
       "3                       36                       46                       8   \n",
       "137                     44                       38                       4   \n",
       "146                     47                       35                       6   \n",
       "231                     40                       26                       5   \n",
       "236                     40                       26                       5   \n",
       "241                     56                       26                       5   \n",
       "257                     51                       31                       6   \n",
       "264                     57                       25                       3   \n",
       "276                     55                       27                       6   \n",
       "281                     56                       26                       3   \n",
       "291                     44                       38                       5   \n",
       "302                     51                       31                       5   \n",
       "\n",
       "     non_hca_team_div_rank first_game_date  \n",
       "3                        5      1997-04-24  \n",
       "137                      1      2006-04-22  \n",
       "146                      2      2006-05-08  \n",
       "231                      2      2012-04-29  \n",
       "236                      2      2012-05-15  \n",
       "241                      2      2013-04-20  \n",
       "257                      2      2014-04-19  \n",
       "264                      1      2014-05-05  \n",
       "276                      3      2015-04-19  \n",
       "281                      2      2015-05-04  \n",
       "291                      2      2016-04-17  \n",
       "302                      1      2017-04-15  "
      ]
     },
     "execution_count": 40,
     "metadata": {},
     "output_type": "execute_result"
    }
   ],
   "source": [
    "df[(df['hca_team_abbr'] == 'LAC') | (df['non_hca_team_abbr'] == 'LAC')]"
   ]
  },
  {
   "cell_type": "markdown",
   "metadata": {},
   "source": [
    "The problem here is that the Clippers formally changed their name to the LA Clippers in 2015, but [Real GM](https://basketball.realgm.com/nba/playoffs/brackets/) is still calling them the Los Angeles Clippers. We'll need to override that.\n",
    "\n",
    "Now let's look at team names that are in the [Real GM](https://basketball.realgm.com/nba/playoffs/brackets/) data, which don't appear in [stats.nba.com](http://stats.nba.com/)."
   ]
  },
  {
   "cell_type": "code",
   "execution_count": 41,
   "metadata": {},
   "outputs": [
    {
     "data": {
      "text/plain": [
       "{'Philadelphia Sixers'}"
      ]
     },
     "execution_count": 41,
     "metadata": {},
     "output_type": "execute_result"
    }
   ],
   "source": [
    "bracket_teams - nba_teams"
   ]
  },
  {
   "cell_type": "markdown",
   "metadata": {},
   "source": [
    "This problem is relatively simple. We just need to change 'Sixers' to '76ers'. Let's put these fixes into a function."
   ]
  },
  {
   "cell_type": "code",
   "execution_count": 42,
   "metadata": {},
   "outputs": [],
   "source": [
    "def fix_bracket_teams(df):\n",
    "    df['upper_team'].replace(to_replace='Philadelphia Sixers', value='Philadelphia 76ers', inplace=True)\n",
    "    df['lower_team'].replace(to_replace='Philadelphia Sixers', value='Philadelphia 76ers', inplace=True)\n",
    "    la_clippers = df[(df['season'] >= 2015) & (df['upper_team'] == 'Los Angeles Clippers')].index\n",
    "    df.loc[la_clippers, 'upper_team'] = 'LA Clippers'\n",
    "    la_clippers = df[(df['season'] >= 2015) & (df['lower_team'] == 'Los Angeles Clippers')].index\n",
    "    df.loc[la_clippers, 'lower_team'] = 'LA Clippers'\n",
    "    return df"
   ]
  },
  {
   "cell_type": "code",
   "execution_count": 43,
   "metadata": {},
   "outputs": [],
   "source": [
    "brackets = fix_bracket_teams(brackets)"
   ]
  },
  {
   "cell_type": "markdown",
   "metadata": {},
   "source": [
    "Now let's check if we have any name mismatches."
   ]
  },
  {
   "cell_type": "code",
   "execution_count": 44,
   "metadata": {},
   "outputs": [
    {
     "data": {
      "text/plain": [
       "set()"
      ]
     },
     "execution_count": 44,
     "metadata": {},
     "output_type": "execute_result"
    }
   ],
   "source": [
    "unique_nba_teams(df) - unique_bracket_teams(brackets)"
   ]
  },
  {
   "cell_type": "code",
   "execution_count": 45,
   "metadata": {},
   "outputs": [
    {
     "data": {
      "text/plain": [
       "set()"
      ]
     },
     "execution_count": 45,
     "metadata": {},
     "output_type": "execute_result"
    }
   ],
   "source": [
    "unique_bracket_teams(brackets) - unique_nba_teams(df)"
   ]
  },
  {
   "cell_type": "markdown",
   "metadata": {},
   "source": [
    "Success! Now we can merge the data sets."
   ]
  },
  {
   "cell_type": "code",
   "execution_count": 46,
   "metadata": {},
   "outputs": [],
   "source": [
    "def get_bracket_info(df, season, hca_team, non_hca_team):\n",
    "    row = df[(df['season'] == season) & (df['upper_team'] == hca_team) & (df['lower_team'] == non_hca_team)]\n",
    "    assert len(row) <= 1\n",
    "    if len(row) == 1:\n",
    "        return row.to_dict(orient='records')[0]\n",
    "    else:\n",
    "        row = df[(df['season'] == season) & (df['upper_team'] == non_hca_team) & (df['lower_team'] == hca_team)]\n",
    "        assert len(row) == 1\n",
    "        return row.to_dict(orient='records')[0]"
   ]
  },
  {
   "cell_type": "markdown",
   "metadata": {},
   "source": [
    "Just to put everything in one place, the function below builds the entire merged data set from scratch. Having all the logic in one place makes it less likely we will create errors in our code or data down the road."
   ]
  },
  {
   "cell_type": "code",
   "execution_count": 47,
   "metadata": {},
   "outputs": [],
   "source": [
    "def playoff_brackets(matchups):\n",
    "    games = playoff_matchups(matchups)\n",
    "    start_year = games['season'].min()\n",
    "    end_year = games['season'].max()\n",
    "    brackets = scrape_brackets(start_year=start_year, end_year=end_year)\n",
    "    brackets = fix_bracket_teams(brackets)\n",
    "    records = []\n",
    "    for row in games.itertuples(index=False, name='row'):\n",
    "        record = row._asdict()\n",
    "        hca_team = f'{row.hca_team_city} {row.hca_team_name}'\n",
    "        non_hca_team = f'{row.non_hca_team_city} {row.non_hca_team_name}'\n",
    "        bracket_info = get_bracket_info(brackets, season=row.season, hca_team=hca_team, non_hca_team=non_hca_team)\n",
    "        record['playoff_round'] = bracket_info['playoff_round']\n",
    "        if bracket_info['upper_team'] == hca_team:\n",
    "            record['hca_seed'] = bracket_info['upper_seed']\n",
    "            record['hca_conference'] = 'East' if bracket_info['upper_conference'] == 'E' else 'West'\n",
    "            record['non_hca_seed'] = bracket_info['lower_seed']\n",
    "            record['non_hca_conference'] = 'East' if bracket_info['lower_conference'] == 'E' else 'West'\n",
    "        else:\n",
    "            record['hca_seed'] = bracket_info['lower_seed']\n",
    "            record['hca_conference'] = 'East' if bracket_info['lower_conference'] == 'E' else 'West'\n",
    "            record['non_hca_seed'] = bracket_info['upper_seed']\n",
    "            record['non_hca_conference'] = 'East' if bracket_info['upper_conference'] == 'E' else 'West'\n",
    "        records.append(record)\n",
    "    df = pd.DataFrame.from_records(records)\n",
    "    df = df.drop(columns=[\n",
    "        'hca_team_city',\n",
    "        'hca_team_name',\n",
    "        'non_hca_team_city',\n",
    "        'non_hca_team_name',\n",
    "    ])\n",
    "    first_cols = [\n",
    "        'season',\n",
    "        'playoff_round',\n",
    "        'matchup_id',\n",
    "        'series_winner',\n",
    "        'hca_at_home',\n",
    "        'hca_won',\n",
    "        'games',\n",
    "        'best_of',\n",
    "        'hca_team_abbr',\n",
    "        'hca_series_wins',\n",
    "        'hca_conference',\n",
    "        'hca_seed',\n",
    "        'non_hca_team_abbr',\n",
    "        'non_hca_series_wins',\n",
    "        'non_hca_conference',\n",
    "        'non_hca_seed',\n",
    "    ]\n",
    "    cols = first_cols + [col for col in df.columns if col not in first_cols]\n",
    "    return df[cols]"
   ]
  },
  {
   "cell_type": "code",
   "execution_count": 48,
   "metadata": {},
   "outputs": [
    {
     "data": {
      "application/vnd.jupyter.widget-view+json": {
       "model_id": "c6385f755dae4c7f99f0ace2f9681108",
       "version_major": 2,
       "version_minor": 0
      },
      "text/plain": [
       "HBox(children=(IntProgress(value=0, max=21), HTML(value='')))"
      ]
     },
     "metadata": {},
     "output_type": "display_data"
    },
    {
     "name": "stdout",
     "output_type": "stream",
     "text": [
      "\n"
     ]
    },
    {
     "data": {
      "text/plain": [
       "315"
      ]
     },
     "execution_count": 48,
     "metadata": {},
     "output_type": "execute_result"
    }
   ],
   "source": [
    "df = playoff_brackets(nba_post)\n",
    "len(df)"
   ]
  },
  {
   "cell_type": "code",
   "execution_count": 49,
   "metadata": {},
   "outputs": [
    {
     "data": {
      "text/html": [
       "<div>\n",
       "<style scoped>\n",
       "    .dataframe tbody tr th:only-of-type {\n",
       "        vertical-align: middle;\n",
       "    }\n",
       "\n",
       "    .dataframe tbody tr th {\n",
       "        vertical-align: top;\n",
       "    }\n",
       "\n",
       "    .dataframe thead th {\n",
       "        text-align: right;\n",
       "    }\n",
       "</style>\n",
       "<table border=\"1\" class=\"dataframe\">\n",
       "  <thead>\n",
       "    <tr style=\"text-align: right;\">\n",
       "      <th></th>\n",
       "      <th>season</th>\n",
       "      <th>playoff_round</th>\n",
       "      <th>matchup_id</th>\n",
       "      <th>series_winner</th>\n",
       "      <th>hca_at_home</th>\n",
       "      <th>hca_won</th>\n",
       "      <th>games</th>\n",
       "      <th>best_of</th>\n",
       "      <th>hca_team_abbr</th>\n",
       "      <th>hca_series_wins</th>\n",
       "      <th>hca_conference</th>\n",
       "      <th>hca_seed</th>\n",
       "      <th>non_hca_team_abbr</th>\n",
       "      <th>non_hca_series_wins</th>\n",
       "      <th>non_hca_conference</th>\n",
       "      <th>non_hca_seed</th>\n",
       "      <th>hca_team_id</th>\n",
       "      <th>hca_team_reg_wins</th>\n",
       "      <th>hca_team_reg_losses</th>\n",
       "      <th>hca_team_conf_rank</th>\n",
       "      <th>hca_team_div_rank</th>\n",
       "      <th>non_hca_team_id</th>\n",
       "      <th>non_hca_team_reg_wins</th>\n",
       "      <th>non_hca_team_reg_losses</th>\n",
       "      <th>non_hca_team_conf_rank</th>\n",
       "      <th>non_hca_team_div_rank</th>\n",
       "      <th>first_game_date</th>\n",
       "    </tr>\n",
       "  </thead>\n",
       "  <tbody>\n",
       "    <tr>\n",
       "      <th>0</th>\n",
       "      <td>1996</td>\n",
       "      <td>1</td>\n",
       "      <td>HOU_MIN_1996</td>\n",
       "      <td>HOU</td>\n",
       "      <td>YYN</td>\n",
       "      <td>YYY</td>\n",
       "      <td>3</td>\n",
       "      <td>5</td>\n",
       "      <td>HOU</td>\n",
       "      <td>3</td>\n",
       "      <td>West</td>\n",
       "      <td>3</td>\n",
       "      <td>MIN</td>\n",
       "      <td>0</td>\n",
       "      <td>West</td>\n",
       "      <td>6</td>\n",
       "      <td>1610612745</td>\n",
       "      <td>57</td>\n",
       "      <td>25</td>\n",
       "      <td>2</td>\n",
       "      <td>2</td>\n",
       "      <td>1610612750</td>\n",
       "      <td>40</td>\n",
       "      <td>42</td>\n",
       "      <td>6</td>\n",
       "      <td>3</td>\n",
       "      <td>1997-04-24</td>\n",
       "    </tr>\n",
       "    <tr>\n",
       "      <th>1</th>\n",
       "      <td>1996</td>\n",
       "      <td>1</td>\n",
       "      <td>MIA_ORL_1996</td>\n",
       "      <td>MIA</td>\n",
       "      <td>YYNNY</td>\n",
       "      <td>YYNNY</td>\n",
       "      <td>5</td>\n",
       "      <td>5</td>\n",
       "      <td>MIA</td>\n",
       "      <td>3</td>\n",
       "      <td>East</td>\n",
       "      <td>2</td>\n",
       "      <td>ORL</td>\n",
       "      <td>2</td>\n",
       "      <td>East</td>\n",
       "      <td>7</td>\n",
       "      <td>1610612748</td>\n",
       "      <td>61</td>\n",
       "      <td>21</td>\n",
       "      <td>2</td>\n",
       "      <td>1</td>\n",
       "      <td>1610612753</td>\n",
       "      <td>45</td>\n",
       "      <td>37</td>\n",
       "      <td>7</td>\n",
       "      <td>3</td>\n",
       "      <td>1997-04-24</td>\n",
       "    </tr>\n",
       "    <tr>\n",
       "      <th>2</th>\n",
       "      <td>1996</td>\n",
       "      <td>1</td>\n",
       "      <td>CHH_NYK_1996</td>\n",
       "      <td>NYK</td>\n",
       "      <td>YYN</td>\n",
       "      <td>YYY</td>\n",
       "      <td>3</td>\n",
       "      <td>5</td>\n",
       "      <td>NYK</td>\n",
       "      <td>3</td>\n",
       "      <td>East</td>\n",
       "      <td>3</td>\n",
       "      <td>CHH</td>\n",
       "      <td>0</td>\n",
       "      <td>East</td>\n",
       "      <td>6</td>\n",
       "      <td>1610612752</td>\n",
       "      <td>57</td>\n",
       "      <td>25</td>\n",
       "      <td>3</td>\n",
       "      <td>2</td>\n",
       "      <td>1610612740</td>\n",
       "      <td>54</td>\n",
       "      <td>28</td>\n",
       "      <td>5</td>\n",
       "      <td>3</td>\n",
       "      <td>1997-04-24</td>\n",
       "    </tr>\n",
       "    <tr>\n",
       "      <th>3</th>\n",
       "      <td>1996</td>\n",
       "      <td>1</td>\n",
       "      <td>LAC_UTA_1996</td>\n",
       "      <td>UTA</td>\n",
       "      <td>YYN</td>\n",
       "      <td>YYY</td>\n",
       "      <td>3</td>\n",
       "      <td>5</td>\n",
       "      <td>UTA</td>\n",
       "      <td>3</td>\n",
       "      <td>West</td>\n",
       "      <td>1</td>\n",
       "      <td>LAC</td>\n",
       "      <td>0</td>\n",
       "      <td>West</td>\n",
       "      <td>8</td>\n",
       "      <td>1610612762</td>\n",
       "      <td>64</td>\n",
       "      <td>18</td>\n",
       "      <td>1</td>\n",
       "      <td>1</td>\n",
       "      <td>1610612746</td>\n",
       "      <td>36</td>\n",
       "      <td>46</td>\n",
       "      <td>8</td>\n",
       "      <td>5</td>\n",
       "      <td>1997-04-24</td>\n",
       "    </tr>\n",
       "    <tr>\n",
       "      <th>4</th>\n",
       "      <td>1996</td>\n",
       "      <td>1</td>\n",
       "      <td>PHX_SEA_1996</td>\n",
       "      <td>SEA</td>\n",
       "      <td>YYNNY</td>\n",
       "      <td>NYNYY</td>\n",
       "      <td>5</td>\n",
       "      <td>5</td>\n",
       "      <td>SEA</td>\n",
       "      <td>3</td>\n",
       "      <td>West</td>\n",
       "      <td>2</td>\n",
       "      <td>PHX</td>\n",
       "      <td>2</td>\n",
       "      <td>West</td>\n",
       "      <td>7</td>\n",
       "      <td>1610612760</td>\n",
       "      <td>57</td>\n",
       "      <td>25</td>\n",
       "      <td>2</td>\n",
       "      <td>1</td>\n",
       "      <td>1610612756</td>\n",
       "      <td>40</td>\n",
       "      <td>42</td>\n",
       "      <td>6</td>\n",
       "      <td>4</td>\n",
       "      <td>1997-04-25</td>\n",
       "    </tr>\n",
       "  </tbody>\n",
       "</table>\n",
       "</div>"
      ],
      "text/plain": [
       "   season  playoff_round    matchup_id series_winner hca_at_home hca_won  \\\n",
       "0    1996              1  HOU_MIN_1996           HOU         YYN     YYY   \n",
       "1    1996              1  MIA_ORL_1996           MIA       YYNNY   YYNNY   \n",
       "2    1996              1  CHH_NYK_1996           NYK         YYN     YYY   \n",
       "3    1996              1  LAC_UTA_1996           UTA         YYN     YYY   \n",
       "4    1996              1  PHX_SEA_1996           SEA       YYNNY   NYNYY   \n",
       "\n",
       "   games  best_of hca_team_abbr  hca_series_wins hca_conference  hca_seed  \\\n",
       "0      3        5           HOU                3           West         3   \n",
       "1      5        5           MIA                3           East         2   \n",
       "2      3        5           NYK                3           East         3   \n",
       "3      3        5           UTA                3           West         1   \n",
       "4      5        5           SEA                3           West         2   \n",
       "\n",
       "  non_hca_team_abbr  non_hca_series_wins non_hca_conference  non_hca_seed  \\\n",
       "0               MIN                    0               West             6   \n",
       "1               ORL                    2               East             7   \n",
       "2               CHH                    0               East             6   \n",
       "3               LAC                    0               West             8   \n",
       "4               PHX                    2               West             7   \n",
       "\n",
       "   hca_team_id  hca_team_reg_wins  hca_team_reg_losses  hca_team_conf_rank  \\\n",
       "0   1610612745                 57                   25                   2   \n",
       "1   1610612748                 61                   21                   2   \n",
       "2   1610612752                 57                   25                   3   \n",
       "3   1610612762                 64                   18                   1   \n",
       "4   1610612760                 57                   25                   2   \n",
       "\n",
       "   hca_team_div_rank  non_hca_team_id  non_hca_team_reg_wins  \\\n",
       "0                  2       1610612750                     40   \n",
       "1                  1       1610612753                     45   \n",
       "2                  2       1610612740                     54   \n",
       "3                  1       1610612746                     36   \n",
       "4                  1       1610612756                     40   \n",
       "\n",
       "   non_hca_team_reg_losses  non_hca_team_conf_rank  non_hca_team_div_rank  \\\n",
       "0                       42                       6                      3   \n",
       "1                       37                       7                      3   \n",
       "2                       28                       5                      3   \n",
       "3                       46                       8                      5   \n",
       "4                       42                       6                      4   \n",
       "\n",
       "  first_game_date  \n",
       "0      1997-04-24  \n",
       "1      1997-04-24  \n",
       "2      1997-04-24  \n",
       "3      1997-04-24  \n",
       "4      1997-04-25  "
      ]
     },
     "execution_count": 49,
     "metadata": {},
     "output_type": "execute_result"
    }
   ],
   "source": [
    "df.head()"
   ]
  },
  {
   "cell_type": "markdown",
   "metadata": {},
   "source": [
    "Now that we have all the data cleaned up in one place, let's save it to a CSV file. We will use this table to analyze historical NBA playoff series in future posts."
   ]
  },
  {
   "cell_type": "code",
   "execution_count": 50,
   "metadata": {},
   "outputs": [],
   "source": [
    "csvfilename = 'nba-playoff_brackets-1996_2016.csv'\n",
    "csvfile = OUTPUT_DIR.joinpath(csvfilename)\n",
    "df.to_csv(csvfile, index=False)"
   ]
  },
  {
   "cell_type": "code",
   "execution_count": null,
   "metadata": {},
   "outputs": [],
   "source": []
  }
 ],
 "metadata": {
  "kernelspec": {
   "display_name": "Python [conda env:sports_py36]",
   "language": "python",
   "name": "conda-env-sports_py36-py"
  },
  "language_info": {
   "codemirror_mode": {
    "name": "ipython",
    "version": 3
   },
   "file_extension": ".py",
   "mimetype": "text/x-python",
   "name": "python",
   "nbconvert_exporter": "python",
   "pygments_lexer": "ipython3",
   "version": "3.6.5"
  }
 },
 "nbformat": 4,
 "nbformat_minor": 2
}
