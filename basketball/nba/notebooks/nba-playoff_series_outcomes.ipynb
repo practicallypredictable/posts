{
 "cells": [
  {
   "cell_type": "markdown",
   "metadata": {},
   "source": [
    "## Possible Outcomes of NBA Playoff Series\n",
    "\n",
    "In this short notebook, we will develop some Python code to generate the possible outcomes of an NBA playoff series. This code will serve as a prototype for our later efforts to compute playoff series win probabilities.\n",
    "\n",
    "We will use the `permutations()` function in the [`itertools`](https://docs.python.org/3/library/itertools.html#module-itertools) module from the Python standard library."
   ]
  },
  {
   "cell_type": "code",
   "execution_count": 1,
   "metadata": {},
   "outputs": [],
   "source": [
    "import itertools\n",
    "from collections import Counter"
   ]
  },
  {
   "cell_type": "markdown",
   "metadata": {},
   "source": [
    "### Series Home Court Advantage\n",
    "\n",
    "In any NBA playoff series, one team has series home court advantage. In the [modern best-of-7 NBA playoff series](https://en.wikipedia.org/wiki/NBA_playoffs#Format), games 1, 2, 5 and 7 are played on the home court of the team with series home court advantage. The other 3 games (3, 4, and 6) are played on the other team's home court. You can learn more about how a team earns playoff series home court advantage [here](https://www.quora.com/How-is-the-home-court-advantage-determined-in-the-NBA-playoffs).\n",
    "\n",
    "For a particular playoff series, we will refer to the team with series home court advantage as Team 1, and the other team as Team 2. Using this convention, we can specify where a playoff game was played using either a `'1'` or a `'2'` character. We can also specify which team won the playoff game using the same characters.\n",
    "\n",
    "Imagine that we have a best-of-5 playoff series. (Prior to the 2002-3 NBA Season, first round playoff games were best-of-5.) Let's look at one possible sequence of outcomes for 5 games."
   ]
  },
  {
   "cell_type": "code",
   "execution_count": 2,
   "metadata": {},
   "outputs": [],
   "source": [
    "game_winners = ('2', '2', '1', '2', '1')"
   ]
  },
  {
   "cell_type": "markdown",
   "metadata": {},
   "source": [
    "### Creating Valid Playoff Series Outcomes\n",
    "\n",
    "This example is not actually a valid NBA best-of-5 playoff series. The series should never have gotten to 5 games. Team 2 should have won the series after the fourth game. We want to adjust the above outcome to reflect that the series should have ended after 4 games.\n",
    "\n",
    "Here's how we can do that. First, we need a function to find the last `'1'` or `'2'` character. We can use some Python [slicing](https://www.dotnetperls.com/slice-python) with the usual Python [`index()`](https://docs.python.org/3.6/tutorial/datastructures.html) method to find the last occurrence of the item. This method will work on a Python seqeuence implementing the `index()` method (in particular, standard `list` or `tuple` objects)."
   ]
  },
  {
   "cell_type": "code",
   "execution_count": 3,
   "metadata": {},
   "outputs": [],
   "source": [
    "def last_index(outcome, c):\n",
    "    \"\"\"Index of last occurrence of an item in a list or tuple\"\"\"\n",
    "    return len(outcome) - outcome[::-1].index(c)"
   ]
  },
  {
   "cell_type": "markdown",
   "metadata": {},
   "source": [
    "Suppose we know that the team without series home court advantage won this playff series. Here's how we use our function to find the decisive game."
   ]
  },
  {
   "cell_type": "code",
   "execution_count": 4,
   "metadata": {},
   "outputs": [
    {
     "data": {
      "text/plain": [
       "4"
      ]
     },
     "execution_count": 4,
     "metadata": {},
     "output_type": "execute_result"
    }
   ],
   "source": [
    "last_index(game_winners, '2')"
   ]
  },
  {
   "cell_type": "markdown",
   "metadata": {},
   "source": [
    "From this we know that the series should had ended after 4 games. Let's use slicing again to chop off the game which would never have actually been played."
   ]
  },
  {
   "cell_type": "code",
   "execution_count": 5,
   "metadata": {},
   "outputs": [
    {
     "data": {
      "text/plain": [
       "('2', '2', '1', '2')"
      ]
     },
     "execution_count": 5,
     "metadata": {},
     "output_type": "execute_result"
    }
   ],
   "source": [
    "game_winners[:last_index(game_winners, '2')]"
   ]
  },
  {
   "cell_type": "markdown",
   "metadata": {},
   "source": [
    "We can turn this idea into a general function. The function will accept a sequence of games (represented by `'Y'` and `'N'` characters representing wins or losses by the team with series home court advantage). It will return the truncated outcome representing the games that would have actually been played."
   ]
  },
  {
   "cell_type": "code",
   "execution_count": 6,
   "metadata": {},
   "outputs": [],
   "source": [
    "def valid_series(game_winners, *, best_of, shca_wins):\n",
    "    \"\"\"Return valid NBA playoff series outcome\"\"\"\n",
    "    assert best_of in (5, 7)\n",
    "    c = '1' if shca_wins else '2'  # Character for counting wins\n",
    "    wins = 4 if best_of == 7 else 3\n",
    "    assert game_winners.count(c) == wins  # Sanity check the input\n",
    "    return game_winners[:last_index(game_winners, c)]"
   ]
  },
  {
   "cell_type": "code",
   "execution_count": 7,
   "metadata": {},
   "outputs": [
    {
     "data": {
      "text/plain": [
       "('2', '2', '1', '2')"
      ]
     },
     "execution_count": 7,
     "metadata": {},
     "output_type": "execute_result"
    }
   ],
   "source": [
    "valid_series(game_winners, best_of=5, shca_wins=False)"
   ]
  },
  {
   "cell_type": "markdown",
   "metadata": {},
   "source": [
    "Notice that if we happen to pass in a sequence that is already valid, we get back the same (valid) sequence."
   ]
  },
  {
   "cell_type": "code",
   "execution_count": 8,
   "metadata": {},
   "outputs": [
    {
     "data": {
      "text/plain": [
       "('2', '2', '1', '2')"
      ]
     },
     "execution_count": 8,
     "metadata": {},
     "output_type": "execute_result"
    }
   ],
   "source": [
    "valid_series(('2', '2', '1', '2'), best_of=5, shca_wins=False)"
   ]
  },
  {
   "cell_type": "markdown",
   "metadata": {},
   "source": [
    "### Generating Possible Outcomes\n",
    "\n",
    "Now it's time to generate all the possible playoff series outcomes.\n",
    "\n",
    "Continuing with our best-of-5 series as an example, let's generate all possible sequences where Team 1 wins the series, by winning 3 games."
   ]
  },
  {
   "cell_type": "code",
   "execution_count": 9,
   "metadata": {},
   "outputs": [
    {
     "data": {
      "text/plain": [
       "{('1', '1', '1', '2', '2'),\n",
       " ('1', '1', '2', '1', '2'),\n",
       " ('1', '1', '2', '2', '1'),\n",
       " ('1', '2', '1', '1', '2'),\n",
       " ('1', '2', '1', '2', '1'),\n",
       " ('1', '2', '2', '1', '1'),\n",
       " ('2', '1', '1', '1', '2'),\n",
       " ('2', '1', '1', '2', '1'),\n",
       " ('2', '1', '2', '1', '1'),\n",
       " ('2', '2', '1', '1', '1')}"
      ]
     },
     "execution_count": 9,
     "metadata": {},
     "output_type": "execute_result"
    }
   ],
   "source": [
    "wins = '1'*3 + '2'*2\n",
    "set(itertools.permutations(wins))"
   ]
  },
  {
   "cell_type": "markdown",
   "metadata": {},
   "source": [
    "The `permutations()` function returns an [iterator](https://dbader.org/blog/python-iterators) of all the possible permutations of the 5-character string. Many of the items returned by this iterator would be duplicates. That is why we use `set` above to get the unique outcomes.\n",
    "\n",
    "We can use our function above to prune each possible permutation and make sure it is a valid NBA playoff outcome. Here's a general function that does what we need."
   ]
  },
  {
   "cell_type": "code",
   "execution_count": 10,
   "metadata": {},
   "outputs": [],
   "source": [
    "def playoff_outcomes(*, best_of, shca_wins):\n",
    "    \"\"\"Possible playoff series outcomes\"\"\"\n",
    "    if best_of not in (5, 7):\n",
    "        raise ValueError('playoff series must be best of 5 or 7 games')\n",
    "    if shca_wins:\n",
    "        team_1 = 4 if best_of == 7 else 3\n",
    "        team_2 = best_of - team_1\n",
    "    else:\n",
    "        team_2 = 4 if best_of == 7 else 3\n",
    "        team_1 = best_of - team_2\n",
    "    wins = '1'*team_1 + '2'*team_2\n",
    "    game_winners = set(itertools.permutations(wins))\n",
    "    outcomes = [\n",
    "        valid_series(outcome, best_of=best_of, shca_wins=shca_wins)\n",
    "        for outcome in game_winners\n",
    "    ]\n",
    "    return sorted(outcomes, key=len)"
   ]
  },
  {
   "cell_type": "markdown",
   "metadata": {},
   "source": [
    "Here are the possible outcomes for a best-of-5 series, where the team without series home court advantage wins."
   ]
  },
  {
   "cell_type": "code",
   "execution_count": 11,
   "metadata": {},
   "outputs": [
    {
     "data": {
      "text/plain": [
       "[('2', '2', '2'),\n",
       " ('2', '1', '2', '2'),\n",
       " ('2', '2', '1', '2'),\n",
       " ('1', '2', '2', '2'),\n",
       " ('1', '1', '2', '2', '2'),\n",
       " ('2', '2', '1', '1', '2'),\n",
       " ('1', '2', '2', '1', '2'),\n",
       " ('2', '1', '1', '2', '2'),\n",
       " ('2', '1', '2', '1', '2'),\n",
       " ('1', '2', '1', '2', '2')]"
      ]
     },
     "execution_count": 11,
     "metadata": {},
     "output_type": "execute_result"
    }
   ],
   "source": [
    "playoff_outcomes(best_of=5, shca_wins=False)"
   ]
  },
  {
   "cell_type": "code",
   "execution_count": 12,
   "metadata": {},
   "outputs": [
    {
     "data": {
      "text/plain": [
       "Counter({3: 1, 4: 3, 5: 6})"
      ]
     },
     "execution_count": 12,
     "metadata": {},
     "output_type": "execute_result"
    }
   ],
   "source": [
    "Counter(len(outcome) for outcome in playoff_outcomes(best_of=5, shca_wins=False))"
   ]
  },
  {
   "cell_type": "markdown",
   "metadata": {},
   "source": [
    "Here are the possible outcomes of a best-of-7 series, where the team with series home court advantage wins."
   ]
  },
  {
   "cell_type": "code",
   "execution_count": 13,
   "metadata": {},
   "outputs": [
    {
     "data": {
      "text/plain": [
       "[('1', '1', '1', '1'),\n",
       " ('1', '1', '1', '2', '1'),\n",
       " ('1', '2', '1', '1', '1'),\n",
       " ('1', '1', '2', '1', '1'),\n",
       " ('2', '1', '1', '1', '1'),\n",
       " ('1', '1', '2', '2', '1', '1'),\n",
       " ('2', '1', '1', '1', '2', '1'),\n",
       " ('2', '2', '1', '1', '1', '1'),\n",
       " ('2', '1', '2', '1', '1', '1'),\n",
       " ('2', '1', '1', '2', '1', '1'),\n",
       " ('1', '1', '1', '2', '2', '1'),\n",
       " ('1', '1', '2', '1', '2', '1'),\n",
       " ('1', '2', '1', '2', '1', '1'),\n",
       " ('1', '2', '1', '1', '2', '1'),\n",
       " ('1', '2', '2', '1', '1', '1'),\n",
       " ('1', '1', '2', '1', '2', '2', '1'),\n",
       " ('2', '1', '2', '1', '2', '1', '1'),\n",
       " ('2', '1', '2', '1', '1', '2', '1'),\n",
       " ('2', '1', '2', '2', '1', '1', '1'),\n",
       " ('1', '2', '2', '2', '1', '1', '1'),\n",
       " ('2', '2', '1', '1', '1', '2', '1'),\n",
       " ('1', '1', '1', '2', '2', '2', '1'),\n",
       " ('2', '2', '2', '1', '1', '1', '1'),\n",
       " ('2', '2', '1', '1', '2', '1', '1'),\n",
       " ('2', '2', '1', '2', '1', '1', '1'),\n",
       " ('2', '1', '1', '1', '2', '2', '1'),\n",
       " ('1', '2', '2', '1', '2', '1', '1'),\n",
       " ('1', '2', '1', '1', '2', '2', '1'),\n",
       " ('2', '1', '1', '2', '2', '1', '1'),\n",
       " ('1', '2', '1', '2', '2', '1', '1'),\n",
       " ('2', '1', '1', '2', '1', '2', '1'),\n",
       " ('1', '1', '2', '2', '2', '1', '1'),\n",
       " ('1', '2', '2', '1', '1', '2', '1'),\n",
       " ('1', '1', '2', '2', '1', '2', '1'),\n",
       " ('1', '2', '1', '2', '1', '2', '1')]"
      ]
     },
     "execution_count": 13,
     "metadata": {},
     "output_type": "execute_result"
    }
   ],
   "source": [
    "playoff_outcomes(best_of=7, shca_wins=True)"
   ]
  },
  {
   "cell_type": "markdown",
   "metadata": {},
   "source": [
    "Let's look at the distribution of series length (in games)."
   ]
  },
  {
   "cell_type": "code",
   "execution_count": 14,
   "metadata": {},
   "outputs": [
    {
     "data": {
      "text/plain": [
       "Counter({4: 1, 5: 4, 6: 10, 7: 20})"
      ]
     },
     "execution_count": 14,
     "metadata": {},
     "output_type": "execute_result"
    }
   ],
   "source": [
    "Counter(len(outcome) for outcome in playoff_outcomes(best_of=7, shca_wins=True))"
   ]
  },
  {
   "cell_type": "markdown",
   "metadata": {},
   "source": [
    "Now, let's generate the outcomes where the other team (without series home court advantage) wins the series."
   ]
  },
  {
   "cell_type": "code",
   "execution_count": 15,
   "metadata": {},
   "outputs": [
    {
     "data": {
      "text/plain": [
       "[('2', '2', '2', '2'),\n",
       " ('2', '1', '2', '2', '2'),\n",
       " ('1', '2', '2', '2', '2'),\n",
       " ('2', '2', '2', '1', '2'),\n",
       " ('2', '2', '1', '2', '2'),\n",
       " ('1', '1', '2', '2', '2', '2'),\n",
       " ('2', '1', '1', '2', '2', '2'),\n",
       " ('2', '1', '2', '1', '2', '2'),\n",
       " ('2', '2', '2', '1', '1', '2'),\n",
       " ('2', '1', '2', '2', '1', '2'),\n",
       " ('2', '2', '1', '2', '1', '2'),\n",
       " ('1', '2', '1', '2', '2', '2'),\n",
       " ('2', '2', '1', '1', '2', '2'),\n",
       " ('1', '2', '2', '2', '1', '2'),\n",
       " ('1', '2', '2', '1', '2', '2'),\n",
       " ('2', '2', '1', '2', '1', '1', '2'),\n",
       " ('1', '2', '1', '1', '2', '2', '2'),\n",
       " ('1', '1', '2', '2', '2', '1', '2'),\n",
       " ('1', '2', '2', '1', '1', '2', '2'),\n",
       " ('1', '1', '2', '2', '1', '2', '2'),\n",
       " ('2', '1', '1', '1', '2', '2', '2'),\n",
       " ('2', '1', '2', '1', '2', '1', '2'),\n",
       " ('1', '2', '1', '2', '2', '1', '2'),\n",
       " ('2', '1', '2', '1', '1', '2', '2'),\n",
       " ('1', '1', '1', '2', '2', '2', '2'),\n",
       " ('2', '2', '2', '1', '1', '1', '2'),\n",
       " ('2', '1', '1', '2', '2', '1', '2'),\n",
       " ('2', '1', '1', '2', '1', '2', '2'),\n",
       " ('1', '2', '2', '2', '1', '1', '2'),\n",
       " ('2', '2', '1', '1', '2', '1', '2'),\n",
       " ('1', '2', '1', '2', '1', '2', '2'),\n",
       " ('1', '2', '2', '1', '2', '1', '2'),\n",
       " ('2', '2', '1', '1', '1', '2', '2'),\n",
       " ('1', '1', '2', '1', '2', '2', '2'),\n",
       " ('2', '1', '2', '2', '1', '1', '2')]"
      ]
     },
     "execution_count": 15,
     "metadata": {},
     "output_type": "execute_result"
    }
   ],
   "source": [
    "playoff_outcomes(best_of=7, shca_wins=False)"
   ]
  },
  {
   "cell_type": "code",
   "execution_count": 16,
   "metadata": {},
   "outputs": [
    {
     "data": {
      "text/plain": [
       "Counter({4: 1, 5: 4, 6: 10, 7: 20})"
      ]
     },
     "execution_count": 16,
     "metadata": {},
     "output_type": "execute_result"
    }
   ],
   "source": [
    "Counter(len(outcome) for outcome in playoff_outcomes(best_of=7, shca_wins=False))"
   ]
  },
  {
   "cell_type": "markdown",
   "metadata": {},
   "source": [
    "In summary, there are 70 total possible best-of-7 playoff series outcomes. There are 35 outcomes for each team in which that team wins the series."
   ]
  },
  {
   "cell_type": "code",
   "execution_count": null,
   "metadata": {},
   "outputs": [],
   "source": []
  }
 ],
 "metadata": {
  "kernelspec": {
   "display_name": "Python [conda env:sports_py36]",
   "language": "python",
   "name": "conda-env-sports_py36-py"
  },
  "language_info": {
   "codemirror_mode": {
    "name": "ipython",
    "version": 3
   },
   "file_extension": ".py",
   "mimetype": "text/x-python",
   "name": "python",
   "nbconvert_exporter": "python",
   "pygments_lexer": "ipython3",
   "version": "3.6.5"
  }
 },
 "nbformat": 4,
 "nbformat_minor": 2
}
